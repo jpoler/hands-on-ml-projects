{
 "cells": [
  {
   "cell_type": "code",
   "execution_count": 1,
   "id": "59d1f059-27f8-4d64-bcea-9fa1ba4c5f98",
   "metadata": {
    "execution": {
     "iopub.execute_input": "2022-06-26T17:50:37.117967Z",
     "iopub.status.busy": "2022-06-26T17:50:37.117404Z",
     "iopub.status.idle": "2022-06-26T17:50:39.058832Z",
     "shell.execute_reply": "2022-06-26T17:50:39.057851Z",
     "shell.execute_reply.started": "2022-06-26T17:50:37.117827Z"
    },
    "tags": []
   },
   "outputs": [
    {
     "name": "stderr",
     "output_type": "stream",
     "text": [
      "2022-06-26 13:50:37.714405: I tensorflow/core/util/util.cc:169] oneDNN custom operations are on. You may see slightly different numerical results due to floating-point round-off errors from different computation orders. To turn them off, set the environment variable `TF_ENABLE_ONEDNN_OPTS=0`.\n"
     ]
    }
   ],
   "source": [
    "%matplotlib inline\n",
    "import matplotlib as mpl\n",
    "import matplotlib.pyplot as plt\n",
    "\n",
    "import math\n",
    "import os\n",
    "import time\n",
    "\n",
    "\n",
    "from scikeras.wrappers import KerasClassifier\n",
    "import numpy as np\n",
    "import tensorflow as tf\n",
    "from tensorflow import keras\n",
    "from sklearn.model_selection import train_test_split\n",
    "from sklearn.preprocessing import MinMaxScaler\n",
    "from skopt import BayesSearchCV"
   ]
  },
  {
   "cell_type": "code",
   "execution_count": 2,
   "id": "09648f86-b4ee-445e-ad0a-c94d079bf934",
   "metadata": {
    "execution": {
     "iopub.execute_input": "2022-06-26T17:50:39.060389Z",
     "iopub.status.busy": "2022-06-26T17:50:39.059904Z",
     "iopub.status.idle": "2022-06-26T17:50:39.254403Z",
     "shell.execute_reply": "2022-06-26T17:50:39.253581Z",
     "shell.execute_reply.started": "2022-06-26T17:50:39.060364Z"
    }
   },
   "outputs": [
    {
     "name": "stdout",
     "output_type": "stream",
     "text": [
      "(60000, 784)\n",
      "(60000,)\n",
      "(10000, 784)\n",
      "(10000,)\n"
     ]
    }
   ],
   "source": [
    "(X_train_full, y_train_full), (X_test, y_test) = keras.datasets.mnist.load_data()\n",
    "X_train_full = X_train_full.reshape((-1, 784))\n",
    "X_test = X_test.reshape((-1, 784))\n",
    "print(X_train_full.shape)\n",
    "print(y_train_full.shape)\n",
    "print(X_test.shape)\n",
    "print(y_test.shape)"
   ]
  },
  {
   "cell_type": "code",
   "execution_count": 3,
   "id": "f8adfae1-ae0f-4324-b6fc-8b9f8851ebbf",
   "metadata": {
    "execution": {
     "iopub.execute_input": "2022-06-26T17:50:39.255197Z",
     "iopub.status.busy": "2022-06-26T17:50:39.255028Z",
     "iopub.status.idle": "2022-06-26T17:50:39.277215Z",
     "shell.execute_reply": "2022-06-26T17:50:39.275894Z",
     "shell.execute_reply.started": "2022-06-26T17:50:39.255182Z"
    }
   },
   "outputs": [],
   "source": [
    "X_train, X_val, y_train, y_val = train_test_split(X_train_full, y_train_full, test_size=5000, random_state=42)"
   ]
  },
  {
   "cell_type": "code",
   "execution_count": 4,
   "id": "fcc28795-2a2f-4eb6-993d-b18d5a7016f5",
   "metadata": {
    "execution": {
     "iopub.execute_input": "2022-06-26T17:50:39.278548Z",
     "iopub.status.busy": "2022-06-26T17:50:39.278276Z",
     "iopub.status.idle": "2022-06-26T17:50:39.643833Z",
     "shell.execute_reply": "2022-06-26T17:50:39.642683Z",
     "shell.execute_reply.started": "2022-06-26T17:50:39.278526Z"
    }
   },
   "outputs": [],
   "source": [
    "scaler = MinMaxScaler()\n",
    "\n",
    "X_train = scaler.fit_transform(X_train)\n",
    "X_val = scaler.transform(X_val)\n",
    "X_test = scaler.transform(X_test)"
   ]
  },
  {
   "cell_type": "code",
   "execution_count": 5,
   "id": "5cebd4a5-e789-4eba-bb43-91e5570d5a55",
   "metadata": {
    "execution": {
     "iopub.execute_input": "2022-06-26T17:50:39.644817Z",
     "iopub.status.busy": "2022-06-26T17:50:39.644630Z",
     "iopub.status.idle": "2022-06-26T17:50:39.650699Z",
     "shell.execute_reply": "2022-06-26T17:50:39.650044Z",
     "shell.execute_reply.started": "2022-06-26T17:50:39.644802Z"
    }
   },
   "outputs": [
    {
     "data": {
      "text/plain": [
       "(55000,)"
      ]
     },
     "execution_count": 5,
     "metadata": {},
     "output_type": "execute_result"
    }
   ],
   "source": [
    "y_train.shape"
   ]
  },
  {
   "cell_type": "code",
   "execution_count": 6,
   "id": "6b73aa49-3b43-4c3c-aeea-27cdf6415780",
   "metadata": {
    "execution": {
     "iopub.execute_input": "2022-06-26T17:50:39.651621Z",
     "iopub.status.busy": "2022-06-26T17:50:39.651362Z",
     "iopub.status.idle": "2022-06-26T17:50:39.667646Z",
     "shell.execute_reply": "2022-06-26T17:50:39.666960Z",
     "shell.execute_reply.started": "2022-06-26T17:50:39.651607Z"
    },
    "tags": []
   },
   "outputs": [],
   "source": [
    "def build_model(input_shape=784, output_shape=10, n_hidden=3, n_neurons=200, learning_rate=1e-3, compile=True):\n",
    "    model = keras.models.Sequential()\n",
    "    model.add(keras.layers.InputLayer(input_shape=input_shape))\n",
    "    for layer in range(n_hidden):\n",
    "        model.add(keras.layers.Dense(n_neurons, activation=\"relu\"))\n",
    "    model.add(keras.layers.Dense(output_shape, activation=\"softmax\"))\n",
    "                  \n",
    "    if compile:\n",
    "        model.compile(\n",
    "            loss=\"sparse_categorical_crossentropy\",\n",
    "            optimizer=keras.optimizers.SGD(learning_rate=learning_rate),\n",
    "            metrics=[\"accuracy\"],\n",
    "        )\n",
    "    \n",
    "    return model"
   ]
  },
  {
   "cell_type": "code",
   "execution_count": 7,
   "id": "467f3eb4-01e1-4ab4-a713-5c3e35d9b723",
   "metadata": {
    "execution": {
     "iopub.execute_input": "2022-06-26T17:50:39.669747Z",
     "iopub.status.busy": "2022-06-26T17:50:39.669453Z",
     "iopub.status.idle": "2022-06-26T17:50:39.677586Z",
     "shell.execute_reply": "2022-06-26T17:50:39.676825Z",
     "shell.execute_reply.started": "2022-06-26T17:50:39.669730Z"
    }
   },
   "outputs": [],
   "source": [
    "def get_tensorboard_cb():\n",
    "    base_dir = os.path.join(os.curdir, \".tflogs\")\n",
    "    run_id = time.strftime(\"run_%Y_%m_%d_%H_%M_%S\")\n",
    "    run_dir = os.path.join(base_dir, run_id)\n",
    "    return keras.callbacks.TensorBoard(run_dir)    "
   ]
  },
  {
   "cell_type": "code",
   "execution_count": 8,
   "id": "a2a74a2e-80c9-4549-b1f7-776a4659503e",
   "metadata": {
    "execution": {
     "iopub.execute_input": "2022-06-26T17:50:39.678575Z",
     "iopub.status.busy": "2022-06-26T17:50:39.678345Z",
     "iopub.status.idle": "2022-06-26T17:50:40.210179Z",
     "shell.execute_reply": "2022-06-26T17:50:40.209316Z",
     "shell.execute_reply.started": "2022-06-26T17:50:39.678554Z"
    },
    "tags": []
   },
   "outputs": [
    {
     "name": "stderr",
     "output_type": "stream",
     "text": [
      "2022-06-26 13:50:39.751892: I tensorflow/core/platform/cpu_feature_guard.cc:193] This TensorFlow binary is optimized with oneAPI Deep Neural Network Library (oneDNN) to use the following CPU instructions in performance-critical operations:  AVX2 AVX512F AVX512_VNNI FMA\n",
      "To enable them in other operations, rebuild TensorFlow with the appropriate compiler flags.\n",
      "2022-06-26 13:50:40.170339: W tensorflow/core/common_runtime/gpu/gpu_bfc_allocator.cc:42] Overriding orig_value setting because the TF_FORCE_GPU_ALLOW_GROWTH environment variable is set. Original config value was 0.\n",
      "2022-06-26 13:50:40.170375: I tensorflow/core/common_runtime/gpu/gpu_device.cc:1532] Created device /job:localhost/replica:0/task:0/device:GPU:0 with 22307 MB memory:  -> device: 0, name: NVIDIA GeForce RTX 3090, pci bus id: 0000:68:00.0, compute capability: 8.6\n"
     ]
    }
   ],
   "source": [
    "model = build_model(learning_rate=1e-5)"
   ]
  },
  {
   "cell_type": "code",
   "execution_count": 9,
   "id": "0b5a8fa6-67b8-4b50-a355-eebcb9340b9f",
   "metadata": {
    "execution": {
     "iopub.execute_input": "2022-06-26T17:50:40.212340Z",
     "iopub.status.busy": "2022-06-26T17:50:40.211567Z",
     "iopub.status.idle": "2022-06-26T17:50:40.223706Z",
     "shell.execute_reply": "2022-06-26T17:50:40.222897Z",
     "shell.execute_reply.started": "2022-06-26T17:50:40.212297Z"
    }
   },
   "outputs": [
    {
     "name": "stdout",
     "output_type": "stream",
     "text": [
      "Model: \"sequential\"\n",
      "_________________________________________________________________\n",
      " Layer (type)                Output Shape              Param #   \n",
      "=================================================================\n",
      " dense (Dense)               (None, 200)               157000    \n",
      "                                                                 \n",
      " dense_1 (Dense)             (None, 200)               40200     \n",
      "                                                                 \n",
      " dense_2 (Dense)             (None, 200)               40200     \n",
      "                                                                 \n",
      " dense_3 (Dense)             (None, 10)                2010      \n",
      "                                                                 \n",
      "=================================================================\n",
      "Total params: 239,410\n",
      "Trainable params: 239,410\n",
      "Non-trainable params: 0\n",
      "_________________________________________________________________\n"
     ]
    }
   ],
   "source": [
    "model.summary()"
   ]
  },
  {
   "cell_type": "code",
   "execution_count": 10,
   "id": "bcd54db6-159c-4a04-87ad-0d7c5eb01ec8",
   "metadata": {
    "execution": {
     "iopub.execute_input": "2022-06-26T17:50:40.225600Z",
     "iopub.status.busy": "2022-06-26T17:50:40.225061Z",
     "iopub.status.idle": "2022-06-26T17:50:40.231801Z",
     "shell.execute_reply": "2022-06-26T17:50:40.231004Z",
     "shell.execute_reply.started": "2022-06-26T17:50:40.225559Z"
    }
   },
   "outputs": [
    {
     "data": {
      "text/plain": [
       "[<keras.layers.core.dense.Dense at 0x7f5cd940c700>,\n",
       " <keras.layers.core.dense.Dense at 0x7f5cd940ca90>,\n",
       " <keras.layers.core.dense.Dense at 0x7f5cd940d720>,\n",
       " <keras.layers.core.dense.Dense at 0x7f5cd940c5e0>]"
      ]
     },
     "execution_count": 10,
     "metadata": {},
     "output_type": "execute_result"
    }
   ],
   "source": [
    "model.layers"
   ]
  },
  {
   "cell_type": "code",
   "execution_count": 11,
   "id": "9eaed495-0c69-49a3-b36b-b485287b6759",
   "metadata": {
    "execution": {
     "iopub.execute_input": "2022-06-26T17:50:40.233513Z",
     "iopub.status.busy": "2022-06-26T17:50:40.233085Z",
     "iopub.status.idle": "2022-06-26T17:50:40.241759Z",
     "shell.execute_reply": "2022-06-26T17:50:40.240905Z",
     "shell.execute_reply.started": "2022-06-26T17:50:40.233475Z"
    }
   },
   "outputs": [],
   "source": [
    "class LearningRateCallback(keras.callbacks.Callback):\n",
    "    def __init__(self, initial_learning_rate, final_learning_rate, steps):\n",
    "        self.factor = math.exp(math.log(final_learning_rate/float(initial_learning_rate))/steps)\n",
    "        self.losses = []\n",
    "        self.learning_rates = []\n",
    "    \n",
    "    def on_batch_end(self, batch, logs):\n",
    "        self.losses.append(logs.get(\"loss\"))\n",
    "        learning_rate = keras.backend.get_value(self.model.optimizer.learning_rate)\n",
    "        self.learning_rates.append(learning_rate)\n",
    "        keras.backend.set_value(self.model.optimizer.learning_rate, learning_rate*self.factor)"
   ]
  },
  {
   "cell_type": "code",
   "execution_count": 12,
   "id": "da8f2a25-f01f-4298-95be-84036bb24ef1",
   "metadata": {
    "execution": {
     "iopub.execute_input": "2022-06-26T17:50:40.243482Z",
     "iopub.status.busy": "2022-06-26T17:50:40.242982Z",
     "iopub.status.idle": "2022-06-26T17:50:44.830626Z",
     "shell.execute_reply": "2022-06-26T17:50:44.829290Z",
     "shell.execute_reply.started": "2022-06-26T17:50:40.243445Z"
    }
   },
   "outputs": [
    {
     "name": "stdout",
     "output_type": "stream",
     "text": [
      " 38/500 [=>............................] - ETA: 1s - loss: 2.3313 - accuracy: 0.0976"
     ]
    },
    {
     "name": "stderr",
     "output_type": "stream",
     "text": [
      "2022-06-26 13:50:41.250787: I tensorflow/stream_executor/cuda/cuda_blas.cc:1786] TensorFloat-32 will be used for the matrix multiplication. This will only be logged once.\n"
     ]
    },
    {
     "name": "stdout",
     "output_type": "stream",
     "text": [
      "500/500 [==============================] - 4s 7ms/step - loss: nan - accuracy: 0.2685 - val_loss: nan - val_accuracy: 0.1018\n"
     ]
    }
   ],
   "source": [
    "n_steps = 500\n",
    "\n",
    "checkpoint_cb = keras.callbacks.ModelCheckpoint(\"mnist_digits_model.h5\", save_best_only=True)\n",
    "early_stopping_cb = keras.callbacks.EarlyStopping(patience=10, restore_best_weights=True)\n",
    "tensorboard_cb = get_tensorboard_cb()\n",
    "learning_rate_callback = LearningRateCallback(1e-5, 1e1, n_steps)\n",
    "\n",
    "history = model.fit(\n",
    "    X_train,\n",
    "    y_train,\n",
    "    epochs=1,\n",
    "    steps_per_epoch=n_steps,\n",
    "    validation_data=(X_val, y_val),\n",
    "    callbacks=[checkpoint_cb, early_stopping_cb, tensorboard_cb, learning_rate_callback],\n",
    ")"
   ]
  },
  {
   "cell_type": "code",
   "execution_count": 13,
   "id": "c77af2ae-b8ce-4ea1-af9f-427328456618",
   "metadata": {
    "execution": {
     "iopub.execute_input": "2022-06-26T17:50:44.833246Z",
     "iopub.status.busy": "2022-06-26T17:50:44.832568Z",
     "iopub.status.idle": "2022-06-26T17:50:44.931215Z",
     "shell.execute_reply": "2022-06-26T17:50:44.930472Z",
     "shell.execute_reply.started": "2022-06-26T17:50:44.833198Z"
    }
   },
   "outputs": [
    {
     "name": "stdout",
     "output_type": "stream",
     "text": [
      "approximate best learning rate: 0.046979554494222\n"
     ]
    },
    {
     "data": {
      "image/png": "[encoded data removed]",
      "text/plain": [
       "<Figure size 432x288 with 1 Axes>"
      ]
     },
     "metadata": {
      "needs_background": "light"
     },
     "output_type": "display_data"
    }
   ],
   "source": [
    "learning_rates = np.array(learning_rate_callback.learning_rates)\n",
    "losses = np.array(learning_rate_callback.losses)\n",
    "\n",
    "idx = losses < 10\n",
    "learning_rates_clean = learning_rates[idx]\n",
    "losses_clean = losses[idx]\n",
    "\n",
    "plt.plot(learning_rates_clean, losses_clean)\n",
    "best_idx = np.argmin(losses_clean)\n",
    "best_learning_rate = learning_rates[best_idx] / 15.\n",
    "print(f\"approximate best learning rate: {best_learning_rate}\")"
   ]
  },
  {
   "cell_type": "code",
   "execution_count": 14,
   "id": "18cc9400-e01e-4039-b8cf-c4d8cb360f6e",
   "metadata": {
    "execution": {
     "iopub.execute_input": "2022-06-26T17:50:44.932043Z",
     "iopub.status.busy": "2022-06-26T17:50:44.931882Z",
     "iopub.status.idle": "2022-06-26T17:50:44.938086Z",
     "shell.execute_reply": "2022-06-26T17:50:44.937680Z",
     "shell.execute_reply.started": "2022-06-26T17:50:44.932029Z"
    },
    "tags": []
   },
   "outputs": [],
   "source": [
    "keras.backend.clear_session()\n",
    "np.random.seed(42)\n",
    "tf.random.set_seed(42)"
   ]
  },
  {
   "cell_type": "code",
   "execution_count": 15,
   "id": "ffe079bc-fef5-42b3-b7a5-9e86c4fdd4f8",
   "metadata": {
    "execution": {
     "iopub.execute_input": "2022-06-26T17:50:44.939009Z",
     "iopub.status.busy": "2022-06-26T17:50:44.938643Z",
     "iopub.status.idle": "2022-06-26T17:54:49.817445Z",
     "shell.execute_reply": "2022-06-26T17:54:49.816008Z",
     "shell.execute_reply.started": "2022-06-26T17:50:44.938992Z"
    },
    "tags": []
   },
   "outputs": [
    {
     "name": "stdout",
     "output_type": "stream",
     "text": [
      "Epoch 1/100\n",
      "1719/1719 [==============================] - 9s 5ms/step - loss: 0.3495 - accuracy: 0.8974 - val_loss: 0.1562 - val_accuracy: 0.9524\n",
      "Epoch 2/100\n",
      "1719/1719 [==============================] - 9s 5ms/step - loss: 0.1351 - accuracy: 0.9590 - val_loss: 0.1160 - val_accuracy: 0.9620\n",
      "Epoch 3/100\n",
      "1719/1719 [==============================] - 9s 5ms/step - loss: 0.0917 - accuracy: 0.9729 - val_loss: 0.0935 - val_accuracy: 0.9728\n",
      "Epoch 4/100\n",
      "1719/1719 [==============================] - 9s 5ms/step - loss: 0.0700 - accuracy: 0.9782 - val_loss: 0.0768 - val_accuracy: 0.9780\n",
      "Epoch 5/100\n",
      "1719/1719 [==============================] - 9s 5ms/step - loss: 0.0540 - accuracy: 0.9837 - val_loss: 0.0699 - val_accuracy: 0.9774\n",
      "Epoch 6/100\n",
      "1719/1719 [==============================] - 9s 5ms/step - loss: 0.0425 - accuracy: 0.9871 - val_loss: 0.0740 - val_accuracy: 0.9782\n",
      "Epoch 7/100\n",
      "1719/1719 [==============================] - 9s 5ms/step - loss: 0.0341 - accuracy: 0.9897 - val_loss: 0.0887 - val_accuracy: 0.9734\n",
      "Epoch 8/100\n",
      "1719/1719 [==============================] - 9s 5ms/step - loss: 0.0272 - accuracy: 0.9919 - val_loss: 0.0673 - val_accuracy: 0.9784\n",
      "Epoch 9/100\n",
      "1719/1719 [==============================] - 9s 5ms/step - loss: 0.0207 - accuracy: 0.9941 - val_loss: 0.0693 - val_accuracy: 0.9794\n",
      "Epoch 10/100\n",
      "1719/1719 [==============================] - 9s 5ms/step - loss: 0.0162 - accuracy: 0.9956 - val_loss: 0.0719 - val_accuracy: 0.9796\n",
      "Epoch 11/100\n",
      "1719/1719 [==============================] - 9s 5ms/step - loss: 0.0127 - accuracy: 0.9965 - val_loss: 0.0709 - val_accuracy: 0.9818\n",
      "Epoch 12/100\n",
      "1719/1719 [==============================] - 9s 5ms/step - loss: 0.0100 - accuracy: 0.9976 - val_loss: 0.0730 - val_accuracy: 0.9794\n",
      "Epoch 13/100\n",
      "1719/1719 [==============================] - 9s 5ms/step - loss: 0.0076 - accuracy: 0.9984 - val_loss: 0.0728 - val_accuracy: 0.9804\n",
      "Epoch 14/100\n",
      "1719/1719 [==============================] - 9s 5ms/step - loss: 0.0046 - accuracy: 0.9991 - val_loss: 0.0837 - val_accuracy: 0.9768\n",
      "Epoch 15/100\n",
      "1719/1719 [==============================] - 9s 5ms/step - loss: 0.0033 - accuracy: 0.9996 - val_loss: 0.0753 - val_accuracy: 0.9818\n",
      "Epoch 16/100\n",
      "1719/1719 [==============================] - 9s 5ms/step - loss: 0.0023 - accuracy: 0.9998 - val_loss: 0.0781 - val_accuracy: 0.9810\n",
      "Epoch 17/100\n",
      "1719/1719 [==============================] - 9s 5ms/step - loss: 0.0016 - accuracy: 0.9999 - val_loss: 0.0764 - val_accuracy: 0.9824\n",
      "Epoch 18/100\n",
      "1719/1719 [==============================] - 9s 5ms/step - loss: 0.0012 - accuracy: 1.0000 - val_loss: 0.0762 - val_accuracy: 0.9830\n",
      "Epoch 19/100\n",
      "1719/1719 [==============================] - 9s 5ms/step - loss: 0.0011 - accuracy: 0.9999 - val_loss: 0.0823 - val_accuracy: 0.9800\n",
      "Epoch 20/100\n",
      "1719/1719 [==============================] - 9s 5ms/step - loss: 8.7318e-04 - accuracy: 1.0000 - val_loss: 0.0790 - val_accuracy: 0.9814\n",
      "Epoch 21/100\n",
      "1719/1719 [==============================] - 9s 5ms/step - loss: 6.7064e-04 - accuracy: 1.0000 - val_loss: 0.0803 - val_accuracy: 0.9820\n",
      "Epoch 22/100\n",
      "1719/1719 [==============================] - 9s 5ms/step - loss: 6.2592e-04 - accuracy: 1.0000 - val_loss: 0.0808 - val_accuracy: 0.9820\n",
      "Epoch 23/100\n",
      "1719/1719 [==============================] - 9s 5ms/step - loss: 5.4458e-04 - accuracy: 1.0000 - val_loss: 0.0813 - val_accuracy: 0.9822\n",
      "Epoch 24/100\n",
      "1719/1719 [==============================] - 9s 5ms/step - loss: 4.8290e-04 - accuracy: 1.0000 - val_loss: 0.0832 - val_accuracy: 0.9822\n",
      "Epoch 25/100\n",
      "1719/1719 [==============================] - 9s 5ms/step - loss: 4.4816e-04 - accuracy: 1.0000 - val_loss: 0.0838 - val_accuracy: 0.9820\n",
      "Epoch 26/100\n",
      "1719/1719 [==============================] - 9s 5ms/step - loss: 4.1279e-04 - accuracy: 1.0000 - val_loss: 0.0844 - val_accuracy: 0.9822\n",
      "Epoch 27/100\n",
      "1719/1719 [==============================] - 9s 5ms/step - loss: 3.7965e-04 - accuracy: 1.0000 - val_loss: 0.0850 - val_accuracy: 0.9822\n",
      "Epoch 28/100\n",
      "1719/1719 [==============================] - 9s 5ms/step - loss: 3.5726e-04 - accuracy: 1.0000 - val_loss: 0.0854 - val_accuracy: 0.9826\n"
     ]
    }
   ],
   "source": [
    "model = build_model(learning_rate=best_learning_rate)\n",
    "\n",
    "model_file = \"mnist_digits_model.h5\"\n",
    "checkpoint_cb = keras.callbacks.ModelCheckpoint(model_file, save_best_only=True)\n",
    "early_stopping_cb = keras.callbacks.EarlyStopping(patience=20, restore_best_weights=True)\n",
    "tensorboard_cb = get_tensorboard_cb()\n",
    "\n",
    "history = model.fit(\n",
    "    X_train,\n",
    "    y_train,\n",
    "    epochs=100,\n",
    "    validation_data=(X_val, y_val),\n",
    "    callbacks=[checkpoint_cb, early_stopping_cb, tensorboard_cb],\n",
    ")"
   ]
  },
  {
   "cell_type": "code",
   "execution_count": 16,
   "id": "4aa577f8-dce3-456a-9f99-7be1ef6f4aaa",
   "metadata": {
    "execution": {
     "iopub.execute_input": "2022-06-26T17:54:49.819691Z",
     "iopub.status.busy": "2022-06-26T17:54:49.819249Z",
     "iopub.status.idle": "2022-06-26T17:54:51.290201Z",
     "shell.execute_reply": "2022-06-26T17:54:51.288506Z",
     "shell.execute_reply.started": "2022-06-26T17:54:49.819655Z"
    },
    "tags": []
   },
   "outputs": [
    {
     "name": "stdout",
     "output_type": "stream",
     "text": [
      "313/313 [==============================] - 1s 4ms/step - loss: 0.0653 - accuracy: 0.9802\n"
     ]
    },
    {
     "data": {
      "text/plain": [
       "[0.06530974060297012, 0.9801999926567078]"
      ]
     },
     "execution_count": 16,
     "metadata": {},
     "output_type": "execute_result"
    }
   ],
   "source": [
    "model = keras.models.load_model(model_file)\n",
    "model.evaluate(X_test, y_test)"
   ]
  },
  {
   "cell_type": "markdown",
   "id": "b5e20658-2f5c-41d9-8c8d-241d775163cb",
   "metadata": {},
   "source": [
    "### Bayesian Optimization Using skopt BayesSearchCV"
   ]
  },
  {
   "cell_type": "code",
   "execution_count": 21,
   "id": "4157ebde-95ca-4c9b-b8af-e3cb504792e4",
   "metadata": {
    "execution": {
     "iopub.execute_input": "2022-06-26T21:02:55.646323Z",
     "iopub.status.busy": "2022-06-26T21:02:55.645707Z",
     "iopub.status.idle": "2022-06-26T21:19:23.620888Z",
     "shell.execute_reply": "2022-06-26T21:19:23.619719Z",
     "shell.execute_reply.started": "2022-06-26T21:02:55.646273Z"
    },
    "tags": []
   },
   "outputs": [
    {
     "name": "stderr",
     "output_type": "stream",
     "text": [
      "2022-06-26 17:02:56.685113: I tensorflow/core/util/util.cc:169] oneDNN custom operations are on. You may see slightly different numerical results due to floating-point round-off errors from different computation orders. To turn them off, set the environment variable `TF_ENABLE_ONEDNN_OPTS=0`.\n",
      "2022-06-26 17:02:56.685559: I tensorflow/core/util/util.cc:169] oneDNN custom operations are on. You may see slightly different numerical results due to floating-point round-off errors from different computation orders. To turn them off, set the environment variable `TF_ENABLE_ONEDNN_OPTS=0`.\n",
      "2022-06-26 17:02:56.688383: I tensorflow/core/util/util.cc:169] oneDNN custom operations are on. You may see slightly different numerical results due to floating-point round-off errors from different computation orders. To turn them off, set the environment variable `TF_ENABLE_ONEDNN_OPTS=0`.\n",
      "2022-06-26 17:02:57.978762: I tensorflow/core/platform/cpu_feature_guard.cc:193] This TensorFlow binary is optimized with oneAPI Deep Neural Network Library (oneDNN) to use the following CPU instructions in performance-critical operations:  AVX2 AVX512F AVX512_VNNI FMA\n",
      "To enable them in other operations, rebuild TensorFlow with the appropriate compiler flags.\n",
      "2022-06-26 17:02:58.006069: I tensorflow/core/platform/cpu_feature_guard.cc:193] This TensorFlow binary is optimized with oneAPI Deep Neural Network Library (oneDNN) to use the following CPU instructions in performance-critical operations:  AVX2 AVX512F AVX512_VNNI FMA\n",
      "To enable them in other operations, rebuild TensorFlow with the appropriate compiler flags.\n",
      "2022-06-26 17:02:58.023174: I tensorflow/core/platform/cpu_feature_guard.cc:193] This TensorFlow binary is optimized with oneAPI Deep Neural Network Library (oneDNN) to use the following CPU instructions in performance-critical operations:  AVX2 AVX512F AVX512_VNNI FMA\n",
      "To enable them in other operations, rebuild TensorFlow with the appropriate compiler flags.\n",
      "2022-06-26 17:02:58.514126: W tensorflow/core/common_runtime/gpu/gpu_bfc_allocator.cc:42] Overriding orig_value setting because the TF_FORCE_GPU_ALLOW_GROWTH environment variable is set. Original config value was 0.\n",
      "2022-06-26 17:02:58.514167: I tensorflow/core/common_runtime/gpu/gpu_device.cc:1532] Created device /job:localhost/replica:0/task:0/device:GPU:0 with 19754 MB memory:  -> device: 0, name: NVIDIA GeForce RTX 3090, pci bus id: 0000:68:00.0, compute capability: 8.6\n",
      "2022-06-26 17:02:58.516078: W tensorflow/core/common_runtime/gpu/gpu_bfc_allocator.cc:42] Overriding orig_value setting because the TF_FORCE_GPU_ALLOW_GROWTH environment variable is set. Original config value was 0.\n",
      "2022-06-26 17:02:58.516117: I tensorflow/core/common_runtime/gpu/gpu_device.cc:1532] Created device /job:localhost/replica:0/task:0/device:GPU:0 with 19754 MB memory:  -> device: 0, name: NVIDIA GeForce RTX 3090, pci bus id: 0000:68:00.0, compute capability: 8.6\n",
      "2022-06-26 17:02:58.521544: W tensorflow/core/common_runtime/gpu/gpu_bfc_allocator.cc:42] Overriding orig_value setting because the TF_FORCE_GPU_ALLOW_GROWTH environment variable is set. Original config value was 0.\n",
      "2022-06-26 17:02:58.521586: I tensorflow/core/common_runtime/gpu/gpu_device.cc:1532] Created device /job:localhost/replica:0/task:0/device:GPU:0 with 19748 MB memory:  -> device: 0, name: NVIDIA GeForce RTX 3090, pci bus id: 0000:68:00.0, compute capability: 8.6\n"
     ]
    },
    {
     "name": "stdout",
     "output_type": "stream",
     "text": [
      "Epoch 1/5\n",
      "Epoch 1/5\n",
      "Epoch 1/5\n"
     ]
    },
    {
     "name": "stderr",
     "output_type": "stream",
     "text": [
      "2022-06-26 17:02:59.576675: I tensorflow/stream_executor/cuda/cuda_blas.cc:1786] TensorFloat-32 will be used for the matrix multiplication. This will only be logged once.\n",
      "2022-06-26 17:02:59.588642: I tensorflow/stream_executor/cuda/cuda_blas.cc:1786] TensorFloat-32 will be used for the matrix multiplication. This will only be logged once.\n",
      "2022-06-26 17:02:59.624107: I tensorflow/stream_executor/cuda/cuda_blas.cc:1786] TensorFloat-32 will be used for the matrix multiplication. This will only be logged once.\n"
     ]
    },
    {
     "name": "stdout",
     "output_type": "stream",
     "text": [
      "1250/1250 [==============================] - 6s 4ms/step - loss: 1.3339 - accuracy: 0.5241\n",
      "Epoch 2/5\n",
      "1250/1250 [==============================] - 6s 4ms/step - loss: 1.7871 - accuracy: 0.2938\n",
      "Epoch 2/5\n",
      "1250/1250 [==============================] - 6s 4ms/step - loss: nan - accuracy: 0.1289\n",
      "Epoch 2/5\n",
      "1250/1250 [==============================] - 5s 4ms/step - loss: nan - accuracy: 0.1264\n",
      "Epoch 3/5\n",
      "1250/1250 [==============================] - 5s 4ms/step - loss: 2.4150 - accuracy: 0.1880\n",
      "Epoch 3/5\n",
      "1250/1250 [==============================] - 5s 4ms/step - loss: nan - accuracy: 0.0987\n",
      "  25/1250 [..............................] - ETA: 5s - loss: nan - accuracy: 0.0875Epoch 3/5\n",
      "1250/1250 [==============================] - 5s 4ms/step - loss: nan - accuracy: 0.0987\n",
      "Epoch 4/5\n",
      "1250/1250 [==============================] - 5s 4ms/step - loss: 2.3084 - accuracy: 0.1028\n",
      "Epoch 4/5\n",
      "1250/1250 [==============================] - 5s 4ms/step - loss: nan - accuracy: 0.0987\n",
      "Epoch 4/5\n",
      "1250/1250 [==============================] - 5s 4ms/step - loss: nan - accuracy: 0.0987\n",
      "Epoch 5/5\n",
      "1250/1250 [==============================] - 5s 4ms/step - loss: 2.3085 - accuracy: 0.1029\n",
      "Epoch 5/5\n",
      "1250/1250 [==============================] - 5s 4ms/step - loss: nan - accuracy: 0.0987\n",
      "Epoch 5/5\n",
      "1250/1250 [==============================] - 5s 4ms/step - loss: nan - accuracy: 0.0987\n",
      "1250/1250 [==============================] - 5s 4ms/step - loss: nan - accuracy: 0.0987\n",
      "1250/1250 [==============================] - 5s 4ms/step - loss: 2.3102 - accuracy: 0.1082\n",
      "625/625 [==============================] - 2s 3ms/step\n",
      "625/625 [==============================] - 2s 3ms/step\n",
      "625/625 [==============================] - 2s 3ms/step\n"
     ]
    },
    {
     "name": "stderr",
     "output_type": "stream",
     "text": [
      "2022-06-26 17:03:29.312622: I tensorflow/core/util/util.cc:169] oneDNN custom operations are on. You may see slightly different numerical results due to floating-point round-off errors from different computation orders. To turn them off, set the environment variable `TF_ENABLE_ONEDNN_OPTS=0`.\n",
      "2022-06-26 17:03:29.312624: I tensorflow/core/util/util.cc:169] oneDNN custom operations are on. You may see slightly different numerical results due to floating-point round-off errors from different computation orders. To turn them off, set the environment variable `TF_ENABLE_ONEDNN_OPTS=0`.\n",
      "2022-06-26 17:03:29.320108: I tensorflow/core/util/util.cc:169] oneDNN custom operations are on. You may see slightly different numerical results due to floating-point round-off errors from different computation orders. To turn them off, set the environment variable `TF_ENABLE_ONEDNN_OPTS=0`.\n",
      "2022-06-26 17:03:30.613822: I tensorflow/core/platform/cpu_feature_guard.cc:193] This TensorFlow binary is optimized with oneAPI Deep Neural Network Library (oneDNN) to use the following CPU instructions in performance-critical operations:  AVX2 AVX512F AVX512_VNNI FMA\n",
      "To enable them in other operations, rebuild TensorFlow with the appropriate compiler flags.\n",
      "2022-06-26 17:03:30.614665: I tensorflow/core/platform/cpu_feature_guard.cc:193] This TensorFlow binary is optimized with oneAPI Deep Neural Network Library (oneDNN) to use the following CPU instructions in performance-critical operations:  AVX2 AVX512F AVX512_VNNI FMA\n",
      "To enable them in other operations, rebuild TensorFlow with the appropriate compiler flags.\n",
      "2022-06-26 17:03:30.686437: I tensorflow/core/platform/cpu_feature_guard.cc:193] This TensorFlow binary is optimized with oneAPI Deep Neural Network Library (oneDNN) to use the following CPU instructions in performance-critical operations:  AVX2 AVX512F AVX512_VNNI FMA\n",
      "To enable them in other operations, rebuild TensorFlow with the appropriate compiler flags.\n",
      "2022-06-26 17:03:31.145002: W tensorflow/core/common_runtime/gpu/gpu_bfc_allocator.cc:42] Overriding orig_value setting because the TF_FORCE_GPU_ALLOW_GROWTH environment variable is set. Original config value was 0.\n",
      "2022-06-26 17:03:31.145048: I tensorflow/core/common_runtime/gpu/gpu_device.cc:1532] Created device /job:localhost/replica:0/task:0/device:GPU:0 with 16941 MB memory:  -> device: 0, name: NVIDIA GeForce RTX 3090, pci bus id: 0000:68:00.0, compute capability: 8.6\n",
      "2022-06-26 17:03:31.174864: W tensorflow/core/common_runtime/gpu/gpu_bfc_allocator.cc:42] Overriding orig_value setting because the TF_FORCE_GPU_ALLOW_GROWTH environment variable is set. Original config value was 0.\n",
      "2022-06-26 17:03:31.174902: I tensorflow/core/common_runtime/gpu/gpu_device.cc:1532] Created device /job:localhost/replica:0/task:0/device:GPU:0 with 16909 MB memory:  -> device: 0, name: NVIDIA GeForce RTX 3090, pci bus id: 0000:68:00.0, compute capability: 8.6\n",
      "2022-06-26 17:03:31.190965: W tensorflow/core/common_runtime/gpu/gpu_bfc_allocator.cc:42] Overriding orig_value setting because the TF_FORCE_GPU_ALLOW_GROWTH environment variable is set. Original config value was 0.\n",
      "2022-06-26 17:03:31.191006: I tensorflow/core/common_runtime/gpu/gpu_device.cc:1532] Created device /job:localhost/replica:0/task:0/device:GPU:0 with 16901 MB memory:  -> device: 0, name: NVIDIA GeForce RTX 3090, pci bus id: 0000:68:00.0, compute capability: 8.6\n"
     ]
    },
    {
     "name": "stdout",
     "output_type": "stream",
     "text": [
      "Epoch 1/5\n",
      "Epoch 1/5\n",
      "Epoch 1/5\n"
     ]
    },
    {
     "name": "stderr",
     "output_type": "stream",
     "text": [
      "2022-06-26 17:03:32.229067: I tensorflow/stream_executor/cuda/cuda_blas.cc:1786] TensorFloat-32 will be used for the matrix multiplication. This will only be logged once.\n",
      "2022-06-26 17:03:32.231791: I tensorflow/stream_executor/cuda/cuda_blas.cc:1786] TensorFloat-32 will be used for the matrix multiplication. This will only be logged once.\n",
      "2022-06-26 17:03:32.275710: I tensorflow/stream_executor/cuda/cuda_blas.cc:1786] TensorFloat-32 will be used for the matrix multiplication. This will only be logged once.\n"
     ]
    },
    {
     "name": "stdout",
     "output_type": "stream",
     "text": [
      "1250/1250 [==============================] - 6s 4ms/step - loss: 1.7987 - accuracy: 0.2731\n",
      "Epoch 2/5\n",
      "1250/1250 [==============================] - 6s 4ms/step - loss: 2.2945 - accuracy: 0.1150\n",
      "Epoch 2/5\n",
      "1250/1250 [==============================] - 6s 4ms/step - loss: 1.5427 - accuracy: 0.4290\n",
      "Epoch 2/5\n",
      "1250/1250 [==============================] - 5s 4ms/step - loss: 1.9823 - accuracy: 0.1789\n",
      "Epoch 3/5\n",
      "1250/1250 [==============================] - 5s 4ms/step - loss: 2.3085 - accuracy: 0.1053\n",
      "Epoch 3/5\n",
      "1250/1250 [==============================] - 5s 4ms/step - loss: 1.9539 - accuracy: 0.2783\n",
      "Epoch 3/5\n",
      "1250/1250 [==============================] - 5s 4ms/step - loss: 1.9775 - accuracy: 0.1850\n",
      "Epoch 4/5\n",
      "1250/1250 [==============================] - 5s 4ms/step - loss: 2.3087 - accuracy: 0.1030\n",
      "  14/1250 [..............................] - ETA: 5s - loss: 1.9209 - accuracy: 0.2031Epoch 4/5\n",
      "1250/1250 [==============================] - 5s 4ms/step - loss: 1.9967 - accuracy: 0.1869\n",
      "Epoch 4/5\n",
      "1250/1250 [==============================] - 5s 4ms/step - loss: 1.8799 - accuracy: 0.1956\n",
      "Epoch 5/5\n",
      "1250/1250 [==============================] - 5s 4ms/step - loss: 2.3086 - accuracy: 0.1035\n",
      "Epoch 5/5\n",
      "1250/1250 [==============================] - 5s 4ms/step - loss: 2.2726 - accuracy: 0.1770\n",
      "Epoch 5/5\n",
      "1250/1250 [==============================] - 5s 4ms/step - loss: 2.0579 - accuracy: 0.1578\n",
      "1250/1250 [==============================] - 5s 4ms/step - loss: 2.3090 - accuracy: 0.1019\n",
      "1250/1250 [==============================] - 5s 4ms/step - loss: 2.3079 - accuracy: 0.1038\n",
      "625/625 [==============================] - 2s 3ms/step\n",
      "625/625 [==============================] - 2s 3ms/step\n",
      "625/625 [==============================] - 2s 3ms/step\n"
     ]
    },
    {
     "name": "stderr",
     "output_type": "stream",
     "text": [
      "2022-06-26 17:04:00.295118: I tensorflow/core/util/util.cc:169] oneDNN custom operations are on. You may see slightly different numerical results due to floating-point round-off errors from different computation orders. To turn them off, set the environment variable `TF_ENABLE_ONEDNN_OPTS=0`.\n",
      "2022-06-26 17:04:00.295118: I tensorflow/core/util/util.cc:169] oneDNN custom operations are on. You may see slightly different numerical results due to floating-point round-off errors from different computation orders. To turn them off, set the environment variable `TF_ENABLE_ONEDNN_OPTS=0`.\n",
      "2022-06-26 17:04:00.296385: I tensorflow/core/util/util.cc:169] oneDNN custom operations are on. You may see slightly different numerical results due to floating-point round-off errors from different computation orders. To turn them off, set the environment variable `TF_ENABLE_ONEDNN_OPTS=0`.\n",
      "2022-06-26 17:04:01.591602: I tensorflow/core/platform/cpu_feature_guard.cc:193] This TensorFlow binary is optimized with oneAPI Deep Neural Network Library (oneDNN) to use the following CPU instructions in performance-critical operations:  AVX2 AVX512F AVX512_VNNI FMA\n",
      "To enable them in other operations, rebuild TensorFlow with the appropriate compiler flags.\n",
      "2022-06-26 17:04:01.592418: I tensorflow/core/platform/cpu_feature_guard.cc:193] This TensorFlow binary is optimized with oneAPI Deep Neural Network Library (oneDNN) to use the following CPU instructions in performance-critical operations:  AVX2 AVX512F AVX512_VNNI FMA\n",
      "To enable them in other operations, rebuild TensorFlow with the appropriate compiler flags.\n",
      "2022-06-26 17:04:01.657463: I tensorflow/core/platform/cpu_feature_guard.cc:193] This TensorFlow binary is optimized with oneAPI Deep Neural Network Library (oneDNN) to use the following CPU instructions in performance-critical operations:  AVX2 AVX512F AVX512_VNNI FMA\n",
      "To enable them in other operations, rebuild TensorFlow with the appropriate compiler flags.\n",
      "2022-06-26 17:04:02.128662: W tensorflow/core/common_runtime/gpu/gpu_bfc_allocator.cc:42] Overriding orig_value setting because the TF_FORCE_GPU_ALLOW_GROWTH environment variable is set. Original config value was 0.\n",
      "2022-06-26 17:04:02.128707: I tensorflow/core/common_runtime/gpu/gpu_device.cc:1532] Created device /job:localhost/replica:0/task:0/device:GPU:0 with 14076 MB memory:  -> device: 0, name: NVIDIA GeForce RTX 3090, pci bus id: 0000:68:00.0, compute capability: 8.6\n",
      "2022-06-26 17:04:02.148710: W tensorflow/core/common_runtime/gpu/gpu_bfc_allocator.cc:42] Overriding orig_value setting because the TF_FORCE_GPU_ALLOW_GROWTH environment variable is set. Original config value was 0.\n",
      "2022-06-26 17:04:02.148750: I tensorflow/core/common_runtime/gpu/gpu_device.cc:1532] Created device /job:localhost/replica:0/task:0/device:GPU:0 with 14054 MB memory:  -> device: 0, name: NVIDIA GeForce RTX 3090, pci bus id: 0000:68:00.0, compute capability: 8.6\n",
      "2022-06-26 17:04:02.149600: W tensorflow/core/common_runtime/gpu/gpu_bfc_allocator.cc:42] Overriding orig_value setting because the TF_FORCE_GPU_ALLOW_GROWTH environment variable is set. Original config value was 0.\n",
      "2022-06-26 17:04:02.149634: I tensorflow/core/common_runtime/gpu/gpu_device.cc:1532] Created device /job:localhost/replica:0/task:0/device:GPU:0 with 14054 MB memory:  -> device: 0, name: NVIDIA GeForce RTX 3090, pci bus id: 0000:68:00.0, compute capability: 8.6\n"
     ]
    },
    {
     "name": "stdout",
     "output_type": "stream",
     "text": [
      "Epoch 1/5\n",
      "Epoch 1/5\n",
      "Epoch 1/5\n"
     ]
    },
    {
     "name": "stderr",
     "output_type": "stream",
     "text": [
      "2022-06-26 17:04:03.158834: I tensorflow/stream_executor/cuda/cuda_blas.cc:1786] TensorFloat-32 will be used for the matrix multiplication. This will only be logged once.\n",
      "2022-06-26 17:04:03.220434: I tensorflow/stream_executor/cuda/cuda_blas.cc:1786] TensorFloat-32 will be used for the matrix multiplication. This will only be logged once.\n",
      "2022-06-26 17:04:03.236988: I tensorflow/stream_executor/cuda/cuda_blas.cc:1786] TensorFloat-32 will be used for the matrix multiplication. This will only be logged once.\n"
     ]
    },
    {
     "name": "stdout",
     "output_type": "stream",
     "text": [
      "1250/1250 [==============================] - 6s 4ms/step - loss: 0.4035 - accuracy: 0.8776\n",
      "Epoch 2/5\n",
      "1250/1250 [==============================] - 6s 4ms/step - loss: 0.4492 - accuracy: 0.8659\n",
      "Epoch 2/5\n",
      "1250/1250 [==============================] - 6s 4ms/step - loss: 0.6435 - accuracy: 0.8100\n",
      "Epoch 2/5\n",
      "1250/1250 [==============================] - 5s 4ms/step - loss: 0.1726 - accuracy: 0.9499\n",
      "1232/1250 [============================>.] - ETA: 0s - loss: 0.1996 - accuracy: 0.9425Epoch 3/5\n",
      "1250/1250 [==============================] - 5s 4ms/step - loss: 0.1991 - accuracy: 0.9426\n",
      "Epoch 3/5\n",
      "1250/1250 [==============================] - 5s 4ms/step - loss: 0.2581 - accuracy: 0.9294\n",
      "Epoch 3/5\n",
      "1250/1250 [==============================] - 5s 4ms/step - loss: 0.1467 - accuracy: 0.9577\n",
      "Epoch 4/5\n",
      "1250/1250 [==============================] - 5s 4ms/step - loss: 0.1606 - accuracy: 0.9546\n",
      "Epoch 4/5\n",
      "1250/1250 [==============================] - 5s 4ms/step - loss: 0.2057 - accuracy: 0.9443\n",
      "  14/1250 [..............................] - ETA: 4s - loss: 0.1073 - accuracy: 0.9598Epoch 4/5\n",
      "1250/1250 [==============================] - 5s 4ms/step - loss: 0.1197 - accuracy: 0.9652\n",
      "Epoch 5/5\n",
      "1250/1250 [==============================] - 5s 4ms/step - loss: 0.1365 - accuracy: 0.9620\n",
      "Epoch 5/5\n",
      "1250/1250 [==============================] - 5s 4ms/step - loss: 0.1749 - accuracy: 0.9513\n",
      "Epoch 5/5\n",
      "1250/1250 [==============================] - 5s 4ms/step - loss: 0.1031 - accuracy: 0.9712\n",
      "1250/1250 [==============================] - 5s 4ms/step - loss: 0.1274 - accuracy: 0.9653\n",
      "1250/1250 [==============================] - 5s 4ms/step - loss: 0.1597 - accuracy: 0.9573\n",
      "625/625 [==============================] - 2s 3ms/step\n",
      "625/625 [==============================] - 2s 3ms/step\n",
      "625/625 [==============================] - 2s 3ms/step\n"
     ]
    },
    {
     "name": "stderr",
     "output_type": "stream",
     "text": [
      "2022-06-26 17:04:30.624859: I tensorflow/core/util/util.cc:169] oneDNN custom operations are on. You may see slightly different numerical results due to floating-point round-off errors from different computation orders. To turn them off, set the environment variable `TF_ENABLE_ONEDNN_OPTS=0`.\n",
      "2022-06-26 17:04:30.624866: I tensorflow/core/util/util.cc:169] oneDNN custom operations are on. You may see slightly different numerical results due to floating-point round-off errors from different computation orders. To turn them off, set the environment variable `TF_ENABLE_ONEDNN_OPTS=0`.\n",
      "2022-06-26 17:04:30.624868: I tensorflow/core/util/util.cc:169] oneDNN custom operations are on. You may see slightly different numerical results due to floating-point round-off errors from different computation orders. To turn them off, set the environment variable `TF_ENABLE_ONEDNN_OPTS=0`.\n",
      "2022-06-26 17:04:31.920089: I tensorflow/core/platform/cpu_feature_guard.cc:193] This TensorFlow binary is optimized with oneAPI Deep Neural Network Library (oneDNN) to use the following CPU instructions in performance-critical operations:  AVX2 AVX512F AVX512_VNNI FMA\n",
      "To enable them in other operations, rebuild TensorFlow with the appropriate compiler flags.\n",
      "2022-06-26 17:04:31.924608: I tensorflow/core/platform/cpu_feature_guard.cc:193] This TensorFlow binary is optimized with oneAPI Deep Neural Network Library (oneDNN) to use the following CPU instructions in performance-critical operations:  AVX2 AVX512F AVX512_VNNI FMA\n",
      "To enable them in other operations, rebuild TensorFlow with the appropriate compiler flags.\n",
      "2022-06-26 17:04:31.959006: I tensorflow/core/platform/cpu_feature_guard.cc:193] This TensorFlow binary is optimized with oneAPI Deep Neural Network Library (oneDNN) to use the following CPU instructions in performance-critical operations:  AVX2 AVX512F AVX512_VNNI FMA\n",
      "To enable them in other operations, rebuild TensorFlow with the appropriate compiler flags.\n",
      "2022-06-26 17:04:32.493405: W tensorflow/core/common_runtime/gpu/gpu_bfc_allocator.cc:42] Overriding orig_value setting because the TF_FORCE_GPU_ALLOW_GROWTH environment variable is set. Original config value was 0.\n",
      "2022-06-26 17:04:32.493453: I tensorflow/core/common_runtime/gpu/gpu_device.cc:1532] Created device /job:localhost/replica:0/task:0/device:GPU:0 with 11215 MB memory:  -> device: 0, name: NVIDIA GeForce RTX 3090, pci bus id: 0000:68:00.0, compute capability: 8.6\n",
      "2022-06-26 17:04:32.499444: W tensorflow/core/common_runtime/gpu/gpu_bfc_allocator.cc:42] Overriding orig_value setting because the TF_FORCE_GPU_ALLOW_GROWTH environment variable is set. Original config value was 0.\n",
      "2022-06-26 17:04:32.499478: I tensorflow/core/common_runtime/gpu/gpu_device.cc:1532] Created device /job:localhost/replica:0/task:0/device:GPU:0 with 11209 MB memory:  -> device: 0, name: NVIDIA GeForce RTX 3090, pci bus id: 0000:68:00.0, compute capability: 8.6\n",
      "2022-06-26 17:04:32.502106: W tensorflow/core/common_runtime/gpu/gpu_bfc_allocator.cc:42] Overriding orig_value setting because the TF_FORCE_GPU_ALLOW_GROWTH environment variable is set. Original config value was 0.\n",
      "2022-06-26 17:04:32.502136: I tensorflow/core/common_runtime/gpu/gpu_device.cc:1532] Created device /job:localhost/replica:0/task:0/device:GPU:0 with 11207 MB memory:  -> device: 0, name: NVIDIA GeForce RTX 3090, pci bus id: 0000:68:00.0, compute capability: 8.6\n"
     ]
    },
    {
     "name": "stdout",
     "output_type": "stream",
     "text": [
      "Epoch 1/5\n",
      "Epoch 1/5\n",
      "Epoch 1/5\n"
     ]
    },
    {
     "name": "stderr",
     "output_type": "stream",
     "text": [
      "2022-06-26 17:04:33.525633: I tensorflow/stream_executor/cuda/cuda_blas.cc:1786] TensorFloat-32 will be used for the matrix multiplication. This will only be logged once.\n",
      "2022-06-26 17:04:33.527335: I tensorflow/stream_executor/cuda/cuda_blas.cc:1786] TensorFloat-32 will be used for the matrix multiplication. This will only be logged once.\n",
      "2022-06-26 17:04:33.553104: I tensorflow/stream_executor/cuda/cuda_blas.cc:1786] TensorFloat-32 will be used for the matrix multiplication. This will only be logged once.\n"
     ]
    },
    {
     "name": "stdout",
     "output_type": "stream",
     "text": [
      "1250/1250 [==============================] - 6s 4ms/step - loss: 0.2585 - accuracy: 0.9207\n",
      "Epoch 2/5\n",
      "1250/1250 [==============================] - 6s 4ms/step - loss: 0.2479 - accuracy: 0.9248\n",
      "Epoch 2/5\n",
      "1250/1250 [==============================] - 6s 4ms/step - loss: 0.2544 - accuracy: 0.9214\n",
      "Epoch 2/5\n",
      "1250/1250 [==============================] - 5s 4ms/step - loss: 0.1087 - accuracy: 0.9677\n",
      "Epoch 3/5\n",
      "1250/1250 [==============================] - 5s 4ms/step - loss: 0.1056 - accuracy: 0.9671\n",
      "Epoch 3/5\n",
      "1250/1250 [==============================] - 5s 4ms/step - loss: 0.1069 - accuracy: 0.9668\n",
      "Epoch 3/5\n",
      "1250/1250 [==============================] - 5s 4ms/step - loss: 0.0743 - accuracy: 0.9771\n",
      "1250/1250 [==============================] - 5s 4ms/step - loss: 0.0728 - accuracy: 0.9771\n",
      "Epoch 4/5\n",
      "Epoch 4/5\n",
      "1250/1250 [==============================] - 5s 4ms/step - loss: 0.0710 - accuracy: 0.9777\n",
      "Epoch 4/5\n",
      "1250/1250 [==============================] - 5s 4ms/step - loss: 0.0541 - accuracy: 0.9829\n",
      "1250/1250 [==============================] - 5s 4ms/step - loss: 0.0524 - accuracy: 0.9831\n",
      "Epoch 5/5\n",
      "Epoch 5/5\n",
      "1250/1250 [==============================] - 5s 4ms/step - loss: 0.0505 - accuracy: 0.9839\n",
      "Epoch 5/5\n",
      "1250/1250 [==============================] - 5s 4ms/step - loss: 0.0380 - accuracy: 0.9883\n",
      "1250/1250 [==============================] - 5s 4ms/step - loss: 0.0393 - accuracy: 0.9870\n",
      "1250/1250 [==============================] - 5s 4ms/step - loss: 0.0369 - accuracy: 0.9881\n",
      "625/625 [==============================] - 2s 2ms/step\n",
      "625/625 [==============================] - 2s 3ms/step\n",
      "625/625 [==============================] - 2s 3ms/step\n"
     ]
    },
    {
     "name": "stderr",
     "output_type": "stream",
     "text": [
      "2022-06-26 17:04:59.811264: I tensorflow/core/util/util.cc:169] oneDNN custom operations are on. You may see slightly different numerical results due to floating-point round-off errors from different computation orders. To turn them off, set the environment variable `TF_ENABLE_ONEDNN_OPTS=0`.\n",
      "2022-06-26 17:04:59.811267: I tensorflow/core/util/util.cc:169] oneDNN custom operations are on. You may see slightly different numerical results due to floating-point round-off errors from different computation orders. To turn them off, set the environment variable `TF_ENABLE_ONEDNN_OPTS=0`.\n",
      "2022-06-26 17:04:59.811267: I tensorflow/core/util/util.cc:169] oneDNN custom operations are on. You may see slightly different numerical results due to floating-point round-off errors from different computation orders. To turn them off, set the environment variable `TF_ENABLE_ONEDNN_OPTS=0`.\n",
      "2022-06-26 17:05:01.117677: I tensorflow/core/platform/cpu_feature_guard.cc:193] This TensorFlow binary is optimized with oneAPI Deep Neural Network Library (oneDNN) to use the following CPU instructions in performance-critical operations:  AVX2 AVX512F AVX512_VNNI FMA\n",
      "To enable them in other operations, rebuild TensorFlow with the appropriate compiler flags.\n",
      "2022-06-26 17:05:01.156221: I tensorflow/core/platform/cpu_feature_guard.cc:193] This TensorFlow binary is optimized with oneAPI Deep Neural Network Library (oneDNN) to use the following CPU instructions in performance-critical operations:  AVX2 AVX512F AVX512_VNNI FMA\n",
      "To enable them in other operations, rebuild TensorFlow with the appropriate compiler flags.\n",
      "2022-06-26 17:05:01.187862: I tensorflow/core/platform/cpu_feature_guard.cc:193] This TensorFlow binary is optimized with oneAPI Deep Neural Network Library (oneDNN) to use the following CPU instructions in performance-critical operations:  AVX2 AVX512F AVX512_VNNI FMA\n",
      "To enable them in other operations, rebuild TensorFlow with the appropriate compiler flags.\n",
      "2022-06-26 17:05:01.619829: W tensorflow/core/common_runtime/gpu/gpu_bfc_allocator.cc:42] Overriding orig_value setting because the TF_FORCE_GPU_ALLOW_GROWTH environment variable is set. Original config value was 0.\n",
      "2022-06-26 17:05:01.619877: I tensorflow/core/common_runtime/gpu/gpu_device.cc:1532] Created device /job:localhost/replica:0/task:0/device:GPU:0 with 8410 MB memory:  -> device: 0, name: NVIDIA GeForce RTX 3090, pci bus id: 0000:68:00.0, compute capability: 8.6\n",
      "2022-06-26 17:05:01.669487: W tensorflow/core/common_runtime/gpu/gpu_bfc_allocator.cc:42] Overriding orig_value setting because the TF_FORCE_GPU_ALLOW_GROWTH environment variable is set. Original config value was 0.\n",
      "2022-06-26 17:05:01.669527: I tensorflow/core/common_runtime/gpu/gpu_device.cc:1532] Created device /job:localhost/replica:0/task:0/device:GPU:0 with 8360 MB memory:  -> device: 0, name: NVIDIA GeForce RTX 3090, pci bus id: 0000:68:00.0, compute capability: 8.6\n",
      "2022-06-26 17:05:01.678738: W tensorflow/core/common_runtime/gpu/gpu_bfc_allocator.cc:42] Overriding orig_value setting because the TF_FORCE_GPU_ALLOW_GROWTH environment variable is set. Original config value was 0.\n",
      "2022-06-26 17:05:01.678776: I tensorflow/core/common_runtime/gpu/gpu_device.cc:1532] Created device /job:localhost/replica:0/task:0/device:GPU:0 with 8354 MB memory:  -> device: 0, name: NVIDIA GeForce RTX 3090, pci bus id: 0000:68:00.0, compute capability: 8.6\n"
     ]
    },
    {
     "name": "stdout",
     "output_type": "stream",
     "text": [
      "Epoch 1/5\n",
      "Epoch 1/5\n",
      "Epoch 1/5\n"
     ]
    },
    {
     "name": "stderr",
     "output_type": "stream",
     "text": [
      "2022-06-26 17:05:02.657183: I tensorflow/stream_executor/cuda/cuda_blas.cc:1786] TensorFloat-32 will be used for the matrix multiplication. This will only be logged once.\n",
      "2022-06-26 17:05:02.679825: I tensorflow/stream_executor/cuda/cuda_blas.cc:1786] TensorFloat-32 will be used for the matrix multiplication. This will only be logged once.\n",
      "2022-06-26 17:05:02.796116: I tensorflow/stream_executor/cuda/cuda_blas.cc:1786] TensorFloat-32 will be used for the matrix multiplication. This will only be logged once.\n"
     ]
    },
    {
     "name": "stdout",
     "output_type": "stream",
     "text": [
      "1250/1250 [==============================] - 6s 4ms/step - loss: 0.2773 - accuracy: 0.9143\n",
      "Epoch 2/5\n",
      "1250/1250 [==============================] - 6s 4ms/step - loss: 0.2697 - accuracy: 0.9148\n",
      "Epoch 2/5\n",
      "1250/1250 [==============================] - 6s 4ms/step - loss: 0.2724 - accuracy: 0.9153\n",
      "Epoch 2/5\n",
      "1250/1250 [==============================] - 5s 4ms/step - loss: 0.1135 - accuracy: 0.9653\n",
      "Epoch 3/5\n",
      "1250/1250 [==============================] - 5s 4ms/step - loss: 0.1157 - accuracy: 0.9646\n",
      "Epoch 3/5\n",
      "1250/1250 [==============================] - 5s 4ms/step - loss: 0.1120 - accuracy: 0.9645\n",
      "Epoch 3/5\n",
      "1250/1250 [==============================] - 5s 4ms/step - loss: 0.0835 - accuracy: 0.9736\n",
      "Epoch 4/5\n",
      "1250/1250 [==============================] - 5s 4ms/step - loss: 0.0807 - accuracy: 0.9749\n",
      "Epoch 4/5\n",
      "1250/1250 [==============================] - 5s 4ms/step - loss: 0.0817 - accuracy: 0.9741\n",
      "Epoch 4/5\n",
      "1250/1250 [==============================] - 5s 4ms/step - loss: 0.0607 - accuracy: 0.9803\n",
      "Epoch 5/5\n",
      "1250/1250 [==============================] - 5s 4ms/step - loss: 0.0602 - accuracy: 0.9798\n",
      "Epoch 5/5\n",
      "1250/1250 [==============================] - 5s 4ms/step - loss: 0.0643 - accuracy: 0.9787\n",
      "Epoch 5/5\n",
      "1250/1250 [==============================] - 5s 4ms/step - loss: 0.0499 - accuracy: 0.9841\n",
      "1250/1250 [==============================] - 5s 4ms/step - loss: 0.0463 - accuracy: 0.9847\n",
      "1250/1250 [==============================] - 5s 4ms/step - loss: 0.0441 - accuracy: 0.9851\n",
      "625/625 [==============================] - 2s 3ms/step\n",
      "625/625 [==============================] - 2s 3ms/step\n",
      "625/625 [==============================] - 2s 3ms/step\n"
     ]
    },
    {
     "name": "stderr",
     "output_type": "stream",
     "text": [
      "2022-06-26 17:05:28.981080: I tensorflow/core/util/util.cc:169] oneDNN custom operations are on. You may see slightly different numerical results due to floating-point round-off errors from different computation orders. To turn them off, set the environment variable `TF_ENABLE_ONEDNN_OPTS=0`.\n"
     ]
    },
    {
     "name": "stdout",
     "output_type": "stream",
     "text": [
      "Epoch 1/5\n",
      "Epoch 1/5\n",
      " 351/1250 [=======>......................] - ETA: 3s - loss: 2.0641 - accuracy: 0.2052"
     ]
    },
    {
     "name": "stderr",
     "output_type": "stream",
     "text": [
      "2022-06-26 17:05:30.324858: I tensorflow/core/platform/cpu_feature_guard.cc:193] This TensorFlow binary is optimized with oneAPI Deep Neural Network Library (oneDNN) to use the following CPU instructions in performance-critical operations:  AVX2 AVX512F AVX512_VNNI FMA\n",
      "To enable them in other operations, rebuild TensorFlow with the appropriate compiler flags.\n"
     ]
    },
    {
     "name": "stdout",
     "output_type": "stream",
     "text": [
      " 464/1250 [==========>...................] - ETA: 2s - loss: 2.0022 - accuracy: 0.2195"
     ]
    },
    {
     "name": "stderr",
     "output_type": "stream",
     "text": [
      "2022-06-26 17:05:30.789004: W tensorflow/core/common_runtime/gpu/gpu_bfc_allocator.cc:42] Overriding orig_value setting because the TF_FORCE_GPU_ALLOW_GROWTH environment variable is set. Original config value was 0.\n",
      "2022-06-26 17:05:30.789039: I tensorflow/core/common_runtime/gpu/gpu_device.cc:1532] Created device /job:localhost/replica:0/task:0/device:GPU:0 with 6341 MB memory:  -> device: 0, name: NVIDIA GeForce RTX 3090, pci bus id: 0000:68:00.0, compute capability: 8.6\n"
     ]
    },
    {
     "name": "stdout",
     "output_type": "stream",
     "text": [
      " 528/1250 [===========>..................] - ETA: 2s - loss: 1.9106 - accuracy: 0.2153Epoch 1/5\n",
      "   1/1250 [..............................] - ETA: 17:47 - loss: 2.3743 - accuracy: 0.0000e+00"
     ]
    },
    {
     "name": "stderr",
     "output_type": "stream",
     "text": [
      "2022-06-26 17:05:31.898272: I tensorflow/stream_executor/cuda/cuda_blas.cc:1786] TensorFloat-32 will be used for the matrix multiplication. This will only be logged once.\n"
     ]
    },
    {
     "name": "stdout",
     "output_type": "stream",
     "text": [
      "1250/1250 [==============================] - 5s 4ms/step - loss: 59245572.0000 - accuracy: 0.2027\n",
      "1221/1250 [============================>.] - ETA: 0s - loss: 1.9549 - accuracy: 0.2105Epoch 2/5\n",
      "1250/1250 [==============================] - 5s 4ms/step - loss: 1.9535 - accuracy: 0.2102\n",
      " 489/1250 [==========>...................] - ETA: 3s - loss: 1.6916 - accuracy: 0.3545Epoch 2/5\n",
      "1250/1250 [==============================] - 6s 4ms/step - loss: 1.6089 - accuracy: 0.3644\n",
      "Epoch 2/5\n",
      "1250/1250 [==============================] - 5s 4ms/step - loss: 2.3158 - accuracy: 0.105551328.0000 - accuracy: 0.13\n",
      "Epoch 3/5\n",
      "1250/1250 [==============================] - 5s 4ms/step - loss: 1.9508 - accuracy: 0.195288224.0000 - accuracy: 0.13\n",
      "Epoch 3/5\n",
      "1250/1250 [==============================] - 5s 4ms/step - loss: 1396337871647052715868223141052416.0000 - accuracy: 0.1148\n",
      "Epoch 3/5\n",
      "1250/1250 [==============================] - 5s 4ms/step - loss: 2.3072 - accuracy: 0.1056\n",
      "Epoch 4/5\n",
      "1250/1250 [==============================] - 5s 4ms/step - loss: 2.2207 - accuracy: 0.1298\n",
      "Epoch 4/5\n",
      "1250/1250 [==============================] - 5s 4ms/step - loss: 2.3069 - accuracy: 0.1028\n",
      "Epoch 4/5\n",
      "1250/1250 [==============================] - 5s 4ms/step - loss: 2.3068 - accuracy: 0.1055\n",
      "Epoch 5/5\n",
      "1250/1250 [==============================] - 5s 4ms/step - loss: 2.3065 - accuracy: 0.1049\n",
      "Epoch 5/5\n",
      "1250/1250 [==============================] - 5s 4ms/step - loss: 2.3065 - accuracy: 0.1076\n",
      "Epoch 5/5\n",
      "1250/1250 [==============================] - 5s 4ms/step - loss: 2.3068 - accuracy: 0.1031\n",
      "1250/1250 [==============================] - 5s 4ms/step - loss: 2.3069 - accuracy: 0.1045\n",
      "625/625 [==============================] - 2s 3ms/step loss: 2.3067 - accuracy: 0.\n",
      "625/625 [==============================] - 2s 3ms/step loss: 2.3069 - accuracy: 0.10\n",
      "1250/1250 [==============================] - 5s 4ms/step - loss: 2.3069 - accuracy: 0.1040\n",
      "625/625 [==============================] - 2s 3ms/step\n",
      "Epoch 1/5\n",
      "Epoch 1/5\n",
      "Epoch 1/5\n",
      "1250/1250 [==============================] - 6s 4ms/step - loss: nan - accuracy: 0.1267\n",
      "Epoch 2/5\n",
      "1250/1250 [==============================] - 6s 4ms/step - loss: 1.1106 - accuracy: 0.6423\n",
      "   1/1250 [..............................] - ETA: 5s - loss: nan - accuracy: 0.0312Epoch 2/5\n",
      "1250/1250 [==============================] - 6s 4ms/step - loss: 1.4390 - accuracy: 0.5434\n",
      "Epoch 2/5\n",
      "1250/1250 [==============================] - 5s 4ms/step - loss: 0.3612 - accuracy: 0.9067\n",
      "1250/1250 [==============================] - 5s 4ms/step - loss: nan - accuracy: 0.0987\n",
      "Epoch 3/5\n",
      "Epoch 3/5\n",
      "1250/1250 [==============================] - 5s 4ms/step - loss: nan - accuracy: 0.4346\n",
      "Epoch 3/5\n",
      "1250/1250 [==============================] - 5s 4ms/step - loss: 0.3144 - accuracy: 0.9184\n",
      "1250/1250 [==============================] - 5s 4ms/step - loss: nan - accuracy: 0.0987\n",
      "Epoch 4/5\n",
      "Epoch 4/5\n",
      "1250/1250 [==============================] - 5s 4ms/step - loss: nan - accuracy: 0.0987\n",
      "Epoch 4/5\n",
      "1250/1250 [==============================] - 5s 4ms/step - loss: 0.2547 - accuracy: 0.9351\n",
      "Epoch 5/5\n",
      "1250/1250 [==============================] - 6s 4ms/step - loss: nan - accuracy: 0.0987\n",
      "1244/1250 [============================>.] - ETA: 0s - loss: nan - accuracy: 0.0987Epoch 5/5\n",
      "1250/1250 [==============================] - 5s 4ms/step - loss: nan - accuracy: 0.0987\n",
      "Epoch 5/5\n",
      "1250/1250 [==============================] - 5s 4ms/step - loss: nan - accuracy: 0.0987\n",
      "1250/1250 [==============================] - 6s 4ms/step - loss: 0.2195 - accuracy: 0.9442\n",
      "1250/1250 [==============================] - 5s 4ms/step - loss: nan - accuracy: 0.0987\n",
      "625/625 [==============================] - 2s 3ms/step\n",
      "625/625 [==============================] - 2s 3ms/step\n",
      "625/625 [==============================] - 2s 3ms/step\n",
      "Epoch 1/5\n",
      "Epoch 1/5\n",
      "Epoch 1/5\n",
      "1250/1250 [==============================] - 5s 4ms/step - loss: 0.3116 - accuracy: 0.9079\n",
      "Epoch 2/5\n",
      "1250/1250 [==============================] - 5s 4ms/step - loss: 0.3123 - accuracy: 0.9072\n",
      "   1/1250 [..............................] - ETA: 5s - loss: 0.1140 - accuracy: 0.9375Epoch 2/5\n",
      "1250/1250 [==============================] - 5s 4ms/step - loss: 0.3138 - accuracy: 0.9070\n",
      "   1/1250 [..............................] - ETA: 5s - loss: 0.0605 - accuracy: 1.0000Epoch 2/5\n",
      "1250/1250 [==============================] - 5s 4ms/step - loss: 0.1316 - accuracy: 0.9594\n",
      "Epoch 3/5\n",
      "1250/1250 [==============================] - 5s 4ms/step - loss: 0.1315 - accuracy: 0.9603\n",
      "   1/1250 [..............................] - ETA: 5s - loss: 0.0376 - accuracy: 1.0000Epoch 3/5\n",
      "1250/1250 [==============================] - 5s 4ms/step - loss: 0.1307 - accuracy: 0.9608\n",
      "Epoch 3/5\n",
      "1250/1250 [==============================] - 5s 4ms/step - loss: 0.0865 - accuracy: 0.9728\n",
      "1241/1250 [============================>.] - ETA: 0s - loss: 0.0885 - accuracy: 0.9731Epoch 4/5\n",
      "1250/1250 [==============================] - 5s 4ms/step - loss: 0.0879 - accuracy: 0.9730\n",
      "Epoch 4/5\n",
      "1250/1250 [==============================] - 5s 4ms/step - loss: 0.0888 - accuracy: 0.9732\n",
      "Epoch 4/5\n",
      "1250/1250 [==============================] - 5s 4ms/step - loss: 0.0625 - accuracy: 0.9801\n",
      "Epoch 5/5\n",
      "1250/1250 [==============================] - 5s 4ms/step - loss: 0.0650 - accuracy: 0.9804\n",
      "Epoch 5/5\n",
      "1250/1250 [==============================] - 5s 4ms/step - loss: 0.0629 - accuracy: 0.9811\n",
      "Epoch 5/5\n",
      "1250/1250 [==============================] - 5s 4ms/step - loss: 0.0470 - accuracy: 0.9847\n",
      "1250/1250 [==============================] - 5s 4ms/step - loss: 0.0469 - accuracy: 0.9860\n",
      "1250/1250 [==============================] - 5s 4ms/step - loss: 0.0472 - accuracy: 0.9856\n",
      "625/625 [==============================] - 2s 3ms/step\n",
      "625/625 [==============================] - 2s 3ms/step\n",
      "625/625 [==============================] - 2s 3ms/step\n",
      "Epoch 1/5\n",
      "Epoch 1/5\n",
      "Epoch 1/5\n",
      "1250/1250 [==============================] - 5s 4ms/step - loss: 0.7425 - accuracy: 0.7703\n",
      "Epoch 2/5\n",
      "1250/1250 [==============================] - 5s 4ms/step - loss: nan - accuracy: 0.1024\n",
      "Epoch 2/5\n",
      "1250/1250 [==============================] - 5s 4ms/step - loss: 0.6054 - accuracy: 0.8158\n",
      "Epoch 2/5\n",
      "1250/1250 [==============================] - 5s 4ms/step - loss: 0.2917 - accuracy: 0.9233\n",
      "1243/1250 [============================>.] - ETA: 0s - loss: nan - accuracy: 0.0989Epoch 3/5\n",
      "1250/1250 [==============================] - 5s 4ms/step - loss: nan - accuracy: 0.0987\n",
      "Epoch 3/5\n",
      "1250/1250 [==============================] - 5s 4ms/step - loss: 0.2331 - accuracy: 0.9355\n",
      "Epoch 3/5\n",
      "1250/1250 [==============================] - 5s 4ms/step - loss: 0.2606 - accuracy: 0.9344\n",
      "Epoch 4/5\n",
      "1250/1250 [==============================] - 5s 4ms/step - loss: nan - accuracy: 0.0987\n",
      "Epoch 4/5\n",
      "1250/1250 [==============================] - 5s 4ms/step - loss: 0.1893 - accuracy: 0.9484\n",
      "Epoch 4/5\n",
      "1250/1250 [==============================] - 5s 4ms/step - loss: 0.2139 - accuracy: 0.9441\n",
      "Epoch 5/5\n",
      "1250/1250 [==============================] - 5s 4ms/step - loss: nan - accuracy: 0.0987\n",
      "Epoch 5/5\n",
      "1250/1250 [==============================] - 5s 4ms/step - loss: 0.1548 - accuracy: 0.9582\n",
      "Epoch 5/5\n",
      "1250/1250 [==============================] - 5s 4ms/step - loss: 0.1956 - accuracy: 0.9504\n",
      "1250/1250 [==============================] - 5s 4ms/step - loss: nan - accuracy: 0.0987\n",
      "1250/1250 [==============================] - 5s 4ms/step - loss: 0.1402 - accuracy: 0.9616\n",
      "625/625 [==============================] - 2s 3ms/step\n",
      "625/625 [==============================] - 2s 3ms/step\n",
      "625/625 [==============================] - 2s 3ms/step\n",
      "Epoch 1/5\n",
      "Epoch 1/5\n",
      "Epoch 1/5\n",
      "1250/1250 [==============================] - 5s 4ms/step - loss: 0.9505 - accuracy: 0.6896\n",
      "1243/1250 [============================>.] - ETA: 0s - loss: 0.7906 - accuracy: 0.7613Epoch 2/5\n",
      "1250/1250 [==============================] - 5s 4ms/step - loss: 0.7610 - accuracy: 0.7718\n",
      "Epoch 2/5\n",
      "1250/1250 [==============================] - 5s 4ms/step - loss: 0.7895 - accuracy: 0.7617\n",
      "Epoch 2/5\n",
      "1250/1250 [==============================] - 5s 4ms/step - loss: 0.3898 - accuracy: 0.8968\n",
      "Epoch 3/5\n",
      "1250/1250 [==============================] - 5s 4ms/step - loss: 0.3864 - accuracy: 0.8996\n",
      "Epoch 3/5\n",
      "1250/1250 [==============================] - 5s 4ms/step - loss: 0.4018 - accuracy: 0.8959\n",
      "Epoch 3/5\n",
      "1250/1250 [==============================] - 5s 4ms/step - loss: 0.3604 - accuracy: 0.9075\n",
      "1247/1250 [============================>.] - ETA: 0s - loss: 0.3712 - accuracy: 0.9066Epoch 4/5\n",
      "1250/1250 [==============================] - 5s 4ms/step - loss: 0.3468 - accuracy: 0.9108\n",
      "Epoch 4/5\n",
      "1250/1250 [==============================] - 5s 4ms/step - loss: 0.3715 - accuracy: 0.9067\n",
      "   1/1250 [..............................] - ETA: 4s - loss: 0.1132 - accuracy: 1.0000Epoch 4/5\n",
      "1250/1250 [==============================] - 5s 4ms/step - loss: 0.2985 - accuracy: 0.9218\n",
      "Epoch 5/5\n",
      "1250/1250 [==============================] - 5s 4ms/step - loss: 0.2809 - accuracy: 0.9283\n",
      "   1/1250 [..............................] - ETA: 5s - loss: 0.3035 - accuracy: 0.9062Epoch 5/5\n",
      "1250/1250 [==============================] - 5s 4ms/step - loss: 0.3486 - accuracy: 0.9159\n",
      "Epoch 5/5\n",
      "1250/1250 [==============================] - 5s 4ms/step - loss: 0.2598 - accuracy: 0.9331\n",
      "1250/1250 [==============================] - 5s 4ms/step - loss: 0.2891 - accuracy: 0.9265\n",
      "1250/1250 [==============================] - 5s 4ms/step - loss: 0.3379 - accuracy: 0.9177\n",
      "625/625 [==============================] - 2s 3ms/step\n",
      "625/625 [==============================] - 2s 3ms/step\n",
      "625/625 [==============================] - 2s 3ms/step\n",
      "Epoch 1/5\n",
      "Epoch 1/5\n",
      "Epoch 1/5\n",
      "1250/1250 [==============================] - 5s 4ms/step - loss: 0.3168 - accuracy: 0.9040\n",
      "1229/1250 [============================>.] - ETA: 0s - loss: 0.3381 - accuracy: 0.8969Epoch 2/5\n",
      "1250/1250 [==============================] - 5s 4ms/step - loss: 0.3661 - accuracy: 0.8890\n",
      "  14/1250 [..............................] - ETA: 4s - loss: 0.1269 - accuracy: 0.9688Epoch 2/5\n",
      "1250/1250 [==============================] - 5s 4ms/step - loss: 0.3352 - accuracy: 0.8976\n",
      "Epoch 2/5\n",
      "1250/1250 [==============================] - 5s 4ms/step - loss: 0.1331 - accuracy: 0.9592\n",
      "Epoch 3/5\n",
      "1250/1250 [==============================] - 5s 4ms/step - loss: 0.1413 - accuracy: 0.9579\n",
      "Epoch 3/5\n",
      "1250/1250 [==============================] - 5s 4ms/step - loss: 0.1379 - accuracy: 0.9577\n",
      "Epoch 3/5\n",
      "1250/1250 [==============================] - 5s 4ms/step - loss: 0.1013 - accuracy: 0.9688\n",
      "Epoch 4/5\n",
      "1250/1250 [==============================] - 5s 4ms/step - loss: 0.1083 - accuracy: 0.9671\n",
      "Epoch 4/5\n",
      "1250/1250 [==============================] - 5s 4ms/step - loss: 0.1024 - accuracy: 0.9698\n",
      "Epoch 4/5\n",
      "1250/1250 [==============================] - 5s 4ms/step - loss: 0.0761 - accuracy: 0.9765\n",
      "Epoch 5/5\n",
      "1250/1250 [==============================] - 5s 4ms/step - loss: 0.0836 - accuracy: 0.9748\n",
      "Epoch 5/5\n",
      "1250/1250 [==============================] - 5s 4ms/step - loss: 0.0775 - accuracy: 0.9762\n",
      "Epoch 5/5\n",
      "1250/1250 [==============================] - 5s 4ms/step - loss: 0.0598 - accuracy: 0.9818\n",
      "1250/1250 [==============================] - 5s 4ms/step - loss: 0.0835 - accuracy: 0.9746\n",
      "1250/1250 [==============================] - 5s 4ms/step - loss: 0.0670 - accuracy: 0.9797\n",
      "625/625 [==============================] - 2s 3ms/step\n",
      "625/625 [==============================] - 2s 3ms/step\n",
      "625/625 [==============================] - 2s 3ms/step\n",
      "Epoch 1/5\n",
      "Epoch 1/5\n",
      "Epoch 1/5\n",
      "1250/1250 [==============================] - 5s 4ms/step - loss: 1.9507 - accuracy: 0.2693\n",
      "Epoch 2/5\n",
      "1250/1250 [==============================] - 5s 4ms/step - loss: 1.9993 - accuracy: 0.2203\n",
      "1250/1250 [==============================] - 5s 4ms/step - loss: 2.0041 - accuracy: 0.2158\n",
      "Epoch 2/5\n",
      "Epoch 2/5\n",
      "1250/1250 [==============================] - 5s 4ms/step - loss: 1.9937 - accuracy: 0.2101\n",
      "Epoch 3/5\n",
      "1250/1250 [==============================] - 5s 4ms/step - loss: 1.8425 - accuracy: 0.2803\n",
      "Epoch 3/5\n",
      "1250/1250 [==============================] - 5s 4ms/step - loss: 1.9960 - accuracy: 0.2115\n",
      "Epoch 3/5\n",
      "1250/1250 [==============================] - 5s 4ms/step - loss: 1.9955 - accuracy: 0.2143\n",
      "Epoch 4/5\n",
      "1250/1250 [==============================] - 5s 4ms/step - loss: 1.6947 - accuracy: 0.3471\n",
      "Epoch 4/5\n",
      "1250/1250 [==============================] - 5s 4ms/step - loss: 1.9956 - accuracy: 0.2105\n",
      "Epoch 4/5\n",
      "1250/1250 [==============================] - 5s 4ms/step - loss: 1.9961 - accuracy: 0.2125\n",
      "Epoch 5/5\n",
      "1250/1250 [==============================] - 5s 4ms/step - loss: 1.5935 - accuracy: 0.3832\n",
      "  15/1250 [..............................] - ETA: 4s - loss: 1.9554 - accuracy: 0.2208Epoch 5/5\n",
      "1250/1250 [==============================] - 5s 4ms/step - loss: 1.9909 - accuracy: 0.2089\n",
      "Epoch 5/5\n",
      "1250/1250 [==============================] - 5s 4ms/step - loss: 1.9917 - accuracy: 0.2114\n",
      "1250/1250 [==============================] - 5s 4ms/step - loss: 1.5947 - accuracy: 0.3765\n",
      "1250/1250 [==============================] - 5s 4ms/step - loss: 1.9289 - accuracy: 0.2405\n",
      "625/625 [==============================] - 2s 3ms/step\n",
      "625/625 [==============================] - 2s 3ms/step\n",
      "625/625 [==============================] - 2s 3ms/step\n",
      "Epoch 1/5\n",
      "Epoch 1/5\n",
      "Epoch 1/5\n",
      "1250/1250 [==============================] - 5s 4ms/step - loss: 2.0887 - accuracy: 0.4298\n",
      "Epoch 2/5\n",
      "1250/1250 [==============================] - 5s 4ms/step - loss: 2.0791 - accuracy: 0.4732\n",
      "Epoch 2/5\n",
      "1250/1250 [==============================] - 6s 4ms/step - loss: 2.0867 - accuracy: 0.4520\n",
      "Epoch 2/5\n",
      "1250/1250 [==============================] - 5s 4ms/step - loss: 1.4005 - accuracy: 0.7391\n",
      "Epoch 3/5\n",
      "1250/1250 [==============================] - 5s 4ms/step - loss: 1.3429 - accuracy: 0.7511\n",
      "  13/1250 [..............................] - ETA: 5s - loss: 1.0652 - accuracy: 0.7668Epoch 3/5\n",
      "1250/1250 [==============================] - 5s 4ms/step - loss: 1.3748 - accuracy: 0.7543\n",
      "Epoch 3/5\n",
      "1250/1250 [==============================] - 5s 4ms/step - loss: 0.8124 - accuracy: 0.8204\n",
      "Epoch 4/5\n",
      "1250/1250 [==============================] - 5s 4ms/step - loss: 0.7845 - accuracy: 0.8191\n",
      "Epoch 4/5\n",
      "1250/1250 [==============================] - 5s 4ms/step - loss: 0.8106 - accuracy: 0.8168\n",
      "Epoch 4/5\n",
      "1250/1250 [==============================] - 5s 4ms/step - loss: 0.5874 - accuracy: 0.8515\n",
      "Epoch 5/5\n",
      "1250/1250 [==============================] - 5s 4ms/step - loss: 0.5768 - accuracy: 0.8553\n",
      "Epoch 5/5\n",
      "1250/1250 [==============================] - 5s 4ms/step - loss: 0.5944 - accuracy: 0.8500\n",
      "Epoch 5/5\n",
      "1250/1250 [==============================] - 5s 4ms/step - loss: 0.4879 - accuracy: 0.8705\n",
      "1250/1250 [==============================] - 5s 4ms/step - loss: 0.4796 - accuracy: 0.8748\n",
      "1250/1250 [==============================] - 5s 4ms/step - loss: 0.4941 - accuracy: 0.8701\n",
      "625/625 [==============================] - 2s 3ms/step\n",
      "625/625 [==============================] - 2s 3ms/step\n",
      "625/625 [==============================] - 2s 3ms/step\n",
      "Epoch 1/5\n",
      "Epoch 1/5\n",
      "Epoch 1/5\n",
      "1250/1250 [==============================] - 5s 4ms/step - loss: 1.7775 - accuracy: 0.5646\n",
      "1250/1250 [==============================] - 5s 4ms/step - loss: 1.8325 - accuracy: 0.5222\n",
      "Epoch 2/5\n",
      "1250/1250 [==============================] - 5s 4ms/step - loss: 1.7700 - accuracy: 0.5483\n",
      "Epoch 2/5\n",
      "   1/1250 [..............................] - ETA: 4s - loss: 1.3443 - accuracy: 0.6875Epoch 2/5\n",
      "1250/1250 [==============================] - 5s 4ms/step - loss: 1.1190 - accuracy: 0.7808\n",
      "Epoch 3/5\n",
      "1250/1250 [==============================] - 5s 4ms/step - loss: 1.0995 - accuracy: 0.7909\n",
      "Epoch 3/5\n",
      "1250/1250 [==============================] - 5s 4ms/step - loss: 1.1491 - accuracy: 0.7845\n",
      "Epoch 3/5\n",
      "1250/1250 [==============================] - 5s 4ms/step - loss: 0.8197 - accuracy: 0.8244\n",
      "Epoch 4/5\n",
      "1250/1250 [==============================] - 5s 4ms/step - loss: 0.8060 - accuracy: 0.8328\n",
      "Epoch 4/5\n",
      "1250/1250 [==============================] - 5s 4ms/step - loss: 0.8329 - accuracy: 0.8290\n",
      "Epoch 4/5\n",
      "1250/1250 [==============================] - 5s 4ms/step - loss: 0.6716 - accuracy: 0.8475\n",
      "Epoch 5/5\n",
      "1250/1250 [==============================] - 5s 4ms/step - loss: 0.6637 - accuracy: 0.8520\n",
      "Epoch 5/5\n",
      "1250/1250 [==============================] - 5s 4ms/step - loss: 0.6809 - accuracy: 0.8480\n",
      "Epoch 5/5\n",
      "1250/1250 [==============================] - 5s 4ms/step - loss: 0.5858 - accuracy: 0.8608\n",
      "1250/1250 [==============================] - 5s 4ms/step - loss: 0.5818 - accuracy: 0.8639\n",
      "1250/1250 [==============================] - 5s 4ms/step - loss: 0.5947 - accuracy: 0.8601\n",
      "625/625 [==============================] - 2s 3ms/step\n",
      "625/625 [==============================] - 2s 3ms/step\n",
      "625/625 [==============================] - 2s 3ms/step\n",
      "Epoch 1/5\n",
      "Epoch 1/5\n",
      "Epoch 1/5\n",
      "1250/1250 [==============================] - 5s 4ms/step - loss: 0.2479 - accuracy: 0.9226\n",
      "1238/1250 [============================>.] - ETA: 0s - loss: 0.2560 - accuracy: 0.9219Epoch 2/5\n",
      "1250/1250 [==============================] - 5s 4ms/step - loss: 0.2565 - accuracy: 0.9207\n",
      "Epoch 2/5\n",
      "1250/1250 [==============================] - 5s 4ms/step - loss: 0.2553 - accuracy: 0.9221\n",
      "Epoch 2/5\n",
      "1250/1250 [==============================] - 5s 4ms/step - loss: 0.1052 - accuracy: 0.9665\n",
      "Epoch 3/5\n",
      "1250/1250 [==============================] - 5s 4ms/step - loss: 0.1063 - accuracy: 0.9679\n",
      "Epoch 3/5\n",
      "1250/1250 [==============================] - 5s 4ms/step - loss: 0.1065 - accuracy: 0.9666\n",
      "Epoch 3/5\n",
      "1250/1250 [==============================] - 5s 4ms/step - loss: 0.0685 - accuracy: 0.9783\n",
      "Epoch 4/5\n",
      "1250/1250 [==============================] - 5s 4ms/step - loss: 0.0767 - accuracy: 0.9751\n",
      "Epoch 4/5\n",
      "1250/1250 [==============================] - 5s 4ms/step - loss: 0.0725 - accuracy: 0.9776\n",
      "Epoch 4/5\n",
      "1250/1250 [==============================] - 5s 4ms/step - loss: 0.0480 - accuracy: 0.9845\n",
      "Epoch 5/5\n",
      "1250/1250 [==============================] - 5s 4ms/step - loss: 0.0503 - accuracy: 0.9843\n",
      "Epoch 5/5\n",
      "1250/1250 [==============================] - 5s 4ms/step - loss: 0.0555 - accuracy: 0.9823\n",
      "Epoch 5/5\n",
      "1250/1250 [==============================] - 5s 4ms/step - loss: 0.0327 - accuracy: 0.9894\n",
      "1250/1250 [==============================] - 5s 4ms/step - loss: 0.0388 - accuracy: 0.9879\n",
      "1250/1250 [==============================] - 5s 4ms/step - loss: 0.0408 - accuracy: 0.9865\n",
      "625/625 [==============================] - 2s 2ms/step\n",
      "625/625 [==============================] - 2s 3ms/step\n",
      "625/625 [==============================] - 2s 3ms/step\n",
      "Epoch 1/5\n",
      "Epoch 1/5\n",
      "Epoch 1/5\n",
      "1250/1250 [==============================] - 5s 4ms/step - loss: 0.2706 - accuracy: 0.9190\n",
      "1230/1250 [============================>.] - ETA: 0s - loss: 0.2639 - accuracy: 0.9188Epoch 2/5\n",
      "1250/1250 [==============================] - 5s 4ms/step - loss: 0.2701 - accuracy: 0.9186\n",
      "Epoch 2/5\n",
      "1250/1250 [==============================] - 5s 4ms/step - loss: 0.2622 - accuracy: 0.9193\n",
      "Epoch 2/5\n",
      "1250/1250 [==============================] - 5s 4ms/step - loss: 0.1169 - accuracy: 0.9648\n",
      "Epoch 3/5\n",
      "1250/1250 [==============================] - 5s 4ms/step - loss: 0.1179 - accuracy: 0.9649\n",
      "Epoch 3/5\n",
      "1250/1250 [==============================] - 5s 4ms/step - loss: 0.1131 - accuracy: 0.9650\n",
      "Epoch 3/5\n",
      "1250/1250 [==============================] - 5s 4ms/step - loss: 0.0784 - accuracy: 0.9759\n",
      "Epoch 4/5\n",
      "1250/1250 [==============================] - 5s 4ms/step - loss: 0.0801 - accuracy: 0.9764\n",
      "Epoch 4/5\n",
      "1250/1250 [==============================] - 5s 4ms/step - loss: 0.0771 - accuracy: 0.9761\n",
      "Epoch 4/5\n",
      "1250/1250 [==============================] - 5s 4ms/step - loss: 0.0601 - accuracy: 0.9812\n",
      "Epoch 5/5\n",
      "1250/1250 [==============================] - 5s 4ms/step - loss: 0.0596 - accuracy: 0.9823\n",
      "Epoch 5/5\n",
      "1250/1250 [==============================] - 5s 4ms/step - loss: 0.0544 - accuracy: 0.9832\n",
      "Epoch 5/5\n",
      "1250/1250 [==============================] - 5s 4ms/step - loss: 0.0446 - accuracy: 0.9861\n",
      "1250/1250 [==============================] - 5s 4ms/step - loss: 0.0465 - accuracy: 0.9862\n",
      "1250/1250 [==============================] - 5s 4ms/step - loss: 0.0394 - accuracy: 0.9873\n",
      "625/625 [==============================] - 2s 3ms/step\n",
      "625/625 [==============================] - 2s 3ms/step\n",
      "625/625 [==============================] - 2s 3ms/step\n",
      "Epoch 1/5\n",
      "Epoch 1/5\n",
      "Epoch 1/5\n",
      "1250/1250 [==============================] - 6s 4ms/step - loss: 2.1531 - accuracy: 0.3645\n",
      "1240/1250 [============================>.] - ETA: 0s - loss: 2.1554 - accuracy: 0.4133Epoch 2/5\n",
      "1250/1250 [==============================] - 6s 4ms/step - loss: 2.1536 - accuracy: 0.4153\n",
      "Epoch 2/5\n",
      "1250/1250 [==============================] - 6s 4ms/step - loss: 2.1766 - accuracy: 0.3172\n",
      "Epoch 2/5\n",
      "1250/1250 [==============================] - 6s 4ms/step - loss: 1.5428 - accuracy: 0.6841\n",
      "Epoch 3/5\n",
      "1250/1250 [==============================] - 6s 4ms/step - loss: 1.5053 - accuracy: 0.7191\n",
      "Epoch 3/5\n",
      "1250/1250 [==============================] - 6s 4ms/step - loss: 1.6541 - accuracy: 0.6537\n",
      "Epoch 3/5\n",
      "1250/1250 [==============================] - 6s 4ms/step - loss: 0.8447 - accuracy: 0.7951\n",
      "Epoch 4/5\n",
      "1250/1250 [==============================] - 6s 5ms/step - loss: 0.7925 - accuracy: 0.8237\n",
      "Epoch 4/5\n",
      "1250/1250 [==============================] - 6s 4ms/step - loss: 0.9525 - accuracy: 0.7780\n",
      "Epoch 4/5\n",
      "1250/1250 [==============================] - 6s 4ms/step - loss: 0.5807 - accuracy: 0.8443\n",
      "Epoch 5/5\n",
      "1250/1250 [==============================] - 6s 4ms/step - loss: 0.6452 - accuracy: 0.8303\n",
      "Epoch 5/5\n",
      "1250/1250 [==============================] - 6s 5ms/step - loss: 0.5466 - accuracy: 0.8611\n",
      "Epoch 5/5\n",
      "1250/1250 [==============================] - 6s 4ms/step - loss: 0.4720 - accuracy: 0.8700\n",
      "1250/1250 [==============================] - 6s 4ms/step - loss: 0.5082 - accuracy: 0.8638\n",
      "1250/1250 [==============================] - 6s 4ms/step - loss: 0.4500 - accuracy: 0.8797\n",
      "625/625 [==============================] - 2s 3ms/step\n",
      "625/625 [==============================] - 2s 3ms/step\n",
      "625/625 [==============================] - 2s 3ms/step\n",
      "Epoch 1/5\n",
      "Epoch 1/5\n",
      "Epoch 1/5\n",
      "1250/1250 [==============================] - 5s 4ms/step - loss: 1.9717 - accuracy: 0.4694\n",
      "Epoch 2/5\n",
      "1250/1250 [==============================] - 5s 4ms/step - loss: 1.9711 - accuracy: 0.4498\n",
      "   1/1250 [..............................] - ETA: 5s - loss: 1.6542 - accuracy: 0.6562Epoch 2/5\n",
      "1250/1250 [==============================] - 5s 4ms/step - loss: 1.9969 - accuracy: 0.4214\n",
      "Epoch 2/5\n",
      "1250/1250 [==============================] - 5s 4ms/step - loss: 1.2500 - accuracy: 0.7697\n",
      "Epoch 3/5\n",
      "1250/1250 [==============================] - 5s 4ms/step - loss: 1.2744 - accuracy: 0.7481\n",
      "Epoch 3/5\n",
      "1250/1250 [==============================] - 5s 4ms/step - loss: 1.2916 - accuracy: 0.7411\n",
      "Epoch 3/5\n",
      "1250/1250 [==============================] - 5s 4ms/step - loss: 0.8081 - accuracy: 0.8282\n",
      "Epoch 4/5\n",
      "1250/1250 [==============================] - 5s 4ms/step - loss: 0.8482 - accuracy: 0.8218\n",
      "  14/1250 [..............................] - ETA: 4s - loss: 0.6322 - accuracy: 0.8705Epoch 4/5\n",
      "1250/1250 [==============================] - 5s 4ms/step - loss: 0.8246 - accuracy: 0.8247\n",
      "Epoch 4/5\n",
      "1250/1250 [==============================] - 5s 4ms/step - loss: 0.6203 - accuracy: 0.8535\n",
      "Epoch 5/5\n",
      "1250/1250 [==============================] - 5s 4ms/step - loss: 0.6434 - accuracy: 0.8494\n",
      "Epoch 5/5\n",
      "1250/1250 [==============================] - 5s 4ms/step - loss: 0.6304 - accuracy: 0.8503\n",
      "Epoch 5/5\n",
      "1250/1250 [==============================] - 5s 4ms/step - loss: 0.5271 - accuracy: 0.8682\n",
      "1250/1250 [==============================] - 5s 4ms/step - loss: 0.5388 - accuracy: 0.8674\n",
      "1250/1250 [==============================] - 5s 4ms/step - loss: 0.5330 - accuracy: 0.8652\n",
      "625/625 [==============================] - 2s 3ms/step\n",
      "625/625 [==============================] - 2s 3ms/step\n",
      "625/625 [==============================] - 2s 3ms/step\n",
      "Epoch 1/5\n",
      "Epoch 1/5\n",
      "Epoch 1/5\n",
      "1250/1250 [==============================] - 5s 4ms/step - loss: 0.2779 - accuracy: 0.9147\n",
      "Epoch 2/5\n",
      "1250/1250 [==============================] - 5s 4ms/step - loss: 0.2783 - accuracy: 0.9158\n",
      "Epoch 2/5\n",
      "1250/1250 [==============================] - 5s 4ms/step - loss: 0.2759 - accuracy: 0.9151\n",
      "Epoch 2/5\n",
      "1250/1250 [==============================] - 5s 4ms/step - loss: 0.1132 - accuracy: 0.9657\n",
      "Epoch 3/5\n",
      "1250/1250 [==============================] - 5s 4ms/step - loss: 0.1105 - accuracy: 0.9655\n",
      "Epoch 3/5\n",
      "1250/1250 [==============================] - 5s 4ms/step - loss: 0.1103 - accuracy: 0.9667\n",
      "   1/1250 [..............................] - ETA: 5s - loss: 0.0987 - accuracy: 0.9375Epoch 3/5\n",
      "1250/1250 [==============================] - 5s 4ms/step - loss: 0.0765 - accuracy: 0.9760\n",
      "1231/1250 [============================>.] - ETA: 0s - loss: 0.0722 - accuracy: 0.9769Epoch 4/5\n",
      "1250/1250 [==============================] - 5s 4ms/step - loss: 0.0708 - accuracy: 0.9772\n",
      "Epoch 4/5\n",
      "1250/1250 [==============================] - 5s 4ms/step - loss: 0.0722 - accuracy: 0.9771\n",
      "Epoch 4/5\n",
      "1250/1250 [==============================] - 5s 4ms/step - loss: 0.0543 - accuracy: 0.9842\n",
      "Epoch 5/5\n",
      "1250/1250 [==============================] - 5s 4ms/step - loss: 0.0512 - accuracy: 0.9829\n",
      "Epoch 5/5\n",
      "1250/1250 [==============================] - 5s 4ms/step - loss: 0.0511 - accuracy: 0.9841\n",
      "Epoch 5/5\n",
      "1250/1250 [==============================] - 5s 4ms/step - loss: 0.0395 - accuracy: 0.9881\n",
      "1250/1250 [==============================] - 5s 4ms/step - loss: 0.0353 - accuracy: 0.9885\n",
      "1250/1250 [==============================] - 5s 4ms/step - loss: 0.0371 - accuracy: 0.9883\n",
      "625/625 [==============================] - 2s 3ms/step\n",
      "625/625 [==============================] - 2s 3ms/step\n",
      "625/625 [==============================] - 2s 3ms/step\n",
      "Epoch 1/5\n",
      "Epoch 1/5\n",
      "Epoch 1/5\n",
      "1250/1250 [==============================] - 5s 4ms/step - loss: 0.2619 - accuracy: 0.9189\n",
      "1243/1250 [============================>.] - ETA: 0s - loss: 0.2589 - accuracy: 0.9182Epoch 2/5\n",
      "1250/1250 [==============================] - 5s 4ms/step - loss: 0.2598 - accuracy: 0.9175\n",
      "Epoch 2/5\n",
      "1250/1250 [==============================] - 5s 4ms/step - loss: 0.2586 - accuracy: 0.9182\n",
      "   1/1250 [..............................] - ETA: 5s - loss: 0.1437 - accuracy: 0.9062Epoch 2/5\n",
      "1250/1250 [==============================] - 5s 4ms/step - loss: 0.1042 - accuracy: 0.9681\n",
      "1249/1250 [============================>.] - ETA: 0s - loss: 0.1040 - accuracy: 0.9678Epoch 3/5\n",
      "1250/1250 [==============================] - 5s 4ms/step - loss: 0.1040 - accuracy: 0.9677\n",
      "   1/1250 [..............................] - ETA: 5s - loss: 0.0187 - accuracy: 1.0000Epoch 3/5\n",
      "1250/1250 [==============================] - 5s 4ms/step - loss: 0.1065 - accuracy: 0.9664\n",
      "Epoch 3/5\n",
      "1250/1250 [==============================] - 5s 4ms/step - loss: 0.0686 - accuracy: 0.9784\n",
      "Epoch 4/5\n",
      "1250/1250 [==============================] - 5s 4ms/step - loss: 0.0690 - accuracy: 0.9781\n",
      "   1/1250 [..............................] - ETA: 4s - loss: 0.0296 - accuracy: 1.0000Epoch 4/5\n",
      "1250/1250 [==============================] - 5s 4ms/step - loss: 0.0692 - accuracy: 0.9779\n",
      "   1/1250 [..............................] - ETA: 5s - loss: 0.0112 - accuracy: 1.0000Epoch 4/5\n",
      "1250/1250 [==============================] - 5s 4ms/step - loss: 0.0495 - accuracy: 0.9835\n",
      "1250/1250 [==============================] - 5s 4ms/step - loss: 0.0486 - accuracy: 0.9840\n",
      "1247/1250 [============================>.] - ETA: 0s - loss: 0.0499 - accuracy: 0.9841Epoch 5/5\n",
      "Epoch 5/5\n",
      "1250/1250 [==============================] - 5s 4ms/step - loss: 0.0498 - accuracy: 0.9841\n",
      "Epoch 5/5\n",
      "1250/1250 [==============================] - 5s 4ms/step - loss: 0.0335 - accuracy: 0.9887\n",
      "1250/1250 [==============================] - 5s 4ms/step - loss: 0.0350 - accuracy: 0.9885\n",
      "1250/1250 [==============================] - 5s 4ms/step - loss: 0.0353 - accuracy: 0.9890\n",
      "625/625 [==============================] - 2s 3ms/step\n",
      "625/625 [==============================] - 2s 3ms/step\n",
      "625/625 [==============================] - 2s 3ms/step\n",
      "Epoch 1/5\n",
      "Epoch 1/5\n",
      "Epoch 1/5\n",
      "1250/1250 [==============================] - 5s 4ms/step - loss: 0.9432 - accuracy: 0.6805\n",
      "Epoch 2/5\n",
      "1250/1250 [==============================] - 5s 4ms/step - loss: 1.3524 - accuracy: 0.5268\n",
      "Epoch 2/5\n",
      "1250/1250 [==============================] - 5s 4ms/step - loss: 1.3669 - accuracy: 0.4993\n",
      "Epoch 2/5\n",
      "1250/1250 [==============================] - 5s 4ms/step - loss: 0.4478 - accuracy: 0.8832\n",
      "1233/1250 [============================>.] - ETA: 0s - loss: 1.2007 - accuracy: 0.5860Epoch 3/5\n",
      "1250/1250 [==============================] - 5s 4ms/step - loss: 1.2917 - accuracy: 0.5265\n",
      "Epoch 3/5\n",
      "1250/1250 [==============================] - 5s 4ms/step - loss: 1.2061 - accuracy: 0.5837\n",
      "   1/1250 [..............................] - ETA: 5s - loss: 1.2739 - accuracy: 0.6250Epoch 3/5\n",
      "1250/1250 [==============================] - 5s 4ms/step - loss: 0.3876 - accuracy: 0.9062\n",
      "Epoch 4/5\n",
      "1250/1250 [==============================] - 5s 4ms/step - loss: 2.1216 - accuracy: 0.1862\n",
      "Epoch 4/5\n",
      "1250/1250 [==============================] - 5s 4ms/step - loss: 1.5106 - accuracy: 0.3898\n",
      "Epoch 4/5\n",
      "1250/1250 [==============================] - 5s 4ms/step - loss: 0.3789 - accuracy: 0.9097\n",
      "Epoch 5/5\n",
      "1250/1250 [==============================] - 5s 4ms/step - loss: 2.3081 - accuracy: 0.1059\n",
      "1244/1250 [============================>.] - ETA: 0s - loss: 1.7352 - accuracy: 0.3637Epoch 5/5\n",
      "1250/1250 [==============================] - 5s 4ms/step - loss: 1.7334 - accuracy: 0.3639\n",
      "  14/1250 [..............................] - ETA: 5s - loss: 0.2879 - accuracy: 0.9241Epoch 5/5\n",
      "1250/1250 [==============================] - 5s 4ms/step - loss: 0.4379 - accuracy: 0.9028\n",
      "1250/1250 [==============================] - 5s 4ms/step - loss: 1.5882 - accuracy: 0.3187\n",
      "1250/1250 [==============================] - 5s 4ms/step - loss: 2.3076 - accuracy: 0.1024\n",
      "625/625 [==============================] - 2s 3ms/step\n",
      "625/625 [==============================] - 2s 3ms/step\n",
      "625/625 [==============================] - 2s 3ms/step\n"
     ]
    },
    {
     "name": "stderr",
     "output_type": "stream",
     "text": [
      "2022-06-26 17:13:15.882406: I tensorflow/core/util/util.cc:169] oneDNN custom operations are on. You may see slightly different numerical results due to floating-point round-off errors from different computation orders. To turn them off, set the environment variable `TF_ENABLE_ONEDNN_OPTS=0`.\n",
      "2022-06-26 17:13:15.882410: I tensorflow/core/util/util.cc:169] oneDNN custom operations are on. You may see slightly different numerical results due to floating-point round-off errors from different computation orders. To turn them off, set the environment variable `TF_ENABLE_ONEDNN_OPTS=0`.\n"
     ]
    },
    {
     "name": "stdout",
     "output_type": "stream",
     "text": [
      "Epoch 1/5\n",
      " 437/1250 [=========>....................] - ETA: 2s - loss: 0.6161 - accuracy: 0.8157"
     ]
    },
    {
     "name": "stderr",
     "output_type": "stream",
     "text": [
      "2022-06-26 17:13:17.254637: I tensorflow/core/platform/cpu_feature_guard.cc:193] This TensorFlow binary is optimized with oneAPI Deep Neural Network Library (oneDNN) to use the following CPU instructions in performance-critical operations:  AVX2 AVX512F AVX512_VNNI FMA\n",
      "To enable them in other operations, rebuild TensorFlow with the appropriate compiler flags.\n",
      "2022-06-26 17:13:17.258622: I tensorflow/core/platform/cpu_feature_guard.cc:193] This TensorFlow binary is optimized with oneAPI Deep Neural Network Library (oneDNN) to use the following CPU instructions in performance-critical operations:  AVX2 AVX512F AVX512_VNNI FMA\n",
      "To enable them in other operations, rebuild TensorFlow with the appropriate compiler flags.\n"
     ]
    },
    {
     "name": "stdout",
     "output_type": "stream",
     "text": [
      " 637/1250 [==============>...............] - ETA: 1s - loss: 0.5187 - accuracy: 0.8446"
     ]
    },
    {
     "name": "stderr",
     "output_type": "stream",
     "text": [
      "2022-06-26 17:13:17.768619: W tensorflow/core/common_runtime/gpu/gpu_bfc_allocator.cc:42] Overriding orig_value setting because the TF_FORCE_GPU_ALLOW_GROWTH environment variable is set. Original config value was 0.\n",
      "2022-06-26 17:13:17.768662: I tensorflow/core/common_runtime/gpu/gpu_device.cc:1532] Created device /job:localhost/replica:0/task:0/device:GPU:0 with 18972 MB memory:  -> device: 0, name: NVIDIA GeForce RTX 3090, pci bus id: 0000:68:00.0, compute capability: 8.6\n",
      "2022-06-26 17:13:17.785717: W tensorflow/core/common_runtime/gpu/gpu_bfc_allocator.cc:42] Overriding orig_value setting because the TF_FORCE_GPU_ALLOW_GROWTH environment variable is set. Original config value was 0.\n",
      "2022-06-26 17:13:17.785751: I tensorflow/core/common_runtime/gpu/gpu_device.cc:1532] Created device /job:localhost/replica:0/task:0/device:GPU:0 with 18962 MB memory:  -> device: 0, name: NVIDIA GeForce RTX 3090, pci bus id: 0000:68:00.0, compute capability: 8.6\n"
     ]
    },
    {
     "name": "stdout",
     "output_type": "stream",
     "text": [
      " 669/1250 [===============>..............] - ETA: 1s - loss: 0.5086 - accuracy: 0.8478Epoch 1/5\n",
      " 687/1250 [===============>..............] - ETA: 1s - loss: 0.5023 - accuracy: 0.8500Epoch 1/5\n",
      "  36/1250 [..............................] - ETA: 3s - loss: 1.6283 - accuracy: 0.4887   "
     ]
    },
    {
     "name": "stderr",
     "output_type": "stream",
     "text": [
      "2022-06-26 17:13:18.788552: I tensorflow/stream_executor/cuda/cuda_blas.cc:1786] TensorFloat-32 will be used for the matrix multiplication. This will only be logged once.\n",
      "2022-06-26 17:13:18.844853: I tensorflow/stream_executor/cuda/cuda_blas.cc:1786] TensorFloat-32 will be used for the matrix multiplication. This will only be logged once.\n"
     ]
    },
    {
     "name": "stdout",
     "output_type": "stream",
     "text": [
      "1250/1250 [==============================] - 4s 3ms/step - loss: 0.3871 - accuracy: 0.8850\n",
      "Epoch 2/5\n",
      "1250/1250 [==============================] - 6s 4ms/step - loss: 0.3321 - accuracy: 0.8992\n",
      "Epoch 2/5\n",
      "1250/1250 [==============================] - 6s 4ms/step - loss: 0.3365 - accuracy: 0.8990\n",
      "   1/1250 [..............................] - ETA: 5s - loss: 0.4252 - accuracy: 0.9062Epoch 2/5\n",
      "1250/1250 [==============================] - 5s 4ms/step - loss: 0.1796 - accuracy: 0.9463\n",
      "Epoch 3/5\n",
      "1250/1250 [==============================] - 5s 4ms/step - loss: 0.1612 - accuracy: 0.9520\n",
      "Epoch 3/5\n",
      "1250/1250 [==============================] - 5s 4ms/step - loss: 0.1612 - accuracy: 0.9526\n",
      " 974/1250 [======================>.......] - ETA: 1s - loss: 0.1458 - accuracy: 0.9576Epoch 3/5\n",
      "1250/1250 [==============================] - 5s 4ms/step - loss: 0.1463 - accuracy: 0.9574\n",
      "Epoch 4/5\n",
      "1250/1250 [==============================] - 5s 4ms/step - loss: 0.1277 - accuracy: 0.9620\n",
      "Epoch 4/5\n",
      "1250/1250 [==============================] - 5s 4ms/step - loss: 0.1224 - accuracy: 0.9631\n",
      "Epoch 4/5\n",
      "1250/1250 [==============================] - 5s 4ms/step - loss: 0.1336 - accuracy: 0.9607\n",
      " 297/1250 [======>.......................] - ETA: 3s - loss: 0.0896 - accuracy: 0.9711Epoch 5/5\n",
      "1250/1250 [==============================] - 5s 4ms/step - loss: 0.1023 - accuracy: 0.9696\n",
      "1213/1250 [============================>.] - ETA: 0s - loss: 0.1023 - accuracy: 0.9691Epoch 5/5\n",
      "1250/1250 [==============================] - 5s 4ms/step - loss: 0.1030 - accuracy: 0.9690\n",
      "Epoch 5/5\n",
      "1250/1250 [==============================] - 5s 4ms/step - loss: 0.1156 - accuracy: 0.9654\n",
      "625/625 [==============================] - 2s 3ms/step loss: 0.0913 - accuracy: 0.97\n",
      "1250/1250 [==============================] - 4s 3ms/step - loss: 0.0937 - accuracy: 0.9710\n",
      "1250/1250 [==============================] - 4s 4ms/step - loss: 0.0857 - accuracy: 0.9730\n",
      "625/625 [==============================] - 2s 2ms/step\n",
      "625/625 [==============================] - 2s 3ms/step\n"
     ]
    },
    {
     "name": "stderr",
     "output_type": "stream",
     "text": [
      "2022-06-26 17:13:45.844074: I tensorflow/core/util/util.cc:169] oneDNN custom operations are on. You may see slightly different numerical results due to floating-point round-off errors from different computation orders. To turn them off, set the environment variable `TF_ENABLE_ONEDNN_OPTS=0`.\n",
      "2022-06-26 17:13:45.900051: I tensorflow/core/util/util.cc:169] oneDNN custom operations are on. You may see slightly different numerical results due to floating-point round-off errors from different computation orders. To turn them off, set the environment variable `TF_ENABLE_ONEDNN_OPTS=0`.\n",
      "2022-06-26 17:13:45.900051: I tensorflow/core/util/util.cc:169] oneDNN custom operations are on. You may see slightly different numerical results due to floating-point round-off errors from different computation orders. To turn them off, set the environment variable `TF_ENABLE_ONEDNN_OPTS=0`.\n",
      "2022-06-26 17:13:47.136568: I tensorflow/core/platform/cpu_feature_guard.cc:193] This TensorFlow binary is optimized with oneAPI Deep Neural Network Library (oneDNN) to use the following CPU instructions in performance-critical operations:  AVX2 AVX512F AVX512_VNNI FMA\n",
      "To enable them in other operations, rebuild TensorFlow with the appropriate compiler flags.\n",
      "2022-06-26 17:13:47.201879: I tensorflow/core/platform/cpu_feature_guard.cc:193] This TensorFlow binary is optimized with oneAPI Deep Neural Network Library (oneDNN) to use the following CPU instructions in performance-critical operations:  AVX2 AVX512F AVX512_VNNI FMA\n",
      "To enable them in other operations, rebuild TensorFlow with the appropriate compiler flags.\n",
      "2022-06-26 17:13:47.203320: I tensorflow/core/platform/cpu_feature_guard.cc:193] This TensorFlow binary is optimized with oneAPI Deep Neural Network Library (oneDNN) to use the following CPU instructions in performance-critical operations:  AVX2 AVX512F AVX512_VNNI FMA\n",
      "To enable them in other operations, rebuild TensorFlow with the appropriate compiler flags.\n",
      "2022-06-26 17:13:47.610330: W tensorflow/core/common_runtime/gpu/gpu_bfc_allocator.cc:42] Overriding orig_value setting because the TF_FORCE_GPU_ALLOW_GROWTH environment variable is set. Original config value was 0.\n",
      "2022-06-26 17:13:47.610369: I tensorflow/core/common_runtime/gpu/gpu_device.cc:1532] Created device /job:localhost/replica:0/task:0/device:GPU:0 with 17914 MB memory:  -> device: 0, name: NVIDIA GeForce RTX 3090, pci bus id: 0000:68:00.0, compute capability: 8.6\n",
      "2022-06-26 17:13:47.682186: W tensorflow/core/common_runtime/gpu/gpu_bfc_allocator.cc:42] Overriding orig_value setting because the TF_FORCE_GPU_ALLOW_GROWTH environment variable is set. Original config value was 0.\n",
      "2022-06-26 17:13:47.682230: I tensorflow/core/common_runtime/gpu/gpu_device.cc:1532] Created device /job:localhost/replica:0/task:0/device:GPU:0 with 17850 MB memory:  -> device: 0, name: NVIDIA GeForce RTX 3090, pci bus id: 0000:68:00.0, compute capability: 8.6\n",
      "2022-06-26 17:13:47.682874: W tensorflow/core/common_runtime/gpu/gpu_bfc_allocator.cc:42] Overriding orig_value setting because the TF_FORCE_GPU_ALLOW_GROWTH environment variable is set. Original config value was 0.\n",
      "2022-06-26 17:13:47.682906: I tensorflow/core/common_runtime/gpu/gpu_device.cc:1532] Created device /job:localhost/replica:0/task:0/device:GPU:0 with 17850 MB memory:  -> device: 0, name: NVIDIA GeForce RTX 3090, pci bus id: 0000:68:00.0, compute capability: 8.6\n"
     ]
    },
    {
     "name": "stdout",
     "output_type": "stream",
     "text": [
      "Epoch 1/5\n",
      "Epoch 1/5\n",
      "Epoch 1/5\n"
     ]
    },
    {
     "name": "stderr",
     "output_type": "stream",
     "text": [
      "2022-06-26 17:13:48.653409: I tensorflow/stream_executor/cuda/cuda_blas.cc:1786] TensorFloat-32 will be used for the matrix multiplication. This will only be logged once.\n",
      "2022-06-26 17:13:48.683561: I tensorflow/stream_executor/cuda/cuda_blas.cc:1786] TensorFloat-32 will be used for the matrix multiplication. This will only be logged once.\n",
      "2022-06-26 17:13:48.719172: I tensorflow/stream_executor/cuda/cuda_blas.cc:1786] TensorFloat-32 will be used for the matrix multiplication. This will only be logged once.\n"
     ]
    },
    {
     "name": "stdout",
     "output_type": "stream",
     "text": [
      "1250/1250 [==============================] - 6s 4ms/step - loss: 0.2569 - accuracy: 0.9215\n",
      "Epoch 2/5\n",
      "1250/1250 [==============================] - 6s 4ms/step - loss: 0.2581 - accuracy: 0.9205\n",
      "Epoch 2/5\n",
      "1250/1250 [==============================] - 6s 4ms/step - loss: 0.2518 - accuracy: 0.9239\n",
      "  29/1250 [..............................] - ETA: 4s - loss: 0.1181 - accuracy: 0.9634Epoch 2/5\n",
      "1250/1250 [==============================] - 5s 4ms/step - loss: 0.1071 - accuracy: 0.9671\n",
      "Epoch 3/5\n",
      "1250/1250 [==============================] - 5s 4ms/step - loss: 0.1097 - accuracy: 0.9676\n",
      "Epoch 3/5\n",
      "1250/1250 [==============================] - 5s 4ms/step - loss: 0.1046 - accuracy: 0.9678\n",
      "Epoch 3/5\n",
      "1250/1250 [==============================] - 5s 4ms/step - loss: 0.0723 - accuracy: 0.9778\n",
      "Epoch 4/5\n",
      "1250/1250 [==============================] - 5s 4ms/step - loss: 0.0730 - accuracy: 0.9777\n",
      "Epoch 4/5\n",
      "1250/1250 [==============================] - 5s 4ms/step - loss: 0.0706 - accuracy: 0.9784\n",
      "Epoch 4/5\n",
      "1250/1250 [==============================] - 5s 4ms/step - loss: 0.0519 - accuracy: 0.9836\n",
      "Epoch 5/5\n",
      "1250/1250 [==============================] - 5s 4ms/step - loss: 0.0536 - accuracy: 0.9843\n",
      "1237/1250 [============================>.] - ETA: 0s - loss: 0.0512 - accuracy: 0.9835Epoch 5/5\n",
      "1250/1250 [==============================] - 5s 4ms/step - loss: 0.0510 - accuracy: 0.9835\n",
      "Epoch 5/5\n",
      "1250/1250 [==============================] - 5s 4ms/step - loss: 0.0388 - accuracy: 0.9884\n",
      "1250/1250 [==============================] - 5s 4ms/step - loss: 0.0396 - accuracy: 0.9876\n",
      "1250/1250 [==============================] - 5s 4ms/step - loss: 0.0360 - accuracy: 0.9890\n",
      "625/625 [==============================] - 2s 3ms/step\n",
      "625/625 [==============================] - 2s 3ms/step\n",
      "625/625 [==============================] - 2s 3ms/step\n"
     ]
    },
    {
     "name": "stderr",
     "output_type": "stream",
     "text": [
      "2022-06-26 17:14:16.258793: I tensorflow/core/util/util.cc:169] oneDNN custom operations are on. You may see slightly different numerical results due to floating-point round-off errors from different computation orders. To turn them off, set the environment variable `TF_ENABLE_ONEDNN_OPTS=0`.\n",
      "2022-06-26 17:14:16.258793: I tensorflow/core/util/util.cc:169] oneDNN custom operations are on. You may see slightly different numerical results due to floating-point round-off errors from different computation orders. To turn them off, set the environment variable `TF_ENABLE_ONEDNN_OPTS=0`.\n",
      "2022-06-26 17:14:16.278213: I tensorflow/core/util/util.cc:169] oneDNN custom operations are on. You may see slightly different numerical results due to floating-point round-off errors from different computation orders. To turn them off, set the environment variable `TF_ENABLE_ONEDNN_OPTS=0`.\n",
      "2022-06-26 17:14:17.553980: I tensorflow/core/platform/cpu_feature_guard.cc:193] This TensorFlow binary is optimized with oneAPI Deep Neural Network Library (oneDNN) to use the following CPU instructions in performance-critical operations:  AVX2 AVX512F AVX512_VNNI FMA\n",
      "To enable them in other operations, rebuild TensorFlow with the appropriate compiler flags.\n",
      "2022-06-26 17:14:17.570706: I tensorflow/core/platform/cpu_feature_guard.cc:193] This TensorFlow binary is optimized with oneAPI Deep Neural Network Library (oneDNN) to use the following CPU instructions in performance-critical operations:  AVX2 AVX512F AVX512_VNNI FMA\n",
      "To enable them in other operations, rebuild TensorFlow with the appropriate compiler flags.\n",
      "2022-06-26 17:14:17.596264: I tensorflow/core/platform/cpu_feature_guard.cc:193] This TensorFlow binary is optimized with oneAPI Deep Neural Network Library (oneDNN) to use the following CPU instructions in performance-critical operations:  AVX2 AVX512F AVX512_VNNI FMA\n",
      "To enable them in other operations, rebuild TensorFlow with the appropriate compiler flags.\n",
      "2022-06-26 17:14:18.077607: W tensorflow/core/common_runtime/gpu/gpu_bfc_allocator.cc:42] Overriding orig_value setting because the TF_FORCE_GPU_ALLOW_GROWTH environment variable is set. Original config value was 0.\n",
      "2022-06-26 17:14:18.077650: I tensorflow/core/common_runtime/gpu/gpu_device.cc:1532] Created device /job:localhost/replica:0/task:0/device:GPU:0 with 15031 MB memory:  -> device: 0, name: NVIDIA GeForce RTX 3090, pci bus id: 0000:68:00.0, compute capability: 8.6\n",
      "2022-06-26 17:14:18.107171: W tensorflow/core/common_runtime/gpu/gpu_bfc_allocator.cc:42] Overriding orig_value setting because the TF_FORCE_GPU_ALLOW_GROWTH environment variable is set. Original config value was 0.\n",
      "2022-06-26 17:14:18.107205: I tensorflow/core/common_runtime/gpu/gpu_device.cc:1532] Created device /job:localhost/replica:0/task:0/device:GPU:0 with 14999 MB memory:  -> device: 0, name: NVIDIA GeForce RTX 3090, pci bus id: 0000:68:00.0, compute capability: 8.6\n",
      "2022-06-26 17:14:18.107260: W tensorflow/core/common_runtime/gpu/gpu_bfc_allocator.cc:42] Overriding orig_value setting because the TF_FORCE_GPU_ALLOW_GROWTH environment variable is set. Original config value was 0.\n",
      "2022-06-26 17:14:18.107287: I tensorflow/core/common_runtime/gpu/gpu_device.cc:1532] Created device /job:localhost/replica:0/task:0/device:GPU:0 with 14999 MB memory:  -> device: 0, name: NVIDIA GeForce RTX 3090, pci bus id: 0000:68:00.0, compute capability: 8.6\n"
     ]
    },
    {
     "name": "stdout",
     "output_type": "stream",
     "text": [
      "Epoch 1/5\n",
      "Epoch 1/5\n",
      "Epoch 1/5\n"
     ]
    },
    {
     "name": "stderr",
     "output_type": "stream",
     "text": [
      "2022-06-26 17:14:19.106619: I tensorflow/stream_executor/cuda/cuda_blas.cc:1786] TensorFloat-32 will be used for the matrix multiplication. This will only be logged once.\n",
      "2022-06-26 17:14:19.144814: I tensorflow/stream_executor/cuda/cuda_blas.cc:1786] TensorFloat-32 will be used for the matrix multiplication. This will only be logged once.\n",
      "2022-06-26 17:14:19.171450: I tensorflow/stream_executor/cuda/cuda_blas.cc:1786] TensorFloat-32 will be used for the matrix multiplication. This will only be logged once.\n"
     ]
    },
    {
     "name": "stdout",
     "output_type": "stream",
     "text": [
      "1250/1250 [==============================] - 6s 4ms/step - loss: 0.4520 - accuracy: 0.8650\n",
      "Epoch 2/5\n",
      "1250/1250 [==============================] - 6s 4ms/step - loss: 0.4517 - accuracy: 0.8671\n",
      "Epoch 2/5\n",
      "1250/1250 [==============================] - 6s 4ms/step - loss: 0.4080 - accuracy: 0.8784\n",
      "  27/1250 [..............................] - ETA: 4s - loss: 0.1634 - accuracy: 0.9537Epoch 2/5\n",
      "1250/1250 [==============================] - 5s 4ms/step - loss: 0.1859 - accuracy: 0.9471\n",
      "Epoch 3/5\n",
      "1250/1250 [==============================] - 5s 4ms/step - loss: 0.1824 - accuracy: 0.9477\n",
      "Epoch 3/5\n",
      "1250/1250 [==============================] - 5s 4ms/step - loss: 0.1667 - accuracy: 0.9513\n",
      "Epoch 3/5\n",
      "1250/1250 [==============================] - 5s 4ms/step - loss: 0.1489 - accuracy: 0.9558\n",
      "Epoch 4/5\n",
      "1250/1250 [==============================] - 5s 4ms/step - loss: 0.1563 - accuracy: 0.9547\n",
      "Epoch 4/5\n",
      "1250/1250 [==============================] - 5s 4ms/step - loss: 0.1264 - accuracy: 0.9633\n",
      "Epoch 4/5\n",
      "1250/1250 [==============================] - 5s 4ms/step - loss: 0.1304 - accuracy: 0.9625\n",
      "Epoch 5/5\n",
      "1250/1250 [==============================] - 5s 4ms/step - loss: 0.1231 - accuracy: 0.9648\n",
      "Epoch 5/5\n",
      "1250/1250 [==============================] - 5s 4ms/step - loss: 0.1034 - accuracy: 0.9701\n",
      "Epoch 5/5\n",
      "1250/1250 [==============================] - 5s 4ms/step - loss: 0.1360 - accuracy: 0.9627\n",
      "1250/1250 [==============================] - 5s 4ms/step - loss: 0.1040 - accuracy: 0.9695\n",
      "1250/1250 [==============================] - 5s 4ms/step - loss: 0.0962 - accuracy: 0.9728\n",
      "625/625 [==============================] - 2s 3ms/step\n",
      "625/625 [==============================] - 2s 3ms/step\n",
      "625/625 [==============================] - 2s 3ms/step\n"
     ]
    },
    {
     "name": "stderr",
     "output_type": "stream",
     "text": [
      "2022-06-26 17:14:48.007305: I tensorflow/core/util/util.cc:169] oneDNN custom operations are on. You may see slightly different numerical results due to floating-point round-off errors from different computation orders. To turn them off, set the environment variable `TF_ENABLE_ONEDNN_OPTS=0`.\n",
      "2022-06-26 17:14:48.007317: I tensorflow/core/util/util.cc:169] oneDNN custom operations are on. You may see slightly different numerical results due to floating-point round-off errors from different computation orders. To turn them off, set the environment variable `TF_ENABLE_ONEDNN_OPTS=0`.\n",
      "2022-06-26 17:14:48.007314: I tensorflow/core/util/util.cc:169] oneDNN custom operations are on. You may see slightly different numerical results due to floating-point round-off errors from different computation orders. To turn them off, set the environment variable `TF_ENABLE_ONEDNN_OPTS=0`.\n",
      "2022-06-26 17:14:49.308471: I tensorflow/core/platform/cpu_feature_guard.cc:193] This TensorFlow binary is optimized with oneAPI Deep Neural Network Library (oneDNN) to use the following CPU instructions in performance-critical operations:  AVX2 AVX512F AVX512_VNNI FMA\n",
      "To enable them in other operations, rebuild TensorFlow with the appropriate compiler flags.\n",
      "2022-06-26 17:14:49.308472: I tensorflow/core/platform/cpu_feature_guard.cc:193] This TensorFlow binary is optimized with oneAPI Deep Neural Network Library (oneDNN) to use the following CPU instructions in performance-critical operations:  AVX2 AVX512F AVX512_VNNI FMA\n",
      "To enable them in other operations, rebuild TensorFlow with the appropriate compiler flags.\n",
      "2022-06-26 17:14:49.357603: I tensorflow/core/platform/cpu_feature_guard.cc:193] This TensorFlow binary is optimized with oneAPI Deep Neural Network Library (oneDNN) to use the following CPU instructions in performance-critical operations:  AVX2 AVX512F AVX512_VNNI FMA\n",
      "To enable them in other operations, rebuild TensorFlow with the appropriate compiler flags.\n",
      "2022-06-26 17:14:49.843914: W tensorflow/core/common_runtime/gpu/gpu_bfc_allocator.cc:42] Overriding orig_value setting because the TF_FORCE_GPU_ALLOW_GROWTH environment variable is set. Original config value was 0.\n",
      "2022-06-26 17:14:49.843957: I tensorflow/core/common_runtime/gpu/gpu_device.cc:1532] Created device /job:localhost/replica:0/task:0/device:GPU:0 with 12160 MB memory:  -> device: 0, name: NVIDIA GeForce RTX 3090, pci bus id: 0000:68:00.0, compute capability: 8.6\n",
      "2022-06-26 17:14:49.850818: W tensorflow/core/common_runtime/gpu/gpu_bfc_allocator.cc:42] Overriding orig_value setting because the TF_FORCE_GPU_ALLOW_GROWTH environment variable is set. Original config value was 0.\n",
      "2022-06-26 17:14:49.850855: I tensorflow/core/common_runtime/gpu/gpu_device.cc:1532] Created device /job:localhost/replica:0/task:0/device:GPU:0 with 12154 MB memory:  -> device: 0, name: NVIDIA GeForce RTX 3090, pci bus id: 0000:68:00.0, compute capability: 8.6\n",
      "2022-06-26 17:14:49.872323: W tensorflow/core/common_runtime/gpu/gpu_bfc_allocator.cc:42] Overriding orig_value setting because the TF_FORCE_GPU_ALLOW_GROWTH environment variable is set. Original config value was 0.\n",
      "2022-06-26 17:14:49.872357: I tensorflow/core/common_runtime/gpu/gpu_device.cc:1532] Created device /job:localhost/replica:0/task:0/device:GPU:0 with 12142 MB memory:  -> device: 0, name: NVIDIA GeForce RTX 3090, pci bus id: 0000:68:00.0, compute capability: 8.6\n"
     ]
    },
    {
     "name": "stdout",
     "output_type": "stream",
     "text": [
      "Epoch 1/5\n",
      "Epoch 1/5\n",
      "Epoch 1/5\n"
     ]
    },
    {
     "name": "stderr",
     "output_type": "stream",
     "text": [
      "2022-06-26 17:14:50.868171: I tensorflow/stream_executor/cuda/cuda_blas.cc:1786] TensorFloat-32 will be used for the matrix multiplication. This will only be logged once.\n",
      "2022-06-26 17:14:50.872053: I tensorflow/stream_executor/cuda/cuda_blas.cc:1786] TensorFloat-32 will be used for the matrix multiplication. This will only be logged once.\n",
      "2022-06-26 17:14:50.896187: I tensorflow/stream_executor/cuda/cuda_blas.cc:1786] TensorFloat-32 will be used for the matrix multiplication. This will only be logged once.\n"
     ]
    },
    {
     "name": "stdout",
     "output_type": "stream",
     "text": [
      "1250/1250 [==============================] - 6s 4ms/step - loss: 0.3133 - accuracy: 0.9047\n",
      "Epoch 2/5\n",
      "1250/1250 [==============================] - 6s 4ms/step - loss: 0.3438 - accuracy: 0.8941\n",
      "Epoch 2/5\n",
      "1250/1250 [==============================] - 6s 4ms/step - loss: 0.3046 - accuracy: 0.9069\n",
      "Epoch 2/5\n",
      "1250/1250 [==============================] - 5s 4ms/step - loss: 0.1419 - accuracy: 0.9577\n",
      "Epoch 3/5\n",
      "1250/1250 [==============================] - 5s 4ms/step - loss: 0.1596 - accuracy: 0.9532\n",
      "  14/1250 [..............................] - ETA: 4s - loss: 0.0674 - accuracy: 0.9777Epoch 3/5\n",
      "1250/1250 [==============================] - 5s 4ms/step - loss: 0.1428 - accuracy: 0.9574\n",
      "Epoch 3/5\n",
      "1250/1250 [==============================] - 5s 4ms/step - loss: 0.1085 - accuracy: 0.9677\n",
      "Epoch 4/5\n",
      "1250/1250 [==============================] - 5s 4ms/step - loss: 0.1289 - accuracy: 0.9618\n",
      "Epoch 4/5\n",
      "1250/1250 [==============================] - 5s 4ms/step - loss: 0.1115 - accuracy: 0.9672\n",
      "Epoch 4/5\n",
      "1250/1250 [==============================] - 5s 4ms/step - loss: 0.0855 - accuracy: 0.9737\n",
      "Epoch 5/5\n",
      "1250/1250 [==============================] - 5s 4ms/step - loss: 0.1063 - accuracy: 0.9682\n",
      "Epoch 5/5\n",
      "1250/1250 [==============================] - 5s 4ms/step - loss: 0.0881 - accuracy: 0.9734\n",
      "Epoch 5/5\n",
      "1250/1250 [==============================] - 5s 4ms/step - loss: 0.0765 - accuracy: 0.9764\n",
      "1250/1250 [==============================] - 5s 4ms/step - loss: 0.0988 - accuracy: 0.9702\n",
      "1250/1250 [==============================] - 5s 4ms/step - loss: 0.0795 - accuracy: 0.9758\n",
      "625/625 [==============================] - 2s 3ms/step\n",
      "625/625 [==============================] - 2s 3ms/step\n",
      "625/625 [==============================] - 2s 3ms/step\n"
     ]
    },
    {
     "name": "stderr",
     "output_type": "stream",
     "text": [
      "2022-06-26 17:15:18.258178: I tensorflow/core/util/util.cc:169] oneDNN custom operations are on. You may see slightly different numerical results due to floating-point round-off errors from different computation orders. To turn them off, set the environment variable `TF_ENABLE_ONEDNN_OPTS=0`.\n",
      "2022-06-26 17:15:18.258176: I tensorflow/core/util/util.cc:169] oneDNN custom operations are on. You may see slightly different numerical results due to floating-point round-off errors from different computation orders. To turn them off, set the environment variable `TF_ENABLE_ONEDNN_OPTS=0`.\n",
      "2022-06-26 17:15:18.258178: I tensorflow/core/util/util.cc:169] oneDNN custom operations are on. You may see slightly different numerical results due to floating-point round-off errors from different computation orders. To turn them off, set the environment variable `TF_ENABLE_ONEDNN_OPTS=0`.\n",
      "2022-06-26 17:15:19.552599: I tensorflow/core/platform/cpu_feature_guard.cc:193] This TensorFlow binary is optimized with oneAPI Deep Neural Network Library (oneDNN) to use the following CPU instructions in performance-critical operations:  AVX2 AVX512F AVX512_VNNI FMA\n",
      "To enable them in other operations, rebuild TensorFlow with the appropriate compiler flags.\n",
      "2022-06-26 17:15:19.553757: I tensorflow/core/platform/cpu_feature_guard.cc:193] This TensorFlow binary is optimized with oneAPI Deep Neural Network Library (oneDNN) to use the following CPU instructions in performance-critical operations:  AVX2 AVX512F AVX512_VNNI FMA\n",
      "To enable them in other operations, rebuild TensorFlow with the appropriate compiler flags.\n",
      "2022-06-26 17:15:19.601668: I tensorflow/core/platform/cpu_feature_guard.cc:193] This TensorFlow binary is optimized with oneAPI Deep Neural Network Library (oneDNN) to use the following CPU instructions in performance-critical operations:  AVX2 AVX512F AVX512_VNNI FMA\n",
      "To enable them in other operations, rebuild TensorFlow with the appropriate compiler flags.\n",
      "2022-06-26 17:15:20.093945: W tensorflow/core/common_runtime/gpu/gpu_bfc_allocator.cc:42] Overriding orig_value setting because the TF_FORCE_GPU_ALLOW_GROWTH environment variable is set. Original config value was 0.\n",
      "2022-06-26 17:15:20.093986: I tensorflow/core/common_runtime/gpu/gpu_device.cc:1532] Created device /job:localhost/replica:0/task:0/device:GPU:0 with 9311 MB memory:  -> device: 0, name: NVIDIA GeForce RTX 3090, pci bus id: 0000:68:00.0, compute capability: 8.6\n",
      "2022-06-26 17:15:20.104353: W tensorflow/core/common_runtime/gpu/gpu_bfc_allocator.cc:42] Overriding orig_value setting because the TF_FORCE_GPU_ALLOW_GROWTH environment variable is set. Original config value was 0.\n",
      "2022-06-26 17:15:20.104396: I tensorflow/core/common_runtime/gpu/gpu_device.cc:1532] Created device /job:localhost/replica:0/task:0/device:GPU:0 with 9297 MB memory:  -> device: 0, name: NVIDIA GeForce RTX 3090, pci bus id: 0000:68:00.0, compute capability: 8.6\n",
      "2022-06-26 17:15:20.106015: W tensorflow/core/common_runtime/gpu/gpu_bfc_allocator.cc:42] Overriding orig_value setting because the TF_FORCE_GPU_ALLOW_GROWTH environment variable is set. Original config value was 0.\n",
      "2022-06-26 17:15:20.106048: I tensorflow/core/common_runtime/gpu/gpu_device.cc:1532] Created device /job:localhost/replica:0/task:0/device:GPU:0 with 9297 MB memory:  -> device: 0, name: NVIDIA GeForce RTX 3090, pci bus id: 0000:68:00.0, compute capability: 8.6\n"
     ]
    },
    {
     "name": "stdout",
     "output_type": "stream",
     "text": [
      "Epoch 1/5\n",
      "Epoch 1/5\n",
      "Epoch 1/5\n"
     ]
    },
    {
     "name": "stderr",
     "output_type": "stream",
     "text": [
      "2022-06-26 17:15:21.141819: I tensorflow/stream_executor/cuda/cuda_blas.cc:1786] TensorFloat-32 will be used for the matrix multiplication. This will only be logged once.\n",
      "2022-06-26 17:15:21.172969: I tensorflow/stream_executor/cuda/cuda_blas.cc:1786] TensorFloat-32 will be used for the matrix multiplication. This will only be logged once.\n",
      "2022-06-26 17:15:21.188206: I tensorflow/stream_executor/cuda/cuda_blas.cc:1786] TensorFloat-32 will be used for the matrix multiplication. This will only be logged once.\n"
     ]
    },
    {
     "name": "stdout",
     "output_type": "stream",
     "text": [
      "1250/1250 [==============================] - 6s 4ms/step - loss: 0.2764 - accuracy: 0.9151\n",
      "1250/1250 [==============================] - 6s 4ms/step - loss: 0.2638 - accuracy: 0.9165\n",
      "Epoch 2/5\n",
      "Epoch 2/5\n",
      "1250/1250 [==============================] - 6s 4ms/step - loss: 0.2565 - accuracy: 0.9198\n",
      "Epoch 2/5\n",
      "1250/1250 [==============================] - 5s 4ms/step - loss: 0.1099 - accuracy: 0.9662\n",
      "Epoch 3/5\n",
      "1250/1250 [==============================] - 5s 4ms/step - loss: 0.1143 - accuracy: 0.9653\n",
      "Epoch 3/5\n",
      "1250/1250 [==============================] - 5s 4ms/step - loss: 0.1083 - accuracy: 0.9665\n",
      "Epoch 3/5\n",
      "1250/1250 [==============================] - 5s 4ms/step - loss: 0.0772 - accuracy: 0.9760\n",
      "1250/1250 [==============================] - 5s 4ms/step - loss: 0.0784 - accuracy: 0.9757\n",
      "Epoch 4/5\n",
      "Epoch 4/5\n",
      "1250/1250 [==============================] - 5s 4ms/step - loss: 0.0783 - accuracy: 0.9752\n",
      "Epoch 4/5\n",
      "1250/1250 [==============================] - 5s 4ms/step - loss: 0.0535 - accuracy: 0.9837\n",
      "1249/1250 [============================>.] - ETA: 0s - loss: 0.0580 - accuracy: 0.9809Epoch 5/5\n",
      "1250/1250 [==============================] - 5s 4ms/step - loss: 0.0580 - accuracy: 0.9809\n",
      "   1/1250 [..............................] - ETA: 4s - loss: 0.0081 - accuracy: 1.0000Epoch 5/5\n",
      "1250/1250 [==============================] - 5s 4ms/step - loss: 0.0586 - accuracy: 0.9808\n",
      "Epoch 5/5\n",
      "1250/1250 [==============================] - 5s 4ms/step - loss: 0.0396 - accuracy: 0.9875\n",
      "1250/1250 [==============================] - 5s 4ms/step - loss: 0.0440 - accuracy: 0.9856\n",
      "1250/1250 [==============================] - 5s 4ms/step - loss: 0.0425 - accuracy: 0.9859\n",
      "625/625 [==============================] - 1s 2ms/step\n",
      "625/625 [==============================] - 2s 2ms/step\n",
      "625/625 [==============================] - 2s 2ms/step\n",
      "Epoch 1/5\n",
      "Epoch 1/5\n",
      "   1/1250 [..............................] - ETA: 3:23 - loss: 2.2824 - accuracy: 0.2500"
     ]
    },
    {
     "name": "stderr",
     "output_type": "stream",
     "text": [
      "2022-06-26 17:15:48.301726: I tensorflow/core/util/util.cc:169] oneDNN custom operations are on. You may see slightly different numerical results due to floating-point round-off errors from different computation orders. To turn them off, set the environment variable `TF_ENABLE_ONEDNN_OPTS=0`.\n"
     ]
    },
    {
     "name": "stdout",
     "output_type": "stream",
     "text": [
      " 390/1250 [========>.....................] - ETA: 2s - loss: 1.3578 - accuracy: 0.5337"
     ]
    },
    {
     "name": "stderr",
     "output_type": "stream",
     "text": [
      "2022-06-26 17:15:49.646804: I tensorflow/core/platform/cpu_feature_guard.cc:193] This TensorFlow binary is optimized with oneAPI Deep Neural Network Library (oneDNN) to use the following CPU instructions in performance-critical operations:  AVX2 AVX512F AVX512_VNNI FMA\n",
      "To enable them in other operations, rebuild TensorFlow with the appropriate compiler flags.\n"
     ]
    },
    {
     "name": "stdout",
     "output_type": "stream",
     "text": [
      " 521/1250 [===========>..................] - ETA: 2s - loss: 1.2235 - accuracy: 0.5855"
     ]
    },
    {
     "name": "stderr",
     "output_type": "stream",
     "text": [
      "2022-06-26 17:15:50.129616: W tensorflow/core/common_runtime/gpu/gpu_bfc_allocator.cc:42] Overriding orig_value setting because the TF_FORCE_GPU_ALLOW_GROWTH environment variable is set. Original config value was 0.\n",
      "2022-06-26 17:15:50.129666: I tensorflow/core/common_runtime/gpu/gpu_device.cc:1532] Created device /job:localhost/replica:0/task:0/device:GPU:0 with 7278 MB memory:  -> device: 0, name: NVIDIA GeForce RTX 3090, pci bus id: 0000:68:00.0, compute capability: 8.6\n"
     ]
    },
    {
     "name": "stdout",
     "output_type": "stream",
     "text": [
      " 601/1250 [=============>................] - ETA: 2s - loss: 1.1487 - accuracy: 0.6131Epoch 1/5\n",
      "  31/1250 [..............................] - ETA: 4s - loss: 8.3991 - accuracy: 0.1280 "
     ]
    },
    {
     "name": "stderr",
     "output_type": "stream",
     "text": [
      "2022-06-26 17:15:51.263364: I tensorflow/stream_executor/cuda/cuda_blas.cc:1786] TensorFloat-32 will be used for the matrix multiplication. This will only be logged once.\n"
     ]
    },
    {
     "name": "stdout",
     "output_type": "stream",
     "text": [
      "1250/1250 [==============================] - 4s 3ms/step - loss: 1.2410 - accuracy: 0.5663\n",
      "Epoch 2/5\n",
      "1250/1250 [==============================] - 4s 3ms/step - loss: 0.8395 - accuracy: 0.7364\n",
      "Epoch 2/5\n",
      "1250/1250 [==============================] - 6s 4ms/step - loss: 2.4592 - accuracy: 0.1045\n",
      "Epoch 2/5\n",
      "1250/1250 [==============================] - 5s 4ms/step - loss: 0.7464 - accuracy: 0.7433\n",
      "Epoch 3/5\n",
      "1250/1250 [==============================] - 5s 4ms/step - loss: 0.4714 - accuracy: 0.8838\n",
      "  40/1250 [..............................] - ETA: 4s - loss: 0.5605 - accuracy: 0.8188Epoch 3/5\n",
      "1250/1250 [==============================] - 5s 4ms/step - loss: 2.3076 - accuracy: 0.1037\n",
      "Epoch 3/5\n",
      "1250/1250 [==============================] - 5s 4ms/step - loss: 0.5915 - accuracy: 0.8037\n",
      "Epoch 4/5\n",
      "1250/1250 [==============================] - 5s 4ms/step - loss: 0.3944 - accuracy: 0.8986\n",
      "Epoch 4/5\n",
      "1250/1250 [==============================] - 5s 4ms/step - loss: 2.2869 - accuracy: 0.1123\n",
      "Epoch 4/5\n",
      "1250/1250 [==============================] - 5s 4ms/step - loss: 0.6272 - accuracy: 0.8055\n",
      "Epoch 5/5\n",
      "1250/1250 [==============================] - 5s 4ms/step - loss: 0.3261 - accuracy: 0.9164\n",
      "Epoch 5/5\n",
      "1250/1250 [==============================] - 5s 4ms/step - loss: 2.3078 - accuracy: 0.1028\n",
      "Epoch 5/5\n",
      "1250/1250 [==============================] - 5s 4ms/step - loss: 0.5904 - accuracy: 0.8314\n",
      "1250/1250 [==============================] - 5s 4ms/step - loss: 0.3164 - accuracy: 0.9188\n",
      "625/625 [==============================] - 2s 2ms/step loss: 2.3077 - accuracy: 0.10\n",
      "625/625 [==============================] - 2s 3ms/step loss: 2.3077 - accuracy: 0.10\n",
      "1250/1250 [==============================] - 5s 4ms/step - loss: 2.3079 - accuracy: 0.1038\n",
      "625/625 [==============================] - 2s 3ms/step\n"
     ]
    },
    {
     "name": "stderr",
     "output_type": "stream",
     "text": [
      "2022-06-26 17:16:19.351734: I tensorflow/core/util/util.cc:169] oneDNN custom operations are on. You may see slightly different numerical results due to floating-point round-off errors from different computation orders. To turn them off, set the environment variable `TF_ENABLE_ONEDNN_OPTS=0`.\n"
     ]
    },
    {
     "name": "stdout",
     "output_type": "stream",
     "text": [
      "Epoch 1/5\n",
      "Epoch 1/5\n",
      " 308/1250 [======>.......................] - ETA: 3s - loss: 2.1248 - accuracy: 0.2575"
     ]
    },
    {
     "name": "stderr",
     "output_type": "stream",
     "text": [
      "2022-06-26 17:16:20.689012: I tensorflow/core/platform/cpu_feature_guard.cc:193] This TensorFlow binary is optimized with oneAPI Deep Neural Network Library (oneDNN) to use the following CPU instructions in performance-critical operations:  AVX2 AVX512F AVX512_VNNI FMA\n",
      "To enable them in other operations, rebuild TensorFlow with the appropriate compiler flags.\n"
     ]
    },
    {
     "name": "stdout",
     "output_type": "stream",
     "text": [
      " 414/1250 [========>.....................] - ETA: 3s - loss: 2.0254 - accuracy: 0.2786"
     ]
    },
    {
     "name": "stderr",
     "output_type": "stream",
     "text": [
      "2022-06-26 17:16:21.153581: W tensorflow/core/common_runtime/gpu/gpu_bfc_allocator.cc:42] Overriding orig_value setting because the TF_FORCE_GPU_ALLOW_GROWTH environment variable is set. Original config value was 0.\n",
      "2022-06-26 17:16:21.153623: I tensorflow/core/common_runtime/gpu/gpu_device.cc:1532] Created device /job:localhost/replica:0/task:0/device:GPU:0 with 6329 MB memory:  -> device: 0, name: NVIDIA GeForce RTX 3090, pci bus id: 0000:68:00.0, compute capability: 8.6\n"
     ]
    },
    {
     "name": "stdout",
     "output_type": "stream",
     "text": [
      " 466/1250 [==========>...................] - ETA: 3s - loss: 1.3869 - accuracy: 0.5205Epoch 1/5\n",
      " 734/1250 [================>.............] - ETA: 2s - loss: 1.7150 - accuracy: 0.3831 "
     ]
    },
    {
     "name": "stderr",
     "output_type": "stream",
     "text": [
      "2022-06-26 17:16:22.289221: I tensorflow/stream_executor/cuda/cuda_blas.cc:1786] TensorFloat-32 will be used for the matrix multiplication. This will only be logged once.\n"
     ]
    },
    {
     "name": "stdout",
     "output_type": "stream",
     "text": [
      "1250/1250 [==============================] - 6s 4ms/step - loss: 0.8090 - accuracy: 0.7433\n",
      "Epoch 2/5\n",
      "1250/1250 [==============================] - 6s 4ms/step - loss: 1.2968 - accuracy: 0.5519\n",
      " 558/1250 [============>.................] - ETA: 3s - loss: nan - accuracy: 0.0992Epoch 2/5\n",
      "1250/1250 [==============================] - 7s 5ms/step - loss: nan - accuracy: 0.0997\n",
      "Epoch 2/5\n",
      "1250/1250 [==============================] - 6s 5ms/step - loss: 0.2439 - accuracy: 0.9358\n",
      "Epoch 3/5\n",
      "1250/1250 [==============================] - 6s 5ms/step - loss: 0.3465 - accuracy: 0.9121\n",
      "Epoch 3/5\n",
      "1250/1250 [==============================] - 6s 5ms/step - loss: nan - accuracy: 0.0987\n",
      "Epoch 3/5\n",
      "1250/1250 [==============================] - 6s 5ms/step - loss: 0.1743 - accuracy: 0.9536\n",
      "Epoch 4/5\n",
      "1250/1250 [==============================] - 6s 5ms/step - loss: nan - accuracy: 0.7534\n",
      "Epoch 4/5\n",
      "1250/1250 [==============================] - 6s 5ms/step - loss: nan - accuracy: 0.0987\n",
      "Epoch 4/5\n",
      "1250/1250 [==============================] - 6s 5ms/step - loss: 0.1533 - accuracy: 0.9598\n",
      "Epoch 5/5\n",
      "1250/1250 [==============================] - 6s 5ms/step - loss: nan - accuracy: 0.0987\n",
      "   1/1250 [..............................] - ETA: 6s - loss: 0.4093 - accuracy: 0.9375Epoch 5/5\n",
      "1250/1250 [==============================] - 6s 5ms/step - loss: nan - accuracy: 0.0987\n",
      "Epoch 5/5\n",
      "1250/1250 [==============================] - 6s 5ms/step - loss: 0.1302 - accuracy: 0.9649\n",
      "1250/1250 [==============================] - 6s 5ms/step - loss: nan - accuracy: 0.0987\n",
      "625/625 [==============================] - 2s 3ms/step loss: nan - accuracy: 0.09\n",
      "625/625 [==============================] - 2s 3ms/step\n",
      "1250/1250 [==============================] - 6s 5ms/step - loss: nan - accuracy: 0.0987\n",
      "625/625 [==============================] - 2s 3ms/step\n",
      "Epoch 1/5\n",
      "Epoch 1/5\n",
      "Epoch 1/5\n",
      "1250/1250 [==============================] - 5s 4ms/step - loss: 0.2657 - accuracy: 0.9172\n",
      "1237/1250 [============================>.] - ETA: 0s - loss: 0.2555 - accuracy: 0.9201Epoch 2/5\n",
      "1250/1250 [==============================] - 5s 4ms/step - loss: 0.2598 - accuracy: 0.9190\n",
      "Epoch 2/5\n",
      "1250/1250 [==============================] - 5s 4ms/step - loss: 0.2541 - accuracy: 0.9205\n",
      "  15/1250 [..............................] - ETA: 4s - loss: 0.0969 - accuracy: 0.9729Epoch 2/5\n",
      "1250/1250 [==============================] - 5s 4ms/step - loss: 0.1156 - accuracy: 0.9646\n",
      "1250/1250 [==============================] - 5s 4ms/step - loss: 0.1105 - accuracy: 0.9658\n",
      "Epoch 3/5\n",
      "Epoch 3/5\n",
      "1250/1250 [==============================] - 5s 4ms/step - loss: 0.1082 - accuracy: 0.9666\n",
      "Epoch 3/5\n",
      "1250/1250 [==============================] - 5s 4ms/step - loss: 0.0815 - accuracy: 0.9744\n",
      "Epoch 4/5\n",
      "1250/1250 [==============================] - 5s 4ms/step - loss: 0.0781 - accuracy: 0.9756\n",
      "1231/1250 [============================>.] - ETA: 0s - loss: 0.0750 - accuracy: 0.9765Epoch 4/5\n",
      "1250/1250 [==============================] - 5s 4ms/step - loss: 0.0754 - accuracy: 0.9765\n",
      "Epoch 4/5\n",
      "1250/1250 [==============================] - 5s 4ms/step - loss: 0.0579 - accuracy: 0.9807\n",
      "Epoch 5/5\n",
      "1250/1250 [==============================] - 5s 4ms/step - loss: 0.0611 - accuracy: 0.9803\n",
      "Epoch 5/5\n",
      "1250/1250 [==============================] - 5s 4ms/step - loss: 0.0505 - accuracy: 0.9835\n",
      "Epoch 5/5\n",
      "1250/1250 [==============================] - 5s 4ms/step - loss: 0.0421 - accuracy: 0.9863\n",
      "1250/1250 [==============================] - 5s 4ms/step - loss: 0.0486 - accuracy: 0.9844\n",
      "1250/1250 [==============================] - 5s 4ms/step - loss: 0.0382 - accuracy: 0.9871\n",
      "625/625 [==============================] - 2s 3ms/step\n",
      "625/625 [==============================] - 2s 3ms/step\n",
      "625/625 [==============================] - 2s 3ms/step\n",
      "Epoch 1/5\n",
      "Epoch 1/5\n",
      "Epoch 1/5\n",
      "1250/1250 [==============================] - 5s 4ms/step - loss: 0.2531 - accuracy: 0.9221\n",
      "Epoch 2/5\n",
      "1250/1250 [==============================] - 5s 4ms/step - loss: 0.2535 - accuracy: 0.9198\n",
      "Epoch 2/5\n",
      "1250/1250 [==============================] - 5s 4ms/step - loss: 0.2589 - accuracy: 0.9193\n",
      "Epoch 2/5\n",
      "1250/1250 [==============================] - 5s 4ms/step - loss: 0.1082 - accuracy: 0.9670\n",
      "Epoch 3/5\n",
      "1250/1250 [==============================] - 5s 4ms/step - loss: 0.1110 - accuracy: 0.9650\n",
      "  14/1250 [..............................] - ETA: 4s - loss: 0.0660 - accuracy: 0.9777Epoch 3/5\n",
      "1250/1250 [==============================] - 5s 4ms/step - loss: 0.1086 - accuracy: 0.9663\n",
      "Epoch 3/5\n",
      "1250/1250 [==============================] - 5s 4ms/step - loss: 0.0781 - accuracy: 0.9754\n",
      "Epoch 4/5\n",
      "1250/1250 [==============================] - 5s 4ms/step - loss: 0.0739 - accuracy: 0.9762\n",
      "Epoch 4/5\n",
      "1250/1250 [==============================] - 5s 4ms/step - loss: 0.0774 - accuracy: 0.9762\n",
      "  14/1250 [..............................] - ETA: 4s - loss: 0.0326 - accuracy: 0.9888Epoch 4/5\n",
      "1250/1250 [==============================] - 5s 4ms/step - loss: 0.0556 - accuracy: 0.9818\n",
      "Epoch 5/5\n",
      "1250/1250 [==============================] - 5s 4ms/step - loss: 0.0525 - accuracy: 0.9824\n",
      "Epoch 5/5\n",
      "1250/1250 [==============================] - 5s 4ms/step - loss: 0.0556 - accuracy: 0.9822\n",
      "   1/1250 [..............................] - ETA: 5s - loss: 0.0091 - accuracy: 1.0000Epoch 5/5\n",
      "1250/1250 [==============================] - 5s 4ms/step - loss: 0.0445 - accuracy: 0.9851\n",
      "1250/1250 [==============================] - 5s 4ms/step - loss: 0.0406 - accuracy: 0.9866\n",
      "1250/1250 [==============================] - 5s 4ms/step - loss: 0.0412 - accuracy: 0.9863\n",
      "625/625 [==============================] - 2s 3ms/step\n",
      "625/625 [==============================] - 2s 3ms/step\n",
      "625/625 [==============================] - 2s 3ms/step\n",
      "Epoch 1/5\n",
      "Epoch 1/5\n",
      "Epoch 1/5\n",
      "1250/1250 [==============================] - 5s 4ms/step - loss: 0.2596 - accuracy: 0.9189\n",
      "Epoch 2/5\n",
      "1250/1250 [==============================] - 5s 4ms/step - loss: 0.2665 - accuracy: 0.9171\n",
      "Epoch 2/5\n",
      "1250/1250 [==============================] - 5s 4ms/step - loss: 0.2602 - accuracy: 0.9196\n",
      "Epoch 2/5\n",
      "1250/1250 [==============================] - 5s 4ms/step - loss: 0.1164 - accuracy: 0.9642\n",
      "Epoch 3/5\n",
      "1250/1250 [==============================] - 5s 4ms/step - loss: 0.1108 - accuracy: 0.9662\n",
      "Epoch 3/5\n",
      "1250/1250 [==============================] - 5s 4ms/step - loss: 0.1075 - accuracy: 0.9665\n",
      "Epoch 3/5\n",
      "1250/1250 [==============================] - 5s 4ms/step - loss: 0.0825 - accuracy: 0.9737\n",
      "Epoch 4/5\n",
      "1250/1250 [==============================] - 5s 4ms/step - loss: 0.0768 - accuracy: 0.9757\n",
      "Epoch 4/5\n",
      "1250/1250 [==============================] - 5s 4ms/step - loss: 0.0742 - accuracy: 0.9766\n",
      "Epoch 4/5\n",
      "1250/1250 [==============================] - 5s 4ms/step - loss: 0.0616 - accuracy: 0.9799\n",
      "1221/1250 [============================>.] - ETA: 0s - loss: 0.0565 - accuracy: 0.9815Epoch 5/5\n",
      "1250/1250 [==============================] - 5s 4ms/step - loss: 0.0577 - accuracy: 0.9813\n",
      "Epoch 5/5\n",
      "1250/1250 [==============================] - 5s 4ms/step - loss: 0.0566 - accuracy: 0.9816\n",
      "Epoch 5/5\n",
      "1250/1250 [==============================] - 5s 4ms/step - loss: 0.0462 - accuracy: 0.9847\n",
      "1250/1250 [==============================] - 5s 4ms/step - loss: 0.0455 - accuracy: 0.9848\n",
      "1250/1250 [==============================] - 5s 4ms/step - loss: 0.0430 - accuracy: 0.9862\n",
      "625/625 [==============================] - 2s 3ms/step\n",
      "625/625 [==============================] - 2s 3ms/step\n",
      "625/625 [==============================] - 2s 3ms/step\n",
      "Epoch 1/5\n",
      "Epoch 1/5\n",
      "Epoch 1/5\n",
      "1250/1250 [==============================] - 5s 4ms/step - loss: 2.0876 - accuracy: 0.3093\n",
      "Epoch 2/5\n",
      "1250/1250 [==============================] - 5s 4ms/step - loss: 1.8683 - accuracy: 0.4708\n",
      "Epoch 2/5\n",
      "1250/1250 [==============================] - 5s 4ms/step - loss: 2.0106 - accuracy: 0.3623\n",
      "Epoch 2/5\n",
      "1250/1250 [==============================] - 5s 4ms/step - loss: 1.5646 - accuracy: 0.5810\n",
      "Epoch 3/5\n",
      "1250/1250 [==============================] - 5s 4ms/step - loss: 1.3222 - accuracy: 0.6956\n",
      "  15/1250 [..............................] - ETA: 4s - loss: 1.3085 - accuracy: 0.6687Epoch 3/5\n",
      "1250/1250 [==============================] - 5s 4ms/step - loss: 1.4358 - accuracy: 0.6644\n",
      "Epoch 3/5\n",
      "1250/1250 [==============================] - 5s 4ms/step - loss: 1.1408 - accuracy: 0.7382\n",
      "Epoch 4/5\n",
      "1250/1250 [==============================] - 5s 4ms/step - loss: 0.9989 - accuracy: 0.7689\n",
      "Epoch 4/5\n",
      "1250/1250 [==============================] - 5s 4ms/step - loss: 1.0731 - accuracy: 0.7650\n",
      "Epoch 4/5\n",
      "1250/1250 [==============================] - 5s 4ms/step - loss: 0.8967 - accuracy: 0.7875\n",
      "Epoch 5/5\n",
      "1250/1250 [==============================] - 5s 4ms/step - loss: 0.8015 - accuracy: 0.8155\n",
      "Epoch 5/5\n",
      "1250/1250 [==============================] - 5s 4ms/step - loss: 0.8674 - accuracy: 0.8018\n",
      "  42/1250 [>.............................] - ETA: 4s - loss: 0.7225 - accuracy: 0.8378Epoch 5/5\n",
      "1250/1250 [==============================] - 5s 4ms/step - loss: 0.7580 - accuracy: 0.8130\n",
      "1250/1250 [==============================] - 5s 4ms/step - loss: 0.6813 - accuracy: 0.8394\n",
      "1250/1250 [==============================] - 5s 4ms/step - loss: 0.7425 - accuracy: 0.8229\n",
      "625/625 [==============================] - 1s 2ms/step\n",
      "625/625 [==============================] - 1s 2ms/step\n",
      "625/625 [==============================] - 1s 2ms/step\n",
      "Epoch 1/5\n",
      "1875/1875 [==============================] - 8s 4ms/step - loss: 0.2649 - accuracy: 0.9214\n",
      "Epoch 2/5\n",
      "1875/1875 [==============================] - 8s 4ms/step - loss: 0.1088 - accuracy: 0.9680\n",
      "Epoch 3/5\n",
      "1875/1875 [==============================] - 8s 4ms/step - loss: 0.0737 - accuracy: 0.9778\n",
      "Epoch 4/5\n",
      "1875/1875 [==============================] - 8s 4ms/step - loss: 0.0532 - accuracy: 0.9837\n",
      "Epoch 5/5\n",
      "1875/1875 [==============================] - 8s 4ms/step - loss: 0.0397 - accuracy: 0.9881\n"
     ]
    },
    {
     "data": {
      "text/html": [
       "<style>#sk-container-id-2 {color: black;background-color: white;}#sk-container-id-2 pre{padding: 0;}#sk-container-id-2 div.sk-toggleable {background-color: white;}#sk-container-id-2 label.sk-toggleable__label {cursor: pointer;display: block;width: 100%;margin-bottom: 0;padding: 0.3em;box-sizing: border-box;text-align: center;}#sk-container-id-2 label.sk-toggleable__label-arrow:before {content: \"▸\";float: left;margin-right: 0.25em;color: #696969;}#sk-container-id-2 label.sk-toggleable__label-arrow:hover:before {color: black;}#sk-container-id-2 div.sk-estimator:hover label.sk-toggleable__label-arrow:before {color: black;}#sk-container-id-2 div.sk-toggleable__content {max-height: 0;max-width: 0;overflow: hidden;text-align: left;background-color: #f0f8ff;}#sk-container-id-2 div.sk-toggleable__content pre {margin: 0.2em;color: black;border-radius: 0.25em;background-color: #f0f8ff;}#sk-container-id-2 input.sk-toggleable__control:checked~div.sk-toggleable__content {max-height: 200px;max-width: 100%;overflow: auto;}#sk-container-id-2 input.sk-toggleable__control:checked~label.sk-toggleable__label-arrow:before {content: \"▾\";}#sk-container-id-2 div.sk-estimator input.sk-toggleable__control:checked~label.sk-toggleable__label {background-color: #d4ebff;}#sk-container-id-2 div.sk-label input.sk-toggleable__control:checked~label.sk-toggleable__label {background-color: #d4ebff;}#sk-container-id-2 input.sk-hidden--visually {border: 0;clip: rect(1px 1px 1px 1px);clip: rect(1px, 1px, 1px, 1px);height: 1px;margin: -1px;overflow: hidden;padding: 0;position: absolute;width: 1px;}#sk-container-id-2 div.sk-estimator {font-family: monospace;background-color: #f0f8ff;border: 1px dotted black;border-radius: 0.25em;box-sizing: border-box;margin-bottom: 0.5em;}#sk-container-id-2 div.sk-estimator:hover {background-color: #d4ebff;}#sk-container-id-2 div.sk-parallel-item::after {content: \"\";width: 100%;border-bottom: 1px solid gray;flex-grow: 1;}#sk-container-id-2 div.sk-label:hover label.sk-toggleable__label {background-color: #d4ebff;}#sk-container-id-2 div.sk-serial::before {content: \"\";position: absolute;border-left: 1px solid gray;box-sizing: border-box;top: 0;bottom: 0;left: 50%;z-index: 0;}#sk-container-id-2 div.sk-serial {display: flex;flex-direction: column;align-items: center;background-color: white;padding-right: 0.2em;padding-left: 0.2em;position: relative;}#sk-container-id-2 div.sk-item {position: relative;z-index: 1;}#sk-container-id-2 div.sk-parallel {display: flex;align-items: stretch;justify-content: center;background-color: white;position: relative;}#sk-container-id-2 div.sk-item::before, #sk-container-id-2 div.sk-parallel-item::before {content: \"\";position: absolute;border-left: 1px solid gray;box-sizing: border-box;top: 0;bottom: 0;left: 50%;z-index: -1;}#sk-container-id-2 div.sk-parallel-item {display: flex;flex-direction: column;z-index: 1;position: relative;background-color: white;}#sk-container-id-2 div.sk-parallel-item:first-child::after {align-self: flex-end;width: 50%;}#sk-container-id-2 div.sk-parallel-item:last-child::after {align-self: flex-start;width: 50%;}#sk-container-id-2 div.sk-parallel-item:only-child::after {width: 0;}#sk-container-id-2 div.sk-dashed-wrapped {border: 1px dashed gray;margin: 0 0.4em 0.5em 0.4em;box-sizing: border-box;padding-bottom: 0.4em;background-color: white;}#sk-container-id-2 div.sk-label label {font-family: monospace;font-weight: bold;display: inline-block;line-height: 1.2em;}#sk-container-id-2 div.sk-label-container {text-align: center;}#sk-container-id-2 div.sk-container {/* jupyter's `normalize.less` sets `[hidden] { display: none; }` but bootstrap.min.css set `[hidden] { display: none !important; }` so we also need the `!important` here to be able to override the default hidden behavior on the sphinx rendered scikit-learn.org. See: https://github.com/scikit-learn/scikit-learn/issues/21755 */display: inline-block !important;position: relative;}#sk-container-id-2 div.sk-text-repr-fallback {display: none;}</style><div id=\"sk-container-id-2\" class=\"sk-top-container\"><div class=\"sk-text-repr-fallback\"><pre>BayesSearchCV(cv=3,\n",
       "              estimator=KerasClassifier(compile=False, epochs=5, learning_rate=0.001, loss=&#x27;sparse_categorical_crossentropy&#x27;, metrics=[&#x27;accuracy&#x27;], model=&lt;function build_model at 0x7f5cd93bb910&gt;, n_hidden=3, n_neurons=200, optimizer=&lt;class &#x27;keras.optimizers.optimizer_v2.gradient_descent.SGD&#x27;&gt;),\n",
       "              n_iter=32, n_jobs=16,\n",
       "              search_spaces={&#x27;n_hidden&#x27;: (1, 5), &#x27;n_neurons&#x27;: (20, 300),\n",
       "                             &#x27;optimizer__learning_rate&#x27;: (0.001, 1.0,\n",
       "                                                          &#x27;uniform&#x27;)})</pre><b>In a Jupyter environment, please rerun this cell to show the HTML representation or trust the notebook. <br />On GitHub, the HTML representation is unable to render, please try loading this page with nbviewer.org.</b></div><div class=\"sk-container\" hidden><div class=\"sk-item sk-dashed-wrapped\"><div class=\"sk-label-container\"><div class=\"sk-label sk-toggleable\"><input class=\"sk-toggleable__control sk-hidden--visually\" id=\"sk-estimator-id-4\" type=\"checkbox\" ><label for=\"sk-estimator-id-4\" class=\"sk-toggleable__label sk-toggleable__label-arrow\">BayesSearchCV</label><div class=\"sk-toggleable__content\"><pre>BayesSearchCV(cv=3,\n",
       "              estimator=KerasClassifier(compile=False, epochs=5, learning_rate=0.001, loss=&#x27;sparse_categorical_crossentropy&#x27;, metrics=[&#x27;accuracy&#x27;], model=&lt;function build_model at 0x7f5cd93bb910&gt;, n_hidden=3, n_neurons=200, optimizer=&lt;class &#x27;keras.optimizers.optimizer_v2.gradient_descent.SGD&#x27;&gt;),\n",
       "              n_iter=32, n_jobs=16,\n",
       "              search_spaces={&#x27;n_hidden&#x27;: (1, 5), &#x27;n_neurons&#x27;: (20, 300),\n",
       "                             &#x27;optimizer__learning_rate&#x27;: (0.001, 1.0,\n",
       "                                                          &#x27;uniform&#x27;)})</pre></div></div></div><div class=\"sk-parallel\"><div class=\"sk-parallel-item\"><div class=\"sk-item\"><div class=\"sk-label-container\"><div class=\"sk-label sk-toggleable\"><input class=\"sk-toggleable__control sk-hidden--visually\" id=\"sk-estimator-id-5\" type=\"checkbox\" ><label for=\"sk-estimator-id-5\" class=\"sk-toggleable__label sk-toggleable__label-arrow\">estimator: KerasClassifier</label><div class=\"sk-toggleable__content\"><pre>KerasClassifier(\n",
       "\tmodel=&lt;function build_model at 0x7f5cd93bb910&gt;\n",
       "\tbuild_fn=None\n",
       "\twarm_start=False\n",
       "\trandom_state=None\n",
       "\toptimizer=&lt;class &#x27;keras.optimizers.optimizer_v2.gradient_descent.SGD&#x27;&gt;\n",
       "\tloss=sparse_categorical_crossentropy\n",
       "\tmetrics=[&#x27;accuracy&#x27;]\n",
       "\tbatch_size=None\n",
       "\tvalidation_batch_size=None\n",
       "\tverbose=1\n",
       "\tcallbacks=None\n",
       "\tvalidation_split=0.0\n",
       "\tshuffle=True\n",
       "\trun_eagerly=False\n",
       "\tepochs=5\n",
       "\tn_hidden=3\n",
       "\tn_neurons=200\n",
       "\tlearning_rate=0.001\n",
       "\tcompile=False\n",
       "\tclass_weight=None\n",
       ")</pre></div></div></div><div class=\"sk-serial\"><div class=\"sk-item\"><div class=\"sk-estimator sk-toggleable\"><input class=\"sk-toggleable__control sk-hidden--visually\" id=\"sk-estimator-id-6\" type=\"checkbox\" ><label for=\"sk-estimator-id-6\" class=\"sk-toggleable__label sk-toggleable__label-arrow\">KerasClassifier</label><div class=\"sk-toggleable__content\"><pre>KerasClassifier(\n",
       "\tmodel=&lt;function build_model at 0x7f5cd93bb910&gt;\n",
       "\tbuild_fn=None\n",
       "\twarm_start=False\n",
       "\trandom_state=None\n",
       "\toptimizer=&lt;class &#x27;keras.optimizers.optimizer_v2.gradient_descent.SGD&#x27;&gt;\n",
       "\tloss=sparse_categorical_crossentropy\n",
       "\tmetrics=[&#x27;accuracy&#x27;]\n",
       "\tbatch_size=None\n",
       "\tvalidation_batch_size=None\n",
       "\tverbose=1\n",
       "\tcallbacks=None\n",
       "\tvalidation_split=0.0\n",
       "\tshuffle=True\n",
       "\trun_eagerly=False\n",
       "\tepochs=5\n",
       "\tn_hidden=3\n",
       "\tn_neurons=200\n",
       "\tlearning_rate=0.001\n",
       "\tcompile=False\n",
       "\tclass_weight=None\n",
       ")</pre></div></div></div></div></div></div></div></div></div></div>"
      ],
      "text/plain": [
       "BayesSearchCV(cv=3,\n",
       "              estimator=KerasClassifier(compile=False, epochs=5, learning_rate=0.001, loss='sparse_categorical_crossentropy', metrics=['accuracy'], model=<function build_model at 0x7f5cd93bb910>, n_hidden=3, n_neurons=200, optimizer=<class 'keras.optimizers.optimizer_v2.gradient_descent.SGD'>),\n",
       "              n_iter=32, n_jobs=16,\n",
       "              search_spaces={'n_hidden': (1, 5), 'n_neurons': (20, 300),\n",
       "                             'optimizer__learning_rate': (0.001, 1.0,\n",
       "                                                          'uniform')})"
      ]
     },
     "execution_count": 21,
     "metadata": {},
     "output_type": "execute_result"
    }
   ],
   "source": [
    "# def build_model(input_shape, output_shape, n_hidden=3, n_neurons=200, learning_rate=1e-3, compile=True):\n",
    "# loss=\"sparse_categorical_crossentropy\",\n",
    "# optimizer=keras.optimizers.SGD(learning_rate=learning_rate),\n",
    "# metrics=[\"accuracy\"],\n",
    "\n",
    "# early_stopping_cb = keras.callbacks.EarlyStopping(monitor=\"loss\", patience=10, restore_best_weights=True)\n",
    "\n",
    "clf = KerasClassifier(\n",
    "    model=build_model,\n",
    "    loss=\"sparse_categorical_crossentropy\",\n",
    "    metrics=[\"accuracy\"],\n",
    "    optimizer=keras.optimizers.SGD,\n",
    "    epochs=5,\n",
    "    n_hidden=3,\n",
    "    n_neurons=200,\n",
    "    learning_rate=1e-3,\n",
    "    compile=False,\n",
    ")\n",
    "\n",
    "opt = BayesSearchCV(\n",
    "    clf,\n",
    "    {\n",
    "        \"n_hidden\": (1, 5),\n",
    "        \"n_neurons\": (20, 300),\n",
    "        \"optimizer__learning_rate\": (1e-3, 1., \"uniform\")\n",
    "    },\n",
    "    n_iter=32,\n",
    "    cv=3,\n",
    "    n_jobs=16,\n",
    ")\n",
    "\n",
    "opt.fit(np.r_[X_train, X_val], np.r_[y_train, y_val])"
   ]
  },
  {
   "cell_type": "code",
   "execution_count": 22,
   "id": "8c8f9992-6005-4585-a0ab-95faee9c2bf2",
   "metadata": {
    "execution": {
     "iopub.execute_input": "2022-06-26T21:35:32.834849Z",
     "iopub.status.busy": "2022-06-26T21:35:32.834218Z",
     "iopub.status.idle": "2022-06-26T21:35:32.842563Z",
     "shell.execute_reply": "2022-06-26T21:35:32.841223Z",
     "shell.execute_reply.started": "2022-06-26T21:35:32.834798Z"
    },
    "tags": []
   },
   "outputs": [
    {
     "name": "stdout",
     "output_type": "stream",
     "text": [
      "OrderedDict([('n_hidden', 2), ('n_neurons', 262), ('optimizer__learning_rate', 0.09760613032623651)])\n",
      "0.9742666666666667\n"
     ]
    }
   ],
   "source": [
    "print(opt.best_params_)\n",
    "print(opt.best_score_)"
   ]
  },
  {
   "cell_type": "code",
   "execution_count": 26,
   "id": "59939231-809d-4c95-961a-bd0d35e71f4c",
   "metadata": {
    "execution": {
     "iopub.execute_input": "2022-06-27T02:10:34.337437Z",
     "iopub.status.busy": "2022-06-27T02:10:34.336824Z",
     "iopub.status.idle": "2022-06-27T02:11:13.888517Z",
     "shell.execute_reply": "2022-06-27T02:11:13.887203Z",
     "shell.execute_reply.started": "2022-06-27T02:10:34.337388Z"
    },
    "tags": []
   },
   "outputs": [
    {
     "name": "stdout",
     "output_type": "stream",
     "text": [
      "Epoch 1/5\n",
      "1875/1875 [==============================] - 8s 4ms/step - loss: 115729621843968.0000 - accuracy: 0.1087\n",
      "Epoch 2/5\n",
      "1875/1875 [==============================] - 8s 4ms/step - loss: 2.3019 - accuracy: 0.1111\n",
      "Epoch 3/5\n",
      "1875/1875 [==============================] - 8s 4ms/step - loss: 2.3020 - accuracy: 0.1111\n",
      "Epoch 4/5\n",
      "1875/1875 [==============================] - 8s 4ms/step - loss: 2.3019 - accuracy: 0.1116\n",
      "Epoch 5/5\n",
      "1875/1875 [==============================] - 8s 4ms/step - loss: 2.3019 - accuracy: 0.1110\n"
     ]
    },
    {
     "data": {
      "text/html": [
       "<style>#sk-container-id-4 {color: black;background-color: white;}#sk-container-id-4 pre{padding: 0;}#sk-container-id-4 div.sk-toggleable {background-color: white;}#sk-container-id-4 label.sk-toggleable__label {cursor: pointer;display: block;width: 100%;margin-bottom: 0;padding: 0.3em;box-sizing: border-box;text-align: center;}#sk-container-id-4 label.sk-toggleable__label-arrow:before {content: \"▸\";float: left;margin-right: 0.25em;color: #696969;}#sk-container-id-4 label.sk-toggleable__label-arrow:hover:before {color: black;}#sk-container-id-4 div.sk-estimator:hover label.sk-toggleable__label-arrow:before {color: black;}#sk-container-id-4 div.sk-toggleable__content {max-height: 0;max-width: 0;overflow: hidden;text-align: left;background-color: #f0f8ff;}#sk-container-id-4 div.sk-toggleable__content pre {margin: 0.2em;color: black;border-radius: 0.25em;background-color: #f0f8ff;}#sk-container-id-4 input.sk-toggleable__control:checked~div.sk-toggleable__content {max-height: 200px;max-width: 100%;overflow: auto;}#sk-container-id-4 input.sk-toggleable__control:checked~label.sk-toggleable__label-arrow:before {content: \"▾\";}#sk-container-id-4 div.sk-estimator input.sk-toggleable__control:checked~label.sk-toggleable__label {background-color: #d4ebff;}#sk-container-id-4 div.sk-label input.sk-toggleable__control:checked~label.sk-toggleable__label {background-color: #d4ebff;}#sk-container-id-4 input.sk-hidden--visually {border: 0;clip: rect(1px 1px 1px 1px);clip: rect(1px, 1px, 1px, 1px);height: 1px;margin: -1px;overflow: hidden;padding: 0;position: absolute;width: 1px;}#sk-container-id-4 div.sk-estimator {font-family: monospace;background-color: #f0f8ff;border: 1px dotted black;border-radius: 0.25em;box-sizing: border-box;margin-bottom: 0.5em;}#sk-container-id-4 div.sk-estimator:hover {background-color: #d4ebff;}#sk-container-id-4 div.sk-parallel-item::after {content: \"\";width: 100%;border-bottom: 1px solid gray;flex-grow: 1;}#sk-container-id-4 div.sk-label:hover label.sk-toggleable__label {background-color: #d4ebff;}#sk-container-id-4 div.sk-serial::before {content: \"\";position: absolute;border-left: 1px solid gray;box-sizing: border-box;top: 0;bottom: 0;left: 50%;z-index: 0;}#sk-container-id-4 div.sk-serial {display: flex;flex-direction: column;align-items: center;background-color: white;padding-right: 0.2em;padding-left: 0.2em;position: relative;}#sk-container-id-4 div.sk-item {position: relative;z-index: 1;}#sk-container-id-4 div.sk-parallel {display: flex;align-items: stretch;justify-content: center;background-color: white;position: relative;}#sk-container-id-4 div.sk-item::before, #sk-container-id-4 div.sk-parallel-item::before {content: \"\";position: absolute;border-left: 1px solid gray;box-sizing: border-box;top: 0;bottom: 0;left: 50%;z-index: -1;}#sk-container-id-4 div.sk-parallel-item {display: flex;flex-direction: column;z-index: 1;position: relative;background-color: white;}#sk-container-id-4 div.sk-parallel-item:first-child::after {align-self: flex-end;width: 50%;}#sk-container-id-4 div.sk-parallel-item:last-child::after {align-self: flex-start;width: 50%;}#sk-container-id-4 div.sk-parallel-item:only-child::after {width: 0;}#sk-container-id-4 div.sk-dashed-wrapped {border: 1px dashed gray;margin: 0 0.4em 0.5em 0.4em;box-sizing: border-box;padding-bottom: 0.4em;background-color: white;}#sk-container-id-4 div.sk-label label {font-family: monospace;font-weight: bold;display: inline-block;line-height: 1.2em;}#sk-container-id-4 div.sk-label-container {text-align: center;}#sk-container-id-4 div.sk-container {/* jupyter's `normalize.less` sets `[hidden] { display: none; }` but bootstrap.min.css set `[hidden] { display: none !important; }` so we also need the `!important` here to be able to override the default hidden behavior on the sphinx rendered scikit-learn.org. See: https://github.com/scikit-learn/scikit-learn/issues/21755 */display: inline-block !important;position: relative;}#sk-container-id-4 div.sk-text-repr-fallback {display: none;}</style><div id=\"sk-container-id-4\" class=\"sk-top-container\"><div class=\"sk-text-repr-fallback\"><pre>KerasClassifier(\n",
       "\tmodel=&lt;function build_model at 0x7f5cd93bb910&gt;\n",
       "\tbuild_fn=None\n",
       "\twarm_start=False\n",
       "\trandom_state=None\n",
       "\toptimizer=&lt;class &#x27;keras.optimizers.optimizer_v2.gradient_descent.SGD&#x27;&gt;\n",
       "\tloss=sparse_categorical_crossentropy\n",
       "\tmetrics=[&#x27;accuracy&#x27;]\n",
       "\tbatch_size=None\n",
       "\tvalidation_batch_size=None\n",
       "\tverbose=1\n",
       "\tcallbacks=None\n",
       "\tvalidation_split=0.0\n",
       "\tshuffle=True\n",
       "\trun_eagerly=False\n",
       "\tepochs=5\n",
       "\tn_hidden=2\n",
       "\tn_neurons=262\n",
       "\tlearning_rate=0.001\n",
       "\tcompile=False\n",
       "\toptimizer__learning_rate=0.09760613032623651\n",
       "\tclass_weight=None\n",
       ")</pre><b>In a Jupyter environment, please rerun this cell to show the HTML representation or trust the notebook. <br />On GitHub, the HTML representation is unable to render, please try loading this page with nbviewer.org.</b></div><div class=\"sk-container\" hidden><div class=\"sk-item\"><div class=\"sk-estimator sk-toggleable\"><input class=\"sk-toggleable__control sk-hidden--visually\" id=\"sk-estimator-id-8\" type=\"checkbox\" checked><label for=\"sk-estimator-id-8\" class=\"sk-toggleable__label sk-toggleable__label-arrow\">KerasClassifier</label><div class=\"sk-toggleable__content\"><pre>KerasClassifier(\n",
       "\tmodel=&lt;function build_model at 0x7f5cd93bb910&gt;\n",
       "\tbuild_fn=None\n",
       "\twarm_start=False\n",
       "\trandom_state=None\n",
       "\toptimizer=&lt;class &#x27;keras.optimizers.optimizer_v2.gradient_descent.SGD&#x27;&gt;\n",
       "\tloss=sparse_categorical_crossentropy\n",
       "\tmetrics=[&#x27;accuracy&#x27;]\n",
       "\tbatch_size=None\n",
       "\tvalidation_batch_size=None\n",
       "\tverbose=1\n",
       "\tcallbacks=None\n",
       "\tvalidation_split=0.0\n",
       "\tshuffle=True\n",
       "\trun_eagerly=False\n",
       "\tepochs=5\n",
       "\tn_hidden=2\n",
       "\tn_neurons=262\n",
       "\tlearning_rate=0.001\n",
       "\tcompile=False\n",
       "\toptimizer__learning_rate=0.09760613032623651\n",
       "\tclass_weight=None\n",
       ")</pre></div></div></div></div></div>"
      ],
      "text/plain": [
       "KerasClassifier(\n",
       "\tmodel=<function build_model at 0x7f5cd93bb910>\n",
       "\tbuild_fn=None\n",
       "\twarm_start=False\n",
       "\trandom_state=None\n",
       "\toptimizer=<class 'keras.optimizers.optimizer_v2.gradient_descent.SGD'>\n",
       "\tloss=sparse_categorical_crossentropy\n",
       "\tmetrics=['accuracy']\n",
       "\tbatch_size=None\n",
       "\tvalidation_batch_size=None\n",
       "\tverbose=1\n",
       "\tcallbacks=None\n",
       "\tvalidation_split=0.0\n",
       "\tshuffle=True\n",
       "\trun_eagerly=False\n",
       "\tepochs=5\n",
       "\tn_hidden=2\n",
       "\tn_neurons=262\n",
       "\tlearning_rate=0.001\n",
       "\tcompile=False\n",
       "\toptimizer__learning_rate=0.09760613032623651\n",
       "\tclass_weight=None\n",
       ")"
      ]
     },
     "execution_count": 26,
     "metadata": {},
     "output_type": "execute_result"
    }
   ],
   "source": [
    "opt.best_estimator_.fit(X_train_full, y_train_full)"
   ]
  }
 ],
 "metadata": {
  "kernelspec": {
   "display_name": "Python 3 (ipykernel)",
   "language": "python",
   "name": "python3"
  },
  "language_info": {
   "codemirror_mode": {
    "name": "ipython",
    "version": 3
   },
   "file_extension": ".py",
   "mimetype": "text/x-python",
   "name": "python",
   "nbconvert_exporter": "python",
   "pygments_lexer": "ipython3",
   "version": "3.10.4"
  }
 },
 "nbformat": 4,
 "nbformat_minor": 5
}
