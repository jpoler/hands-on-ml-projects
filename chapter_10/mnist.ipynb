{
 "cells": [
  {
   "cell_type": "code",
   "execution_count": 1,
   "id": "59d1f059-27f8-4d64-bcea-9fa1ba4c5f98",
   "metadata": {},
   "outputs": [
    {
     "name": "stderr",
     "output_type": "stream",
     "text": [
      "2022-06-25 22:38:16.160319: I tensorflow/core/util/util.cc:169] oneDNN custom operations are on. You may see slightly different numerical results due to floating-point round-off errors from different computation orders. To turn them off, set the environment variable `TF_ENABLE_ONEDNN_OPTS=0`.\n"
     ]
    }
   ],
   "source": [
    "%matplotlib inline\n",
    "import matplotlib as mpl\n",
    "import matplotlib.pyplot as plt\n",
    "\n",
    "import math\n",
    "import os\n",
    "import time\n",
    "\n",
    "import numpy as np\n",
    "import tensorflow as tf\n",
    "from tensorflow import keras\n",
    "from sklearn.model_selection import train_test_split\n",
    "from sklearn.preprocessing import StandardScaler, MinMaxScaler"
   ]
  },
  {
   "cell_type": "code",
   "execution_count": 2,
   "id": "c3dc62ea-e2fb-488e-bab6-bfdde33671ca",
   "metadata": {},
   "outputs": [
    {
     "data": {
      "text/plain": [
       "'2.9.1'"
      ]
     },
     "execution_count": 2,
     "metadata": {},
     "output_type": "execute_result"
    }
   ],
   "source": [
    "tf.__version__"
   ]
  },
  {
   "cell_type": "code",
   "execution_count": 3,
   "id": "ec0b1ec3-a3ed-4c61-99e2-66b0acfed1c9",
   "metadata": {},
   "outputs": [
    {
     "data": {
      "text/plain": [
       "'2.9.0'"
      ]
     },
     "execution_count": 3,
     "metadata": {},
     "output_type": "execute_result"
    }
   ],
   "source": [
    "keras.__version__"
   ]
  },
  {
   "cell_type": "code",
   "execution_count": 4,
   "id": "09648f86-b4ee-445e-ad0a-c94d079bf934",
   "metadata": {},
   "outputs": [
    {
     "name": "stdout",
     "output_type": "stream",
     "text": [
      "(60000, 784)\n",
      "(60000,)\n",
      "(10000, 784)\n",
      "(10000,)\n"
     ]
    }
   ],
   "source": [
    "(X_train_full, y_train_full), (X_test, y_test) = keras.datasets.mnist.load_data()\n",
    "X_train_full = X_train_full.reshape((-1, 784))\n",
    "X_test = X_test.reshape((-1, 784))\n",
    "print(X_train_full.shape)\n",
    "print(y_train_full.shape)\n",
    "print(X_test.shape)\n",
    "print(y_test.shape)"
   ]
  },
  {
   "cell_type": "markdown",
   "id": "acfcc873-4cc1-47f3-8c8e-b244ca98da8e",
   "metadata": {},
   "source": [
    "Interestingly, after trying to reproduce the author's results I found that StandardScaler and MinMaxScaler were not performing well, and I was not able to get the model "
   ]
  },
  {
   "cell_type": "code",
   "execution_count": 5,
   "id": "f8adfae1-ae0f-4324-b6fc-8b9f8851ebbf",
   "metadata": {},
   "outputs": [],
   "source": [
    "X_train, X_val, y_train, y_val = train_test_split(X_train_full, y_train_full, test_size=5000, random_state=42)"
   ]
  },
  {
   "cell_type": "code",
   "execution_count": 6,
   "id": "fcc28795-2a2f-4eb6-993d-b18d5a7016f5",
   "metadata": {},
   "outputs": [],
   "source": [
    "scaler = MinMaxScaler()\n",
    "\n",
    "X_train = scaler.fit_transform(X_train)\n",
    "X_val = scaler.transform(X_val)\n",
    "X_test = scaler.transform(X_test)\n",
    "# X_train = X_train / 255.\n",
    "# X_val = X_val / 255.\n",
    "# X_test = X_test / 255."
   ]
  },
  {
   "cell_type": "code",
   "execution_count": 7,
   "id": "5cebd4a5-e789-4eba-bb43-91e5570d5a55",
   "metadata": {},
   "outputs": [
    {
     "data": {
      "text/plain": [
       "(55000,)"
      ]
     },
     "execution_count": 7,
     "metadata": {},
     "output_type": "execute_result"
    }
   ],
   "source": [
    "y_train.shape"
   ]
  },
  {
   "cell_type": "code",
   "execution_count": 8,
   "id": "6b73aa49-3b43-4c3c-aeea-27cdf6415780",
   "metadata": {},
   "outputs": [],
   "source": [
    "def build_model(learning_rate):\n",
    "    model = keras.models.Sequential([\n",
    "        keras.layers.Flatten(input_shape=[784]),\n",
    "        keras.layers.Dense(300, activation=\"relu\"),\n",
    "        keras.layers.Dense(100, activation=\"relu\"),\n",
    "        keras.layers.Dense(10, activation=\"softmax\"),\n",
    "    ])\n",
    "    \n",
    "    model.compile(\n",
    "        loss=\"sparse_categorical_crossentropy\",\n",
    "        optimizer=keras.optimizers.SGD(learning_rate=learning_rate),\n",
    "        metrics=[\"accuracy\"],\n",
    "    )\n",
    "    \n",
    "    return model"
   ]
  },
  {
   "cell_type": "code",
   "execution_count": 9,
   "id": "467f3eb4-01e1-4ab4-a713-5c3e35d9b723",
   "metadata": {},
   "outputs": [],
   "source": [
    "def get_tensorboard_cb():\n",
    "    base_dir = os.path.join(os.curdir, \".tflogs\")\n",
    "    run_id = time.strftime(\"run_%Y_%m_%d_%H_%M_%S\")\n",
    "    run_dir = os.path.join(base_dir, run_id)\n",
    "    return keras.callbacks.TensorBoard(run_dir)    "
   ]
  },
  {
   "cell_type": "code",
   "execution_count": 10,
   "id": "a2a74a2e-80c9-4549-b1f7-776a4659503e",
   "metadata": {},
   "outputs": [
    {
     "name": "stderr",
     "output_type": "stream",
     "text": [
      "2022-06-25 22:38:18.179233: I tensorflow/core/platform/cpu_feature_guard.cc:193] This TensorFlow binary is optimized with oneAPI Deep Neural Network Library (oneDNN) to use the following CPU instructions in performance-critical operations:  AVX2 AVX512F AVX512_VNNI FMA\n",
      "To enable them in other operations, rebuild TensorFlow with the appropriate compiler flags.\n",
      "2022-06-25 22:38:18.630772: I tensorflow/core/common_runtime/gpu/gpu_device.cc:1532] Created device /job:localhost/replica:0/task:0/device:GPU:0 with 22307 MB memory:  -> device: 0, name: NVIDIA GeForce RTX 3090, pci bus id: 0000:68:00.0, compute capability: 8.6\n"
     ]
    }
   ],
   "source": [
    "model = build_model(1e-5)"
   ]
  },
  {
   "cell_type": "code",
   "execution_count": 11,
   "id": "0b5a8fa6-67b8-4b50-a355-eebcb9340b9f",
   "metadata": {},
   "outputs": [
    {
     "name": "stdout",
     "output_type": "stream",
     "text": [
      "Model: \"sequential\"\n",
      "_________________________________________________________________\n",
      " Layer (type)                Output Shape              Param #   \n",
      "=================================================================\n",
      " flatten (Flatten)           (None, 784)               0         \n",
      "                                                                 \n",
      " dense (Dense)               (None, 300)               235500    \n",
      "                                                                 \n",
      " dense_1 (Dense)             (None, 100)               30100     \n",
      "                                                                 \n",
      " dense_2 (Dense)             (None, 10)                1010      \n",
      "                                                                 \n",
      "=================================================================\n",
      "Total params: 266,610\n",
      "Trainable params: 266,610\n",
      "Non-trainable params: 0\n",
      "_________________________________________________________________\n"
     ]
    }
   ],
   "source": [
    "model.summary()"
   ]
  },
  {
   "cell_type": "code",
   "execution_count": 12,
   "id": "bcd54db6-159c-4a04-87ad-0d7c5eb01ec8",
   "metadata": {},
   "outputs": [
    {
     "data": {
      "text/plain": [
       "[<keras.layers.reshaping.flatten.Flatten at 0x7fbecdd722f0>,\n",
       " <keras.layers.core.dense.Dense at 0x7fbecdd71c60>,\n",
       " <keras.layers.core.dense.Dense at 0x7fbecdd70d90>,\n",
       " <keras.layers.core.dense.Dense at 0x7fbecdd71f60>]"
      ]
     },
     "execution_count": 12,
     "metadata": {},
     "output_type": "execute_result"
    }
   ],
   "source": [
    "model.layers"
   ]
  },
  {
   "cell_type": "code",
   "execution_count": 13,
   "id": "9eaed495-0c69-49a3-b36b-b485287b6759",
   "metadata": {},
   "outputs": [],
   "source": [
    "class LearningRateCallback(keras.callbacks.Callback):\n",
    "    def __init__(self, initial_learning_rate, final_learning_rate, steps):\n",
    "        self.factor = math.exp(math.log(final_learning_rate/float(initial_learning_rate))/steps)\n",
    "        self.losses = []\n",
    "        self.learning_rates = []\n",
    "    \n",
    "    def on_batch_end(self, batch, logs):\n",
    "        self.losses.append(logs.get(\"loss\"))\n",
    "        learning_rate = keras.backend.get_value(self.model.optimizer.learning_rate)\n",
    "        self.learning_rates.append(learning_rate)\n",
    "        keras.backend.set_value(self.model.optimizer.learning_rate, learning_rate*self.factor)"
   ]
  },
  {
   "cell_type": "code",
   "execution_count": 14,
   "id": "da8f2a25-f01f-4298-95be-84036bb24ef1",
   "metadata": {},
   "outputs": [
    {
     "name": "stdout",
     "output_type": "stream",
     "text": [
      "  1/500 [..............................] - ETA: 6:16 - loss: 2.3508 - accuracy: 0.1182WARNING:tensorflow:Callback method `on_train_batch_end` is slow compared to the batch time (batch time: 0.0019s vs `on_train_batch_end` time: 0.0019s). Check your callbacks.\n",
      " 39/500 [=>............................] - ETA: 1s - loss: 2.3354 - accuracy: 0.0995"
     ]
    },
    {
     "name": "stderr",
     "output_type": "stream",
     "text": [
      "2022-06-25 22:38:19.880388: I tensorflow/stream_executor/cuda/cuda_blas.cc:1786] TensorFloat-32 will be used for the matrix multiplication. This will only be logged once.\n"
     ]
    },
    {
     "name": "stdout",
     "output_type": "stream",
     "text": [
      "500/500 [==============================] - 4s 7ms/step - loss: 2054761880748032.0000 - accuracy: 0.3163 - val_loss: 2.3700 - val_accuracy: 0.0954\n"
     ]
    }
   ],
   "source": [
    "n_steps = 500\n",
    "\n",
    "checkpoint_cb = keras.callbacks.ModelCheckpoint(\"mnist_digits_model.h5\", save_best_only=True)\n",
    "early_stopping_cb = keras.callbacks.EarlyStopping(patience=10, restore_best_weights=True)\n",
    "tensorboard_cb = get_tensorboard_cb()\n",
    "learning_rate_callback = LearningRateCallback(1e-5, 1e1, n_steps)\n",
    "\n",
    "history = model.fit(\n",
    "    X_train,\n",
    "    y_train,\n",
    "    epochs=1,\n",
    "    steps_per_epoch=n_steps,\n",
    "    validation_data=(X_val, y_val),\n",
    "    callbacks=[checkpoint_cb, early_stopping_cb, tensorboard_cb, learning_rate_callback],\n",
    ")"
   ]
  },
  {
   "cell_type": "code",
   "execution_count": 15,
   "id": "c77af2ae-b8ce-4ea1-af9f-427328456618",
   "metadata": {},
   "outputs": [
    {
     "name": "stdout",
     "output_type": "stream",
     "text": [
      "approximate best learning rate: 0.10092533826828003\n"
     ]
    },
    {
     "data": {
      "image/png": "[encoded data removed]",
      "text/plain": [
       "<Figure size 432x288 with 1 Axes>"
      ]
     },
     "metadata": {
      "needs_background": "light"
     },
     "output_type": "display_data"
    }
   ],
   "source": [
    "learning_rates = np.array(learning_rate_callback.learning_rates)\n",
    "losses = np.array(learning_rate_callback.losses)\n",
    "\n",
    "idx = losses < 10\n",
    "learning_rates_clean = learning_rates[idx]\n",
    "losses_clean = losses[idx]\n",
    "\n",
    "plt.plot(learning_rates_clean, losses_clean)\n",
    "best_idx = np.argmin(losses_clean)\n",
    "best_learning_rate = learning_rates[best_idx] / 10.\n",
    "print(f\"approximate best learning rate: {best_learning_rate}\")"
   ]
  },
  {
   "cell_type": "code",
   "execution_count": 16,
   "id": "18cc9400-e01e-4039-b8cf-c4d8cb360f6e",
   "metadata": {},
   "outputs": [],
   "source": [
    "keras.backend.clear_session()\n",
    "np.random.seed(42)\n",
    "tf.random.set_seed(42)"
   ]
  },
  {
   "cell_type": "code",
   "execution_count": 17,
   "id": "ffe079bc-fef5-42b3-b7a5-9e86c4fdd4f8",
   "metadata": {},
   "outputs": [
    {
     "name": "stdout",
     "output_type": "stream",
     "text": [
      "Epoch 1/100\n",
      "1719/1719 [==============================] - 9s 5ms/step - loss: 0.2892 - accuracy: 0.9152 - val_loss: 0.1418 - val_accuracy: 0.9596\n",
      "Epoch 2/100\n",
      "1719/1719 [==============================] - 8s 5ms/step - loss: 0.1200 - accuracy: 0.9650 - val_loss: 0.1033 - val_accuracy: 0.9694\n",
      "Epoch 3/100\n",
      "1719/1719 [==============================] - 8s 5ms/step - loss: 0.0805 - accuracy: 0.9759 - val_loss: 0.0946 - val_accuracy: 0.9730\n",
      "Epoch 4/100\n",
      "1719/1719 [==============================] - 8s 5ms/step - loss: 0.0604 - accuracy: 0.9813 - val_loss: 0.0803 - val_accuracy: 0.9766\n",
      "Epoch 5/100\n",
      "1719/1719 [==============================] - 8s 5ms/step - loss: 0.0467 - accuracy: 0.9855 - val_loss: 0.0673 - val_accuracy: 0.9796\n",
      "Epoch 6/100\n",
      "1719/1719 [==============================] - 8s 5ms/step - loss: 0.0352 - accuracy: 0.9895 - val_loss: 0.0703 - val_accuracy: 0.9792\n",
      "Epoch 7/100\n",
      "1719/1719 [==============================] - 8s 5ms/step - loss: 0.0272 - accuracy: 0.9918 - val_loss: 0.0727 - val_accuracy: 0.9780\n",
      "Epoch 8/100\n",
      "1719/1719 [==============================] - 8s 5ms/step - loss: 0.0210 - accuracy: 0.9939 - val_loss: 0.0662 - val_accuracy: 0.9816\n",
      "Epoch 9/100\n",
      "1719/1719 [==============================] - 8s 5ms/step - loss: 0.0153 - accuracy: 0.9957 - val_loss: 0.0644 - val_accuracy: 0.9826\n",
      "Epoch 10/100\n",
      "1719/1719 [==============================] - 8s 5ms/step - loss: 0.0114 - accuracy: 0.9973 - val_loss: 0.0718 - val_accuracy: 0.9814\n",
      "Epoch 11/100\n",
      "1719/1719 [==============================] - 8s 5ms/step - loss: 0.0076 - accuracy: 0.9986 - val_loss: 0.0706 - val_accuracy: 0.9822\n",
      "Epoch 12/100\n",
      "1719/1719 [==============================] - 8s 5ms/step - loss: 0.0060 - accuracy: 0.9989 - val_loss: 0.0668 - val_accuracy: 0.9824\n",
      "Epoch 13/100\n",
      "1719/1719 [==============================] - 8s 5ms/step - loss: 0.0042 - accuracy: 0.9994 - val_loss: 0.0696 - val_accuracy: 0.9824\n",
      "Epoch 14/100\n",
      "1719/1719 [==============================] - 8s 5ms/step - loss: 0.0028 - accuracy: 0.9998 - val_loss: 0.0714 - val_accuracy: 0.9816\n",
      "Epoch 15/100\n",
      "1719/1719 [==============================] - 8s 5ms/step - loss: 0.0020 - accuracy: 0.9999 - val_loss: 0.0694 - val_accuracy: 0.9840\n",
      "Epoch 16/100\n",
      "1719/1719 [==============================] - 8s 5ms/step - loss: 0.0015 - accuracy: 1.0000 - val_loss: 0.0719 - val_accuracy: 0.9830\n",
      "Epoch 17/100\n",
      "1719/1719 [==============================] - 8s 5ms/step - loss: 0.0013 - accuracy: 1.0000 - val_loss: 0.0715 - val_accuracy: 0.9832\n",
      "Epoch 18/100\n",
      "1719/1719 [==============================] - 8s 5ms/step - loss: 0.0011 - accuracy: 1.0000 - val_loss: 0.0713 - val_accuracy: 0.9842\n",
      "Epoch 19/100\n",
      "1719/1719 [==============================] - 8s 5ms/step - loss: 0.0010 - accuracy: 1.0000 - val_loss: 0.0721 - val_accuracy: 0.9834\n",
      "Epoch 20/100\n",
      "1719/1719 [==============================] - 8s 5ms/step - loss: 8.9550e-04 - accuracy: 1.0000 - val_loss: 0.0739 - val_accuracy: 0.9832\n",
      "Epoch 21/100\n",
      "1719/1719 [==============================] - 8s 5ms/step - loss: 7.6832e-04 - accuracy: 1.0000 - val_loss: 0.0742 - val_accuracy: 0.9834\n",
      "Epoch 22/100\n",
      "1719/1719 [==============================] - 8s 5ms/step - loss: 7.4359e-04 - accuracy: 1.0000 - val_loss: 0.0751 - val_accuracy: 0.9834\n",
      "Epoch 23/100\n",
      "1719/1719 [==============================] - 8s 5ms/step - loss: 6.5537e-04 - accuracy: 1.0000 - val_loss: 0.0752 - val_accuracy: 0.9830\n",
      "Epoch 24/100\n",
      "1719/1719 [==============================] - 8s 5ms/step - loss: 6.0634e-04 - accuracy: 1.0000 - val_loss: 0.0770 - val_accuracy: 0.9828\n",
      "Epoch 25/100\n",
      "1719/1719 [==============================] - 8s 5ms/step - loss: 5.6712e-04 - accuracy: 1.0000 - val_loss: 0.0764 - val_accuracy: 0.9832\n",
      "Epoch 26/100\n",
      "1719/1719 [==============================] - 8s 5ms/step - loss: 5.2962e-04 - accuracy: 1.0000 - val_loss: 0.0765 - val_accuracy: 0.9836\n",
      "Epoch 27/100\n",
      "1719/1719 [==============================] - 8s 5ms/step - loss: 4.9994e-04 - accuracy: 1.0000 - val_loss: 0.0770 - val_accuracy: 0.9834\n",
      "Epoch 28/100\n",
      "1719/1719 [==============================] - 8s 5ms/step - loss: 4.6914e-04 - accuracy: 1.0000 - val_loss: 0.0769 - val_accuracy: 0.9836\n",
      "Epoch 29/100\n",
      "1719/1719 [==============================] - 8s 5ms/step - loss: 4.4288e-04 - accuracy: 1.0000 - val_loss: 0.0775 - val_accuracy: 0.9836\n"
     ]
    }
   ],
   "source": [
    "model = build_model(0.08090962767601013)\n",
    "\n",
    "model_file = \"mnist_digits_model.h5\"\n",
    "checkpoint_cb = keras.callbacks.ModelCheckpoint(model_file, save_best_only=True)\n",
    "early_stopping_cb = keras.callbacks.EarlyStopping(patience=20, restore_best_weights=True)\n",
    "tensorboard_cb = get_tensorboard_cb()\n",
    "\n",
    "history = model.fit(\n",
    "    X_train,\n",
    "    y_train,\n",
    "    epochs=100,\n",
    "    validation_data=(X_val, y_val),\n",
    "    callbacks=[checkpoint_cb, early_stopping_cb, tensorboard_cb],\n",
    ")"
   ]
  },
  {
   "cell_type": "code",
   "execution_count": 18,
   "id": "4aa577f8-dce3-456a-9f99-7be1ef6f4aaa",
   "metadata": {},
   "outputs": [
    {
     "name": "stdout",
     "output_type": "stream",
     "text": [
      "313/313 [==============================] - 1s 4ms/step - loss: 0.0635 - accuracy: 0.9817\n"
     ]
    },
    {
     "data": {
      "text/plain": [
       "[0.06345727294683456, 0.9817000031471252]"
      ]
     },
     "execution_count": 18,
     "metadata": {},
     "output_type": "execute_result"
    }
   ],
   "source": [
    "model = keras.models.load_model(model_file)\n",
    "model.evaluate(X_test, y_test)"
   ]
  }
 ],
 "metadata": {
  "kernelspec": {
   "display_name": "Python 3 (ipykernel)",
   "language": "python",
   "name": "python3"
  },
  "language_info": {
   "codemirror_mode": {
    "name": "ipython",
    "version": 3
   },
   "file_extension": ".py",
   "mimetype": "text/x-python",
   "name": "python",
   "nbconvert_exporter": "python",
   "pygments_lexer": "ipython3",
   "version": "3.10.4"
  }
 },
 "nbformat": 4,
 "nbformat_minor": 5
}
