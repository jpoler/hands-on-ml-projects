{
 "cells": [
  {
   "cell_type": "code",
   "execution_count": 1,
   "metadata": {
    "execution": {
     "iopub.execute_input": "2022-07-14T00:47:17.351420Z",
     "iopub.status.busy": "2022-07-14T00:47:17.350837Z",
     "iopub.status.idle": "2022-07-14T00:47:18.808341Z",
     "shell.execute_reply": "2022-07-14T00:47:18.807601Z",
     "shell.execute_reply.started": "2022-07-14T00:47:17.351301Z"
    },
    "executionInfo": {
     "elapsed": 6678,
     "status": "ok",
     "timestamp": 1657397742186,
     "user": {
      "displayName": "Jon Poler",
      "userId": "13423372355356044593"
     },
     "user_tz": 240
    },
    "id": "HCtww_D0VPQ9"
   },
   "outputs": [
    {
     "name": "stderr",
     "output_type": "stream",
     "text": [
      "2022-07-13 20:47:17.589017: I tensorflow/core/util/util.cc:169] oneDNN custom operations are on. You may see slightly different numerical results due to floating-point round-off errors from different computation orders. To turn them off, set the environment variable `TF_ENABLE_ONEDNN_OPTS=0`.\n"
     ]
    }
   ],
   "source": [
    "from enum import Enum\n",
    "import numpy as np\n",
    "import os\n",
    "import time\n",
    "\n",
    "import tensorflow as tf\n",
    "import tensorflow.keras as keras\n",
    "\n",
    "from sklearn.model_selection import train_test_split\n",
    "\n",
    "%load_ext tensorboard"
   ]
  },
  {
   "cell_type": "code",
   "execution_count": 2,
   "metadata": {
    "execution": {
     "iopub.execute_input": "2022-07-14T00:47:18.809677Z",
     "iopub.status.busy": "2022-07-14T00:47:18.809327Z",
     "iopub.status.idle": "2022-07-14T00:47:18.894991Z",
     "shell.execute_reply": "2022-07-14T00:47:18.894282Z",
     "shell.execute_reply.started": "2022-07-14T00:47:18.809651Z"
    },
    "tags": []
   },
   "outputs": [
    {
     "data": {
      "text/plain": [
       "[PhysicalDevice(name='/physical_device:GPU:0', device_type='GPU')]"
      ]
     },
     "execution_count": 2,
     "metadata": {},
     "output_type": "execute_result"
    }
   ],
   "source": [
    "tf.config.list_physical_devices(\"GPU\")"
   ]
  },
  {
   "cell_type": "code",
   "execution_count": 3,
   "metadata": {
    "execution": {
     "iopub.execute_input": "2022-07-14T00:47:18.895971Z",
     "iopub.status.busy": "2022-07-14T00:47:18.895728Z",
     "iopub.status.idle": "2022-07-14T00:47:19.333536Z",
     "shell.execute_reply": "2022-07-14T00:47:19.332779Z",
     "shell.execute_reply.started": "2022-07-14T00:47:18.895956Z"
    },
    "tags": []
   },
   "outputs": [
    {
     "name": "stderr",
     "output_type": "stream",
     "text": [
      "2022-07-13 20:47:18.908961: I tensorflow/core/platform/cpu_feature_guard.cc:193] This TensorFlow binary is optimized with oneAPI Deep Neural Network Library (oneDNN) to use the following CPU instructions in performance-critical operations:  AVX2 AVX512F AVX512_VNNI FMA\n",
      "To enable them in other operations, rebuild TensorFlow with the appropriate compiler flags.\n"
     ]
    },
    {
     "data": {
      "text/plain": [
       "[LogicalDevice(name='/device:GPU:0', device_type='GPU')]"
      ]
     },
     "execution_count": 3,
     "metadata": {},
     "output_type": "execute_result"
    },
    {
     "name": "stderr",
     "output_type": "stream",
     "text": [
      "2022-07-13 20:47:19.326109: I tensorflow/core/common_runtime/gpu/gpu_device.cc:1532] Created device /job:localhost/replica:0/task:0/device:GPU:0 with 22307 MB memory:  -> device: 0, name: NVIDIA GeForce RTX 3090, pci bus id: 0000:68:00.0, compute capability: 8.6\n"
     ]
    }
   ],
   "source": [
    "tf.config.list_logical_devices(\"GPU\")"
   ]
  },
  {
   "cell_type": "code",
   "execution_count": 4,
   "metadata": {
    "execution": {
     "iopub.execute_input": "2022-07-14T00:47:19.334574Z",
     "iopub.status.busy": "2022-07-14T00:47:19.334288Z",
     "iopub.status.idle": "2022-07-14T00:47:19.351314Z",
     "shell.execute_reply": "2022-07-14T00:47:19.350553Z",
     "shell.execute_reply.started": "2022-07-14T00:47:19.334559Z"
    },
    "tags": []
   },
   "outputs": [
    {
     "data": {
      "text/plain": [
       "0"
      ]
     },
     "execution_count": 4,
     "metadata": {},
     "output_type": "execute_result"
    }
   ],
   "source": [
    "tf.config.threading.get_inter_op_parallelism_threads()"
   ]
  },
  {
   "cell_type": "code",
   "execution_count": 5,
   "metadata": {
    "execution": {
     "iopub.execute_input": "2022-07-14T00:47:19.353450Z",
     "iopub.status.busy": "2022-07-14T00:47:19.353109Z",
     "iopub.status.idle": "2022-07-14T00:47:19.362263Z",
     "shell.execute_reply": "2022-07-14T00:47:19.361082Z",
     "shell.execute_reply.started": "2022-07-14T00:47:19.353428Z"
    },
    "tags": []
   },
   "outputs": [
    {
     "data": {
      "text/plain": [
       "0"
      ]
     },
     "execution_count": 5,
     "metadata": {},
     "output_type": "execute_result"
    }
   ],
   "source": [
    "tf.config.threading.get_intra_op_parallelism_threads()"
   ]
  },
  {
   "cell_type": "code",
   "execution_count": 6,
   "metadata": {
    "colab": {
     "base_uri": "https://localhost:8080/"
    },
    "execution": {
     "iopub.execute_input": "2022-07-14T00:47:19.363524Z",
     "iopub.status.busy": "2022-07-14T00:47:19.363241Z",
     "iopub.status.idle": "2022-07-14T00:47:19.607132Z",
     "shell.execute_reply": "2022-07-14T00:47:19.606222Z",
     "shell.execute_reply.started": "2022-07-14T00:47:19.363498Z"
    },
    "executionInfo": {
     "elapsed": 1315,
     "status": "ok",
     "timestamp": 1657397743480,
     "user": {
      "displayName": "Jon Poler",
      "userId": "13423372355356044593"
     },
     "user_tz": 240
    },
    "id": "iG2McMQAV99N",
    "outputId": "ee7e8863-8768-4ce4-fba6-99263e21ef35"
   },
   "outputs": [],
   "source": [
    "fashion_mnist = tf.keras.datasets.fashion_mnist\n",
    "\n",
    "(X_train, y_train), (X_test, y_test) = fashion_mnist.load_data()"
   ]
  },
  {
   "cell_type": "code",
   "execution_count": 7,
   "metadata": {
    "execution": {
     "iopub.execute_input": "2022-07-14T00:47:19.608219Z",
     "iopub.status.busy": "2022-07-14T00:47:19.607934Z",
     "iopub.status.idle": "2022-07-14T00:47:19.630450Z",
     "shell.execute_reply": "2022-07-14T00:47:19.629175Z",
     "shell.execute_reply.started": "2022-07-14T00:47:19.608204Z"
    },
    "executionInfo": {
     "elapsed": 6,
     "status": "ok",
     "timestamp": 1657397743481,
     "user": {
      "displayName": "Jon Poler",
      "userId": "13423372355356044593"
     },
     "user_tz": 240
    },
    "id": "1VXyA1zwWJVp"
   },
   "outputs": [],
   "source": [
    "X_train, X_val, y_train, y_val = train_test_split(X_train, y_train, test_size=5000)"
   ]
  },
  {
   "cell_type": "code",
   "execution_count": 8,
   "metadata": {
    "colab": {
     "base_uri": "https://localhost:8080/"
    },
    "execution": {
     "iopub.execute_input": "2022-07-14T00:47:19.631365Z",
     "iopub.status.busy": "2022-07-14T00:47:19.631195Z",
     "iopub.status.idle": "2022-07-14T00:47:19.635528Z",
     "shell.execute_reply": "2022-07-14T00:47:19.634848Z",
     "shell.execute_reply.started": "2022-07-14T00:47:19.631351Z"
    },
    "executionInfo": {
     "elapsed": 5,
     "status": "ok",
     "timestamp": 1657397743481,
     "user": {
      "displayName": "Jon Poler",
      "userId": "13423372355356044593"
     },
     "user_tz": 240
    },
    "id": "jo_AWfGXXAZI",
    "outputId": "04456bf8-e217-400e-9f28-78b06d98776b"
   },
   "outputs": [
    {
     "name": "stdout",
     "output_type": "stream",
     "text": [
      "uint8\n",
      "uint8\n"
     ]
    }
   ],
   "source": [
    "print(X_train.dtype)\n",
    "print(y_train.dtype)"
   ]
  },
  {
   "cell_type": "code",
   "execution_count": 9,
   "metadata": {
    "execution": {
     "iopub.execute_input": "2022-07-14T00:47:19.636551Z",
     "iopub.status.busy": "2022-07-14T00:47:19.636306Z",
     "iopub.status.idle": "2022-07-14T00:47:19.646107Z",
     "shell.execute_reply": "2022-07-14T00:47:19.645460Z",
     "shell.execute_reply.started": "2022-07-14T00:47:19.636538Z"
    },
    "executionInfo": {
     "elapsed": 190,
     "status": "ok",
     "timestamp": 1657397743668,
     "user": {
      "displayName": "Jon Poler",
      "userId": "13423372355356044593"
     },
     "user_tz": 240
    },
    "id": "pLuprK5nYKU5",
    "tags": []
   },
   "outputs": [],
   "source": [
    "class SplitType(Enum):\n",
    "  train = 1\n",
    "  validation = 2\n",
    "\n",
    "def base_path():\n",
    "  return os.path.join(os.curdir, \"fashion_mnist_dataset\")\n",
    "\n",
    "def filepath(split_type, chunk):\n",
    "  return os.path.join(base_path(), f\"fashion_mnist_{split_type.name}_{chunk}.tfrecord\")\n",
    "\n",
    "def preprocess_encoded_example(record_bytes):\n",
    "  parsed = tf.io.parse_single_example(\n",
    "      record_bytes,  \n",
    "      {\n",
    "        \"image\": tf.io.FixedLenFeature([], tf.string, default_value=\"\"),\n",
    "        \"label\": tf.io.FixedLenFeature([], tf.string, default_value=\"\"),\n",
    "      },\n",
    "    )\n",
    "  x, y = tf.ensure_shape(tf.io.parse_tensor(parsed[\"image\"], tf.uint8), (28, 28)), tf.ensure_shape(tf.io.parse_tensor(parsed[\"label\"], tf.uint8), ())\n",
    "  # x, y = tf.cast(x, dtype=tf.float32), tf.cast(y, dtype=tf.float32)\n",
    "  y = tf.cast(y, dtype=tf.float32)\n",
    "  return x, y\n",
    "\n",
    "def to_example(x, y):\n",
    "  serialized_image = tf.io.serialize_tensor(tf.constant(x))\n",
    "  serialized_label = tf.io.serialize_tensor(tf.constant(y))\n",
    "  return tf.train.Example(\n",
    "      features=tf.train.Features(\n",
    "        feature={\n",
    "            \"image\": tf.train.Feature(bytes_list=tf.train.BytesList(value=[serialized_image.numpy()])),\n",
    "            \"label\": tf.train.Feature(bytes_list=tf.train.BytesList(value=[serialized_label.numpy()]))\n",
    "        }         \n",
    "      )\n",
    "    )\n",
    "\n",
    "def write_np_array(X, y, split_type, split_size=10000):\n",
    "  n = len(X)\n",
    "  assert n == len(y)\n",
    "  os.makedirs(base_path(), exist_ok=True)\n",
    "  for chunk, offset in enumerate(range(0, len(X), split_size)):\n",
    "    begin, end = offset, min(offset + split_size, n)\n",
    "    X_chunk, y_chunk = X[begin:end], y[begin:end]\n",
    "    fname = filepath(split_type, chunk)\n",
    "    with tf.io.TFRecordWriter(fname) as f:\n",
    "      for features, label in zip(X_chunk, y_chunk):\n",
    "        example = to_example(features, label)\n",
    "        f.write(example.SerializeToString())\n",
    "\n",
    "def read_tf_dataset(split_type, repeat=1, n_reader_threads=16, read_buffer_bytes=20*(2**20), shuffle_buffer_size=20*(2**20), n_parse_threads=16, batch_size=32):\n",
    "  b = base_path()\n",
    "  paths = [\n",
    "           os.path.join(b, p) for p in os.listdir(b) \n",
    "           if split_type.name in p and \".tfrecord\" in p\n",
    "          ]\n",
    "  return tf.data.TFRecordDataset(paths, num_parallel_reads=n_reader_threads, buffer_size=read_buffer_bytes) \\\n",
    "    .shuffle(shuffle_buffer_size, reshuffle_each_iteration=True) \\\n",
    "    .repeat(repeat) \\\n",
    "    .map(preprocess_encoded_example, num_parallel_calls=n_parse_threads) \\\n",
    "    .batch(batch_size) \\\n",
    "    .prefetch(tf.data.AUTOTUNE)"
   ]
  },
  {
   "cell_type": "code",
   "execution_count": 10,
   "metadata": {
    "execution": {
     "iopub.execute_input": "2022-07-14T00:47:19.646856Z",
     "iopub.status.busy": "2022-07-14T00:47:19.646721Z",
     "iopub.status.idle": "2022-07-14T00:47:35.646792Z",
     "shell.execute_reply": "2022-07-14T00:47:35.646030Z",
     "shell.execute_reply.started": "2022-07-14T00:47:19.646844Z"
    },
    "executionInfo": {
     "elapsed": 19772,
     "status": "ok",
     "timestamp": 1657397763439,
     "user": {
      "displayName": "Jon Poler",
      "userId": "13423372355356044593"
     },
     "user_tz": 240
    },
    "id": "yFQuY3oraED-"
   },
   "outputs": [],
   "source": [
    "write_np_array(X_train, y_train, SplitType.train)\n",
    "write_np_array(X_val, y_val, SplitType.validation)"
   ]
  },
  {
   "cell_type": "code",
   "execution_count": 11,
   "metadata": {
    "colab": {
     "base_uri": "https://localhost:8080/"
    },
    "execution": {
     "iopub.execute_input": "2022-07-14T00:47:35.647877Z",
     "iopub.status.busy": "2022-07-14T00:47:35.647591Z",
     "iopub.status.idle": "2022-07-14T00:47:35.652155Z",
     "shell.execute_reply": "2022-07-14T00:47:35.651467Z",
     "shell.execute_reply.started": "2022-07-14T00:47:35.647862Z"
    },
    "executionInfo": {
     "elapsed": 6,
     "status": "ok",
     "timestamp": 1657397763439,
     "user": {
      "displayName": "Jon Poler",
      "userId": "13423372355356044593"
     },
     "user_tz": 240
    },
    "id": "SPArpYL4LwdK",
    "outputId": "605872ac-a51a-431b-a6ff-588d05055980"
   },
   "outputs": [
    {
     "name": "stdout",
     "output_type": "stream",
     "text": [
      "fashion_mnist_train_0.tfrecord\n",
      "fashion_mnist_train_1.tfrecord\n",
      "fashion_mnist_train_2.tfrecord\n",
      "fashion_mnist_train_3.tfrecord\n",
      "fashion_mnist_train_4.tfrecord\n",
      "fashion_mnist_train_5.tfrecord\n",
      "fashion_mnist_validation_0.tfrecord\n"
     ]
    }
   ],
   "source": [
    "print(\"\\n\".join(sorted(p for p in os.listdir(base_path()) if \".tfrecord\" in p)))"
   ]
  },
  {
   "cell_type": "code",
   "execution_count": 12,
   "metadata": {
    "colab": {
     "base_uri": "https://localhost:8080/"
    },
    "execution": {
     "iopub.execute_input": "2022-07-14T00:47:35.653092Z",
     "iopub.status.busy": "2022-07-14T00:47:35.652834Z",
     "iopub.status.idle": "2022-07-14T00:47:37.011401Z",
     "shell.execute_reply": "2022-07-14T00:47:37.010631Z",
     "shell.execute_reply.started": "2022-07-14T00:47:35.653078Z"
    },
    "executionInfo": {
     "elapsed": 676,
     "status": "ok",
     "timestamp": 1657397764112,
     "user": {
      "displayName": "Jon Poler",
      "userId": "13423372355356044593"
     },
     "user_tz": 240
    },
    "id": "EkRjl85LuuUZ",
    "outputId": "a17ac425-e1ae-4866-a067-1f42cba78366",
    "tags": []
   },
   "outputs": [
    {
     "name": "stdout",
     "output_type": "stream",
     "text": [
      "x (32, 28, 28)\n",
      "y (32,)\n",
      "0 255 77.888671875 94.53973029944581\n",
      "x (32, 28, 28)\n",
      "y (32,)\n",
      "0 255 72.70244738520408 92.46514006533015\n"
     ]
    }
   ],
   "source": [
    "train_dataset = read_tf_dataset(SplitType.train)\n",
    "val_dataset = read_tf_dataset(SplitType.validation)\n",
    "\n",
    "for (x, y) in train_dataset.take(1):\n",
    "  print(\"x\", x.shape)\n",
    "  print(\"y\", y.shape)\n",
    "  print(np.min(x), np.max(x), np.mean(x), np.std(x))\n",
    "\n",
    "for (x, y) in val_dataset.take(1):\n",
    "  print(\"x\", x.shape)\n",
    "  print(\"y\", y.shape)\n",
    "  print(np.min(x), np.max(x), np.mean(x), np.std(x))"
   ]
  },
  {
   "cell_type": "code",
   "execution_count": 13,
   "metadata": {
    "execution": {
     "iopub.execute_input": "2022-07-14T00:47:37.012550Z",
     "iopub.status.busy": "2022-07-14T00:47:37.012268Z",
     "iopub.status.idle": "2022-07-14T00:47:37.016956Z",
     "shell.execute_reply": "2022-07-14T00:47:37.016279Z",
     "shell.execute_reply.started": "2022-07-14T00:47:37.012535Z"
    },
    "executionInfo": {
     "elapsed": 7,
     "status": "ok",
     "timestamp": 1657397764113,
     "user": {
      "displayName": "Jon Poler",
      "userId": "13423372355356044593"
     },
     "user_tz": 240
    },
    "id": "fD2w96qqTQDl"
   },
   "outputs": [],
   "source": [
    "def base_log_dir():\n",
    "  return os.path.join(os.curdir, \".tflogs\")\n",
    "\n",
    "def get_tensorboard_cb(profile_batch=0):\n",
    "    base_dir = base_log_dir()\n",
    "    run_id = time.strftime(\"run_%Y_%m_%d_%H_%M_%S\")\n",
    "    run_dir = os.path.join(base_dir, run_id)\n",
    "    file_writer = tf.summary.create_file_writer(run_dir)\n",
    "    file_writer.set_as_default()\n",
    "    return keras.callbacks.TensorBoard(run_dir, profile_batch=profile_batch) "
   ]
  },
  {
   "cell_type": "code",
   "execution_count": 14,
   "metadata": {
    "colab": {
     "base_uri": "https://localhost:8080/"
    },
    "execution": {
     "iopub.execute_input": "2022-07-14T00:47:37.018719Z",
     "iopub.status.busy": "2022-07-14T00:47:37.018464Z",
     "iopub.status.idle": "2022-07-14T00:47:53.531790Z",
     "shell.execute_reply": "2022-07-14T00:47:53.530673Z",
     "shell.execute_reply.started": "2022-07-14T00:47:37.018706Z"
    },
    "executionInfo": {
     "elapsed": 376072,
     "status": "ok",
     "timestamp": 1657398146409,
     "user": {
      "displayName": "Jon Poler",
      "userId": "13423372355356044593"
     },
     "user_tz": 240
    },
    "id": "N9EH4sEjPhpb",
    "outputId": "90b58da1-a90f-48b6-95ac-6b1750e3cd9c",
    "tags": []
   },
   "outputs": [
    {
     "name": "stderr",
     "output_type": "stream",
     "text": [
      "2022-07-13 20:47:38.775522: I tensorflow/core/profiler/lib/profiler_session.cc:99] Profiler session initializing.\n",
      "2022-07-13 20:47:38.775541: I tensorflow/core/profiler/lib/profiler_session.cc:114] Profiler session started.\n",
      "2022-07-13 20:47:38.775563: I tensorflow/core/profiler/internal/gpu/cupti_tracer.cc:1665] Profiler found 1 GPUs\n",
      "2022-07-13 20:47:38.934822: I tensorflow/core/profiler/lib/profiler_session.cc:126] Profiler session tear down.\n",
      "2022-07-13 20:47:38.937266: I tensorflow/core/profiler/internal/gpu/cupti_tracer.cc:1799] CUPTI activity buffer flushed\n"
     ]
    },
    {
     "name": "stdout",
     "output_type": "stream",
     "text": [
      "     31/Unknown - 2s 5ms/step - loss: 1.0185 - accuracy: 0.6613 "
     ]
    },
    {
     "name": "stderr",
     "output_type": "stream",
     "text": [
      "2022-07-13 20:47:40.946696: I tensorflow/stream_executor/cuda/cuda_blas.cc:1786] TensorFloat-32 will be used for the matrix multiplication. This will only be logged once.\n"
     ]
    },
    {
     "name": "stdout",
     "output_type": "stream",
     "text": [
      "     98/Unknown - 2s 6ms/step - loss: 0.7712 - accuracy: 0.7347"
     ]
    },
    {
     "name": "stderr",
     "output_type": "stream",
     "text": [
      "2022-07-13 20:47:41.563567: I tensorflow/core/profiler/lib/profiler_session.cc:99] Profiler session initializing.\n",
      "2022-07-13 20:47:41.563621: I tensorflow/core/profiler/lib/profiler_session.cc:114] Profiler session started.\n"
     ]
    },
    {
     "name": "stdout",
     "output_type": "stream",
     "text": [
      "    108/Unknown - 3s 9ms/step - loss: 0.7552 - accuracy: 0.7396"
     ]
    },
    {
     "name": "stderr",
     "output_type": "stream",
     "text": [
      "2022-07-13 20:47:41.943045: I tensorflow/core/profiler/lib/profiler_session.cc:66] Profiler session collecting data.\n",
      "2022-07-13 20:47:41.946428: I tensorflow/core/profiler/internal/gpu/cupti_tracer.cc:1799] CUPTI activity buffer flushed\n",
      "2022-07-13 20:47:42.019737: I tensorflow/core/profiler/internal/gpu/cupti_collector.cc:521]  GpuTracer has collected 2208 callback api events and 2177 activity events. \n",
      "2022-07-13 20:47:42.054892: I tensorflow/core/profiler/lib/profiler_session.cc:126] Profiler session tear down.\n",
      "2022-07-13 20:47:42.087294: I tensorflow/core/profiler/rpc/client/save_profile.cc:136] Creating directory: ./.tflogs/run_2022_07_13_20_47_38/plugins/profile/2022_07_13_20_47_42\n",
      "\n",
      "2022-07-13 20:47:42.115833: I tensorflow/core/profiler/rpc/client/save_profile.cc:142] Dumped gzipped tool data for trace.json.gz to ./.tflogs/run_2022_07_13_20_47_38/plugins/profile/2022_07_13_20_47_42/desktop.trace.json.gz\n"
     ]
    },
    {
     "name": "stdout",
     "output_type": "stream",
     "text": [
      "    140/Unknown - 3s 10ms/step - loss: 0.7247 - accuracy: 0.7440"
     ]
    },
    {
     "name": "stderr",
     "output_type": "stream",
     "text": [
      "2022-07-13 20:47:42.152245: I tensorflow/core/profiler/rpc/client/save_profile.cc:136] Creating directory: ./.tflogs/run_2022_07_13_20_47_38/plugins/profile/2022_07_13_20_47_42\n",
      "\n",
      "2022-07-13 20:47:42.156985: I tensorflow/core/profiler/rpc/client/save_profile.cc:142] Dumped gzipped tool data for memory_profile.json.gz to ./.tflogs/run_2022_07_13_20_47_38/plugins/profile/2022_07_13_20_47_42/desktop.memory_profile.json.gz\n",
      "2022-07-13 20:47:42.157716: I tensorflow/core/profiler/rpc/client/capture_profile.cc:251] Creating directory: ./.tflogs/run_2022_07_13_20_47_38/plugins/profile/2022_07_13_20_47_42\n",
      "Dumped tool data for xplane.pb to ./.tflogs/run_2022_07_13_20_47_38/plugins/profile/2022_07_13_20_47_42/desktop.xplane.pb\n",
      "Dumped tool data for overview_page.pb to ./.tflogs/run_2022_07_13_20_47_38/plugins/profile/2022_07_13_20_47_42/desktop.overview_page.pb\n",
      "Dumped tool data for input_pipeline.pb to ./.tflogs/run_2022_07_13_20_47_38/plugins/profile/2022_07_13_20_47_42/desktop.input_pipeline.pb\n",
      "Dumped tool data for tensorflow_stats.pb to ./.tflogs/run_2022_07_13_20_47_38/plugins/profile/2022_07_13_20_47_42/desktop.tensorflow_stats.pb\n",
      "Dumped tool data for kernel_stats.pb to ./.tflogs/run_2022_07_13_20_47_38/plugins/profile/2022_07_13_20_47_42/desktop.kernel_stats.pb\n",
      "\n"
     ]
    },
    {
     "name": "stdout",
     "output_type": "stream",
     "text": [
      "1719/1719 [==============================] - 14s 7ms/step - loss: 0.4465 - accuracy: 0.8389 - val_loss: 0.3563 - val_accuracy: 0.8646\n"
     ]
    },
    {
     "data": {
      "text/plain": [
       "<keras.callbacks.History at 0x7fe12e5144c0>"
      ]
     },
     "execution_count": 14,
     "metadata": {},
     "output_type": "execute_result"
    }
   ],
   "source": [
    "train_dataset = read_tf_dataset(SplitType.train)\n",
    "val_dataset = read_tf_dataset(SplitType.validation)\n",
    "\n",
    "model = keras.models.Sequential(\n",
    "    [\n",
    "     keras.layers.Normalization(name=\"normalization\", axis=None),\n",
    "     keras.layers.Flatten(input_shape=X_train.shape[1:], name=\"flatten\"),\n",
    "     keras.layers.Dense(300, activation=\"relu\", name=\"dense1\"),\n",
    "     keras.layers.Dense(100, activation=\"relu\", name=\"dense2\"),\n",
    "     keras.layers.Dense(10, activation=\"softmax\", name=\"dense3\"),\n",
    "    ]\n",
    ")\n",
    "\n",
    "normalization_layer = model.get_layer(\"normalization\")\n",
    "\n",
    "normalization_layer.adapt(train_dataset.take(100).map(lambda X, _: X))\n",
    "\n",
    "model.compile(\n",
    "    loss=\"sparse_categorical_crossentropy\",\n",
    "    optimizer=keras.optimizers.Nadam(),\n",
    "    metrics=[\"accuracy\"],\n",
    ")\n",
    "\n",
    "\n",
    "model.fit(\n",
    "    x=train_dataset,\n",
    "    callbacks=[get_tensorboard_cb(profile_batch=\"100, 110\")],\n",
    "    validation_data=val_dataset,\n",
    "    epochs=1,\n",
    ")"
   ]
  }
 ],
 "metadata": {
  "colab": {
   "authorship_tag": "ABX9TyMjjNdzSjmOz/Wjzk6R9GWM",
   "collapsed_sections": [],
   "name": "chapter_13_mnist.ipynb",
   "provenance": []
  },
  "kernelspec": {
   "display_name": "Python 3 (ipykernel)",
   "language": "python",
   "name": "python3"
  },
  "language_info": {
   "codemirror_mode": {
    "name": "ipython",
    "version": 3
   },
   "file_extension": ".py",
   "mimetype": "text/x-python",
   "name": "python",
   "nbconvert_exporter": "python",
   "pygments_lexer": "ipython3",
   "version": "3.10.4"
  }
 },
 "nbformat": 4,
 "nbformat_minor": 4
}
