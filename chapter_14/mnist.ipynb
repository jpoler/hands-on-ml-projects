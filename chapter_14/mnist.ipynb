{
 "cells": [
  {
   "cell_type": "code",
   "execution_count": 1,
   "id": "59d1f059-27f8-4d64-bcea-9fa1ba4c5f98",
   "metadata": {
    "execution": {
     "iopub.execute_input": "2022-07-17T01:26:19.248980Z",
     "iopub.status.busy": "2022-07-17T01:26:19.247853Z",
     "iopub.status.idle": "2022-07-17T01:26:21.115467Z",
     "shell.execute_reply": "2022-07-17T01:26:21.114157Z",
     "shell.execute_reply.started": "2022-07-17T01:26:19.248850Z"
    },
    "tags": []
   },
   "outputs": [
    {
     "name": "stderr",
     "output_type": "stream",
     "text": [
      "2022-07-16 21:26:19.839048: I tensorflow/core/util/util.cc:169] oneDNN custom operations are on. You may see slightly different numerical results due to floating-point round-off errors from different computation orders. To turn them off, set the environment variable `TF_ENABLE_ONEDNN_OPTS=0`.\n"
     ]
    }
   ],
   "source": [
    "%matplotlib inline\n",
    "import matplotlib as mpl\n",
    "import matplotlib.pyplot as plt\n",
    "\n",
    "import math\n",
    "import os\n",
    "import time\n",
    "\n",
    "import numpy as np\n",
    "import tensorflow as tf\n",
    "from tensorflow import keras\n",
    "from sklearn.model_selection import train_test_split\n",
    "from sklearn.preprocessing import MinMaxScaler"
   ]
  },
  {
   "cell_type": "code",
   "execution_count": 2,
   "id": "09648f86-b4ee-445e-ad0a-c94d079bf934",
   "metadata": {
    "execution": {
     "iopub.execute_input": "2022-07-17T01:26:21.118247Z",
     "iopub.status.busy": "2022-07-17T01:26:21.117665Z",
     "iopub.status.idle": "2022-07-17T01:26:21.306563Z",
     "shell.execute_reply": "2022-07-17T01:26:21.305675Z",
     "shell.execute_reply.started": "2022-07-17T01:26:21.118214Z"
    },
    "tags": []
   },
   "outputs": [
    {
     "name": "stdout",
     "output_type": "stream",
     "text": [
      "(60000, 28, 28)\n",
      "(60000,)\n"
     ]
    }
   ],
   "source": [
    "(X_train_full, y_train_full), (X_test, y_test) = keras.datasets.mnist.load_data()\n",
    "print(X_train_full.shape)\n",
    "print(y_train_full.shape)"
   ]
  },
  {
   "cell_type": "code",
   "execution_count": 3,
   "id": "f8adfae1-ae0f-4324-b6fc-8b9f8851ebbf",
   "metadata": {
    "execution": {
     "iopub.execute_input": "2022-07-17T01:26:21.308538Z",
     "iopub.status.busy": "2022-07-17T01:26:21.307957Z",
     "iopub.status.idle": "2022-07-17T01:26:21.337321Z",
     "shell.execute_reply": "2022-07-17T01:26:21.336490Z",
     "shell.execute_reply.started": "2022-07-17T01:26:21.308496Z"
    },
    "tags": []
   },
   "outputs": [],
   "source": [
    "X_train, X_val, y_train, y_val = train_test_split(X_train_full, y_train_full, test_size=5000, random_state=42)"
   ]
  },
  {
   "cell_type": "code",
   "execution_count": 4,
   "id": "130d3537-f682-4814-a116-884a1a562b3a",
   "metadata": {
    "execution": {
     "iopub.execute_input": "2022-07-17T01:26:21.338593Z",
     "iopub.status.busy": "2022-07-17T01:26:21.338221Z",
     "iopub.status.idle": "2022-07-17T01:26:21.409413Z",
     "shell.execute_reply": "2022-07-17T01:26:21.408451Z",
     "shell.execute_reply.started": "2022-07-17T01:26:21.338570Z"
    },
    "tags": []
   },
   "outputs": [
    {
     "name": "stdout",
     "output_type": "stream",
     "text": [
      "0\n",
      "255\n"
     ]
    }
   ],
   "source": [
    "print(X_train.min())\n",
    "print(X_train.max())"
   ]
  },
  {
   "cell_type": "code",
   "execution_count": 5,
   "id": "fcc28795-2a2f-4eb6-993d-b18d5a7016f5",
   "metadata": {
    "execution": {
     "iopub.execute_input": "2022-07-17T01:26:21.411532Z",
     "iopub.status.busy": "2022-07-17T01:26:21.410972Z",
     "iopub.status.idle": "2022-07-17T01:26:21.529077Z",
     "shell.execute_reply": "2022-07-17T01:26:21.527697Z",
     "shell.execute_reply.started": "2022-07-17T01:26:21.411491Z"
    },
    "tags": []
   },
   "outputs": [],
   "source": [
    "X_train = X_train / 255.\n",
    "X_val = X_val / 255.\n",
    "X_test = X_test / 255.\n",
    "\n",
    "X_train = np.expand_dims(X_train, axis=-1)\n",
    "X_val = np.expand_dims(X_val, axis=-1)\n",
    "X_test = np.expand_dims(X_test, axis=-1)"
   ]
  },
  {
   "cell_type": "code",
   "execution_count": 6,
   "id": "9eaed495-0c69-49a3-b36b-b485287b6759",
   "metadata": {
    "execution": {
     "iopub.execute_input": "2022-07-17T01:26:21.531334Z",
     "iopub.status.busy": "2022-07-17T01:26:21.530589Z",
     "iopub.status.idle": "2022-07-17T01:26:21.539387Z",
     "shell.execute_reply": "2022-07-17T01:26:21.538710Z",
     "shell.execute_reply.started": "2022-07-17T01:26:21.531290Z"
    },
    "tags": []
   },
   "outputs": [],
   "source": [
    "class LearningRateCallback(keras.callbacks.Callback):\n",
    "    def __init__(self, initial_learning_rate, final_learning_rate, steps):\n",
    "        self.factor = math.exp(math.log(final_learning_rate/float(initial_learning_rate))/steps)\n",
    "        self.losses = []\n",
    "        self.learning_rates = []\n",
    "    \n",
    "    def on_batch_end(self, batch, logs):\n",
    "        self.losses.append(logs.get(\"loss\"))\n",
    "        learning_rate = keras.backend.get_value(self.model.optimizer.learning_rate)\n",
    "        self.learning_rates.append(learning_rate)\n",
    "        keras.backend.set_value(self.model.optimizer.learning_rate, learning_rate*self.factor)"
   ]
  },
  {
   "cell_type": "code",
   "execution_count": 7,
   "id": "eef407a1-c137-411b-9590-fd6a5278ec46",
   "metadata": {
    "execution": {
     "iopub.execute_input": "2022-07-17T01:26:21.541145Z",
     "iopub.status.busy": "2022-07-17T01:26:21.540891Z",
     "iopub.status.idle": "2022-07-17T01:26:21.558584Z",
     "shell.execute_reply": "2022-07-17T01:26:21.557388Z",
     "shell.execute_reply.started": "2022-07-17T01:26:21.541132Z"
    },
    "tags": []
   },
   "outputs": [],
   "source": [
    "def find_best_learning_rate(\n",
    "    X_train, \n",
    "    X_val, \n",
    "    y_train, \n",
    "    y_val, \n",
    "    compiled_model, \n",
    "    n_steps=500,\n",
    "    learning_rate_min=1e-5, \n",
    "    learning_rate_max=1e-1,\n",
    "    ):\n",
    "    keras.backend.clear_session()\n",
    "    np.random.seed(42)\n",
    "    tf.random.set_seed(42)  \n",
    "    \n",
    "    learning_rate_callback = LearningRateCallback(learning_rate_min, learning_rate_max, n_steps)\n",
    "    \n",
    "    history = compiled_model.fit(\n",
    "      X_train,\n",
    "      y_train,\n",
    "      epochs=1,\n",
    "      steps_per_epoch=n_steps,\n",
    "      validation_data=(X_val, y_val),\n",
    "      callbacks=[learning_rate_callback],\n",
    "    )\n",
    "    \n",
    "    \n",
    "    learning_rates = np.array(learning_rate_callback.learning_rates)\n",
    "    losses = np.array(learning_rate_callback.losses)\n",
    "    idx = losses < 10000\n",
    "    learning_rates_clean = learning_rates[idx]\n",
    "    losses_clean = losses[idx]\n",
    "    \n",
    "    plt.plot(learning_rates_clean, losses_clean)\n",
    "    best_idx = np.argmin(losses_clean)\n",
    "    best_learning_rate = learning_rates[best_idx] / 15.\n",
    "    return best_learning_rate"
   ]
  },
  {
   "cell_type": "code",
   "execution_count": 8,
   "id": "6b73aa49-3b43-4c3c-aeea-27cdf6415780",
   "metadata": {
    "execution": {
     "iopub.execute_input": "2022-07-17T01:26:21.559741Z",
     "iopub.status.busy": "2022-07-17T01:26:21.559521Z",
     "iopub.status.idle": "2022-07-17T01:26:21.570295Z",
     "shell.execute_reply": "2022-07-17T01:26:21.569406Z",
     "shell.execute_reply.started": "2022-07-17T01:26:21.559721Z"
    },
    "tags": []
   },
   "outputs": [],
   "source": [
    "def build_model(input_shape=None, output_shape=10, dropout=False, local_response_normalization=False, learning_rate=1e-3, compile=True):\n",
    "    if not input_shape:\n",
    "        input_shape = (28, 28, 1)\n",
    "    \n",
    "    model = keras.models.Sequential()\n",
    "    \n",
    "    # convolutional layers\n",
    "    model.add(keras.layers.Conv2D(32, (3, 3), padding=\"same\", activation=\"relu\", input_shape=input_shape))\n",
    "    model.add(keras.layers.MaxPool2D((2, 2)))\n",
    "    if local_response_normalization:\n",
    "        model.add(keras.layers.Lambda(tf.nn.local_response_normalization))\n",
    "    model.add(keras.layers.Conv2D(32, (1, 1), padding=\"same\", activation=\"relu\"))\n",
    "    model.add(keras.layers.Conv2D(64, (3, 3), padding=\"same\", activation=\"relu\"))\n",
    "    model.add(keras.layers.MaxPool2D((2, 2)))\n",
    "    model.add(keras.layers.Conv2D(32, (1, 1), padding=\"same\", activation=\"relu\"))\n",
    "    model.add(keras.layers.Conv2D(64, (3, 3), padding=\"same\", activation=\"relu\"))\n",
    "    \n",
    "    # dense layers\n",
    "    model.add(keras.layers.Flatten())\n",
    "    if dropout:\n",
    "        model.add(keras.layers.Dropout(rate=0.4))\n",
    "    model.add(keras.layers.Dense(64, activation=\"relu\"))\n",
    "    if dropout:\n",
    "        model.add(keras.layers.Dropout(rate=0.4))\n",
    "    model.add(keras.layers.Dense(output_shape))\n",
    "                  \n",
    "    if compile:\n",
    "        model.compile(\n",
    "            loss=keras.losses.SparseCategoricalCrossentropy(from_logits=True),\n",
    "            optimizer=keras.optimizers.Adam(learning_rate=learning_rate),\n",
    "            metrics=[\"accuracy\"],\n",
    "        )\n",
    "    \n",
    "    return model"
   ]
  },
  {
   "cell_type": "code",
   "execution_count": 9,
   "id": "bc7b1856-e24c-41b4-8e9f-118235c24c87",
   "metadata": {
    "execution": {
     "iopub.execute_input": "2022-07-17T01:26:21.571640Z",
     "iopub.status.busy": "2022-07-17T01:26:21.571349Z",
     "iopub.status.idle": "2022-07-17T01:26:21.585652Z",
     "shell.execute_reply": "2022-07-17T01:26:21.584512Z",
     "shell.execute_reply.started": "2022-07-17T01:26:21.571614Z"
    },
    "tags": []
   },
   "outputs": [],
   "source": [
    "def train_model(\n",
    "    X_train, \n",
    "    X_val, \n",
    "    y_train, \n",
    "    y_val, \n",
    "    name, \n",
    "    compiled_model, \n",
    "    callbacks=None,\n",
    "    n_epochs=500,\n",
    "    batch_size=32,\n",
    "    ):\n",
    "    callbacks = callbacks or []\n",
    "    keras.backend.clear_session()\n",
    "    np.random.seed(42)\n",
    "    tf.random.set_seed(42)\n",
    "    \n",
    "    checkpoint_cb = keras.callbacks.ModelCheckpoint(f\"{name}_model.h5\", save_best_only=True)\n",
    "    early_stopping_cb = keras.callbacks.EarlyStopping(patience=10, restore_best_weights=True)\n",
    "    tensorboard_cb = get_tensorboard_cb()\n",
    "    \n",
    "    history = compiled_model.fit(\n",
    "      X_train,\n",
    "      y_train,\n",
    "      epochs=n_epochs,\n",
    "      batch_size=batch_size,\n",
    "      validation_data=(X_val, y_val),\n",
    "      callbacks=callbacks + [checkpoint_cb, early_stopping_cb, tensorboard_cb],\n",
    "    )"
   ]
  },
  {
   "cell_type": "code",
   "execution_count": 10,
   "id": "467f3eb4-01e1-4ab4-a713-5c3e35d9b723",
   "metadata": {
    "execution": {
     "iopub.execute_input": "2022-07-17T01:26:21.587322Z",
     "iopub.status.busy": "2022-07-17T01:26:21.586950Z",
     "iopub.status.idle": "2022-07-17T01:26:21.599856Z",
     "shell.execute_reply": "2022-07-17T01:26:21.598829Z",
     "shell.execute_reply.started": "2022-07-17T01:26:21.587289Z"
    },
    "tags": []
   },
   "outputs": [],
   "source": [
    "def get_tensorboard_cb():\n",
    "    base_dir = os.path.join(os.curdir, \".tflogs\")\n",
    "    run_id = time.strftime(\"run_%Y_%m_%d_%H_%M_%S\")\n",
    "    run_dir = os.path.join(base_dir, run_id)\n",
    "    return keras.callbacks.TensorBoard(run_dir)    "
   ]
  },
  {
   "cell_type": "code",
   "execution_count": 11,
   "id": "a2a74a2e-80c9-4549-b1f7-776a4659503e",
   "metadata": {
    "execution": {
     "iopub.execute_input": "2022-07-17T01:26:21.601675Z",
     "iopub.status.busy": "2022-07-17T01:26:21.601250Z",
     "iopub.status.idle": "2022-07-17T01:26:22.307477Z",
     "shell.execute_reply": "2022-07-17T01:26:22.306696Z",
     "shell.execute_reply.started": "2022-07-17T01:26:21.601636Z"
    },
    "tags": []
   },
   "outputs": [
    {
     "name": "stderr",
     "output_type": "stream",
     "text": [
      "2022-07-16 21:26:21.632719: I tensorflow/core/platform/cpu_feature_guard.cc:193] This TensorFlow binary is optimized with oneAPI Deep Neural Network Library (oneDNN) to use the following CPU instructions in performance-critical operations:  AVX2 AVX512F AVX512_VNNI FMA\n",
      "To enable them in other operations, rebuild TensorFlow with the appropriate compiler flags.\n",
      "2022-07-16 21:26:22.060073: I tensorflow/core/common_runtime/gpu/gpu_device.cc:1532] Created device /job:localhost/replica:0/task:0/device:GPU:0 with 22307 MB memory:  -> device: 0, name: NVIDIA GeForce RTX 3090, pci bus id: 0000:68:00.0, compute capability: 8.6\n"
     ]
    }
   ],
   "source": [
    "model = build_model(learning_rate=1e-5)"
   ]
  },
  {
   "cell_type": "code",
   "execution_count": 12,
   "id": "0b5a8fa6-67b8-4b50-a355-eebcb9340b9f",
   "metadata": {
    "execution": {
     "iopub.execute_input": "2022-07-17T01:26:22.308287Z",
     "iopub.status.busy": "2022-07-17T01:26:22.308121Z",
     "iopub.status.idle": "2022-07-17T01:26:22.338447Z",
     "shell.execute_reply": "2022-07-17T01:26:22.337522Z",
     "shell.execute_reply.started": "2022-07-17T01:26:22.308272Z"
    },
    "tags": []
   },
   "outputs": [
    {
     "name": "stdout",
     "output_type": "stream",
     "text": [
      "Model: \"sequential\"\n",
      "_________________________________________________________________\n",
      " Layer (type)                Output Shape              Param #   \n",
      "=================================================================\n",
      " conv2d (Conv2D)             (None, 28, 28, 32)        320       \n",
      "                                                                 \n",
      " max_pooling2d (MaxPooling2D  (None, 14, 14, 32)       0         \n",
      " )                                                               \n",
      "                                                                 \n",
      " conv2d_1 (Conv2D)           (None, 14, 14, 32)        1056      \n",
      "                                                                 \n",
      " conv2d_2 (Conv2D)           (None, 14, 14, 64)        18496     \n",
      "                                                                 \n",
      " max_pooling2d_1 (MaxPooling  (None, 7, 7, 64)         0         \n",
      " 2D)                                                             \n",
      "                                                                 \n",
      " conv2d_3 (Conv2D)           (None, 7, 7, 32)          2080      \n",
      "                                                                 \n",
      " conv2d_4 (Conv2D)           (None, 7, 7, 64)          18496     \n",
      "                                                                 \n",
      " flatten (Flatten)           (None, 3136)              0         \n",
      "                                                                 \n",
      " dense (Dense)               (None, 64)                200768    \n",
      "                                                                 \n",
      " dense_1 (Dense)             (None, 10)                650       \n",
      "                                                                 \n",
      "=================================================================\n",
      "Total params: 241,866\n",
      "Trainable params: 241,866\n",
      "Non-trainable params: 0\n",
      "_________________________________________________________________\n"
     ]
    }
   ],
   "source": [
    "model.summary()"
   ]
  },
  {
   "cell_type": "code",
   "execution_count": 13,
   "id": "aa5bd390-052f-4a56-9af6-e46b56cf58cc",
   "metadata": {
    "execution": {
     "iopub.execute_input": "2022-07-17T01:26:22.340370Z",
     "iopub.status.busy": "2022-07-17T01:26:22.339810Z",
     "iopub.status.idle": "2022-07-17T01:26:30.295442Z",
     "shell.execute_reply": "2022-07-17T01:26:30.294036Z",
     "shell.execute_reply.started": "2022-07-17T01:26:22.340329Z"
    },
    "tags": []
   },
   "outputs": [
    {
     "name": "stderr",
     "output_type": "stream",
     "text": [
      "2022-07-16 21:26:23.444820: I tensorflow/stream_executor/cuda/cuda_dnn.cc:384] Loaded cuDNN version 8100\n",
      "2022-07-16 21:26:24.060068: I tensorflow/core/platform/default/subprocess.cc:304] Start cannot spawn child process: No such file or directory\n",
      "2022-07-16 21:26:24.061188: I tensorflow/core/platform/default/subprocess.cc:304] Start cannot spawn child process: No such file or directory\n",
      "2022-07-16 21:26:24.061226: W tensorflow/stream_executor/gpu/asm_compiler.cc:80] Couldn't get ptxas version string: INTERNAL: Couldn't invoke ptxas --version\n",
      "2022-07-16 21:26:24.062888: I tensorflow/core/platform/default/subprocess.cc:304] Start cannot spawn child process: No such file or directory\n",
      "2022-07-16 21:26:24.062993: W tensorflow/stream_executor/gpu/redzone_allocator.cc:314] INTERNAL: Failed to launch ptxas\n",
      "Relying on driver to perform ptx compilation. \n",
      "Modify $PATH to customize ptxas location.\n",
      "This message will be only logged once.\n"
     ]
    },
    {
     "name": "stdout",
     "output_type": "stream",
     "text": [
      "  1/500 [..............................] - ETA: 18:20 - loss: 2.3078 - accuracy: 0.0636"
     ]
    },
    {
     "name": "stderr",
     "output_type": "stream",
     "text": [
      "2022-07-16 21:26:24.597451: I tensorflow/stream_executor/cuda/cuda_blas.cc:1786] TensorFloat-32 will be used for the matrix multiplication. This will only be logged once.\n"
     ]
    },
    {
     "name": "stdout",
     "output_type": "stream",
     "text": [
      "500/500 [==============================] - 8s 11ms/step - loss: 1.0339 - accuracy: 0.6692 - val_loss: 2.3098 - val_accuracy: 0.1026\n"
     ]
    },
    {
     "data": {
      "text/plain": [
       "0.002420520782470703"
      ]
     },
     "execution_count": 13,
     "metadata": {},
     "output_type": "execute_result"
    },
    {
     "data": {
      "image/png": "[encoded data removed]",
      "text/plain": [
       "<Figure size 432x288 with 1 Axes>"
      ]
     },
     "metadata": {
      "needs_background": "light"
     },
     "output_type": "display_data"
    }
   ],
   "source": [
    "best_learning_rate = find_best_learning_rate(X_train, X_val, y_train, y_val, model)\n",
    "best_learning_rate"
   ]
  },
  {
   "cell_type": "code",
   "execution_count": 14,
   "id": "a12eb207-439d-4093-b8fc-22b9a78ff278",
   "metadata": {
    "execution": {
     "iopub.execute_input": "2022-07-17T01:26:30.297657Z",
     "iopub.status.busy": "2022-07-17T01:26:30.297073Z",
     "iopub.status.idle": "2022-07-17T01:31:02.503468Z",
     "shell.execute_reply": "2022-07-17T01:31:02.501966Z",
     "shell.execute_reply.started": "2022-07-17T01:26:30.297612Z"
    },
    "tags": []
   },
   "outputs": [
    {
     "name": "stdout",
     "output_type": "stream",
     "text": [
      "Epoch 1/500\n",
      "1719/1719 [==============================] - 15s 8ms/step - loss: 0.1196 - accuracy: 0.9621 - val_loss: 0.0547 - val_accuracy: 0.9832\n",
      "Epoch 2/500\n",
      "1719/1719 [==============================] - 14s 8ms/step - loss: 0.0510 - accuracy: 0.9841 - val_loss: 0.0843 - val_accuracy: 0.9742\n",
      "Epoch 3/500\n",
      "1719/1719 [==============================] - 14s 8ms/step - loss: 0.0393 - accuracy: 0.9877 - val_loss: 0.0638 - val_accuracy: 0.9818\n",
      "Epoch 4/500\n",
      "1719/1719 [==============================] - 14s 8ms/step - loss: 0.0327 - accuracy: 0.9902 - val_loss: 0.0492 - val_accuracy: 0.9858\n",
      "Epoch 5/500\n",
      "1719/1719 [==============================] - 14s 8ms/step - loss: 0.0286 - accuracy: 0.9915 - val_loss: 0.0582 - val_accuracy: 0.9858\n",
      "Epoch 6/500\n",
      "1719/1719 [==============================] - 14s 8ms/step - loss: 0.0259 - accuracy: 0.9923 - val_loss: 0.0443 - val_accuracy: 0.9862\n",
      "Epoch 7/500\n",
      "1719/1719 [==============================] - 14s 8ms/step - loss: 0.0240 - accuracy: 0.9925 - val_loss: 0.0581 - val_accuracy: 0.9880\n",
      "Epoch 8/500\n",
      "1719/1719 [==============================] - 14s 8ms/step - loss: 0.0224 - accuracy: 0.9936 - val_loss: 0.0505 - val_accuracy: 0.9884\n",
      "Epoch 9/500\n",
      "1719/1719 [==============================] - 14s 8ms/step - loss: 0.0202 - accuracy: 0.9939 - val_loss: 0.0432 - val_accuracy: 0.9902\n",
      "Epoch 10/500\n",
      "1719/1719 [==============================] - 14s 8ms/step - loss: 0.0221 - accuracy: 0.9941 - val_loss: 0.0464 - val_accuracy: 0.9872\n",
      "Epoch 11/500\n",
      "1719/1719 [==============================] - 14s 8ms/step - loss: 0.0183 - accuracy: 0.9947 - val_loss: 0.0532 - val_accuracy: 0.9884\n",
      "Epoch 12/500\n",
      "1719/1719 [==============================] - 14s 8ms/step - loss: 0.0192 - accuracy: 0.9946 - val_loss: 0.0645 - val_accuracy: 0.9872\n",
      "Epoch 13/500\n",
      "1719/1719 [==============================] - 14s 8ms/step - loss: 0.0185 - accuracy: 0.9947 - val_loss: 0.0514 - val_accuracy: 0.9894\n",
      "Epoch 14/500\n",
      "1719/1719 [==============================] - 14s 8ms/step - loss: 0.0154 - accuracy: 0.9951 - val_loss: 0.0582 - val_accuracy: 0.9892\n",
      "Epoch 15/500\n",
      "1719/1719 [==============================] - 14s 8ms/step - loss: 0.0188 - accuracy: 0.9945 - val_loss: 0.0724 - val_accuracy: 0.9884\n",
      "Epoch 16/500\n",
      "1719/1719 [==============================] - 14s 8ms/step - loss: 0.0183 - accuracy: 0.9951 - val_loss: 0.0797 - val_accuracy: 0.9878\n",
      "Epoch 17/500\n",
      "1719/1719 [==============================] - 14s 8ms/step - loss: 0.0178 - accuracy: 0.9955 - val_loss: 0.0869 - val_accuracy: 0.9890\n",
      "Epoch 18/500\n",
      "1719/1719 [==============================] - 14s 8ms/step - loss: 0.0169 - accuracy: 0.9957 - val_loss: 0.0841 - val_accuracy: 0.9894\n",
      "Epoch 19/500\n",
      "1719/1719 [==============================] - 14s 8ms/step - loss: 0.0161 - accuracy: 0.9959 - val_loss: 0.0605 - val_accuracy: 0.9894\n"
     ]
    }
   ],
   "source": [
    "model = build_model(learning_rate=best_learning_rate)\n",
    "train_model(X_train, X_val, y_train, y_val, \"basic_convolution\", model)"
   ]
  },
  {
   "cell_type": "code",
   "execution_count": 15,
   "id": "82aff47b-0d7c-4dec-ba19-5d3eeba4b728",
   "metadata": {
    "execution": {
     "iopub.execute_input": "2022-07-17T01:31:02.505678Z",
     "iopub.status.busy": "2022-07-17T01:31:02.505098Z",
     "iopub.status.idle": "2022-07-17T01:31:08.787455Z",
     "shell.execute_reply": "2022-07-17T01:31:08.786745Z",
     "shell.execute_reply.started": "2022-07-17T01:31:02.505639Z"
    },
    "tags": []
   },
   "outputs": [
    {
     "name": "stdout",
     "output_type": "stream",
     "text": [
      "500/500 [==============================] - 6s 11ms/step - loss: 1.1507 - accuracy: 0.6171 - val_loss: 2.3230 - val_accuracy: 0.1040\n"
     ]
    },
    {
     "data": {
      "text/plain": [
       "0.0022485824922720593"
      ]
     },
     "execution_count": 15,
     "metadata": {},
     "output_type": "execute_result"
    },
    {
     "data": {
      "image/png": "[encoded data removed]",
      "text/plain": [
       "<Figure size 432x288 with 1 Axes>"
      ]
     },
     "metadata": {
      "needs_background": "light"
     },
     "output_type": "display_data"
    }
   ],
   "source": [
    "model = build_model(learning_rate=1e-5, dropout=True)\n",
    "best_learning_rate = find_best_learning_rate(X_train, X_val, y_train, y_val, model)\n",
    "best_learning_rate"
   ]
  },
  {
   "cell_type": "code",
   "execution_count": 16,
   "id": "35e4c9f0-09e7-4310-a8fb-48b22140d95b",
   "metadata": {
    "execution": {
     "iopub.execute_input": "2022-07-17T01:31:08.788450Z",
     "iopub.status.busy": "2022-07-17T01:31:08.788293Z",
     "iopub.status.idle": "2022-07-17T01:36:32.302743Z",
     "shell.execute_reply": "2022-07-17T01:36:32.301525Z",
     "shell.execute_reply.started": "2022-07-17T01:31:08.788436Z"
    },
    "tags": []
   },
   "outputs": [
    {
     "name": "stdout",
     "output_type": "stream",
     "text": [
      "Epoch 1/500\n",
      "1719/1719 [==============================] - 15s 9ms/step - loss: 0.2162 - accuracy: 0.9352 - val_loss: 0.0670 - val_accuracy: 0.9808\n",
      "Epoch 2/500\n",
      "1719/1719 [==============================] - 15s 9ms/step - loss: 0.0994 - accuracy: 0.9724 - val_loss: 0.0515 - val_accuracy: 0.9830\n",
      "Epoch 3/500\n",
      "1719/1719 [==============================] - 15s 9ms/step - loss: 0.0823 - accuracy: 0.9771 - val_loss: 0.0597 - val_accuracy: 0.9814\n",
      "Epoch 4/500\n",
      "1719/1719 [==============================] - 15s 9ms/step - loss: 0.0691 - accuracy: 0.9800 - val_loss: 0.0522 - val_accuracy: 0.9854\n",
      "Epoch 5/500\n",
      "1719/1719 [==============================] - 15s 9ms/step - loss: 0.0642 - accuracy: 0.9823 - val_loss: 0.0494 - val_accuracy: 0.9860\n",
      "Epoch 6/500\n",
      "1719/1719 [==============================] - 15s 9ms/step - loss: 0.0617 - accuracy: 0.9825 - val_loss: 0.0493 - val_accuracy: 0.9874\n",
      "Epoch 7/500\n",
      "1719/1719 [==============================] - 15s 9ms/step - loss: 0.0570 - accuracy: 0.9838 - val_loss: 0.0475 - val_accuracy: 0.9888\n",
      "Epoch 8/500\n",
      "1719/1719 [==============================] - 15s 9ms/step - loss: 0.0573 - accuracy: 0.9830 - val_loss: 0.0549 - val_accuracy: 0.9872\n",
      "Epoch 9/500\n",
      "1719/1719 [==============================] - 15s 9ms/step - loss: 0.0535 - accuracy: 0.9849 - val_loss: 0.0353 - val_accuracy: 0.9914\n",
      "Epoch 10/500\n",
      "1719/1719 [==============================] - 15s 9ms/step - loss: 0.0534 - accuracy: 0.9847 - val_loss: 0.0450 - val_accuracy: 0.9908\n",
      "Epoch 11/500\n",
      "1719/1719 [==============================] - 15s 9ms/step - loss: 0.0523 - accuracy: 0.9849 - val_loss: 0.0342 - val_accuracy: 0.9902\n",
      "Epoch 12/500\n",
      "1719/1719 [==============================] - 15s 9ms/step - loss: 0.0464 - accuracy: 0.9868 - val_loss: 0.0327 - val_accuracy: 0.9922\n",
      "Epoch 13/500\n",
      "1719/1719 [==============================] - 15s 8ms/step - loss: 0.0481 - accuracy: 0.9872 - val_loss: 0.0344 - val_accuracy: 0.9910\n",
      "Epoch 14/500\n",
      "1719/1719 [==============================] - 15s 9ms/step - loss: 0.0458 - accuracy: 0.9868 - val_loss: 0.0585 - val_accuracy: 0.9860\n",
      "Epoch 15/500\n",
      "1719/1719 [==============================] - 15s 9ms/step - loss: 0.0464 - accuracy: 0.9869 - val_loss: 0.0477 - val_accuracy: 0.9890\n",
      "Epoch 16/500\n",
      "1719/1719 [==============================] - 15s 9ms/step - loss: 0.0459 - accuracy: 0.9871 - val_loss: 0.0455 - val_accuracy: 0.9886\n",
      "Epoch 17/500\n",
      "1719/1719 [==============================] - 15s 9ms/step - loss: 0.0451 - accuracy: 0.9873 - val_loss: 0.0447 - val_accuracy: 0.9890\n",
      "Epoch 18/500\n",
      "1719/1719 [==============================] - 15s 9ms/step - loss: 0.0451 - accuracy: 0.9874 - val_loss: 0.0434 - val_accuracy: 0.9882\n",
      "Epoch 19/500\n",
      "1719/1719 [==============================] - 15s 9ms/step - loss: 0.0462 - accuracy: 0.9874 - val_loss: 0.0359 - val_accuracy: 0.9916\n",
      "Epoch 20/500\n",
      "1719/1719 [==============================] - 15s 9ms/step - loss: 0.0446 - accuracy: 0.9873 - val_loss: 0.0525 - val_accuracy: 0.9904\n",
      "Epoch 21/500\n",
      "1719/1719 [==============================] - 15s 9ms/step - loss: 0.0463 - accuracy: 0.9877 - val_loss: 0.0649 - val_accuracy: 0.9874\n",
      "Epoch 22/500\n",
      "1719/1719 [==============================] - 15s 9ms/step - loss: 0.0435 - accuracy: 0.9881 - val_loss: 0.0448 - val_accuracy: 0.9910\n"
     ]
    }
   ],
   "source": [
    "model = build_model(learning_rate=best_learning_rate, dropout=True)\n",
    "train_model(X_train, X_val, y_train, y_val, \"basic_convolution_dropout\", model)"
   ]
  },
  {
   "cell_type": "code",
   "execution_count": 17,
   "id": "11cf5f9d-1e83-48e1-a21e-424e90e94749",
   "metadata": {
    "execution": {
     "iopub.execute_input": "2022-07-17T01:36:32.304628Z",
     "iopub.status.busy": "2022-07-17T01:36:32.304271Z",
     "iopub.status.idle": "2022-07-17T01:36:38.432504Z",
     "shell.execute_reply": "2022-07-17T01:36:38.431738Z",
     "shell.execute_reply.started": "2022-07-17T01:36:32.304598Z"
    },
    "tags": []
   },
   "outputs": [
    {
     "name": "stdout",
     "output_type": "stream",
     "text": [
      "500/500 [==============================] - 6s 11ms/step - loss: 1.2008 - accuracy: 0.6144 - val_loss: 2.3323 - val_accuracy: 0.0972\n"
     ]
    },
    {
     "data": {
      "text/plain": [
       "0.003250190615653992"
      ]
     },
     "execution_count": 17,
     "metadata": {},
     "output_type": "execute_result"
    },
    {
     "data": {
      "image/png": "[encoded data removed]",
      "text/plain": [
       "<Figure size 432x288 with 1 Axes>"
      ]
     },
     "metadata": {
      "needs_background": "light"
     },
     "output_type": "display_data"
    }
   ],
   "source": [
    "model = build_model(learning_rate=1e-5, dropout=True, local_response_normalization=True)\n",
    "best_learning_rate = find_best_learning_rate(X_train, X_val, y_train, y_val, model)\n",
    "best_learning_rate"
   ]
  },
  {
   "cell_type": "code",
   "execution_count": 20,
   "id": "ed8774db-f013-4b0b-8382-92b9e689d590",
   "metadata": {
    "execution": {
     "iopub.execute_input": "2022-07-17T01:47:02.903210Z",
     "iopub.status.busy": "2022-07-17T01:47:02.902587Z",
     "iopub.status.idle": "2022-07-17T01:53:01.062424Z",
     "shell.execute_reply": "2022-07-17T01:53:01.061256Z",
     "shell.execute_reply.started": "2022-07-17T01:47:02.903161Z"
    },
    "tags": []
   },
   "outputs": [
    {
     "name": "stdout",
     "output_type": "stream",
     "text": [
      "Epoch 1/500\n",
      "1719/1719 [==============================] - 15s 9ms/step - loss: 0.2148 - accuracy: 0.9348 - val_loss: 0.0649 - val_accuracy: 0.9814\n",
      "Epoch 2/500\n",
      "1719/1719 [==============================] - 15s 9ms/step - loss: 0.0961 - accuracy: 0.9726 - val_loss: 0.0431 - val_accuracy: 0.9870\n",
      "Epoch 3/500\n",
      "1719/1719 [==============================] - 15s 9ms/step - loss: 0.0786 - accuracy: 0.9778 - val_loss: 0.0495 - val_accuracy: 0.9852\n",
      "Epoch 4/500\n",
      "1719/1719 [==============================] - 15s 9ms/step - loss: 0.0680 - accuracy: 0.9808 - val_loss: 0.0398 - val_accuracy: 0.9886\n",
      "Epoch 5/500\n",
      "1719/1719 [==============================] - 15s 9ms/step - loss: 0.0595 - accuracy: 0.9833 - val_loss: 0.0396 - val_accuracy: 0.9886\n",
      "Epoch 6/500\n",
      "1719/1719 [==============================] - 15s 9ms/step - loss: 0.0573 - accuracy: 0.9832 - val_loss: 0.0424 - val_accuracy: 0.9888\n",
      "Epoch 7/500\n",
      "1719/1719 [==============================] - 15s 9ms/step - loss: 0.0532 - accuracy: 0.9848 - val_loss: 0.0407 - val_accuracy: 0.9896\n",
      "Epoch 8/500\n",
      "1719/1719 [==============================] - 15s 9ms/step - loss: 0.0520 - accuracy: 0.9846 - val_loss: 0.0480 - val_accuracy: 0.9884\n",
      "Epoch 9/500\n",
      "1719/1719 [==============================] - 15s 9ms/step - loss: 0.0468 - accuracy: 0.9867 - val_loss: 0.0363 - val_accuracy: 0.9918\n",
      "Epoch 10/500\n",
      "1719/1719 [==============================] - 15s 9ms/step - loss: 0.0442 - accuracy: 0.9871 - val_loss: 0.0394 - val_accuracy: 0.9894\n",
      "Epoch 11/500\n",
      "1719/1719 [==============================] - 15s 9ms/step - loss: 0.0443 - accuracy: 0.9873 - val_loss: 0.0458 - val_accuracy: 0.9902\n",
      "Epoch 12/500\n",
      "1719/1719 [==============================] - 15s 9ms/step - loss: 0.0443 - accuracy: 0.9873 - val_loss: 0.0374 - val_accuracy: 0.9890\n",
      "Epoch 13/500\n",
      "1719/1719 [==============================] - 15s 9ms/step - loss: 0.0442 - accuracy: 0.9877 - val_loss: 0.0360 - val_accuracy: 0.9916\n",
      "Epoch 14/500\n",
      "1719/1719 [==============================] - 15s 9ms/step - loss: 0.0395 - accuracy: 0.9886 - val_loss: 0.0348 - val_accuracy: 0.9902\n",
      "Epoch 15/500\n",
      "1719/1719 [==============================] - 15s 9ms/step - loss: 0.0403 - accuracy: 0.9887 - val_loss: 0.0475 - val_accuracy: 0.9912\n",
      "Epoch 16/500\n",
      "1719/1719 [==============================] - 15s 9ms/step - loss: 0.0396 - accuracy: 0.9888 - val_loss: 0.0466 - val_accuracy: 0.9886\n",
      "Epoch 17/500\n",
      "1719/1719 [==============================] - 15s 9ms/step - loss: 0.0421 - accuracy: 0.9887 - val_loss: 0.0422 - val_accuracy: 0.9898\n",
      "Epoch 18/500\n",
      "1719/1719 [==============================] - 15s 9ms/step - loss: 0.0396 - accuracy: 0.9882 - val_loss: 0.0358 - val_accuracy: 0.9928\n",
      "Epoch 19/500\n",
      "1719/1719 [==============================] - 15s 9ms/step - loss: 0.0401 - accuracy: 0.9893 - val_loss: 0.0403 - val_accuracy: 0.9896\n",
      "Epoch 20/500\n",
      "1719/1719 [==============================] - 15s 9ms/step - loss: 0.0353 - accuracy: 0.9899 - val_loss: 0.0468 - val_accuracy: 0.9896\n",
      "Epoch 21/500\n",
      "1719/1719 [==============================] - 15s 9ms/step - loss: 0.0380 - accuracy: 0.9894 - val_loss: 0.0499 - val_accuracy: 0.9888\n",
      "Epoch 22/500\n",
      "1719/1719 [==============================] - 15s 9ms/step - loss: 0.0368 - accuracy: 0.9895 - val_loss: 0.0401 - val_accuracy: 0.9908\n",
      "Epoch 23/500\n",
      "1719/1719 [==============================] - 15s 9ms/step - loss: 0.0385 - accuracy: 0.9892 - val_loss: 0.0452 - val_accuracy: 0.9902\n",
      "Epoch 24/500\n",
      "1719/1719 [==============================] - 15s 9ms/step - loss: 0.0326 - accuracy: 0.9908 - val_loss: 0.0437 - val_accuracy: 0.9900\n"
     ]
    }
   ],
   "source": [
    "# 2e-3 is better than 3e-3, which never gets to validation accuracy over 99%\n",
    "model = build_model(learning_rate=2e-3, dropout=True, local_response_normalization=True)\n",
    "train_model(X_train, X_val, y_train, y_val, \"basic_convolution_dropout_lrn\", model)"
   ]
  },
  {
   "cell_type": "code",
   "execution_count": 21,
   "id": "8213a61c-23de-4bb5-b3bf-be6302bda0c4",
   "metadata": {
    "execution": {
     "iopub.execute_input": "2022-07-17T01:53:31.616814Z",
     "iopub.status.busy": "2022-07-17T01:53:31.616187Z",
     "iopub.status.idle": "2022-07-17T01:53:33.367971Z",
     "shell.execute_reply": "2022-07-17T01:53:33.366566Z",
     "shell.execute_reply.started": "2022-07-17T01:53:31.616764Z"
    },
    "tags": []
   },
   "outputs": [
    {
     "name": "stdout",
     "output_type": "stream",
     "text": [
      "313/313 [==============================] - 2s 5ms/step - loss: 0.0311 - accuracy: 0.9902\n"
     ]
    },
    {
     "data": {
      "text/plain": [
       "[0.031107360497117043, 0.9901999831199646]"
      ]
     },
     "execution_count": 21,
     "metadata": {},
     "output_type": "execute_result"
    }
   ],
   "source": [
    "model.evaluate(X_test, y_test)"
   ]
  }
 ],
 "metadata": {
  "kernelspec": {
   "display_name": "Python 3 (ipykernel)",
   "language": "python",
   "name": "python3"
  },
  "language_info": {
   "codemirror_mode": {
    "name": "ipython",
    "version": 3
   },
   "file_extension": ".py",
   "mimetype": "text/x-python",
   "name": "python",
   "nbconvert_exporter": "python",
   "pygments_lexer": "ipython3",
   "version": "3.10.4"
  }
 },
 "nbformat": 4,
 "nbformat_minor": 5
}
