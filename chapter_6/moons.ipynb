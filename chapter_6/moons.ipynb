{
 "cells": [
  {
   "cell_type": "code",
   "execution_count": 1,
   "id": "b35e8dcc",
   "metadata": {},
   "outputs": [],
   "source": [
    "import numpy as np\n",
    "import scipy\n",
    "\n",
    "from sklearn.base import clone\n",
    "from sklearn.datasets import make_moons\n",
    "from sklearn.model_selection import train_test_split, GridSearchCV, ShuffleSplit\n",
    "from sklearn.tree import DecisionTreeClassifier\n",
    "from sklearn.metrics import accuracy_score"
   ]
  },
  {
   "cell_type": "code",
   "execution_count": 2,
   "id": "acd9b060",
   "metadata": {},
   "outputs": [],
   "source": [
    "X, y = make_moons(n_samples=10000, noise=0.4)\n",
    "X_train, X_test, y_train, y_test = train_test_split(X, y, random_state=42)"
   ]
  },
  {
   "cell_type": "code",
   "execution_count": 3,
   "id": "25c4e7b9",
   "metadata": {
    "scrolled": false
   },
   "outputs": [
    {
     "name": "stdout",
     "output_type": "stream",
     "text": [
      "best estimator DecisionTreeClassifier(max_depth=2, max_features=2, max_leaf_nodes=4), best score 0.8598333333333332\n"
     ]
    }
   ],
   "source": [
    "idx = np.random.choice(np.arange(len(y_train)), 6000, replace=False)\n",
    "X_train_sampled = X_train[idx, :]\n",
    "y_train_sampled = y_train[idx]\n",
    "\n",
    "parameters = {\n",
    "    \"max_depth\": [i for i in range(1, 6)],\n",
    "    \"min_samples_leaf\": [i for i in range (1, 6)],\n",
    "    \"max_features\": [1, 2],\n",
    "    \"max_leaf_nodes\": [2**i for i in range(1, 10)],\n",
    "}\n",
    "\n",
    "clf = GridSearchCV(\n",
    "    DecisionTreeClassifier(), \n",
    "    parameters, \n",
    "    scoring='accuracy', \n",
    "    n_jobs=-1, \n",
    "    cv=5, \n",
    ") \n",
    "\n",
    "clf.fit(X_train_sampled, y_train_sampled)\n",
    "print(f\"best estimator {clf.best_estimator_}, best score {clf.best_score_}\")"
   ]
  },
  {
   "cell_type": "code",
   "execution_count": 4,
   "id": "9a0a3c20",
   "metadata": {},
   "outputs": [
    {
     "data": {
      "text/plain": [
       "GridSearchCV(cv=5, estimator=DecisionTreeClassifier(), n_jobs=-1,\n",
       "             param_grid={'max_depth': [1, 2, 3, 4, 5], 'max_features': [1, 2],\n",
       "                         'max_leaf_nodes': [2, 4, 8, 16, 32, 64, 128, 256, 512],\n",
       "                         'min_samples_leaf': [1, 2, 3, 4, 5]},\n",
       "             scoring='accuracy')"
      ]
     },
     "execution_count": 4,
     "metadata": {},
     "output_type": "execute_result"
    }
   ],
   "source": [
    "clf.fit(X_train, y_train)"
   ]
  },
  {
   "cell_type": "code",
   "execution_count": 5,
   "id": "c540bfb7",
   "metadata": {},
   "outputs": [
    {
     "data": {
      "text/plain": [
       "0.8629333333333333"
      ]
     },
     "execution_count": 5,
     "metadata": {},
     "output_type": "execute_result"
    }
   ],
   "source": [
    "y_train_pred = clf.predict(X_train)\n",
    "accuracy_score(y_train, y_train_pred)"
   ]
  },
  {
   "cell_type": "code",
   "execution_count": 6,
   "id": "97c63d81",
   "metadata": {},
   "outputs": [
    {
     "data": {
      "text/plain": [
       "0.8592"
      ]
     },
     "execution_count": 6,
     "metadata": {},
     "output_type": "execute_result"
    }
   ],
   "source": [
    "y_test_pred = clf.predict(X_test)\n",
    "accuracy_score(y_test, y_test_pred)"
   ]
  },
  {
   "cell_type": "code",
   "execution_count": 7,
   "id": "4fd27210",
   "metadata": {},
   "outputs": [],
   "source": [
    "n_clfs = 1000\n",
    "n_samples = 100\n",
    "\n",
    "clfs = [clone(clf.best_estimator_) for _ in range(n_clfs)]\n",
    "\n",
    "rs = ShuffleSplit(n_splits=n_clfs, train_size=n_samples, test_size=1, random_state=42)\n",
    "for i, (train_index, _) in enumerate(rs.split(X_train)):\n",
    "    clfs[i].fit(X_train[train_index], y_train[train_index])"
   ]
  },
  {
   "cell_type": "code",
   "execution_count": 8,
   "id": "df580866",
   "metadata": {},
   "outputs": [],
   "source": [
    "def predict(clfs, X):\n",
    "    predictions = np.zeros((len(X), len(clfs)))\n",
    "    for i, clf in enumerate(clfs):\n",
    "        predictions[:, i] = clf.predict(X)\n",
    "    return scipy.stats.mode(predictions, axis=1).mode"
   ]
  },
  {
   "cell_type": "code",
   "execution_count": 9,
   "id": "ce7eb6f5",
   "metadata": {},
   "outputs": [
    {
     "data": {
      "text/plain": [
       "0.858"
      ]
     },
     "execution_count": 9,
     "metadata": {},
     "output_type": "execute_result"
    }
   ],
   "source": [
    "y_train_pred = predict(clfs, X_train)\n",
    "accuracy_score(y_train, y_train_pred)"
   ]
  },
  {
   "cell_type": "code",
   "execution_count": 10,
   "id": "bbed0696",
   "metadata": {},
   "outputs": [
    {
     "data": {
      "text/plain": [
       "0.8608"
      ]
     },
     "execution_count": 10,
     "metadata": {},
     "output_type": "execute_result"
    }
   ],
   "source": [
    "y_test_pred = predict(clfs, X_test)\n",
    "accuracy_score(y_test, y_test_pred)"
   ]
  }
 ],
 "metadata": {
  "kernelspec": {
   "display_name": "Python 3 (ipykernel)",
   "language": "python",
   "name": "python3"
  },
  "language_info": {
   "codemirror_mode": {
    "name": "ipython",
    "version": 3
   },
   "file_extension": ".py",
   "mimetype": "text/x-python",
   "name": "python",
   "nbconvert_exporter": "python",
   "pygments_lexer": "ipython3",
   "version": "3.9.7"
  }
 },
 "nbformat": 4,
 "nbformat_minor": 5
}
