{
 "cells": [
  {
   "cell_type": "markdown",
   "id": "6d37a767",
   "metadata": {},
   "source": [
    "1. What is the approximate depth of a Decision Tree trained (without restrictions) on a training set with one million instances?\n",
    "\n",
    "The author states that decision trees are generally approximately balanced, so approximate depth of the tree is $\\log_2 10^6 \\approx 20$"
   ]
  },
  {
   "cell_type": "markdown",
   "id": "a2af4335",
   "metadata": {},
   "source": [
    "2. Is a node’s Gini impurity generally lower or greater than its parent’s? Is it generally lower/greater, or always lower/greater?\n",
    "\n",
    "The algorithm stops splitting nodes when it is no longer to decrease the cost function with a split:\n",
    "\n",
    "$$\n",
    "J(k, t_k) = \\frac{m_{left}}{m}G_{left} + \\frac{m_{right}}{m}G_{right}\n",
    "$$\n",
    "\n",
    "It is possible for the the Gini impurity to increase in one of the child nodes after a split. For example imagine 3 classes, and a node that has instances from classes distributed like [1, 1, 98]. If able to choose a decision boundary so that the 98 are separated into one child node, the other node now has maximum gini impurity of .5, while the cost function $J$ did actually decrease:"
   ]
  },
  {
   "cell_type": "code",
   "execution_count": null,
   "id": "f37fdb67",
   "metadata": {},
   "outputs": [],
   "source": []
  },
  {
   "cell_type": "code",
   "execution_count": 1,
   "id": "964f9831",
   "metadata": {},
   "outputs": [
    {
     "name": "stdout",
     "output_type": "stream",
     "text": [
      "0.019600000000000062\n",
      "0.5\n",
      "0.01\n"
     ]
    }
   ],
   "source": [
    "print(1 - (.98*.98 + .01 + .01)) # gini impurity of parent node\n",
    "print(1 - (.5*.5 + .5*.5)) # gini impurity of one child, the other is 0\n",
    "print(.02 * .5 + .98 * 0.) # cost function J of split"
   ]
  },
  {
   "cell_type": "markdown",
   "id": "20e7e97f",
   "metadata": {},
   "source": [
    "3. If a Decision Tree is overfitting the training set, is it a good idea to try decreasing max_depth ?\n",
    "\n",
    "Since that is a form of regularization, it is one viable course of action. \n",
    "\n",
    "I'm unclear on exacly what this question is asking. If it is suggesting that we are comparing the training set score to test set score, then no, it would not be a good idea to make further hyperparameter tweaks because that could overfit the test set."
   ]
  },
  {
   "cell_type": "markdown",
   "id": "eef9341e",
   "metadata": {},
   "source": [
    "4. If a Decision Tree is underfitting the training set, is it a good idea to try scaling the input features?\n",
    "\n",
    "Decision trees are insensitive to scale, so this preprocessing is unlikely to help. Instead it would be better to decrease regularization, or look for a higher capacity family of models."
   ]
  },
  {
   "cell_type": "markdown",
   "id": "c855686e",
   "metadata": {},
   "source": [
    "5. If it takes one hour to train a Decision Tree on a training set containing 1 million instances, roughly how much time will it take to train another Decision Tree on a training set containing 10 million instances?\n",
    "\n",
    "Training a decision tree has complexity $O(n m\\log_2 m)$, so since the number of features remains the same we can estimate that it will take approximately 11.7 times longer:"
   ]
  },
  {
   "cell_type": "code",
   "execution_count": 4,
   "id": "9808546f",
   "metadata": {},
   "outputs": [
    {
     "data": {
      "text/plain": [
       "11.666666666666666"
      ]
     },
     "execution_count": 4,
     "metadata": {},
     "output_type": "execute_result"
    }
   ],
   "source": [
    "import math\n",
    "\n",
    "(1e7 * math.log2(1e7)) / (1e6 * math.log2(1e6))"
   ]
  },
  {
   "cell_type": "markdown",
   "id": "2cd61db8",
   "metadata": {},
   "source": [
    "6. If your training set contains 100,000 instances, will setting presort=True speed up training?\n",
    "\n",
    "The book states that presorting only results in a speedup with a few thousand instances."
   ]
  }
 ],
 "metadata": {
  "kernelspec": {
   "display_name": "Python 3 (ipykernel)",
   "language": "python",
   "name": "python3"
  },
  "language_info": {
   "codemirror_mode": {
    "name": "ipython",
    "version": 3
   },
   "file_extension": ".py",
   "mimetype": "text/x-python",
   "name": "python",
   "nbconvert_exporter": "python",
   "pygments_lexer": "ipython3",
   "version": "3.9.7"
  }
 },
 "nbformat": 4,
 "nbformat_minor": 5
}
