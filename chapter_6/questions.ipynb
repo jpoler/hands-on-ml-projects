{
 "cells": [
  {
   "cell_type": "markdown",
   "id": "b3d1e764",
   "metadata": {},
   "source": [
    "1. What is the approximate depth of a Decision Tree trained (without restrictions) on a training set with one million instances?\n",
    "\n",
    "The author states that decision trees are generally approximately balanced, so approximate depth of the tree is $\\log_2 10^6 \\approx 20$"
   ]
  },
  {
   "cell_type": "markdown",
   "id": "019d0eeb",
   "metadata": {},
   "source": [
    "2. Is a node’s Gini impurity generally lower or greater than its parent’s? Is it generally lower/greater, or always lower/greater?\n",
    "\n",
    "The algorithm stops splitting nodes when it is no longer to decrease the cost function with a split:\n",
    "\n",
    "$$\n",
    "J(k, t_k) = \\frac{m_{left}}{m}G_{left} + \\frac{m_{right}}{m}G_{right}\n",
    "$$\n",
    "\n",
    "It is possible for the the Gini impurity to increase in one of the child nodes after a split. For example imagine 3 classes, and a node that has instances from classes distributed like [1, 1, 98]. If able to choose a decision boundary so that the 98 are separated into one child node, the other node now has maximum gini impurity of .5, while the cost function $J$ did actually decrease:"
   ]
  },
  {
   "cell_type": "code",
   "execution_count": 1,
   "id": "a30b326c",
   "metadata": {},
   "outputs": [
    {
     "name": "stdout",
     "output_type": "stream",
     "text": [
      "0.019600000000000062\n",
      "0.5\n",
      "0.01\n"
     ]
    }
   ],
   "source": [
    "print(1 - (.98*.98 + .01 + .01)) # gini impurity of parent node\n",
    "print(1 - (.5*.5 + .5*.5)) # gini impurity of one child, the other is 0\n",
    "print(.02 * .5 + .98 * 0.) # cost function J of split"
   ]
  }
 ],
 "metadata": {
  "kernelspec": {
   "display_name": "Python 3 (ipykernel)",
   "language": "python",
   "name": "python3"
  },
  "language_info": {
   "codemirror_mode": {
    "name": "ipython",
    "version": 3
   },
   "file_extension": ".py",
   "mimetype": "text/x-python",
   "name": "python",
   "nbconvert_exporter": "python",
   "pygments_lexer": "ipython3",
   "version": "3.9.7"
  }
 },
 "nbformat": 4,
 "nbformat_minor": 5
}
