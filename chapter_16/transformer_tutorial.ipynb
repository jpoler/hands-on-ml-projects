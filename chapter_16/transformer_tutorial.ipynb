{
 "cells": [
  {
   "cell_type": "markdown",
   "id": "6333f898-3baf-4eaf-b292-94494feeaa3e",
   "metadata": {},
   "source": [
    "Based on https://www.tensorflow.org/text/tutorials/transformer with some minor alterations (adding validation error in training and expanded visualizations)"
   ]
  },
  {
   "cell_type": "code",
   "execution_count": 1,
   "id": "f8023d2c-a2ef-4a44-8f97-2b9cf1cfb7cc",
   "metadata": {
    "execution": {
     "iopub.execute_input": "2022-08-15T11:52:16.023828Z",
     "iopub.status.busy": "2022-08-15T11:52:16.023258Z",
     "iopub.status.idle": "2022-08-15T11:52:17.967750Z",
     "shell.execute_reply": "2022-08-15T11:52:17.966874Z",
     "shell.execute_reply.started": "2022-08-15T11:52:16.023721Z"
    },
    "tags": []
   },
   "outputs": [],
   "source": [
    "import logging\n",
    "import time\n",
    "\n",
    "import numpy as np\n",
    "import matplotlib.pyplot as plt\n",
    "\n",
    "import tensorflow_datasets as tfds\n",
    "import tensorflow as tf\n",
    "\n",
    "# Import tf_text to load the ops used by the tokenizer saved model\n",
    "import tensorflow_text  # pylint: disable=unused-import"
   ]
  },
  {
   "cell_type": "code",
   "execution_count": 2,
   "id": "695f620c-1bfb-4720-99bc-3d5b6a1dcefe",
   "metadata": {
    "execution": {
     "iopub.execute_input": "2022-08-15T11:52:17.971261Z",
     "iopub.status.busy": "2022-08-15T11:52:17.970439Z",
     "iopub.status.idle": "2022-08-15T11:52:17.976591Z",
     "shell.execute_reply": "2022-08-15T11:52:17.975531Z",
     "shell.execute_reply.started": "2022-08-15T11:52:17.971214Z"
    },
    "tags": []
   },
   "outputs": [],
   "source": [
    "logging.getLogger('tensorflow').setLevel(logging.ERROR)  # suppress warnings"
   ]
  },
  {
   "cell_type": "code",
   "execution_count": 3,
   "id": "f0d73361-b700-4c2b-b8f3-5d61d6741fac",
   "metadata": {
    "execution": {
     "iopub.execute_input": "2022-08-15T11:52:17.978560Z",
     "iopub.status.busy": "2022-08-15T11:52:17.978017Z",
     "iopub.status.idle": "2022-08-15T11:52:18.814247Z",
     "shell.execute_reply": "2022-08-15T11:52:18.813298Z",
     "shell.execute_reply.started": "2022-08-15T11:52:17.978518Z"
    },
    "tags": []
   },
   "outputs": [
    {
     "name": "stderr",
     "output_type": "stream",
     "text": [
      "2022-08-15 07:52:18.040772: I tensorflow/core/platform/cpu_feature_guard.cc:151] This TensorFlow binary is optimized with oneAPI Deep Neural Network Library (oneDNN) to use the following CPU instructions in performance-critical operations:  AVX2 AVX512F FMA\n",
      "To enable them in other operations, rebuild TensorFlow with the appropriate compiler flags.\n",
      "2022-08-15 07:52:18.525271: I tensorflow/core/common_runtime/gpu/gpu_device.cc:1525] Created device /job:localhost/replica:0/task:0/device:GPU:0 with 22309 MB memory:  -> device: 0, name: NVIDIA GeForce RTX 3090, pci bus id: 0000:68:00.0, compute capability: 8.6\n"
     ]
    }
   ],
   "source": [
    "examples, metadata = tfds.load('ted_hrlr_translate/pt_to_en', with_info=True,\n",
    "                               as_supervised=True)\n",
    "train_examples, val_examples = examples['train'], examples['validation']"
   ]
  },
  {
   "cell_type": "code",
   "execution_count": 4,
   "id": "d7cb8164-edd9-401e-952a-f88a01f4eb90",
   "metadata": {
    "execution": {
     "iopub.execute_input": "2022-08-15T11:52:18.816413Z",
     "iopub.status.busy": "2022-08-15T11:52:18.815834Z",
     "iopub.status.idle": "2022-08-15T11:52:18.834413Z",
     "shell.execute_reply": "2022-08-15T11:52:18.833479Z",
     "shell.execute_reply.started": "2022-08-15T11:52:18.816371Z"
    },
    "tags": []
   },
   "outputs": [
    {
     "data": {
      "text/plain": [
       "tfds.core.DatasetInfo(\n",
       "    name='ted_hrlr_translate',\n",
       "    full_name='ted_hrlr_translate/pt_to_en/1.0.0',\n",
       "    description=\"\"\"\n",
       "    Data sets derived from TED talk transcripts for comparing similar language pairs\n",
       "    where one is high resource and the other is low resource.\n",
       "    \"\"\",\n",
       "    config_description=\"\"\"\n",
       "    Translation dataset from pt to en in plain text.\n",
       "    \"\"\",\n",
       "    homepage='https://github.com/neulab/word-embeddings-for-nmt',\n",
       "    data_path='~/tensorflow_datasets/ted_hrlr_translate/pt_to_en/1.0.0',\n",
       "    file_format=tfrecord,\n",
       "    download_size=124.94 MiB,\n",
       "    dataset_size=10.89 MiB,\n",
       "    features=Translation({\n",
       "        'en': Text(shape=(), dtype=tf.string),\n",
       "        'pt': Text(shape=(), dtype=tf.string),\n",
       "    }),\n",
       "    supervised_keys=('pt', 'en'),\n",
       "    disable_shuffling=False,\n",
       "    splits={\n",
       "        'test': <SplitInfo num_examples=1803, num_shards=1>,\n",
       "        'train': <SplitInfo num_examples=51785, num_shards=1>,\n",
       "        'validation': <SplitInfo num_examples=1193, num_shards=1>,\n",
       "    },\n",
       "    citation=\"\"\"@inproceedings{Ye2018WordEmbeddings,\n",
       "      author  = {Ye, Qi and Devendra, Sachan and Matthieu, Felix and Sarguna, Padmanabhan and Graham, Neubig},\n",
       "      title   = {When and Why are pre-trained word embeddings useful for Neural Machine Translation},\n",
       "      booktitle = {HLT-NAACL},\n",
       "      year    = {2018},\n",
       "      }\"\"\",\n",
       ")"
      ]
     },
     "execution_count": 4,
     "metadata": {},
     "output_type": "execute_result"
    }
   ],
   "source": [
    "metadata"
   ]
  },
  {
   "cell_type": "code",
   "execution_count": 5,
   "id": "7158df45-0c5a-42bf-98e0-7c7913901b26",
   "metadata": {
    "execution": {
     "iopub.execute_input": "2022-08-15T11:52:18.835907Z",
     "iopub.status.busy": "2022-08-15T11:52:18.835572Z",
     "iopub.status.idle": "2022-08-15T11:52:18.953170Z",
     "shell.execute_reply": "2022-08-15T11:52:18.951866Z",
     "shell.execute_reply.started": "2022-08-15T11:52:18.835876Z"
    },
    "tags": []
   },
   "outputs": [
    {
     "name": "stdout",
     "output_type": "stream",
     "text": [
      "e quando melhoramos a procura , tiramos a única vantagem da impressão , que é a serendipidade .\n",
      "mas e se estes fatores fossem ativos ?\n",
      "mas eles não tinham a curiosidade de me testar .\n",
      "\n",
      "and when you improve searchability , you actually take away the one advantage of print , which is serendipity .\n",
      "but what if it were active ?\n",
      "but they did n't test for curiosity .\n"
     ]
    },
    {
     "name": "stderr",
     "output_type": "stream",
     "text": [
      "2022-08-15 07:52:18.942273: W tensorflow/core/kernels/data/cache_dataset_ops.cc:768] The calling iterator did not fully read the dataset being cached. In order to avoid unexpected truncation of the dataset, the partially cached contents of the dataset  will be discarded. This can happen if you have an input pipeline similar to `dataset.cache().take(k).repeat()`. You should use `dataset.take(k).cache().repeat()` instead.\n"
     ]
    }
   ],
   "source": [
    "for pt_examples, en_examples in train_examples.batch(3).take(1):\n",
    "  for pt in pt_examples.numpy():\n",
    "    print(pt.decode('utf-8'))\n",
    "\n",
    "  print()\n",
    "\n",
    "  for en in en_examples.numpy():\n",
    "    print(en.decode('utf-8'))"
   ]
  },
  {
   "cell_type": "code",
   "execution_count": 6,
   "id": "4e797ed8-3600-47c8-86cd-428159991278",
   "metadata": {
    "execution": {
     "iopub.execute_input": "2022-08-15T11:52:18.955566Z",
     "iopub.status.busy": "2022-08-15T11:52:18.955065Z",
     "iopub.status.idle": "2022-08-15T11:52:18.978053Z",
     "shell.execute_reply": "2022-08-15T11:52:18.976994Z",
     "shell.execute_reply.started": "2022-08-15T11:52:18.955522Z"
    },
    "tags": []
   },
   "outputs": [
    {
     "data": {
      "text/plain": [
       "'./ted_hrlr_translate_pt_en_converter.zip'"
      ]
     },
     "execution_count": 6,
     "metadata": {},
     "output_type": "execute_result"
    }
   ],
   "source": [
    "model_name = 'ted_hrlr_translate_pt_en_converter'\n",
    "tf.keras.utils.get_file(\n",
    "    f'{model_name}.zip',\n",
    "    f'https://storage.googleapis.com/download.tensorflow.org/models/{model_name}.zip',\n",
    "    cache_dir='.', cache_subdir='', extract=True\n",
    ")"
   ]
  },
  {
   "cell_type": "code",
   "execution_count": 7,
   "id": "87de18f6-c982-4071-97a6-7503b2124c57",
   "metadata": {
    "execution": {
     "iopub.execute_input": "2022-08-15T11:52:18.981956Z",
     "iopub.status.busy": "2022-08-15T11:52:18.981484Z",
     "iopub.status.idle": "2022-08-15T11:52:19.523359Z",
     "shell.execute_reply": "2022-08-15T11:52:19.522041Z",
     "shell.execute_reply.started": "2022-08-15T11:52:18.981928Z"
    },
    "tags": []
   },
   "outputs": [],
   "source": [
    "tokenizers = tf.saved_model.load(model_name)"
   ]
  },
  {
   "cell_type": "code",
   "execution_count": 8,
   "id": "3c55706d-1e8d-4bf9-bfab-7c4311367b13",
   "metadata": {
    "execution": {
     "iopub.execute_input": "2022-08-15T11:52:19.524821Z",
     "iopub.status.busy": "2022-08-15T11:52:19.524514Z",
     "iopub.status.idle": "2022-08-15T11:52:19.531763Z",
     "shell.execute_reply": "2022-08-15T11:52:19.530875Z",
     "shell.execute_reply.started": "2022-08-15T11:52:19.524793Z"
    },
    "tags": []
   },
   "outputs": [
    {
     "data": {
      "text/plain": [
       "['detokenize',\n",
       " 'get_reserved_tokens',\n",
       " 'get_vocab_path',\n",
       " 'get_vocab_size',\n",
       " 'lookup',\n",
       " 'tokenize',\n",
       " 'tokenizer',\n",
       " 'vocab']"
      ]
     },
     "execution_count": 8,
     "metadata": {},
     "output_type": "execute_result"
    }
   ],
   "source": [
    "[item for item in dir(tokenizers.en) if not item.startswith('_')]"
   ]
  },
  {
   "cell_type": "code",
   "execution_count": 9,
   "id": "e2b08ca9-ccbe-46bb-8c2e-a94f73404a89",
   "metadata": {
    "execution": {
     "iopub.execute_input": "2022-08-15T11:52:19.533438Z",
     "iopub.status.busy": "2022-08-15T11:52:19.532888Z",
     "iopub.status.idle": "2022-08-15T11:52:19.549868Z",
     "shell.execute_reply": "2022-08-15T11:52:19.548596Z",
     "shell.execute_reply.started": "2022-08-15T11:52:19.533406Z"
    },
    "tags": []
   },
   "outputs": [
    {
     "name": "stdout",
     "output_type": "stream",
     "text": [
      "and when you improve searchability , you actually take away the one advantage of print , which is serendipity .\n",
      "but what if it were active ?\n",
      "but they did n't test for curiosity .\n"
     ]
    }
   ],
   "source": [
    "for en in en_examples.numpy():\n",
    "  print(en.decode('utf-8'))"
   ]
  },
  {
   "cell_type": "code",
   "execution_count": 10,
   "id": "e5f5ac73-b7b5-4736-8dd6-18935cdea3ac",
   "metadata": {
    "execution": {
     "iopub.execute_input": "2022-08-15T11:52:19.551724Z",
     "iopub.status.busy": "2022-08-15T11:52:19.551288Z",
     "iopub.status.idle": "2022-08-15T11:52:19.755827Z",
     "shell.execute_reply": "2022-08-15T11:52:19.755064Z",
     "shell.execute_reply.started": "2022-08-15T11:52:19.551684Z"
    },
    "tags": []
   },
   "outputs": [
    {
     "name": "stdout",
     "output_type": "stream",
     "text": [
      "[2, 72, 117, 79, 1259, 1491, 2362, 13, 79, 150, 184, 311, 71, 103, 2308, 74, 2679, 13, 148, 80, 55, 4840, 1434, 2423, 540, 15, 3]\n",
      "[2, 87, 90, 107, 76, 129, 1852, 30, 3]\n",
      "[2, 87, 83, 149, 50, 9, 56, 664, 85, 2512, 15, 3]\n"
     ]
    }
   ],
   "source": [
    "encoded = tokenizers.en.tokenize(en_examples)\n",
    "for row in encoded.to_list():\n",
    "  print(row)"
   ]
  },
  {
   "cell_type": "code",
   "execution_count": 11,
   "id": "ae0d87d5-2741-4a0d-aaf5-714b61caa1c3",
   "metadata": {
    "execution": {
     "iopub.execute_input": "2022-08-15T11:52:19.756881Z",
     "iopub.status.busy": "2022-08-15T11:52:19.756596Z",
     "iopub.status.idle": "2022-08-15T11:52:19.847809Z",
     "shell.execute_reply": "2022-08-15T11:52:19.847080Z",
     "shell.execute_reply.started": "2022-08-15T11:52:19.756865Z"
    },
    "tags": []
   },
   "outputs": [
    {
     "name": "stdout",
     "output_type": "stream",
     "text": [
      "and when you improve searchability , you actually take away the one advantage of print , which is serendipity .\n",
      "but what if it were active ?\n",
      "but they did n ' t test for curiosity .\n"
     ]
    }
   ],
   "source": [
    "round_trip = tokenizers.en.detokenize(encoded)\n",
    "for line in round_trip.numpy():\n",
    "  print(line.decode('utf-8'))"
   ]
  },
  {
   "cell_type": "code",
   "execution_count": 12,
   "id": "55b55eda-797d-433c-b45c-efdb1b951d14",
   "metadata": {
    "execution": {
     "iopub.execute_input": "2022-08-15T11:52:19.848602Z",
     "iopub.status.busy": "2022-08-15T11:52:19.848454Z",
     "iopub.status.idle": "2022-08-15T11:52:19.865885Z",
     "shell.execute_reply": "2022-08-15T11:52:19.865214Z",
     "shell.execute_reply.started": "2022-08-15T11:52:19.848589Z"
    },
    "tags": []
   },
   "outputs": [
    {
     "data": {
      "text/plain": [
       "<tf.RaggedTensor [[b'[START]', b'and', b'when', b'you', b'improve', b'search', b'##ability',\n",
       "  b',', b'you', b'actually', b'take', b'away', b'the', b'one', b'advantage',\n",
       "  b'of', b'print', b',', b'which', b'is', b's', b'##ere', b'##nd', b'##ip',\n",
       "  b'##ity', b'.', b'[END]']                                                 ,\n",
       " [b'[START]', b'but', b'what', b'if', b'it', b'were', b'active', b'?',\n",
       "  b'[END]']                                                           ,\n",
       " [b'[START]', b'but', b'they', b'did', b'n', b\"'\", b't', b'test', b'for',\n",
       "  b'curiosity', b'.', b'[END]']                                          ]>"
      ]
     },
     "execution_count": 12,
     "metadata": {},
     "output_type": "execute_result"
    }
   ],
   "source": [
    "tokens = tokenizers.en.lookup(encoded)\n",
    "tokens"
   ]
  },
  {
   "cell_type": "code",
   "execution_count": 13,
   "id": "bff5df10-1f8a-458a-bc41-a3ead6809e61",
   "metadata": {
    "execution": {
     "iopub.execute_input": "2022-08-15T11:52:19.866617Z",
     "iopub.status.busy": "2022-08-15T11:52:19.866481Z",
     "iopub.status.idle": "2022-08-15T11:52:28.487906Z",
     "shell.execute_reply": "2022-08-15T11:52:28.486574Z",
     "shell.execute_reply.started": "2022-08-15T11:52:19.866605Z"
    },
    "tags": []
   },
   "outputs": [
    {
     "name": "stdout",
     "output_type": "stream",
     "text": [
      "..................................................."
     ]
    }
   ],
   "source": [
    "lengths = []\n",
    "\n",
    "for pt_examples, en_examples in train_examples.batch(1024):\n",
    "  pt_tokens = tokenizers.en.tokenize(pt_examples)\n",
    "  lengths.append(pt_tokens.row_lengths())\n",
    "\n",
    "  en_tokens = tokenizers.en.tokenize(en_examples)\n",
    "  lengths.append(en_tokens.row_lengths())\n",
    "  print('.', end='', flush=True)"
   ]
  },
  {
   "cell_type": "code",
   "execution_count": 14,
   "id": "52b2ef49-2c5f-48ed-8e6d-9bed342c8c50",
   "metadata": {
    "execution": {
     "iopub.execute_input": "2022-08-15T11:52:28.490345Z",
     "iopub.status.busy": "2022-08-15T11:52:28.489765Z",
     "iopub.status.idle": "2022-08-15T11:52:28.831204Z",
     "shell.execute_reply": "2022-08-15T11:52:28.830438Z",
     "shell.execute_reply.started": "2022-08-15T11:52:28.490303Z"
    },
    "tags": []
   },
   "outputs": [
    {
     "data": {
      "image/png": "[encoded data removed]",
      "text/plain": [
       "<Figure size 432x288 with 1 Axes>"
      ]
     },
     "metadata": {
      "needs_background": "light"
     },
     "output_type": "display_data"
    }
   ],
   "source": [
    "all_lengths = np.concatenate(lengths)\n",
    "\n",
    "plt.hist(all_lengths, np.linspace(0, 500, 101))\n",
    "plt.ylim(plt.ylim())\n",
    "max_length = max(all_lengths)\n",
    "plt.plot([max_length, max_length], plt.ylim())\n",
    "plt.title(f'Max tokens per example: {max_length}');"
   ]
  },
  {
   "cell_type": "code",
   "execution_count": 15,
   "id": "ade6ea5c-69d9-47b2-9d4b-0d97acb83759",
   "metadata": {
    "execution": {
     "iopub.execute_input": "2022-08-15T11:52:28.832334Z",
     "iopub.status.busy": "2022-08-15T11:52:28.832033Z",
     "iopub.status.idle": "2022-08-15T11:52:28.835681Z",
     "shell.execute_reply": "2022-08-15T11:52:28.835008Z",
     "shell.execute_reply.started": "2022-08-15T11:52:28.832317Z"
    },
    "tags": []
   },
   "outputs": [],
   "source": [
    "MAX_TOKENS = 128"
   ]
  },
  {
   "cell_type": "code",
   "execution_count": 16,
   "id": "ea9de6c3-80c4-46f1-9500-0d5fbf9ed379",
   "metadata": {
    "execution": {
     "iopub.execute_input": "2022-08-15T11:52:28.836568Z",
     "iopub.status.busy": "2022-08-15T11:52:28.836400Z",
     "iopub.status.idle": "2022-08-15T11:52:28.854003Z",
     "shell.execute_reply": "2022-08-15T11:52:28.852963Z",
     "shell.execute_reply.started": "2022-08-15T11:52:28.836552Z"
    },
    "tags": []
   },
   "outputs": [],
   "source": [
    "def filter_max_tokens(pt, en):\n",
    "  num_tokens = tf.maximum(tf.shape(pt)[1],tf.shape(en)[1])\n",
    "  return num_tokens < MAX_TOKENS"
   ]
  },
  {
   "cell_type": "code",
   "execution_count": 17,
   "id": "e112a942-3663-495f-bd88-0852191d9532",
   "metadata": {
    "execution": {
     "iopub.execute_input": "2022-08-15T11:52:28.855407Z",
     "iopub.status.busy": "2022-08-15T11:52:28.855013Z",
     "iopub.status.idle": "2022-08-15T11:52:28.864189Z",
     "shell.execute_reply": "2022-08-15T11:52:28.863031Z",
     "shell.execute_reply.started": "2022-08-15T11:52:28.855379Z"
    },
    "tags": []
   },
   "outputs": [],
   "source": [
    "def tokenize_pairs(pt, en):\n",
    "    pt = tokenizers.pt.tokenize(pt)\n",
    "    # Convert from ragged to dense, padding with zeros.\n",
    "    pt = pt.to_tensor()\n",
    "\n",
    "    en = tokenizers.en.tokenize(en)\n",
    "    # Convert from ragged to dense, padding with zeros.\n",
    "    en = en.to_tensor()\n",
    "    return pt, en"
   ]
  },
  {
   "cell_type": "code",
   "execution_count": 18,
   "id": "95fee3ab-873e-4b06-a465-fe71d8bf8896",
   "metadata": {
    "execution": {
     "iopub.execute_input": "2022-08-15T11:52:28.865990Z",
     "iopub.status.busy": "2022-08-15T11:52:28.865477Z",
     "iopub.status.idle": "2022-08-15T11:52:28.873833Z",
     "shell.execute_reply": "2022-08-15T11:52:28.872786Z",
     "shell.execute_reply.started": "2022-08-15T11:52:28.865951Z"
    },
    "tags": []
   },
   "outputs": [],
   "source": [
    "BUFFER_SIZE = 20000\n",
    "BATCH_SIZE = 64"
   ]
  },
  {
   "cell_type": "code",
   "execution_count": 19,
   "id": "62a53e3d-0061-4fd5-a4de-ebd13aeadfb5",
   "metadata": {
    "execution": {
     "iopub.execute_input": "2022-08-15T11:52:28.875765Z",
     "iopub.status.busy": "2022-08-15T11:52:28.875229Z",
     "iopub.status.idle": "2022-08-15T11:52:29.084885Z",
     "shell.execute_reply": "2022-08-15T11:52:29.084119Z",
     "shell.execute_reply.started": "2022-08-15T11:52:28.875724Z"
    },
    "tags": []
   },
   "outputs": [],
   "source": [
    "def make_batches(ds):\n",
    "  return (\n",
    "      ds\n",
    "      .cache()\n",
    "      .shuffle(BUFFER_SIZE)\n",
    "      .batch(BATCH_SIZE)\n",
    "      .map(tokenize_pairs, num_parallel_calls=tf.data.AUTOTUNE)\n",
    "      .filter(filter_max_tokens)\n",
    "      .prefetch(tf.data.AUTOTUNE))\n",
    "\n",
    "\n",
    "train_batches = make_batches(train_examples)\n",
    "val_batches = make_batches(val_examples)"
   ]
  },
  {
   "cell_type": "code",
   "execution_count": 20,
   "id": "feffbeca-b255-4db3-b698-a6d50e260b81",
   "metadata": {
    "execution": {
     "iopub.execute_input": "2022-08-15T11:52:29.085781Z",
     "iopub.status.busy": "2022-08-15T11:52:29.085616Z",
     "iopub.status.idle": "2022-08-15T11:52:29.089397Z",
     "shell.execute_reply": "2022-08-15T11:52:29.088784Z",
     "shell.execute_reply.started": "2022-08-15T11:52:29.085766Z"
    },
    "tags": []
   },
   "outputs": [],
   "source": [
    "def get_angles(pos, i, d_model):\n",
    "  angle_rates = 1 / np.power(10000, (2 * (i//2)) / np.float32(d_model))\n",
    "  return pos * angle_rates"
   ]
  },
  {
   "cell_type": "code",
   "execution_count": 21,
   "id": "0b2dc59b-723e-4aba-9226-79e6471fa6ff",
   "metadata": {
    "execution": {
     "iopub.execute_input": "2022-08-15T11:52:29.090524Z",
     "iopub.status.busy": "2022-08-15T11:52:29.090019Z",
     "iopub.status.idle": "2022-08-15T11:52:29.107180Z",
     "shell.execute_reply": "2022-08-15T11:52:29.106271Z",
     "shell.execute_reply.started": "2022-08-15T11:52:29.090511Z"
    },
    "tags": []
   },
   "outputs": [],
   "source": [
    "def positional_encoding(position, d_model):\n",
    "  angle_rads = get_angles(np.arange(position)[:, np.newaxis],\n",
    "                          np.arange(d_model)[np.newaxis, :],\n",
    "                          d_model)\n",
    "\n",
    "  # apply sin to even indices in the array; 2i\n",
    "  angle_rads[:, 0::2] = np.sin(angle_rads[:, 0::2])\n",
    "\n",
    "  # apply cos to odd indices in the array; 2i+1\n",
    "  angle_rads[:, 1::2] = np.cos(angle_rads[:, 1::2])\n",
    "\n",
    "  pos_encoding = angle_rads[np.newaxis, ...]\n",
    "\n",
    "  return tf.cast(pos_encoding, dtype=tf.float32)"
   ]
  },
  {
   "cell_type": "code",
   "execution_count": 22,
   "id": "4c26aad7-1b40-48e2-8913-7c6b94c69d9b",
   "metadata": {
    "execution": {
     "iopub.execute_input": "2022-08-15T11:52:29.111805Z",
     "iopub.status.busy": "2022-08-15T11:52:29.111441Z",
     "iopub.status.idle": "2022-08-15T11:52:29.543847Z",
     "shell.execute_reply": "2022-08-15T11:52:29.543017Z",
     "shell.execute_reply.started": "2022-08-15T11:52:29.111735Z"
    },
    "tags": []
   },
   "outputs": [
    {
     "name": "stdout",
     "output_type": "stream",
     "text": [
      "(1, 2048, 512)\n"
     ]
    },
    {
     "data": {
      "image/png": "[encoded data removed]",
      "text/plain": [
       "<Figure size 432x288 with 2 Axes>"
      ]
     },
     "metadata": {
      "needs_background": "light"
     },
     "output_type": "display_data"
    }
   ],
   "source": [
    "n, d = 2048, 512\n",
    "pos_encoding = positional_encoding(n, d)\n",
    "print(pos_encoding.shape)\n",
    "pos_encoding = pos_encoding[0]\n",
    "\n",
    "# Juggle the dimensions for the plot\n",
    "pos_encoding = tf.reshape(pos_encoding, (n, d//2, 2))\n",
    "pos_encoding = tf.transpose(pos_encoding, (2, 1, 0))\n",
    "pos_encoding = tf.reshape(pos_encoding, (d, n))\n",
    "\n",
    "plt.pcolormesh(pos_encoding, cmap='RdBu')\n",
    "plt.ylabel('Depth')\n",
    "plt.xlabel('Position')\n",
    "plt.colorbar()\n",
    "plt.show()"
   ]
  },
  {
   "cell_type": "code",
   "execution_count": 23,
   "id": "4a51507e-9e00-46a1-a65d-faf4fdd79b06",
   "metadata": {
    "execution": {
     "iopub.execute_input": "2022-08-15T11:52:29.544857Z",
     "iopub.status.busy": "2022-08-15T11:52:29.544586Z",
     "iopub.status.idle": "2022-08-15T11:52:29.548420Z",
     "shell.execute_reply": "2022-08-15T11:52:29.547749Z",
     "shell.execute_reply.started": "2022-08-15T11:52:29.544842Z"
    },
    "tags": []
   },
   "outputs": [],
   "source": [
    "def create_padding_mask(seq):\n",
    "  seq = tf.cast(tf.math.equal(seq, 0), tf.float32)\n",
    "\n",
    "  # add extra dimensions to add the padding\n",
    "  # to the attention logits.\n",
    "  return seq[:, tf.newaxis, tf.newaxis, :]  # (batch_size, 1, 1, seq_len)"
   ]
  },
  {
   "cell_type": "code",
   "execution_count": 24,
   "id": "804735f6-940a-4ad7-9dde-be22388b4a78",
   "metadata": {
    "execution": {
     "iopub.execute_input": "2022-08-15T11:52:29.549256Z",
     "iopub.status.busy": "2022-08-15T11:52:29.549082Z",
     "iopub.status.idle": "2022-08-15T11:52:29.570152Z",
     "shell.execute_reply": "2022-08-15T11:52:29.569212Z",
     "shell.execute_reply.started": "2022-08-15T11:52:29.549239Z"
    },
    "tags": []
   },
   "outputs": [
    {
     "data": {
      "text/plain": [
       "<tf.Tensor: shape=(3, 1, 1, 5), dtype=float32, numpy=\n",
       "array([[[[0., 0., 1., 1., 0.]]],\n",
       "\n",
       "\n",
       "       [[[0., 0., 0., 1., 1.]]],\n",
       "\n",
       "\n",
       "       [[[1., 1., 1., 0., 0.]]]], dtype=float32)>"
      ]
     },
     "execution_count": 24,
     "metadata": {},
     "output_type": "execute_result"
    }
   ],
   "source": [
    "x = tf.constant([[7, 6, 0, 0, 1], [1, 2, 3, 0, 0], [0, 0, 0, 4, 5]])\n",
    "create_padding_mask(x)"
   ]
  },
  {
   "cell_type": "code",
   "execution_count": 25,
   "id": "6d21781c-7b12-412f-a118-a8ef5274825e",
   "metadata": {
    "execution": {
     "iopub.execute_input": "2022-08-15T11:52:29.572053Z",
     "iopub.status.busy": "2022-08-15T11:52:29.571510Z",
     "iopub.status.idle": "2022-08-15T11:52:29.577434Z",
     "shell.execute_reply": "2022-08-15T11:52:29.576559Z",
     "shell.execute_reply.started": "2022-08-15T11:52:29.572012Z"
    },
    "tags": []
   },
   "outputs": [],
   "source": [
    "def create_look_ahead_mask(size):\n",
    "  mask = 1 - tf.linalg.band_part(tf.ones((size, size)), -1, 0)\n",
    "  return mask  # (seq_len, seq_len)"
   ]
  },
  {
   "cell_type": "code",
   "execution_count": 26,
   "id": "ce3e910d-ddf5-4624-8960-2161f7c1ecb0",
   "metadata": {
    "execution": {
     "iopub.execute_input": "2022-08-15T11:52:29.579138Z",
     "iopub.status.busy": "2022-08-15T11:52:29.578715Z",
     "iopub.status.idle": "2022-08-15T11:52:29.592421Z",
     "shell.execute_reply": "2022-08-15T11:52:29.591447Z",
     "shell.execute_reply.started": "2022-08-15T11:52:29.579098Z"
    },
    "tags": []
   },
   "outputs": [
    {
     "data": {
      "text/plain": [
       "<tf.Tensor: shape=(3, 3), dtype=float32, numpy=\n",
       "array([[0., 1., 1.],\n",
       "       [0., 0., 1.],\n",
       "       [0., 0., 0.]], dtype=float32)>"
      ]
     },
     "execution_count": 26,
     "metadata": {},
     "output_type": "execute_result"
    }
   ],
   "source": [
    "x = tf.random.uniform((1, 3))\n",
    "temp = create_look_ahead_mask(x.shape[1])\n",
    "temp"
   ]
  },
  {
   "cell_type": "code",
   "execution_count": 27,
   "id": "bd217cd3-6b6f-4ff3-97f6-22ebe8b9a0d3",
   "metadata": {
    "execution": {
     "iopub.execute_input": "2022-08-15T11:52:29.594358Z",
     "iopub.status.busy": "2022-08-15T11:52:29.593820Z",
     "iopub.status.idle": "2022-08-15T11:52:30.668882Z",
     "shell.execute_reply": "2022-08-15T11:52:30.667273Z",
     "shell.execute_reply.started": "2022-08-15T11:52:29.594318Z"
    },
    "tags": []
   },
   "outputs": [
    {
     "name": "stdout",
     "output_type": "stream",
     "text": [
      "/usr/bin/zsh: /home/jon/anaconda3/envs/hands-on/lib/libtinfo.so.6: no version information available (required by /usr/bin/zsh)\n",
      "Requirement already satisfied: tensorflow-probability==0.16.0 in /home/jon/anaconda3/envs/hands-on/lib/python3.10/site-packages (0.16.0)\n",
      "Requirement already satisfied: absl-py in /home/jon/anaconda3/envs/hands-on/lib/python3.10/site-packages (from tensorflow-probability==0.16.0) (1.1.0)\n",
      "Requirement already satisfied: dm-tree in /home/jon/anaconda3/envs/hands-on/lib/python3.10/site-packages (from tensorflow-probability==0.16.0) (0.1.7)\n",
      "Requirement already satisfied: six>=1.10.0 in /home/jon/anaconda3/envs/hands-on/lib/python3.10/site-packages (from tensorflow-probability==0.16.0) (1.16.0)\n",
      "Requirement already satisfied: decorator in /home/jon/anaconda3/envs/hands-on/lib/python3.10/site-packages (from tensorflow-probability==0.16.0) (5.1.1)\n",
      "Requirement already satisfied: gast>=0.3.2 in /home/jon/anaconda3/envs/hands-on/lib/python3.10/site-packages (from tensorflow-probability==0.16.0) (0.4.0)\n",
      "Requirement already satisfied: cloudpickle>=1.3 in /home/jon/anaconda3/envs/hands-on/lib/python3.10/site-packages (from tensorflow-probability==0.16.0) (2.1.0)\n",
      "Requirement already satisfied: numpy>=1.13.3 in /home/jon/anaconda3/envs/hands-on/lib/python3.10/site-packages (from tensorflow-probability==0.16.0) (1.22.4)\n",
      "\n",
      "\u001b[1m[\u001b[0m\u001b[34;49mnotice\u001b[0m\u001b[1;39;49m]\u001b[0m\u001b[39;49m A new release of pip available: \u001b[0m\u001b[31;49m22.1.2\u001b[0m\u001b[39;49m -> \u001b[0m\u001b[32;49m22.2.2\u001b[0m\n",
      "\u001b[1m[\u001b[0m\u001b[34;49mnotice\u001b[0m\u001b[1;39;49m]\u001b[0m\u001b[39;49m To update, run: \u001b[0m\u001b[32;49mpip install --upgrade pip\u001b[0m\n",
      "Note: you may need to restart the kernel to use updated packages.\n"
     ]
    }
   ],
   "source": [
    "pip install tensorflow-probability=='0.16.0'"
   ]
  },
  {
   "cell_type": "code",
   "execution_count": 28,
   "id": "27d154c3-75ec-4624-92fa-03b155fe35f1",
   "metadata": {
    "execution": {
     "iopub.execute_input": "2022-08-15T11:52:30.671405Z",
     "iopub.status.busy": "2022-08-15T11:52:30.670883Z",
     "iopub.status.idle": "2022-08-15T11:52:30.860167Z",
     "shell.execute_reply": "2022-08-15T11:52:30.859460Z",
     "shell.execute_reply.started": "2022-08-15T11:52:30.671358Z"
    },
    "tags": []
   },
   "outputs": [
    {
     "data": {
      "text/plain": [
       "<tf.Tensor: shape=(3, 3), dtype=int32, numpy=\n",
       "array([[1, 0, 0],\n",
       "       [1, 1, 0],\n",
       "       [1, 1, 1]], dtype=int32)>"
      ]
     },
     "execution_count": 28,
     "metadata": {},
     "output_type": "execute_result"
    }
   ],
   "source": [
    "import tensorflow_probability as tfp\n",
    "\n",
    "def unused_create_look_ahead_mask(size):\n",
    "    n = int(size * (size+1) / 2)\n",
    "    mask = tfp.math.fill_triangular(tf.ones((n,), dtype=tf.int32), upper=False)\n",
    "    return mask\n",
    "    \n",
    "unused_create_look_ahead_mask(3)"
   ]
  },
  {
   "cell_type": "code",
   "execution_count": 29,
   "id": "6ad22461-738c-4e9b-b5b3-2cc3c3d8db61",
   "metadata": {
    "execution": {
     "iopub.execute_input": "2022-08-15T11:52:30.861224Z",
     "iopub.status.busy": "2022-08-15T11:52:30.860937Z",
     "iopub.status.idle": "2022-08-15T11:52:30.866094Z",
     "shell.execute_reply": "2022-08-15T11:52:30.865412Z",
     "shell.execute_reply.started": "2022-08-15T11:52:30.861210Z"
    },
    "tags": []
   },
   "outputs": [],
   "source": [
    "def scaled_dot_product_attention(q, k, v, mask):\n",
    "  \"\"\"Calculate the attention weights.\n",
    "  q, k, v must have matching leading dimensions.\n",
    "  k, v must have matching penultimate dimension, i.e.: seq_len_k = seq_len_v.\n",
    "  The mask has different shapes depending on its type(padding or look ahead)\n",
    "  but it must be broadcastable for addition.\n",
    "\n",
    "  Args:\n",
    "    q: query shape == (..., seq_len_q, depth)\n",
    "    k: key shape == (..., seq_len_k, depth)\n",
    "    v: value shape == (..., seq_len_v, depth_v)\n",
    "    mask: Float tensor with shape broadcastable\n",
    "          to (..., seq_len_q, seq_len_k). Defaults to None.\n",
    "\n",
    "  Returns:\n",
    "    output, attention_weights\n",
    "  \"\"\"\n",
    "\n",
    "  matmul_qk = tf.matmul(q, k, transpose_b=True)  # (..., seq_len_q, seq_len_k)\n",
    "\n",
    "  # scale matmul_qk\n",
    "  dk = tf.cast(tf.shape(k)[-1], tf.float32)\n",
    "  scaled_attention_logits = matmul_qk / tf.math.sqrt(dk)\n",
    "\n",
    "  # add the mask to the scaled tensor.\n",
    "  if mask is not None:\n",
    "    scaled_attention_logits += (mask * -1e9)\n",
    "\n",
    "  # softmax is normalized on the last axis (seq_len_k) so that the scores\n",
    "  # add up to 1.\n",
    "  attention_weights = tf.nn.softmax(scaled_attention_logits, axis=-1)  # (..., seq_len_q, seq_len_k)\n",
    "\n",
    "  output = tf.matmul(attention_weights, v)  # (..., seq_len_q, depth_v)\n",
    "\n",
    "  return output, attention_weights"
   ]
  },
  {
   "cell_type": "code",
   "execution_count": 30,
   "id": "4c60d33c-c536-4652-b5c5-9505bb2001ef",
   "metadata": {
    "execution": {
     "iopub.execute_input": "2022-08-15T11:52:30.866978Z",
     "iopub.status.busy": "2022-08-15T11:52:30.866728Z",
     "iopub.status.idle": "2022-08-15T11:52:30.875915Z",
     "shell.execute_reply": "2022-08-15T11:52:30.874707Z",
     "shell.execute_reply.started": "2022-08-15T11:52:30.866966Z"
    },
    "tags": []
   },
   "outputs": [],
   "source": [
    "def print_out(q, k, v):\n",
    "  temp_out, temp_attn = scaled_dot_product_attention(\n",
    "      q, k, v, None)\n",
    "  print('Attention weights are:')\n",
    "  print(temp_attn)\n",
    "  print('Output is:')\n",
    "  print(temp_out)"
   ]
  },
  {
   "cell_type": "code",
   "execution_count": 31,
   "id": "d6b1055e-ead9-49dc-9e62-cf5935bb3ef8",
   "metadata": {
    "execution": {
     "iopub.execute_input": "2022-08-15T11:52:30.878126Z",
     "iopub.status.busy": "2022-08-15T11:52:30.877463Z",
     "iopub.status.idle": "2022-08-15T11:52:31.446107Z",
     "shell.execute_reply": "2022-08-15T11:52:31.444935Z",
     "shell.execute_reply.started": "2022-08-15T11:52:30.878083Z"
    },
    "tags": []
   },
   "outputs": [
    {
     "name": "stdout",
     "output_type": "stream",
     "text": [
      "Attention weights are:\n",
      "tf.Tensor([[0. 1. 0. 0.]], shape=(1, 4), dtype=float32)\n",
      "Output is:\n",
      "tf.Tensor([[10.  0.]], shape=(1, 2), dtype=float32)\n"
     ]
    },
    {
     "name": "stderr",
     "output_type": "stream",
     "text": [
      "2022-08-15 07:52:31.439362: I tensorflow/stream_executor/cuda/cuda_blas.cc:1786] TensorFloat-32 will be used for the matrix multiplication. This will only be logged once.\n"
     ]
    }
   ],
   "source": [
    "np.set_printoptions(suppress=True)\n",
    "\n",
    "temp_k = tf.constant([[10, 0, 0],\n",
    "                      [0, 10, 0],\n",
    "                      [0, 0, 10],\n",
    "                      [0, 0, 10]], dtype=tf.float32)  # (4, 3)\n",
    "\n",
    "temp_v = tf.constant([[1, 0],\n",
    "                      [10, 0],\n",
    "                      [100, 5],\n",
    "                      [1000, 6]], dtype=tf.float32)  # (4, 2)\n",
    "\n",
    "# This `query` aligns with the second `key`,\n",
    "# so the second `value` is returned.\n",
    "temp_q = tf.constant([[0, 10, 0]], dtype=tf.float32)  # (1, 3)\n",
    "print_out(temp_q, temp_k, temp_v)"
   ]
  },
  {
   "cell_type": "code",
   "execution_count": 32,
   "id": "27a42078-452f-4d12-8f9c-66bee523ca4f",
   "metadata": {
    "execution": {
     "iopub.execute_input": "2022-08-15T11:52:31.447445Z",
     "iopub.status.busy": "2022-08-15T11:52:31.446894Z",
     "iopub.status.idle": "2022-08-15T11:52:31.452989Z",
     "shell.execute_reply": "2022-08-15T11:52:31.452320Z",
     "shell.execute_reply.started": "2022-08-15T11:52:31.447430Z"
    },
    "tags": []
   },
   "outputs": [
    {
     "name": "stdout",
     "output_type": "stream",
     "text": [
      "Attention weights are:\n",
      "tf.Tensor([[0.  0.  0.5 0.5]], shape=(1, 4), dtype=float32)\n",
      "Output is:\n",
      "tf.Tensor([[550.    5.5]], shape=(1, 2), dtype=float32)\n"
     ]
    }
   ],
   "source": [
    "# This query aligns with a repeated key (third and fourth),\n",
    "# so all associated values get averaged.\n",
    "temp_q = tf.constant([[0, 0, 10]], dtype=tf.float32)  # (1, 3)\n",
    "print_out(temp_q, temp_k, temp_v)"
   ]
  },
  {
   "cell_type": "code",
   "execution_count": 33,
   "id": "7af98a41-6bc7-4f84-bc72-9fd93d7d1073",
   "metadata": {
    "execution": {
     "iopub.execute_input": "2022-08-15T11:52:31.453755Z",
     "iopub.status.busy": "2022-08-15T11:52:31.453611Z",
     "iopub.status.idle": "2022-08-15T11:52:31.470810Z",
     "shell.execute_reply": "2022-08-15T11:52:31.470075Z",
     "shell.execute_reply.started": "2022-08-15T11:52:31.453742Z"
    },
    "tags": []
   },
   "outputs": [
    {
     "name": "stdout",
     "output_type": "stream",
     "text": [
      "Attention weights are:\n",
      "tf.Tensor([[0.5 0.5 0.  0. ]], shape=(1, 4), dtype=float32)\n",
      "Output is:\n",
      "tf.Tensor([[5.5 0. ]], shape=(1, 2), dtype=float32)\n"
     ]
    }
   ],
   "source": [
    "# This query aligns equally with the first and second key,\n",
    "# so their values get averaged.\n",
    "temp_q = tf.constant([[10, 10, 0]], dtype=tf.float32)  # (1, 3)\n",
    "print_out(temp_q, temp_k, temp_v)"
   ]
  },
  {
   "cell_type": "code",
   "execution_count": 34,
   "id": "4cf2b637-5023-4c74-9d99-bec14b5d1c4b",
   "metadata": {
    "execution": {
     "iopub.execute_input": "2022-08-15T11:52:31.471837Z",
     "iopub.status.busy": "2022-08-15T11:52:31.471582Z",
     "iopub.status.idle": "2022-08-15T11:52:31.481577Z",
     "shell.execute_reply": "2022-08-15T11:52:31.480761Z",
     "shell.execute_reply.started": "2022-08-15T11:52:31.471819Z"
    },
    "tags": []
   },
   "outputs": [
    {
     "name": "stdout",
     "output_type": "stream",
     "text": [
      "Attention weights are:\n",
      "tf.Tensor(\n",
      "[[0.  0.  0.5 0.5]\n",
      " [0.  1.  0.  0. ]\n",
      " [0.5 0.5 0.  0. ]], shape=(3, 4), dtype=float32)\n",
      "Output is:\n",
      "tf.Tensor(\n",
      "[[550.    5.5]\n",
      " [ 10.    0. ]\n",
      " [  5.5   0. ]], shape=(3, 2), dtype=float32)\n"
     ]
    }
   ],
   "source": [
    "temp_q = tf.constant([[0, 0, 10],\n",
    "                      [0, 10, 0],\n",
    "                      [10, 10, 0]], dtype=tf.float32)  # (3, 3)\n",
    "print_out(temp_q, temp_k, temp_v)"
   ]
  },
  {
   "cell_type": "code",
   "execution_count": 35,
   "id": "9b8a8907-6519-424d-894b-1114f7c6a275",
   "metadata": {
    "execution": {
     "iopub.execute_input": "2022-08-15T11:52:31.483010Z",
     "iopub.status.busy": "2022-08-15T11:52:31.482638Z",
     "iopub.status.idle": "2022-08-15T11:52:31.494096Z",
     "shell.execute_reply": "2022-08-15T11:52:31.493207Z",
     "shell.execute_reply.started": "2022-08-15T11:52:31.482987Z"
    },
    "tags": []
   },
   "outputs": [],
   "source": [
    "class MultiHeadAttention(tf.keras.layers.Layer):\n",
    "  def __init__(self,*, d_model, num_heads):\n",
    "    super(MultiHeadAttention, self).__init__()\n",
    "    self.num_heads = num_heads\n",
    "    self.d_model = d_model\n",
    "\n",
    "    assert d_model % self.num_heads == 0\n",
    "\n",
    "    self.depth = d_model // self.num_heads\n",
    "\n",
    "    self.wq = tf.keras.layers.Dense(d_model)\n",
    "    self.wk = tf.keras.layers.Dense(d_model)\n",
    "    self.wv = tf.keras.layers.Dense(d_model)\n",
    "\n",
    "    self.dense = tf.keras.layers.Dense(d_model)\n",
    "\n",
    "  def split_heads(self, x, batch_size):\n",
    "    \"\"\"Split the last dimension into (num_heads, depth).\n",
    "    Transpose the result such that the shape is (batch_size, num_heads, seq_len, depth)\n",
    "    \"\"\"\n",
    "    x = tf.reshape(x, (batch_size, -1, self.num_heads, self.depth))\n",
    "    return tf.transpose(x, perm=[0, 2, 1, 3])\n",
    "\n",
    "  def call(self, v, k, q, mask):\n",
    "    batch_size = tf.shape(q)[0]\n",
    "\n",
    "    q = self.wq(q)  # (batch_size, seq_len, d_model)\n",
    "    k = self.wk(k)  # (batch_size, seq_len, d_model)\n",
    "    v = self.wv(v)  # (batch_size, seq_len, d_model)\n",
    "\n",
    "    q = self.split_heads(q, batch_size)  # (batch_size, num_heads, seq_len_q, depth)\n",
    "    k = self.split_heads(k, batch_size)  # (batch_size, num_heads, seq_len_k, depth)\n",
    "    v = self.split_heads(v, batch_size)  # (batch_size, num_heads, seq_len_v, depth)\n",
    "\n",
    "    # scaled_attention.shape == (batch_size, num_heads, seq_len_q, depth)\n",
    "    # attention_weights.shape == (batch_size, num_heads, seq_len_q, seq_len_k)\n",
    "    scaled_attention, attention_weights = scaled_dot_product_attention(\n",
    "        q, k, v, mask)\n",
    "\n",
    "    scaled_attention = tf.transpose(scaled_attention, perm=[0, 2, 1, 3])  # (batch_size, seq_len_q, num_heads, depth)\n",
    "\n",
    "    concat_attention = tf.reshape(scaled_attention,\n",
    "                                  (batch_size, -1, self.d_model))  # (batch_size, seq_len_q, d_model)\n",
    "\n",
    "    output = self.dense(concat_attention)  # (batch_size, seq_len_q, d_model)\n",
    "\n",
    "    return output, attention_weights"
   ]
  },
  {
   "cell_type": "code",
   "execution_count": 36,
   "id": "8a1f7678-8df9-405b-84cf-dab3997368a6",
   "metadata": {
    "execution": {
     "iopub.execute_input": "2022-08-15T11:52:31.495522Z",
     "iopub.status.busy": "2022-08-15T11:52:31.495147Z",
     "iopub.status.idle": "2022-08-15T11:52:31.541754Z",
     "shell.execute_reply": "2022-08-15T11:52:31.541074Z",
     "shell.execute_reply.started": "2022-08-15T11:52:31.495497Z"
    },
    "tags": []
   },
   "outputs": [
    {
     "data": {
      "text/plain": [
       "(TensorShape([1, 60, 512]), TensorShape([1, 8, 60, 60]))"
      ]
     },
     "execution_count": 36,
     "metadata": {},
     "output_type": "execute_result"
    }
   ],
   "source": [
    "temp_mha = MultiHeadAttention(d_model=512, num_heads=8)\n",
    "y = tf.random.uniform((1, 60, 512))  # (batch_size, encoder_sequence, d_model)\n",
    "out, attn = temp_mha(y, k=y, q=y, mask=None)\n",
    "out.shape, attn.shape"
   ]
  },
  {
   "cell_type": "code",
   "execution_count": 37,
   "id": "cd763ca1-f424-4b43-91e7-dc3cca2f9919",
   "metadata": {
    "execution": {
     "iopub.execute_input": "2022-08-15T11:52:31.542711Z",
     "iopub.status.busy": "2022-08-15T11:52:31.542449Z",
     "iopub.status.idle": "2022-08-15T11:52:31.546185Z",
     "shell.execute_reply": "2022-08-15T11:52:31.545543Z",
     "shell.execute_reply.started": "2022-08-15T11:52:31.542697Z"
    },
    "tags": []
   },
   "outputs": [],
   "source": [
    "def point_wise_feed_forward_network(d_model, dff):\n",
    "  return tf.keras.Sequential([\n",
    "      tf.keras.layers.Dense(dff, activation='relu'),  # (batch_size, seq_len, dff)\n",
    "      tf.keras.layers.Dense(d_model)  # (batch_size, seq_len, d_model)\n",
    "  ])"
   ]
  },
  {
   "cell_type": "code",
   "execution_count": 38,
   "id": "9e6ec9f7-b726-4f58-8160-2d6fb9bfecf1",
   "metadata": {
    "execution": {
     "iopub.execute_input": "2022-08-15T11:52:31.547112Z",
     "iopub.status.busy": "2022-08-15T11:52:31.546852Z",
     "iopub.status.idle": "2022-08-15T11:52:31.577059Z",
     "shell.execute_reply": "2022-08-15T11:52:31.576407Z",
     "shell.execute_reply.started": "2022-08-15T11:52:31.547098Z"
    },
    "tags": []
   },
   "outputs": [
    {
     "data": {
      "text/plain": [
       "TensorShape([64, 50, 512])"
      ]
     },
     "execution_count": 38,
     "metadata": {},
     "output_type": "execute_result"
    }
   ],
   "source": [
    "sample_ffn = point_wise_feed_forward_network(512, 2048)\n",
    "sample_ffn(tf.random.uniform((64, 50, 512))).shape"
   ]
  },
  {
   "cell_type": "code",
   "execution_count": 39,
   "id": "4086a4f3-0e11-4cf3-8e20-1c1ca7dc213f",
   "metadata": {
    "execution": {
     "iopub.execute_input": "2022-08-15T11:52:31.577789Z",
     "iopub.status.busy": "2022-08-15T11:52:31.577647Z",
     "iopub.status.idle": "2022-08-15T11:52:31.583355Z",
     "shell.execute_reply": "2022-08-15T11:52:31.582285Z",
     "shell.execute_reply.started": "2022-08-15T11:52:31.577777Z"
    },
    "tags": []
   },
   "outputs": [],
   "source": [
    "class EncoderLayer(tf.keras.layers.Layer):\n",
    "  def __init__(self,*, d_model, num_heads, dff, rate=0.1):\n",
    "    super(EncoderLayer, self).__init__()\n",
    "\n",
    "    self.mha = MultiHeadAttention(d_model=d_model, num_heads=num_heads)\n",
    "    self.ffn = point_wise_feed_forward_network(d_model, dff)\n",
    "\n",
    "    self.layernorm1 = tf.keras.layers.LayerNormalization(epsilon=1e-6)\n",
    "    self.layernorm2 = tf.keras.layers.LayerNormalization(epsilon=1e-6)\n",
    "\n",
    "    self.dropout1 = tf.keras.layers.Dropout(rate)\n",
    "    self.dropout2 = tf.keras.layers.Dropout(rate)\n",
    "\n",
    "  def call(self, x, training, mask):\n",
    "\n",
    "    attn_output, _ = self.mha(x, x, x, mask)  # (batch_size, input_seq_len, d_model)\n",
    "    attn_output = self.dropout1(attn_output, training=training)\n",
    "    out1 = self.layernorm1(x + attn_output)  # (batch_size, input_seq_len, d_model)\n",
    "\n",
    "    ffn_output = self.ffn(out1)  # (batch_size, input_seq_len, d_model)\n",
    "    ffn_output = self.dropout2(ffn_output, training=training)\n",
    "    out2 = self.layernorm2(out1 + ffn_output)  # (batch_size, input_seq_len, d_model)\n",
    "\n",
    "    return out2"
   ]
  },
  {
   "cell_type": "code",
   "execution_count": 40,
   "id": "dc1d11aa-f7d1-4595-af09-0a891ea50fc1",
   "metadata": {
    "execution": {
     "iopub.execute_input": "2022-08-15T11:52:31.585271Z",
     "iopub.status.busy": "2022-08-15T11:52:31.584735Z",
     "iopub.status.idle": "2022-08-15T11:52:31.671683Z",
     "shell.execute_reply": "2022-08-15T11:52:31.671025Z",
     "shell.execute_reply.started": "2022-08-15T11:52:31.585230Z"
    },
    "tags": []
   },
   "outputs": [
    {
     "data": {
      "text/plain": [
       "TensorShape([64, 43, 512])"
      ]
     },
     "execution_count": 40,
     "metadata": {},
     "output_type": "execute_result"
    }
   ],
   "source": [
    "sample_encoder_layer = EncoderLayer(d_model=512, num_heads=8, dff=2048)\n",
    "\n",
    "sample_encoder_layer_output = sample_encoder_layer(\n",
    "    tf.random.uniform((64, 43, 512)), False, None)\n",
    "\n",
    "sample_encoder_layer_output.shape  # (batch_size, input_seq_len, d_model)"
   ]
  },
  {
   "cell_type": "code",
   "execution_count": 41,
   "id": "5dc0d29e-4f85-4c55-85a7-f2c3da7387ee",
   "metadata": {
    "execution": {
     "iopub.execute_input": "2022-08-15T11:52:31.672813Z",
     "iopub.status.busy": "2022-08-15T11:52:31.672492Z",
     "iopub.status.idle": "2022-08-15T11:52:31.680213Z",
     "shell.execute_reply": "2022-08-15T11:52:31.679539Z",
     "shell.execute_reply.started": "2022-08-15T11:52:31.672793Z"
    },
    "tags": []
   },
   "outputs": [],
   "source": [
    "class DecoderLayer(tf.keras.layers.Layer):\n",
    "  def __init__(self,*, d_model, num_heads, dff, rate=0.1):\n",
    "    super(DecoderLayer, self).__init__()\n",
    "\n",
    "    self.mha1 = MultiHeadAttention(d_model=d_model, num_heads=num_heads)\n",
    "    self.mha2 = MultiHeadAttention(d_model=d_model, num_heads=num_heads)\n",
    "\n",
    "    self.ffn = point_wise_feed_forward_network(d_model, dff)\n",
    "\n",
    "    self.layernorm1 = tf.keras.layers.LayerNormalization(epsilon=1e-6)\n",
    "    self.layernorm2 = tf.keras.layers.LayerNormalization(epsilon=1e-6)\n",
    "    self.layernorm3 = tf.keras.layers.LayerNormalization(epsilon=1e-6)\n",
    "\n",
    "    self.dropout1 = tf.keras.layers.Dropout(rate)\n",
    "    self.dropout2 = tf.keras.layers.Dropout(rate)\n",
    "    self.dropout3 = tf.keras.layers.Dropout(rate)\n",
    "\n",
    "  def call(self, x, enc_output, training,\n",
    "           look_ahead_mask, padding_mask):\n",
    "    # enc_output.shape == (batch_size, input_seq_len, d_model)\n",
    "\n",
    "    attn1, attn_weights_block1 = self.mha1(x, x, x, look_ahead_mask)  # (batch_size, target_seq_len, d_model)\n",
    "    attn1 = self.dropout1(attn1, training=training)\n",
    "    out1 = self.layernorm1(attn1 + x)\n",
    "\n",
    "    attn2, attn_weights_block2 = self.mha2(\n",
    "        enc_output, enc_output, out1, padding_mask)  # (batch_size, target_seq_len, d_model)\n",
    "    attn2 = self.dropout2(attn2, training=training)\n",
    "    out2 = self.layernorm2(attn2 + out1)  # (batch_size, target_seq_len, d_model)\n",
    "\n",
    "    ffn_output = self.ffn(out2)  # (batch_size, target_seq_len, d_model)\n",
    "    ffn_output = self.dropout3(ffn_output, training=training)\n",
    "    out3 = self.layernorm3(ffn_output + out2)  # (batch_size, target_seq_len, d_model)\n",
    "\n",
    "    return out3, attn_weights_block1, attn_weights_block2"
   ]
  },
  {
   "cell_type": "code",
   "execution_count": 42,
   "id": "e656bcff-3809-4b90-9b02-9315c9294c71",
   "metadata": {
    "execution": {
     "iopub.execute_input": "2022-08-15T11:52:31.681209Z",
     "iopub.status.busy": "2022-08-15T11:52:31.680945Z",
     "iopub.status.idle": "2022-08-15T11:52:31.744270Z",
     "shell.execute_reply": "2022-08-15T11:52:31.743630Z",
     "shell.execute_reply.started": "2022-08-15T11:52:31.681192Z"
    },
    "tags": []
   },
   "outputs": [
    {
     "data": {
      "text/plain": [
       "TensorShape([64, 50, 512])"
      ]
     },
     "execution_count": 42,
     "metadata": {},
     "output_type": "execute_result"
    }
   ],
   "source": [
    "sample_decoder_layer = DecoderLayer(d_model=512, num_heads=8, dff=2048)\n",
    "\n",
    "sample_decoder_layer_output, _, _ = sample_decoder_layer(\n",
    "    tf.random.uniform((64, 50, 512)), sample_encoder_layer_output,\n",
    "    False, None, None)\n",
    "\n",
    "sample_decoder_layer_output.shape  # (batch_size, target_seq_len, d_model)"
   ]
  },
  {
   "cell_type": "code",
   "execution_count": 43,
   "id": "ebc37902-ed25-4079-99d0-207e9e3f3ea4",
   "metadata": {
    "execution": {
     "iopub.execute_input": "2022-08-15T11:52:31.745206Z",
     "iopub.status.busy": "2022-08-15T11:52:31.744949Z",
     "iopub.status.idle": "2022-08-15T11:52:31.750658Z",
     "shell.execute_reply": "2022-08-15T11:52:31.750026Z",
     "shell.execute_reply.started": "2022-08-15T11:52:31.745192Z"
    },
    "tags": []
   },
   "outputs": [],
   "source": [
    "class Encoder(tf.keras.layers.Layer):\n",
    "  def __init__(self,*, num_layers, d_model, num_heads, dff, input_vocab_size,\n",
    "               rate=0.1):\n",
    "    super(Encoder, self).__init__()\n",
    "\n",
    "    self.d_model = d_model\n",
    "    self.num_layers = num_layers\n",
    "\n",
    "    self.embedding = tf.keras.layers.Embedding(input_vocab_size, d_model)\n",
    "    self.pos_encoding = positional_encoding(MAX_TOKENS, self.d_model)\n",
    "\n",
    "    self.enc_layers = [\n",
    "        EncoderLayer(d_model=d_model, num_heads=num_heads, dff=dff, rate=rate)\n",
    "        for _ in range(num_layers)]\n",
    "\n",
    "    self.dropout = tf.keras.layers.Dropout(rate)\n",
    "\n",
    "  def call(self, x, training, mask):\n",
    "\n",
    "    seq_len = tf.shape(x)[1]\n",
    "\n",
    "    # adding embedding and position encoding.\n",
    "    x = self.embedding(x)  # (batch_size, input_seq_len, d_model)\n",
    "    x *= tf.math.sqrt(tf.cast(self.d_model, tf.float32))\n",
    "    x += self.pos_encoding[:, :seq_len, :]\n",
    "\n",
    "    x = self.dropout(x, training=training)\n",
    "\n",
    "    for i in range(self.num_layers):\n",
    "      x = self.enc_layers[i](x, training, mask)\n",
    "\n",
    "    return x  # (batch_size, input_seq_len, d_model)"
   ]
  },
  {
   "cell_type": "code",
   "execution_count": 44,
   "id": "dc328f62-1975-4d76-bd06-6e7962ca008c",
   "metadata": {
    "execution": {
     "iopub.execute_input": "2022-08-15T11:52:31.751547Z",
     "iopub.status.busy": "2022-08-15T11:52:31.751301Z",
     "iopub.status.idle": "2022-08-15T11:52:31.830136Z",
     "shell.execute_reply": "2022-08-15T11:52:31.829400Z",
     "shell.execute_reply.started": "2022-08-15T11:52:31.751535Z"
    },
    "tags": []
   },
   "outputs": [
    {
     "name": "stdout",
     "output_type": "stream",
     "text": [
      "(64, 62, 512)\n"
     ]
    }
   ],
   "source": [
    "sample_encoder = Encoder(num_layers=2, d_model=512, num_heads=8,\n",
    "                         dff=2048, input_vocab_size=8500)\n",
    "temp_input = tf.random.uniform((64, 62), dtype=tf.int64, minval=0, maxval=200)\n",
    "\n",
    "sample_encoder_output = sample_encoder(temp_input, training=False, mask=None)\n",
    "\n",
    "print(sample_encoder_output.shape)  # (batch_size, input_seq_len, d_model)"
   ]
  },
  {
   "cell_type": "code",
   "execution_count": 45,
   "id": "2120b64c-e6df-4209-91de-c0fe8b8529e7",
   "metadata": {
    "execution": {
     "iopub.execute_input": "2022-08-15T11:52:31.832033Z",
     "iopub.status.busy": "2022-08-15T11:52:31.831485Z",
     "iopub.status.idle": "2022-08-15T11:52:31.845090Z",
     "shell.execute_reply": "2022-08-15T11:52:31.844302Z",
     "shell.execute_reply.started": "2022-08-15T11:52:31.831992Z"
    },
    "tags": []
   },
   "outputs": [],
   "source": [
    "class Decoder(tf.keras.layers.Layer):\n",
    "  def __init__(self,*, num_layers, d_model, num_heads, dff, target_vocab_size,\n",
    "               rate=0.1):\n",
    "    super(Decoder, self).__init__()\n",
    "\n",
    "    self.d_model = d_model\n",
    "    self.num_layers = num_layers\n",
    "\n",
    "    self.embedding = tf.keras.layers.Embedding(target_vocab_size, d_model)\n",
    "    self.pos_encoding = positional_encoding(MAX_TOKENS, d_model)\n",
    "\n",
    "    self.dec_layers = [\n",
    "        DecoderLayer(d_model=d_model, num_heads=num_heads, dff=dff, rate=rate)\n",
    "        for _ in range(num_layers)]\n",
    "    self.dropout = tf.keras.layers.Dropout(rate)\n",
    "\n",
    "  def call(self, x, enc_output, training,\n",
    "           look_ahead_mask, padding_mask):\n",
    "\n",
    "    seq_len = tf.shape(x)[1]\n",
    "    attention_weights = {}\n",
    "\n",
    "    x = self.embedding(x)  # (batch_size, target_seq_len, d_model)\n",
    "    x *= tf.math.sqrt(tf.cast(self.d_model, tf.float32))\n",
    "    x += self.pos_encoding[:, :seq_len, :]\n",
    "\n",
    "    x = self.dropout(x, training=training)\n",
    "\n",
    "    for i in range(self.num_layers):\n",
    "      x, block1, block2 = self.dec_layers[i](x, enc_output, training,\n",
    "                                             look_ahead_mask, padding_mask)\n",
    "\n",
    "      attention_weights[f'decoder_layer{i+1}_block1'] = block1\n",
    "      attention_weights[f'decoder_layer{i+1}_block2'] = block2\n",
    "\n",
    "    # x.shape == (batch_size, target_seq_len, d_model)\n",
    "    return x, attention_weights"
   ]
  },
  {
   "cell_type": "code",
   "execution_count": 46,
   "id": "a8ab26ee-9f8a-417a-87a1-b582c233251e",
   "metadata": {
    "execution": {
     "iopub.execute_input": "2022-08-15T11:52:31.846884Z",
     "iopub.status.busy": "2022-08-15T11:52:31.846355Z",
     "iopub.status.idle": "2022-08-15T11:52:32.141190Z",
     "shell.execute_reply": "2022-08-15T11:52:32.139867Z",
     "shell.execute_reply.started": "2022-08-15T11:52:31.846843Z"
    },
    "tags": []
   },
   "outputs": [
    {
     "data": {
      "text/plain": [
       "(TensorShape([64, 26, 512]), TensorShape([64, 8, 26, 62]))"
      ]
     },
     "execution_count": 46,
     "metadata": {},
     "output_type": "execute_result"
    }
   ],
   "source": [
    "sample_decoder = Decoder(num_layers=2, d_model=512, num_heads=8,\n",
    "                         dff=2048, target_vocab_size=8000)\n",
    "temp_input = tf.random.uniform((64, 26), dtype=tf.int64, minval=0, maxval=200)\n",
    "\n",
    "output, attn = sample_decoder(temp_input,\n",
    "                              enc_output=sample_encoder_output,\n",
    "                              training=False,\n",
    "                              look_ahead_mask=None,\n",
    "                              padding_mask=None)\n",
    "\n",
    "output.shape, attn['decoder_layer2_block2'].shape"
   ]
  },
  {
   "cell_type": "code",
   "execution_count": 47,
   "id": "d9f23214-de0d-4d0c-b816-1fed7f948ed7",
   "metadata": {
    "execution": {
     "iopub.execute_input": "2022-08-15T11:52:32.143330Z",
     "iopub.status.busy": "2022-08-15T11:52:32.142766Z",
     "iopub.status.idle": "2022-08-15T11:52:32.156791Z",
     "shell.execute_reply": "2022-08-15T11:52:32.155621Z",
     "shell.execute_reply.started": "2022-08-15T11:52:32.143290Z"
    },
    "tags": []
   },
   "outputs": [],
   "source": [
    "class Transformer(tf.keras.Model):\n",
    "  def __init__(self,*, num_layers, d_model, num_heads, dff, input_vocab_size,\n",
    "               target_vocab_size, rate=0.1):\n",
    "    super().__init__()\n",
    "    self.encoder = Encoder(num_layers=num_layers, d_model=d_model,\n",
    "                           num_heads=num_heads, dff=dff,\n",
    "                           input_vocab_size=input_vocab_size, rate=rate)\n",
    "\n",
    "    self.decoder = Decoder(num_layers=num_layers, d_model=d_model,\n",
    "                           num_heads=num_heads, dff=dff,\n",
    "                           target_vocab_size=target_vocab_size, rate=rate)\n",
    "\n",
    "    self.final_layer = tf.keras.layers.Dense(target_vocab_size)\n",
    "\n",
    "  def call(self, inputs, training):\n",
    "    # Keras models prefer if you pass all your inputs in the first argument\n",
    "    inp, tar = inputs\n",
    "\n",
    "    padding_mask, look_ahead_mask = self.create_masks(inp, tar)\n",
    "\n",
    "    enc_output = self.encoder(inp, training, padding_mask)  # (batch_size, inp_seq_len, d_model)\n",
    "\n",
    "    # dec_output.shape == (batch_size, tar_seq_len, d_model)\n",
    "    dec_output, attention_weights = self.decoder(\n",
    "        tar, enc_output, training, look_ahead_mask, padding_mask)\n",
    "\n",
    "    final_output = self.final_layer(dec_output)  # (batch_size, tar_seq_len, target_vocab_size)\n",
    "\n",
    "    return final_output, attention_weights\n",
    "\n",
    "  def create_masks(self, inp, tar):\n",
    "    # Encoder padding mask (Used in the 2nd attention block in the decoder too.)\n",
    "    padding_mask = create_padding_mask(inp)\n",
    "\n",
    "    # Used in the 1st attention block in the decoder.\n",
    "    # It is used to pad and mask future tokens in the input received by\n",
    "    # the decoder.\n",
    "    look_ahead_mask = create_look_ahead_mask(tf.shape(tar)[1])\n",
    "    dec_target_padding_mask = create_padding_mask(tar)\n",
    "    look_ahead_mask = tf.maximum(dec_target_padding_mask, look_ahead_mask)\n",
    "\n",
    "    return padding_mask, look_ahead_mask"
   ]
  },
  {
   "cell_type": "code",
   "execution_count": 48,
   "id": "d567b788-5fde-4f4b-ad3a-afa783d7b868",
   "metadata": {
    "execution": {
     "iopub.execute_input": "2022-08-15T11:52:32.158539Z",
     "iopub.status.busy": "2022-08-15T11:52:32.158143Z",
     "iopub.status.idle": "2022-08-15T11:52:32.341605Z",
     "shell.execute_reply": "2022-08-15T11:52:32.340969Z",
     "shell.execute_reply.started": "2022-08-15T11:52:32.158501Z"
    },
    "tags": []
   },
   "outputs": [
    {
     "data": {
      "text/plain": [
       "TensorShape([64, 36, 8000])"
      ]
     },
     "execution_count": 48,
     "metadata": {},
     "output_type": "execute_result"
    }
   ],
   "source": [
    "sample_transformer = Transformer(\n",
    "    num_layers=2, d_model=512, num_heads=8, dff=2048,\n",
    "    input_vocab_size=8500, target_vocab_size=8000)\n",
    "\n",
    "temp_input = tf.random.uniform((64, 38), dtype=tf.int64, minval=0, maxval=200)\n",
    "temp_target = tf.random.uniform((64, 36), dtype=tf.int64, minval=0, maxval=200)\n",
    "\n",
    "fn_out, _ = sample_transformer([temp_input, temp_target], training=False)\n",
    "\n",
    "fn_out.shape  # (batch_size, tar_seq_len, target_vocab_size)"
   ]
  },
  {
   "cell_type": "code",
   "execution_count": 49,
   "id": "f0bc550e-8719-45c5-99a0-6fe6a6aec056",
   "metadata": {
    "execution": {
     "iopub.execute_input": "2022-08-15T11:52:32.342563Z",
     "iopub.status.busy": "2022-08-15T11:52:32.342309Z",
     "iopub.status.idle": "2022-08-15T11:52:32.345805Z",
     "shell.execute_reply": "2022-08-15T11:52:32.345173Z",
     "shell.execute_reply.started": "2022-08-15T11:52:32.342550Z"
    },
    "tags": []
   },
   "outputs": [],
   "source": [
    "# num_layers = 6\n",
    "# d_model = 512\n",
    "# dff = 2048\n",
    "# num_heads = 8\n",
    "# dropout_rate = 0.1\n",
    "\n",
    "num_layers = 4\n",
    "d_model = 128\n",
    "dff = 512\n",
    "num_heads = 8\n",
    "dropout_rate = 0.1"
   ]
  },
  {
   "cell_type": "code",
   "execution_count": 50,
   "id": "dd51d0cc-ba0f-4248-a010-2dafaa6eb5d0",
   "metadata": {
    "execution": {
     "iopub.execute_input": "2022-08-15T11:52:32.346563Z",
     "iopub.status.busy": "2022-08-15T11:52:32.346433Z",
     "iopub.status.idle": "2022-08-15T11:52:32.355468Z",
     "shell.execute_reply": "2022-08-15T11:52:32.354796Z",
     "shell.execute_reply.started": "2022-08-15T11:52:32.346551Z"
    },
    "tags": []
   },
   "outputs": [],
   "source": [
    "class CustomSchedule(tf.keras.optimizers.schedules.LearningRateSchedule):\n",
    "  def __init__(self, d_model, warmup_steps=4000):\n",
    "    super(CustomSchedule, self).__init__()\n",
    "\n",
    "    self.d_model = d_model\n",
    "    self.d_model = tf.cast(self.d_model, tf.float32)\n",
    "\n",
    "    self.warmup_steps = warmup_steps\n",
    "\n",
    "  def __call__(self, step):\n",
    "    arg1 = tf.math.rsqrt(step)\n",
    "    arg2 = step * (self.warmup_steps ** -1.5)\n",
    "\n",
    "    return tf.math.rsqrt(self.d_model) * tf.math.minimum(arg1, arg2)"
   ]
  },
  {
   "cell_type": "code",
   "execution_count": 51,
   "id": "2059a87c-8374-466b-bd8e-240fc24c2428",
   "metadata": {
    "execution": {
     "iopub.execute_input": "2022-08-15T11:52:32.356410Z",
     "iopub.status.busy": "2022-08-15T11:52:32.356179Z",
     "iopub.status.idle": "2022-08-15T11:52:32.365047Z",
     "shell.execute_reply": "2022-08-15T11:52:32.364318Z",
     "shell.execute_reply.started": "2022-08-15T11:52:32.356394Z"
    },
    "tags": []
   },
   "outputs": [],
   "source": [
    "learning_rate = CustomSchedule(d_model)\n",
    "\n",
    "optimizer = tf.keras.optimizers.Adam(learning_rate, beta_1=0.9, beta_2=0.98,\n",
    "                                     epsilon=1e-9)"
   ]
  },
  {
   "cell_type": "code",
   "execution_count": 52,
   "id": "67f4982a-33b4-4d88-81c6-5d49d00810a9",
   "metadata": {
    "execution": {
     "iopub.execute_input": "2022-08-15T11:52:32.366229Z",
     "iopub.status.busy": "2022-08-15T11:52:32.365899Z",
     "iopub.status.idle": "2022-08-15T11:52:32.498857Z",
     "shell.execute_reply": "2022-08-15T11:52:32.498439Z",
     "shell.execute_reply.started": "2022-08-15T11:52:32.366209Z"
    },
    "tags": []
   },
   "outputs": [
    {
     "data": {
      "text/plain": [
       "Text(0.5, 0, 'Train Step')"
      ]
     },
     "execution_count": 52,
     "metadata": {},
     "output_type": "execute_result"
    },
    {
     "data": {
      "image/png": "[encoded data removed]",
      "text/plain": [
       "<Figure size 432x288 with 1 Axes>"
      ]
     },
     "metadata": {
      "needs_background": "light"
     },
     "output_type": "display_data"
    }
   ],
   "source": [
    "temp_learning_rate_schedule = CustomSchedule(d_model)\n",
    "\n",
    "plt.plot(temp_learning_rate_schedule(tf.range(40000, dtype=tf.float32)))\n",
    "plt.ylabel('Learning Rate')\n",
    "plt.xlabel('Train Step')"
   ]
  },
  {
   "cell_type": "code",
   "execution_count": 53,
   "id": "e1075174-3bf1-4da4-a0a1-6107d6c8747f",
   "metadata": {
    "execution": {
     "iopub.execute_input": "2022-08-15T11:52:32.499628Z",
     "iopub.status.busy": "2022-08-15T11:52:32.499413Z",
     "iopub.status.idle": "2022-08-15T11:52:32.501989Z",
     "shell.execute_reply": "2022-08-15T11:52:32.501522Z",
     "shell.execute_reply.started": "2022-08-15T11:52:32.499613Z"
    },
    "tags": []
   },
   "outputs": [],
   "source": [
    "loss_object = tf.keras.losses.SparseCategoricalCrossentropy(\n",
    "    from_logits=True, reduction='none')"
   ]
  },
  {
   "cell_type": "code",
   "execution_count": 54,
   "id": "81d9d7f0-8c2b-42c8-91ab-3fc1ecbcce8a",
   "metadata": {
    "execution": {
     "iopub.execute_input": "2022-08-15T11:52:32.502714Z",
     "iopub.status.busy": "2022-08-15T11:52:32.502502Z",
     "iopub.status.idle": "2022-08-15T11:52:32.519022Z",
     "shell.execute_reply": "2022-08-15T11:52:32.518524Z",
     "shell.execute_reply.started": "2022-08-15T11:52:32.502701Z"
    },
    "tags": []
   },
   "outputs": [],
   "source": [
    "def loss_function(real, pred):\n",
    "  mask = tf.math.logical_not(tf.math.equal(real, 0))\n",
    "  loss_ = loss_object(real, pred)\n",
    "\n",
    "  mask = tf.cast(mask, dtype=loss_.dtype)\n",
    "  loss_ *= mask\n",
    "\n",
    "  return tf.reduce_sum(loss_)/tf.reduce_sum(mask)\n",
    "\n",
    "\n",
    "def accuracy_function(real, pred):\n",
    "  accuracies = tf.equal(real, tf.argmax(pred, axis=2))\n",
    "\n",
    "  mask = tf.math.logical_not(tf.math.equal(real, 0))\n",
    "  accuracies = tf.math.logical_and(mask, accuracies)\n",
    "\n",
    "  accuracies = tf.cast(accuracies, dtype=tf.float32)\n",
    "  mask = tf.cast(mask, dtype=tf.float32)\n",
    "  return tf.reduce_sum(accuracies)/tf.reduce_sum(mask)"
   ]
  },
  {
   "cell_type": "code",
   "execution_count": 55,
   "id": "39fb1cb7-da4a-4864-bec5-a28cf5d6c045",
   "metadata": {
    "execution": {
     "iopub.execute_input": "2022-08-15T11:52:32.519872Z",
     "iopub.status.busy": "2022-08-15T11:52:32.519627Z",
     "iopub.status.idle": "2022-08-15T11:52:32.547410Z",
     "shell.execute_reply": "2022-08-15T11:52:32.546468Z",
     "shell.execute_reply.started": "2022-08-15T11:52:32.519856Z"
    },
    "tags": []
   },
   "outputs": [],
   "source": [
    "train_loss = tf.keras.metrics.Mean(name='train_loss')\n",
    "train_accuracy = tf.keras.metrics.Mean(name='train_accuracy')\n",
    "\n",
    "val_loss = tf.keras.metrics.Mean(name='val_loss')\n",
    "val_accuracy = tf.keras.metrics.Mean(name='val_accuracy')"
   ]
  },
  {
   "cell_type": "code",
   "execution_count": 56,
   "id": "52f07608-8040-477a-9499-504ffff25fe6",
   "metadata": {
    "execution": {
     "iopub.execute_input": "2022-08-15T11:52:32.549167Z",
     "iopub.status.busy": "2022-08-15T11:52:32.548736Z",
     "iopub.status.idle": "2022-08-15T11:52:32.646373Z",
     "shell.execute_reply": "2022-08-15T11:52:32.645278Z",
     "shell.execute_reply.started": "2022-08-15T11:52:32.549128Z"
    },
    "tags": []
   },
   "outputs": [],
   "source": [
    "transformer = Transformer(\n",
    "    num_layers=num_layers,\n",
    "    d_model=d_model,\n",
    "    num_heads=num_heads,\n",
    "    dff=dff,\n",
    "    input_vocab_size=tokenizers.pt.get_vocab_size().numpy(),\n",
    "    target_vocab_size=tokenizers.en.get_vocab_size().numpy(),\n",
    "    rate=dropout_rate)"
   ]
  },
  {
   "cell_type": "code",
   "execution_count": 57,
   "id": "6b8e0dbc-363e-495a-9dd8-63bf21bb5eb4",
   "metadata": {
    "execution": {
     "iopub.execute_input": "2022-08-15T11:52:32.647466Z",
     "iopub.status.busy": "2022-08-15T11:52:32.647208Z",
     "iopub.status.idle": "2022-08-15T11:52:32.651416Z",
     "shell.execute_reply": "2022-08-15T11:52:32.650686Z",
     "shell.execute_reply.started": "2022-08-15T11:52:32.647453Z"
    },
    "tags": []
   },
   "outputs": [],
   "source": [
    "checkpoint_path = './checkpoints/train'\n",
    "\n",
    "ckpt = tf.train.Checkpoint(transformer=transformer,\n",
    "                           optimizer=optimizer)\n",
    "\n",
    "ckpt_manager = tf.train.CheckpointManager(ckpt, checkpoint_path, max_to_keep=5)\n",
    "\n",
    "# if a checkpoint exists, restore the latest checkpoint.\n",
    "# if ckpt_manager.latest_checkpoint:\n",
    "#   ckpt.restore(ckpt_manager.latest_checkpoint)\n",
    "#   print('Latest checkpoint restored!!')"
   ]
  },
  {
   "cell_type": "code",
   "execution_count": 58,
   "id": "70112e08-b5ec-4d13-bc72-5befcce2b6f7",
   "metadata": {
    "execution": {
     "iopub.execute_input": "2022-08-15T11:52:32.653374Z",
     "iopub.status.busy": "2022-08-15T11:52:32.652666Z",
     "iopub.status.idle": "2022-08-15T11:52:32.666449Z",
     "shell.execute_reply": "2022-08-15T11:52:32.665686Z",
     "shell.execute_reply.started": "2022-08-15T11:52:32.653333Z"
    },
    "tags": []
   },
   "outputs": [
    {
     "data": {
      "text/plain": [
       "<tf.Tensor: shape=(), dtype=bool, numpy=True>"
      ]
     },
     "execution_count": 58,
     "metadata": {},
     "output_type": "execute_result"
    }
   ],
   "source": [
    "t1 = tf.fill([3, 1], 0)\n",
    "t2 = tf.fill([3, 1], 3)\n",
    "\n",
    "t1 |= t2\n",
    "\n",
    "done = tf.equal(t1, 3)\n",
    "\n",
    "tf.reduce_all(done)"
   ]
  },
  {
   "cell_type": "code",
   "execution_count": 59,
   "id": "7c2fdc7a-ba5d-46f9-b6c0-863313a62fca",
   "metadata": {
    "execution": {
     "iopub.execute_input": "2022-08-15T11:52:32.668136Z",
     "iopub.status.busy": "2022-08-15T11:52:32.667748Z",
     "iopub.status.idle": "2022-08-15T11:52:32.681971Z",
     "shell.execute_reply": "2022-08-15T11:52:32.681110Z",
     "shell.execute_reply.started": "2022-08-15T11:52:32.668100Z"
    },
    "tags": []
   },
   "outputs": [],
   "source": [
    "class ValidationTranslator(tf.Module):\n",
    "    def __init__(self, tokenizers, transformer):\n",
    "        self.tokenizers = tokenizers\n",
    "        self.transformer = transformer\n",
    "    \n",
    "    def __call__(self, sentences, max_length=MAX_TOKENS):\n",
    "        batch_dim = sentences.shape[0]\n",
    "        \n",
    "        encoder_input = sentences\n",
    "        \n",
    "        # As the output language is english, initialize the output with the\n",
    "        # english start token.\n",
    "        start_end = self.tokenizers.en.tokenize([''])[0]\n",
    "        start = tf.fill([batch_dim], start_end[0])\n",
    "        end = start_end[1][tf.newaxis]\n",
    "        \n",
    "        # `tf.TensorArray` is required here (instead of a python list) so that the\n",
    "        # dynamic-loop can be traced by `tf.function`.\n",
    "        decoder_input_array = tf.TensorArray(dtype=tf.int64, size=0, dynamic_size=True)\n",
    "        decoder_input_array = decoder_input_array.write(0, start)\n",
    "        \n",
    "        predictions_array = tf.TensorArray(dtype=tf.float32, size=0, dynamic_size=True)\n",
    "        \n",
    "        all_done = tf.fill([batch_dim], False)\n",
    "        for i in tf.range(max_length):\n",
    "            decoder_input = tf.transpose(decoder_input_array.stack())\n",
    "            predictions, _ = self.transformer([encoder_input, decoder_input], training=False)\n",
    "            \n",
    "            # select the last token from the seq_len dimension\n",
    "            predictions = predictions[:, -1:, :]  # (batch_size, 1, vocab_size)\n",
    "            \n",
    "            predictions_array = predictions_array.write(i, tf.squeeze(predictions))\n",
    "            \n",
    "            predicted_ids = tf.squeeze(tf.argmax(predictions, axis=-1))\n",
    "            predicted_ids = tf.where(all_done, 0, predicted_ids)\n",
    "            \n",
    "            # concatentate the predicted_id to the output which is given to the decoder\n",
    "            # as its input.\n",
    "            decoder_input_array = decoder_input_array.write(i+1, predicted_ids)\n",
    "            \n",
    "            all_done |= tf.equal(predicted_ids, end)\n",
    "            if tf.reduce_all(all_done):\n",
    "                break\n",
    "        \n",
    "        \n",
    "        predictions_output = tf.transpose(predictions_array.stack(), perm=[1, 0, 2])\n",
    "        decoder_input = tf.transpose(decoder_input_array.stack())\n",
    "        \n",
    "        # `tf.function` prevents us from using the attention_weights that were\n",
    "        # calculated on the last iteration of the loop. So recalculate them outside\n",
    "        # the loop.\n",
    "        _, attention_weights = self.transformer([encoder_input, decoder_input[:,:-1]], training=False)\n",
    "        \n",
    "        return predictions_output, decoder_input, attention_weights\n"
   ]
  },
  {
   "cell_type": "code",
   "execution_count": 60,
   "id": "613e86a7-dba3-46bc-9075-b814982f8468",
   "metadata": {
    "execution": {
     "iopub.execute_input": "2022-08-15T11:52:32.683396Z",
     "iopub.status.busy": "2022-08-15T11:52:32.682984Z",
     "iopub.status.idle": "2022-08-15T11:52:32.696593Z",
     "shell.execute_reply": "2022-08-15T11:52:32.695698Z",
     "shell.execute_reply.started": "2022-08-15T11:52:32.683367Z"
    },
    "tags": []
   },
   "outputs": [
    {
     "name": "stdout",
     "output_type": "stream",
     "text": [
      "tf.Tensor(\n",
      "[b'now , there is no need for these restrictions at all .'\n",
      " b'i gave you at least four arguments in favor .'], shape=(2,), dtype=string)\n"
     ]
    }
   ],
   "source": [
    "print(en_examples[:2])"
   ]
  },
  {
   "cell_type": "code",
   "execution_count": 61,
   "id": "975b1e40-7c34-48e6-8212-5c5b86bc82a1",
   "metadata": {
    "execution": {
     "iopub.execute_input": "2022-08-15T11:52:32.698153Z",
     "iopub.status.busy": "2022-08-15T11:52:32.697686Z",
     "iopub.status.idle": "2022-08-15T11:52:32.704912Z",
     "shell.execute_reply": "2022-08-15T11:52:32.704126Z",
     "shell.execute_reply.started": "2022-08-15T11:52:32.698120Z"
    },
    "tags": []
   },
   "outputs": [],
   "source": [
    "EPOCHS = 40"
   ]
  },
  {
   "cell_type": "code",
   "execution_count": 62,
   "id": "899ccaa7-d1d0-4f14-9c43-fdfe61bc4d22",
   "metadata": {
    "execution": {
     "iopub.execute_input": "2022-08-15T11:52:32.706715Z",
     "iopub.status.busy": "2022-08-15T11:52:32.706254Z",
     "iopub.status.idle": "2022-08-15T11:52:32.717018Z",
     "shell.execute_reply": "2022-08-15T11:52:32.715936Z",
     "shell.execute_reply.started": "2022-08-15T11:52:32.706675Z"
    },
    "tags": []
   },
   "outputs": [],
   "source": [
    "# The @tf.function trace-compiles train_step into a TF graph for faster\n",
    "# execution. The function specializes to the precise shape of the argument\n",
    "# tensors. To avoid re-tracing due to the variable sequence lengths or variable\n",
    "# batch sizes (the last batch is smaller), use input_signature to specify\n",
    "# more generic shapes.\n",
    "\n",
    "train_step_signature = [\n",
    "    tf.TensorSpec(shape=(None, None), dtype=tf.int64),\n",
    "    tf.TensorSpec(shape=(None, None), dtype=tf.int64),\n",
    "]\n",
    "\n",
    "\n",
    "@tf.function(input_signature=train_step_signature)\n",
    "def train_step(inp, tar):\n",
    "  tar_inp = tar[:, :-1]\n",
    "  tar_real = tar[:, 1:]\n",
    "\n",
    "  with tf.GradientTape() as tape:\n",
    "    predictions, _ = transformer([inp, tar_inp],\n",
    "                                 training = True)\n",
    "    loss = loss_function(tar_real, predictions)\n",
    "\n",
    "  gradients = tape.gradient(loss, transformer.trainable_variables)\n",
    "  optimizer.apply_gradients(zip(gradients, transformer.trainable_variables))\n",
    "\n",
    "  train_loss(loss)\n",
    "  train_accuracy(accuracy_function(tar_real, predictions))"
   ]
  },
  {
   "cell_type": "code",
   "execution_count": 63,
   "id": "faf0efd8-5158-4121-9337-a494067efc17",
   "metadata": {
    "execution": {
     "iopub.execute_input": "2022-08-15T11:52:32.718989Z",
     "iopub.status.busy": "2022-08-15T11:52:32.718440Z",
     "iopub.status.idle": "2022-08-15T11:52:43.281460Z",
     "shell.execute_reply": "2022-08-15T11:52:43.280706Z",
     "shell.execute_reply.started": "2022-08-15T11:52:32.718949Z"
    },
    "tags": []
   },
   "outputs": [
    {
     "name": "stdout",
     "output_type": "stream",
     "text": [
      "tf.Tensor(\n",
      "[[   2   10  178 ...    0    0    0]\n",
      " [   2  436   28 ...    0    0    0]\n",
      " [   2   99  193 ...    0    0    0]\n",
      " ...\n",
      " [   2  115 1514 ...    0    0    0]\n",
      " [   2   91 4986 ...    0    0    0]\n",
      " [   2  149   87 ...    0    0    0]], shape=(64, 99), dtype=int64)\n",
      "tf.Tensor(\n",
      "[[   2 4193 4193 ... 4193 4193 4193]\n",
      " [   2 3472 3472 ... 1279 3472 5111]\n",
      " [   2 3472 3472 ... 3472 3472 3472]\n",
      " ...\n",
      " [   2 3472 3472 ... 3472 3472 3472]\n",
      " [   2 3472 3472 ... 3472 3472 3472]\n",
      " [   2 3472 3472 ... 3472 3472 3472]], shape=(64, 129), dtype=int64)\n",
      "tf.Tensor(\n",
      "[129 129 129 129 129 129 129 129 129 129 129 129 129 129 129 129 129 129\n",
      " 129 129 129 129 129 129 129 129 129 129 129 129 129 129 129 129 129 129\n",
      " 129 129 129 129 129 129 129 129 129 129 129 129 129 129 129 129 129 129\n",
      " 129 129 129 129 129 129 129 129 129 129], shape=(64,), dtype=int32)\n"
     ]
    }
   ],
   "source": [
    "validation_translator = ValidationTranslator(tokenizers, transformer)\n",
    "for inp, tar in val_batches.take(1):\n",
    "    print(inp)\n",
    "    predictions, output, _ = validation_translator(inp)\n",
    "    print(output)\n",
    "    print(tf.reduce_sum(tf.where(output == 0, 0, 1), axis=1))\n",
    "    "
   ]
  },
  {
   "cell_type": "code",
   "execution_count": 64,
   "id": "4378d21b-e2a1-486d-8cfc-578f20a61362",
   "metadata": {
    "execution": {
     "iopub.execute_input": "2022-08-15T11:52:43.283922Z",
     "iopub.status.busy": "2022-08-15T11:52:43.283737Z",
     "iopub.status.idle": "2022-08-15T11:52:43.288490Z",
     "shell.execute_reply": "2022-08-15T11:52:43.287841Z",
     "shell.execute_reply.started": "2022-08-15T11:52:43.283908Z"
    },
    "tags": []
   },
   "outputs": [
    {
     "data": {
      "text/plain": [
       "3648"
      ]
     },
     "execution_count": 64,
     "metadata": {},
     "output_type": "execute_result"
    }
   ],
   "source": [
    "64*57"
   ]
  },
  {
   "cell_type": "code",
   "execution_count": 65,
   "id": "0dbe550a-d21b-4653-8a6e-e7435d198b27",
   "metadata": {
    "execution": {
     "iopub.execute_input": "2022-08-15T11:52:43.289396Z",
     "iopub.status.busy": "2022-08-15T11:52:43.289145Z",
     "iopub.status.idle": "2022-08-15T11:52:43.326251Z",
     "shell.execute_reply": "2022-08-15T11:52:43.324787Z",
     "shell.execute_reply.started": "2022-08-15T11:52:43.289383Z"
    },
    "tags": []
   },
   "outputs": [],
   "source": [
    "# Epoch 20 Batch 0 Loss 1.4364 Accuracy 0.6973\n",
    "# Epoch 20 Batch 50 Loss 1.4818 Accuracy 0.6745\n",
    "# Epoch 20 Batch 100 Loss 1.4871 Accuracy 0.6737\n",
    "# Epoch 20 Batch 150 Loss 1.4814 Accuracy 0.6748\n",
    "# Epoch 20 Batch 200 Loss 1.4804 Accuracy 0.6750\n",
    "# Epoch 20 Batch 250 Loss 1.4876 Accuracy 0.6743\n",
    "# Epoch 20 Batch 300 Loss 1.4898 Accuracy 0.6737\n",
    "# Epoch 20 Batch 350 Loss 1.4929 Accuracy 0.6734\n",
    "# Epoch 20 Batch 400 Loss 1.4961 Accuracy 0.6728\n",
    "# Epoch 20 Batch 450 Loss 1.4986 Accuracy 0.6724\n",
    "# Epoch 20 Batch 500 Loss 1.5026 Accuracy 0.6718\n",
    "# Epoch 20 Batch 550 Loss 1.5057 Accuracy 0.6712\n",
    "# Epoch 20 Batch 600 Loss 1.5104 Accuracy 0.6705\n",
    "# Epoch 20 Batch 650 Loss 1.5139 Accuracy 0.6700\n",
    "# Epoch 20 Batch 700 Loss 1.5182 Accuracy 0.6694\n",
    "# computing validation metrics...\n",
    "# Epoch 20\n",
    "# \ttrain_loss 1.5178 train_accuracy 0.6694\n",
    "# \tval_loss 7.6856 val_accuracy 0.2181\n",
    "# Time taken for 1 epoch: 62.01 secs"
   ]
  },
  {
   "cell_type": "code",
   "execution_count": 66,
   "id": "3e4c7dae-1bbc-46b3-9ac8-af7c172e629d",
   "metadata": {
    "execution": {
     "iopub.execute_input": "2022-08-15T11:52:43.328118Z",
     "iopub.status.busy": "2022-08-15T11:52:43.327689Z",
     "iopub.status.idle": "2022-08-15T12:32:42.313887Z",
     "shell.execute_reply": "2022-08-15T12:32:42.313100Z",
     "shell.execute_reply.started": "2022-08-15T11:52:43.328077Z"
    },
    "tags": []
   },
   "outputs": [
    {
     "name": "stdout",
     "output_type": "stream",
     "text": [
      "Epoch 1 Batch 0 Loss 8.8621 Accuracy 0.0000\n",
      "Epoch 1 Batch 50 Loss 8.8045 Accuracy 0.0016\n",
      "Epoch 1 Batch 100 Loss 8.7064 Accuracy 0.0216\n",
      "Epoch 1 Batch 150 Loss 8.5952 Accuracy 0.0347\n",
      "Epoch 1 Batch 200 Loss 8.4563 Accuracy 0.0423\n",
      "Epoch 1 Batch 250 Loss 8.2870 Accuracy 0.0479\n",
      "Epoch 1 Batch 300 Loss 8.0962 Accuracy 0.0528\n",
      "Epoch 1 Batch 350 Loss 7.8993 Accuracy 0.0579\n",
      "Epoch 1 Batch 400 Loss 7.7108 Accuracy 0.0646\n",
      "Epoch 1 Batch 450 Loss 7.5443 Accuracy 0.0716\n",
      "Epoch 1 Batch 500 Loss 7.3963 Accuracy 0.0781\n",
      "Epoch 1 Batch 550 Loss 7.2634 Accuracy 0.0848\n",
      "Epoch 1 Batch 600 Loss 7.1372 Accuracy 0.0920\n",
      "Epoch 1 Batch 650 Loss 7.0203 Accuracy 0.0992\n",
      "computing validation metrics...\n",
      "Epoch 1\n",
      "\ttrain_loss 6.9164 train_accuracy 0.1057\n",
      "\tval_loss 6.4520 val_accuracy 0.0526\n",
      "Time taken for 1 epoch: 76.83 secs\n",
      "\n",
      "Epoch 2 Batch 0 Loss 5.4669 Accuracy 0.2042\n",
      "Epoch 2 Batch 50 Loss 5.3969 Accuracy 0.1992\n",
      "Epoch 2 Batch 100 Loss 5.3534 Accuracy 0.2028\n",
      "Epoch 2 Batch 150 Loss 5.3109 Accuracy 0.2073\n",
      "Epoch 2 Batch 200 Loss 5.2724 Accuracy 0.2103\n",
      "Epoch 2 Batch 250 Loss 5.2375 Accuracy 0.2135\n",
      "Epoch 2 Batch 300 Loss 5.2077 Accuracy 0.2162\n",
      "Epoch 2 Batch 350 Loss 5.1787 Accuracy 0.2189\n",
      "Epoch 2 Batch 400 Loss 5.1523 Accuracy 0.2214\n",
      "Epoch 2 Batch 450 Loss 5.1286 Accuracy 0.2238\n",
      "Epoch 2 Batch 500 Loss 5.1042 Accuracy 0.2261\n",
      "Epoch 2 Batch 550 Loss 5.0839 Accuracy 0.2281\n",
      "Epoch 2 Batch 600 Loss 5.0629 Accuracy 0.2302\n",
      "Epoch 2 Batch 650 Loss 5.0424 Accuracy 0.2322\n",
      "Epoch 2 Batch 700 Loss 5.0231 Accuracy 0.2340\n",
      "computing validation metrics...\n",
      "Epoch 2\n",
      "\ttrain_loss 5.0224 train_accuracy 0.2341\n",
      "\tval_loss 7.2840 val_accuracy 0.0636\n",
      "Time taken for 1 epoch: 64.01 secs\n",
      "\n",
      "Epoch 3 Batch 0 Loss 4.7051 Accuracy 0.2668\n",
      "Epoch 3 Batch 50 Loss 4.7447 Accuracy 0.2584\n",
      "Epoch 3 Batch 100 Loss 4.7067 Accuracy 0.2616\n",
      "Epoch 3 Batch 150 Loss 4.6936 Accuracy 0.2625\n",
      "Epoch 3 Batch 200 Loss 4.6799 Accuracy 0.2638\n",
      "Epoch 3 Batch 250 Loss 4.6619 Accuracy 0.2657\n",
      "Epoch 3 Batch 300 Loss 4.6472 Accuracy 0.2668\n",
      "Epoch 3 Batch 350 Loss 4.6372 Accuracy 0.2679\n",
      "Epoch 3 Batch 400 Loss 4.6277 Accuracy 0.2686\n",
      "Epoch 3 Batch 450 Loss 4.6165 Accuracy 0.2697\n",
      "Epoch 3 Batch 500 Loss 4.6019 Accuracy 0.2713\n",
      "Epoch 3 Batch 550 Loss 4.5875 Accuracy 0.2725\n",
      "Epoch 3 Batch 600 Loss 4.5717 Accuracy 0.2740\n",
      "Epoch 3 Batch 650 Loss 4.5595 Accuracy 0.2753\n",
      "Epoch 3 Batch 700 Loss 4.5469 Accuracy 0.2769\n",
      "computing validation metrics...\n",
      "Epoch 3\n",
      "\ttrain_loss 4.5469 train_accuracy 0.2769\n",
      "\tval_loss 7.3925 val_accuracy 0.0733\n",
      "Time taken for 1 epoch: 69.96 secs\n",
      "\n",
      "Epoch 4 Batch 0 Loss 4.1340 Accuracy 0.3210\n",
      "Epoch 4 Batch 50 Loss 4.2800 Accuracy 0.3020\n",
      "Epoch 4 Batch 100 Loss 4.2672 Accuracy 0.3060\n",
      "Epoch 4 Batch 150 Loss 4.2638 Accuracy 0.3068\n",
      "Epoch 4 Batch 200 Loss 4.2425 Accuracy 0.3092\n",
      "Epoch 4 Batch 250 Loss 4.2230 Accuracy 0.3113\n",
      "Epoch 4 Batch 300 Loss 4.2093 Accuracy 0.3132\n",
      "Epoch 4 Batch 350 Loss 4.1893 Accuracy 0.3159\n",
      "Epoch 4 Batch 400 Loss 4.1757 Accuracy 0.3175\n",
      "Epoch 4 Batch 450 Loss 4.1566 Accuracy 0.3199\n",
      "Epoch 4 Batch 500 Loss 4.1420 Accuracy 0.3221\n",
      "Epoch 4 Batch 550 Loss 4.1242 Accuracy 0.3244\n",
      "Epoch 4 Batch 600 Loss 4.1095 Accuracy 0.3264\n",
      "Epoch 4 Batch 650 Loss 4.0894 Accuracy 0.3291\n",
      "Epoch 4 Batch 700 Loss 4.0738 Accuracy 0.3313\n",
      "computing validation metrics...\n",
      "Epoch 4\n",
      "\ttrain_loss 4.0726 train_accuracy 0.3314\n",
      "\tval_loss 7.1315 val_accuracy 0.1338\n",
      "Time taken for 1 epoch: 70.04 secs\n",
      "\n",
      "Epoch 5 Batch 0 Loss 3.8001 Accuracy 0.3663\n",
      "Epoch 5 Batch 50 Loss 3.7832 Accuracy 0.3652\n",
      "Epoch 5 Batch 100 Loss 3.7479 Accuracy 0.3701\n",
      "Epoch 5 Batch 150 Loss 3.7387 Accuracy 0.3712\n",
      "Epoch 5 Batch 200 Loss 3.7293 Accuracy 0.3729\n",
      "Epoch 5 Batch 250 Loss 3.7114 Accuracy 0.3755\n",
      "Epoch 5 Batch 300 Loss 3.7019 Accuracy 0.3764\n",
      "Epoch 5 Batch 350 Loss 3.6926 Accuracy 0.3777\n",
      "Epoch 5 Batch 400 Loss 3.6808 Accuracy 0.3793\n",
      "Epoch 5 Batch 450 Loss 3.6659 Accuracy 0.3813\n",
      "Epoch 5 Batch 500 Loss 3.6527 Accuracy 0.3830\n",
      "Epoch 5 Batch 550 Loss 3.6409 Accuracy 0.3846\n",
      "Epoch 5 Batch 600 Loss 3.6280 Accuracy 0.3864\n",
      "Epoch 5 Batch 650 Loss 3.6191 Accuracy 0.3876\n",
      "Epoch 5 Batch 700 Loss 3.6074 Accuracy 0.3892\n",
      "computing validation metrics...\n",
      "Epoch 5\n",
      "\ttrain_loss 3.6063 train_accuracy 0.3894\n",
      "\tval_loss 6.9354 val_accuracy 0.1578\n",
      "Time taken for 1 epoch: 70.36 secs\n",
      "\n",
      "Epoch 6 Batch 0 Loss 3.4887 Accuracy 0.4041\n",
      "Epoch 6 Batch 50 Loss 3.3283 Accuracy 0.4218\n",
      "Epoch 6 Batch 100 Loss 3.3382 Accuracy 0.4206\n",
      "Epoch 6 Batch 150 Loss 3.3247 Accuracy 0.4226\n",
      "Epoch 6 Batch 200 Loss 3.3135 Accuracy 0.4237\n",
      "Epoch 6 Batch 250 Loss 3.3063 Accuracy 0.4246\n",
      "Epoch 6 Batch 300 Loss 3.3005 Accuracy 0.4252\n",
      "Epoch 6 Batch 350 Loss 3.2955 Accuracy 0.4260\n",
      "Epoch 6 Batch 400 Loss 3.2880 Accuracy 0.4269\n",
      "Epoch 6 Batch 450 Loss 3.2742 Accuracy 0.4287\n",
      "Epoch 6 Batch 500 Loss 3.2682 Accuracy 0.4295\n",
      "Epoch 6 Batch 550 Loss 3.2622 Accuracy 0.4303\n",
      "Epoch 6 Batch 600 Loss 3.2533 Accuracy 0.4315\n",
      "Epoch 6 Batch 650 Loss 3.2468 Accuracy 0.4323\n",
      "Epoch 6 Batch 700 Loss 3.2411 Accuracy 0.4331\n",
      "computing validation metrics...\n",
      "Epoch 6\n",
      "\ttrain_loss 3.2401 train_accuracy 0.4333\n",
      "\tval_loss 6.8723 val_accuracy 0.1973\n",
      "Time taken for 1 epoch: 62.30 secs\n",
      "\n",
      "Epoch 7 Batch 0 Loss 3.0019 Accuracy 0.4547\n",
      "Epoch 7 Batch 50 Loss 2.9955 Accuracy 0.4595\n",
      "Epoch 7 Batch 100 Loss 2.9936 Accuracy 0.4610\n",
      "Epoch 7 Batch 150 Loss 2.9857 Accuracy 0.4626\n",
      "Epoch 7 Batch 200 Loss 2.9775 Accuracy 0.4633\n",
      "Epoch 7 Batch 250 Loss 2.9638 Accuracy 0.4657\n",
      "Epoch 7 Batch 300 Loss 2.9605 Accuracy 0.4661\n",
      "Epoch 7 Batch 350 Loss 2.9493 Accuracy 0.4674\n",
      "Epoch 7 Batch 400 Loss 2.9461 Accuracy 0.4681\n",
      "Epoch 7 Batch 450 Loss 2.9320 Accuracy 0.4703\n",
      "Epoch 7 Batch 500 Loss 2.9243 Accuracy 0.4714\n",
      "Epoch 7 Batch 550 Loss 2.9163 Accuracy 0.4727\n",
      "Epoch 7 Batch 600 Loss 2.9098 Accuracy 0.4737\n",
      "Epoch 7 Batch 650 Loss 2.9070 Accuracy 0.4742\n",
      "Epoch 7 Batch 700 Loss 2.8996 Accuracy 0.4754\n",
      "computing validation metrics...\n",
      "Epoch 7\n",
      "\ttrain_loss 2.8996 train_accuracy 0.4754\n",
      "\tval_loss 7.0470 val_accuracy 0.1817\n",
      "Time taken for 1 epoch: 59.92 secs\n",
      "\n",
      "Epoch 8 Batch 0 Loss 2.4433 Accuracy 0.5572\n",
      "Epoch 8 Batch 50 Loss 2.6363 Accuracy 0.5085\n",
      "Epoch 8 Batch 100 Loss 2.6413 Accuracy 0.5084\n",
      "Epoch 8 Batch 150 Loss 2.6419 Accuracy 0.5083\n",
      "Epoch 8 Batch 200 Loss 2.6449 Accuracy 0.5078\n",
      "Epoch 8 Batch 250 Loss 2.6446 Accuracy 0.5076\n",
      "Epoch 8 Batch 300 Loss 2.6411 Accuracy 0.5082\n",
      "Epoch 8 Batch 350 Loss 2.6400 Accuracy 0.5088\n",
      "Epoch 8 Batch 400 Loss 2.6375 Accuracy 0.5093\n",
      "Epoch 8 Batch 450 Loss 2.6352 Accuracy 0.5096\n",
      "Epoch 8 Batch 500 Loss 2.6301 Accuracy 0.5102\n",
      "Epoch 8 Batch 550 Loss 2.6285 Accuracy 0.5106\n",
      "Epoch 8 Batch 600 Loss 2.6256 Accuracy 0.5112\n",
      "Epoch 8 Batch 650 Loss 2.6205 Accuracy 0.5119\n",
      "Epoch 8 Batch 700 Loss 2.6180 Accuracy 0.5124\n",
      "computing validation metrics...\n",
      "Epoch 8\n",
      "\ttrain_loss 2.6172 train_accuracy 0.5125\n",
      "\tval_loss 7.1146 val_accuracy 0.1918\n",
      "Time taken for 1 epoch: 61.41 secs\n",
      "\n",
      "Epoch 9 Batch 0 Loss 2.2917 Accuracy 0.5711\n",
      "Epoch 9 Batch 50 Loss 2.4338 Accuracy 0.5349\n",
      "Epoch 9 Batch 100 Loss 2.4270 Accuracy 0.5353\n",
      "Epoch 9 Batch 150 Loss 2.4246 Accuracy 0.5359\n",
      "Epoch 9 Batch 200 Loss 2.4234 Accuracy 0.5371\n",
      "Epoch 9 Batch 250 Loss 2.4222 Accuracy 0.5372\n",
      "Epoch 9 Batch 300 Loss 2.4221 Accuracy 0.5374\n",
      "Epoch 9 Batch 350 Loss 2.4197 Accuracy 0.5376\n",
      "Epoch 9 Batch 400 Loss 2.4143 Accuracy 0.5384\n",
      "Epoch 9 Batch 450 Loss 2.4103 Accuracy 0.5391\n",
      "Epoch 9 Batch 500 Loss 2.4127 Accuracy 0.5389\n",
      "Epoch 9 Batch 550 Loss 2.4128 Accuracy 0.5391\n",
      "Epoch 9 Batch 600 Loss 2.4123 Accuracy 0.5396\n",
      "Epoch 9 Batch 650 Loss 2.4133 Accuracy 0.5396\n",
      "computing validation metrics...\n",
      "Epoch 9\n",
      "\ttrain_loss 2.4134 train_accuracy 0.5397\n",
      "\tval_loss 7.2822 val_accuracy 0.1965\n",
      "Time taken for 1 epoch: 55.87 secs\n",
      "\n",
      "Epoch 10 Batch 0 Loss 2.2967 Accuracy 0.5352\n",
      "Epoch 10 Batch 50 Loss 2.2526 Accuracy 0.5587\n",
      "Epoch 10 Batch 100 Loss 2.2385 Accuracy 0.5613\n",
      "Epoch 10 Batch 150 Loss 2.2463 Accuracy 0.5603\n",
      "Epoch 10 Batch 200 Loss 2.2450 Accuracy 0.5611\n",
      "Epoch 10 Batch 250 Loss 2.2505 Accuracy 0.5608\n",
      "Epoch 10 Batch 300 Loss 2.2574 Accuracy 0.5599\n",
      "Epoch 10 Batch 350 Loss 2.2562 Accuracy 0.5606\n",
      "Epoch 10 Batch 400 Loss 2.2530 Accuracy 0.5609\n",
      "Epoch 10 Batch 450 Loss 2.2514 Accuracy 0.5615\n",
      "Epoch 10 Batch 500 Loss 2.2520 Accuracy 0.5615\n",
      "Epoch 10 Batch 550 Loss 2.2525 Accuracy 0.5614\n",
      "Epoch 10 Batch 600 Loss 2.2537 Accuracy 0.5613\n",
      "Epoch 10 Batch 650 Loss 2.2560 Accuracy 0.5612\n",
      "computing validation metrics...\n",
      "Epoch 10\n",
      "\ttrain_loss 2.2544 train_accuracy 0.5615\n",
      "\tval_loss 7.3600 val_accuracy 0.1936\n",
      "Time taken for 1 epoch: 58.91 secs\n",
      "\n",
      "Epoch 11 Batch 0 Loss 1.9825 Accuracy 0.6053\n",
      "Epoch 11 Batch 50 Loss 2.1098 Accuracy 0.5800\n",
      "Epoch 11 Batch 100 Loss 2.1095 Accuracy 0.5800\n",
      "Epoch 11 Batch 150 Loss 2.1106 Accuracy 0.5801\n",
      "Epoch 11 Batch 200 Loss 2.1129 Accuracy 0.5800\n",
      "Epoch 11 Batch 250 Loss 2.1156 Accuracy 0.5802\n",
      "Epoch 11 Batch 300 Loss 2.1190 Accuracy 0.5794\n",
      "Epoch 11 Batch 350 Loss 2.1188 Accuracy 0.5799\n",
      "Epoch 11 Batch 400 Loss 2.1188 Accuracy 0.5800\n",
      "Epoch 11 Batch 450 Loss 2.1150 Accuracy 0.5806\n",
      "Epoch 11 Batch 500 Loss 2.1191 Accuracy 0.5801\n",
      "Epoch 11 Batch 550 Loss 2.1210 Accuracy 0.5800\n",
      "Epoch 11 Batch 600 Loss 2.1198 Accuracy 0.5802\n",
      "Epoch 11 Batch 650 Loss 2.1238 Accuracy 0.5797\n",
      "computing validation metrics...\n",
      "Epoch 11\n",
      "\ttrain_loss 2.1261 train_accuracy 0.5794\n",
      "\tval_loss 7.2671 val_accuracy 0.1984\n",
      "Time taken for 1 epoch: 59.60 secs\n",
      "\n",
      "Epoch 12 Batch 0 Loss 2.0953 Accuracy 0.5806\n",
      "Epoch 12 Batch 50 Loss 2.0334 Accuracy 0.5911\n",
      "Epoch 12 Batch 100 Loss 2.0196 Accuracy 0.5940\n",
      "Epoch 12 Batch 150 Loss 2.0116 Accuracy 0.5944\n",
      "Epoch 12 Batch 200 Loss 2.0137 Accuracy 0.5939\n",
      "Epoch 12 Batch 250 Loss 2.0129 Accuracy 0.5940\n",
      "Epoch 12 Batch 300 Loss 2.0179 Accuracy 0.5935\n",
      "Epoch 12 Batch 350 Loss 2.0125 Accuracy 0.5944\n",
      "Epoch 12 Batch 400 Loss 2.0092 Accuracy 0.5953\n",
      "Epoch 12 Batch 450 Loss 2.0102 Accuracy 0.5955\n",
      "Epoch 12 Batch 500 Loss 2.0107 Accuracy 0.5954\n",
      "Epoch 12 Batch 550 Loss 2.0098 Accuracy 0.5957\n",
      "Epoch 12 Batch 600 Loss 2.0125 Accuracy 0.5954\n",
      "Epoch 12 Batch 650 Loss 2.0151 Accuracy 0.5952\n",
      "computing validation metrics...\n",
      "Epoch 12\n",
      "\ttrain_loss 2.0159 train_accuracy 0.5952\n",
      "\tval_loss 7.4592 val_accuracy 0.1889\n",
      "Time taken for 1 epoch: 57.19 secs\n",
      "\n",
      "Epoch 13 Batch 0 Loss 1.6963 Accuracy 0.6473\n",
      "Epoch 13 Batch 50 Loss 1.8595 Accuracy 0.6188\n",
      "Epoch 13 Batch 100 Loss 1.8854 Accuracy 0.6141\n",
      "Epoch 13 Batch 150 Loss 1.8911 Accuracy 0.6137\n",
      "Epoch 13 Batch 200 Loss 1.8990 Accuracy 0.6121\n",
      "Epoch 13 Batch 250 Loss 1.9029 Accuracy 0.6114\n",
      "Epoch 13 Batch 300 Loss 1.9111 Accuracy 0.6101\n",
      "Epoch 13 Batch 350 Loss 1.9134 Accuracy 0.6095\n",
      "Epoch 13 Batch 400 Loss 1.9181 Accuracy 0.6086\n",
      "Epoch 13 Batch 450 Loss 1.9185 Accuracy 0.6086\n",
      "Epoch 13 Batch 500 Loss 1.9215 Accuracy 0.6084\n",
      "Epoch 13 Batch 550 Loss 1.9228 Accuracy 0.6082\n",
      "Epoch 13 Batch 600 Loss 1.9259 Accuracy 0.6080\n",
      "Epoch 13 Batch 650 Loss 1.9298 Accuracy 0.6076\n",
      "computing validation metrics...\n",
      "Epoch 13\n",
      "\ttrain_loss 1.9304 train_accuracy 0.6075\n",
      "\tval_loss 7.4036 val_accuracy 0.2021\n",
      "Time taken for 1 epoch: 58.46 secs\n",
      "\n",
      "Epoch 14 Batch 0 Loss 2.1576 Accuracy 0.5890\n",
      "Epoch 14 Batch 50 Loss 1.8428 Accuracy 0.6175\n",
      "Epoch 14 Batch 100 Loss 1.8257 Accuracy 0.6222\n",
      "Epoch 14 Batch 150 Loss 1.8219 Accuracy 0.6226\n",
      "Epoch 14 Batch 200 Loss 1.8298 Accuracy 0.6220\n",
      "Epoch 14 Batch 250 Loss 1.8309 Accuracy 0.6215\n",
      "Epoch 14 Batch 300 Loss 1.8356 Accuracy 0.6209\n",
      "Epoch 14 Batch 350 Loss 1.8353 Accuracy 0.6211\n",
      "Epoch 14 Batch 400 Loss 1.8359 Accuracy 0.6209\n",
      "Epoch 14 Batch 450 Loss 1.8368 Accuracy 0.6207\n",
      "Epoch 14 Batch 500 Loss 1.8382 Accuracy 0.6206\n",
      "Epoch 14 Batch 550 Loss 1.8430 Accuracy 0.6200\n",
      "Epoch 14 Batch 600 Loss 1.8462 Accuracy 0.6196\n",
      "Epoch 14 Batch 650 Loss 1.8490 Accuracy 0.6193\n",
      "Epoch 14 Batch 700 Loss 1.8504 Accuracy 0.6193\n",
      "computing validation metrics...\n",
      "Epoch 14\n",
      "\ttrain_loss 1.8499 train_accuracy 0.6195\n",
      "\tval_loss 7.3228 val_accuracy 0.2114\n",
      "Time taken for 1 epoch: 56.40 secs\n",
      "\n",
      "Epoch 15 Batch 0 Loss 1.8021 Accuracy 0.6146\n",
      "Epoch 15 Batch 50 Loss 1.7586 Accuracy 0.6309\n",
      "Epoch 15 Batch 100 Loss 1.7394 Accuracy 0.6354\n",
      "Epoch 15 Batch 150 Loss 1.7360 Accuracy 0.6355\n",
      "Epoch 15 Batch 200 Loss 1.7509 Accuracy 0.6335\n",
      "Epoch 15 Batch 250 Loss 1.7604 Accuracy 0.6316\n",
      "Epoch 15 Batch 300 Loss 1.7650 Accuracy 0.6311\n",
      "Epoch 15 Batch 350 Loss 1.7706 Accuracy 0.6304\n",
      "Epoch 15 Batch 400 Loss 1.7706 Accuracy 0.6305\n",
      "Epoch 15 Batch 450 Loss 1.7719 Accuracy 0.6304\n",
      "Epoch 15 Batch 500 Loss 1.7739 Accuracy 0.6300\n",
      "Epoch 15 Batch 550 Loss 1.7753 Accuracy 0.6296\n",
      "Epoch 15 Batch 600 Loss 1.7769 Accuracy 0.6296\n",
      "Epoch 15 Batch 650 Loss 1.7791 Accuracy 0.6293\n",
      "Epoch 15 Batch 700 Loss 1.7819 Accuracy 0.6291\n",
      "computing validation metrics...\n",
      "Epoch 15\n",
      "\ttrain_loss 1.7819 train_accuracy 0.6291\n",
      "\tval_loss 7.5121 val_accuracy 0.1980\n",
      "Time taken for 1 epoch: 56.92 secs\n",
      "\n",
      "Epoch 16 Batch 0 Loss 1.6302 Accuracy 0.6451\n",
      "Epoch 16 Batch 50 Loss 1.6655 Accuracy 0.6453\n",
      "Epoch 16 Batch 100 Loss 1.6627 Accuracy 0.6464\n",
      "Epoch 16 Batch 150 Loss 1.6730 Accuracy 0.6448\n",
      "Epoch 16 Batch 200 Loss 1.6835 Accuracy 0.6429\n",
      "Epoch 16 Batch 250 Loss 1.6951 Accuracy 0.6416\n",
      "Epoch 16 Batch 300 Loss 1.7020 Accuracy 0.6403\n",
      "Epoch 16 Batch 350 Loss 1.7036 Accuracy 0.6402\n",
      "Epoch 16 Batch 400 Loss 1.7048 Accuracy 0.6400\n",
      "Epoch 16 Batch 450 Loss 1.7089 Accuracy 0.6394\n",
      "Epoch 16 Batch 500 Loss 1.7124 Accuracy 0.6391\n",
      "Epoch 16 Batch 550 Loss 1.7155 Accuracy 0.6388\n",
      "Epoch 16 Batch 600 Loss 1.7167 Accuracy 0.6388\n",
      "Epoch 16 Batch 650 Loss 1.7172 Accuracy 0.6389\n",
      "Epoch 16 Batch 700 Loss 1.7198 Accuracy 0.6386\n",
      "computing validation metrics...\n",
      "Epoch 16\n",
      "\ttrain_loss 1.7203 train_accuracy 0.6384\n",
      "\tval_loss 7.5017 val_accuracy 0.2211\n",
      "Time taken for 1 epoch: 55.02 secs\n",
      "\n",
      "Epoch 17 Batch 0 Loss 1.5543 Accuracy 0.6653\n",
      "Epoch 17 Batch 50 Loss 1.6214 Accuracy 0.6525\n",
      "Epoch 17 Batch 100 Loss 1.6210 Accuracy 0.6518\n",
      "Epoch 17 Batch 150 Loss 1.6309 Accuracy 0.6498\n",
      "Epoch 17 Batch 200 Loss 1.6344 Accuracy 0.6498\n",
      "Epoch 17 Batch 250 Loss 1.6402 Accuracy 0.6494\n",
      "Epoch 17 Batch 300 Loss 1.6428 Accuracy 0.6486\n",
      "Epoch 17 Batch 350 Loss 1.6457 Accuracy 0.6480\n",
      "Epoch 17 Batch 400 Loss 1.6476 Accuracy 0.6481\n",
      "Epoch 17 Batch 450 Loss 1.6540 Accuracy 0.6472\n",
      "Epoch 17 Batch 500 Loss 1.6581 Accuracy 0.6468\n",
      "Epoch 17 Batch 550 Loss 1.6585 Accuracy 0.6468\n",
      "Epoch 17 Batch 600 Loss 1.6629 Accuracy 0.6463\n",
      "Epoch 17 Batch 650 Loss 1.6660 Accuracy 0.6457\n",
      "Epoch 17 Batch 700 Loss 1.6671 Accuracy 0.6458\n",
      "computing validation metrics...\n",
      "Epoch 17\n",
      "\ttrain_loss 1.6673 train_accuracy 0.6458\n",
      "\tval_loss 7.7391 val_accuracy 0.2097\n",
      "Time taken for 1 epoch: 59.61 secs\n",
      "\n",
      "Epoch 18 Batch 0 Loss 1.4093 Accuracy 0.6795\n",
      "Epoch 18 Batch 50 Loss 1.5735 Accuracy 0.6608\n",
      "Epoch 18 Batch 100 Loss 1.5719 Accuracy 0.6620\n",
      "Epoch 18 Batch 150 Loss 1.5740 Accuracy 0.6609\n",
      "Epoch 18 Batch 200 Loss 1.5866 Accuracy 0.6590\n",
      "Epoch 18 Batch 250 Loss 1.5893 Accuracy 0.6586\n",
      "Epoch 18 Batch 300 Loss 1.5912 Accuracy 0.6582\n",
      "Epoch 18 Batch 350 Loss 1.5959 Accuracy 0.6570\n",
      "Epoch 18 Batch 400 Loss 1.6031 Accuracy 0.6555\n",
      "Epoch 18 Batch 450 Loss 1.6039 Accuracy 0.6556\n",
      "Epoch 18 Batch 500 Loss 1.6069 Accuracy 0.6554\n",
      "Epoch 18 Batch 550 Loss 1.6101 Accuracy 0.6551\n",
      "Epoch 18 Batch 600 Loss 1.6135 Accuracy 0.6547\n",
      "Epoch 18 Batch 650 Loss 1.6151 Accuracy 0.6546\n",
      "Epoch 18 Batch 700 Loss 1.6175 Accuracy 0.6543\n",
      "computing validation metrics...\n",
      "Epoch 18\n",
      "\ttrain_loss 1.6171 train_accuracy 0.6544\n",
      "\tval_loss 7.2613 val_accuracy 0.2447\n",
      "Time taken for 1 epoch: 57.01 secs\n",
      "\n",
      "Epoch 19 Batch 0 Loss 1.3694 Accuracy 0.6999\n",
      "Epoch 19 Batch 50 Loss 1.5408 Accuracy 0.6640\n",
      "Epoch 19 Batch 100 Loss 1.5324 Accuracy 0.6657\n",
      "Epoch 19 Batch 150 Loss 1.5298 Accuracy 0.6668\n",
      "Epoch 19 Batch 200 Loss 1.5329 Accuracy 0.6666\n",
      "Epoch 19 Batch 250 Loss 1.5408 Accuracy 0.6655\n",
      "Epoch 19 Batch 300 Loss 1.5467 Accuracy 0.6645\n",
      "Epoch 19 Batch 350 Loss 1.5495 Accuracy 0.6642\n",
      "Epoch 19 Batch 400 Loss 1.5510 Accuracy 0.6639\n",
      "Epoch 19 Batch 450 Loss 1.5547 Accuracy 0.6634\n",
      "Epoch 19 Batch 500 Loss 1.5588 Accuracy 0.6627\n",
      "Epoch 19 Batch 550 Loss 1.5599 Accuracy 0.6627\n",
      "Epoch 19 Batch 600 Loss 1.5651 Accuracy 0.6620\n",
      "Epoch 19 Batch 650 Loss 1.5682 Accuracy 0.6614\n",
      "Epoch 19 Batch 700 Loss 1.5718 Accuracy 0.6609\n",
      "computing validation metrics...\n",
      "Epoch 19\n",
      "\ttrain_loss 1.5713 train_accuracy 0.6610\n",
      "\tval_loss 7.7143 val_accuracy 0.2235\n",
      "Time taken for 1 epoch: 57.19 secs\n",
      "\n",
      "Epoch 20 Batch 0 Loss 1.6093 Accuracy 0.6425\n",
      "Epoch 20 Batch 50 Loss 1.4840 Accuracy 0.6741\n",
      "Epoch 20 Batch 100 Loss 1.4892 Accuracy 0.6737\n",
      "Epoch 20 Batch 150 Loss 1.4937 Accuracy 0.6724\n",
      "Epoch 20 Batch 200 Loss 1.5004 Accuracy 0.6717\n",
      "Epoch 20 Batch 250 Loss 1.5035 Accuracy 0.6712\n",
      "Epoch 20 Batch 300 Loss 1.5080 Accuracy 0.6705\n",
      "Epoch 20 Batch 350 Loss 1.5125 Accuracy 0.6700\n",
      "Epoch 20 Batch 400 Loss 1.5146 Accuracy 0.6695\n",
      "Epoch 20 Batch 450 Loss 1.5224 Accuracy 0.6682\n",
      "Epoch 20 Batch 500 Loss 1.5261 Accuracy 0.6678\n",
      "Epoch 20 Batch 550 Loss 1.5280 Accuracy 0.6675\n",
      "Epoch 20 Batch 600 Loss 1.5290 Accuracy 0.6673\n",
      "Epoch 20 Batch 650 Loss 1.5315 Accuracy 0.6671\n",
      "Epoch 20 Batch 700 Loss 1.5357 Accuracy 0.6664\n",
      "computing validation metrics...\n",
      "Epoch 20\n",
      "\ttrain_loss 1.5362 train_accuracy 0.6664\n",
      "\tval_loss 7.7245 val_accuracy 0.2232\n",
      "Time taken for 1 epoch: 56.34 secs\n",
      "\n",
      "Epoch 21 Batch 0 Loss 1.4256 Accuracy 0.6795\n",
      "Epoch 21 Batch 50 Loss 1.4501 Accuracy 0.6799\n",
      "Epoch 21 Batch 100 Loss 1.4533 Accuracy 0.6793\n",
      "Epoch 21 Batch 150 Loss 1.4573 Accuracy 0.6787\n",
      "Epoch 21 Batch 200 Loss 1.4606 Accuracy 0.6784\n",
      "Epoch 21 Batch 250 Loss 1.4611 Accuracy 0.6782\n",
      "Epoch 21 Batch 300 Loss 1.4660 Accuracy 0.6774\n",
      "Epoch 21 Batch 350 Loss 1.4711 Accuracy 0.6767\n",
      "Epoch 21 Batch 400 Loss 1.4758 Accuracy 0.6758\n",
      "Epoch 21 Batch 450 Loss 1.4800 Accuracy 0.6749\n",
      "Epoch 21 Batch 500 Loss 1.4809 Accuracy 0.6749\n",
      "Epoch 21 Batch 550 Loss 1.4847 Accuracy 0.6744\n",
      "Epoch 21 Batch 600 Loss 1.4870 Accuracy 0.6741\n",
      "Epoch 21 Batch 650 Loss 1.4918 Accuracy 0.6733\n",
      "Epoch 21 Batch 700 Loss 1.4970 Accuracy 0.6725\n",
      "computing validation metrics...\n",
      "Epoch 21\n",
      "\ttrain_loss 1.4969 train_accuracy 0.6725\n",
      "\tval_loss 7.9610 val_accuracy 0.2001\n",
      "Time taken for 1 epoch: 60.10 secs\n",
      "\n",
      "Epoch 22 Batch 0 Loss 1.2608 Accuracy 0.7025\n",
      "Epoch 22 Batch 50 Loss 1.4169 Accuracy 0.6847\n",
      "Epoch 22 Batch 100 Loss 1.4176 Accuracy 0.6845\n",
      "Epoch 22 Batch 150 Loss 1.4222 Accuracy 0.6839\n",
      "Epoch 22 Batch 200 Loss 1.4232 Accuracy 0.6840\n",
      "Epoch 22 Batch 250 Loss 1.4275 Accuracy 0.6832\n",
      "Epoch 22 Batch 300 Loss 1.4319 Accuracy 0.6826\n",
      "Epoch 22 Batch 350 Loss 1.4354 Accuracy 0.6821\n",
      "Epoch 22 Batch 400 Loss 1.4396 Accuracy 0.6813\n",
      "Epoch 22 Batch 450 Loss 1.4435 Accuracy 0.6806\n",
      "Epoch 22 Batch 500 Loss 1.4475 Accuracy 0.6801\n",
      "Epoch 22 Batch 550 Loss 1.4491 Accuracy 0.6799\n",
      "Epoch 22 Batch 600 Loss 1.4535 Accuracy 0.6794\n",
      "Epoch 22 Batch 650 Loss 1.4565 Accuracy 0.6789\n",
      "computing validation metrics...\n",
      "Epoch 22\n",
      "\ttrain_loss 1.4597 train_accuracy 0.6785\n",
      "\tval_loss 7.7701 val_accuracy 0.2263\n",
      "Time taken for 1 epoch: 61.52 secs\n",
      "\n",
      "Epoch 23 Batch 0 Loss 1.6470 Accuracy 0.6392\n",
      "Epoch 23 Batch 50 Loss 1.3799 Accuracy 0.6920\n",
      "Epoch 23 Batch 100 Loss 1.3956 Accuracy 0.6891\n",
      "Epoch 23 Batch 150 Loss 1.3972 Accuracy 0.6890\n",
      "Epoch 23 Batch 200 Loss 1.3989 Accuracy 0.6889\n",
      "Epoch 23 Batch 250 Loss 1.4022 Accuracy 0.6883\n",
      "Epoch 23 Batch 300 Loss 1.4083 Accuracy 0.6872\n",
      "Epoch 23 Batch 350 Loss 1.4132 Accuracy 0.6861\n",
      "Epoch 23 Batch 400 Loss 1.4138 Accuracy 0.6862\n",
      "Epoch 23 Batch 450 Loss 1.4153 Accuracy 0.6858\n",
      "Epoch 23 Batch 500 Loss 1.4166 Accuracy 0.6856\n",
      "Epoch 23 Batch 550 Loss 1.4195 Accuracy 0.6850\n",
      "Epoch 23 Batch 600 Loss 1.4235 Accuracy 0.6844\n",
      "Epoch 23 Batch 650 Loss 1.4268 Accuracy 0.6839\n",
      "computing validation metrics...\n",
      "Epoch 23\n",
      "\ttrain_loss 1.4313 train_accuracy 0.6830\n",
      "\tval_loss 7.9202 val_accuracy 0.2191\n",
      "Time taken for 1 epoch: 59.09 secs\n",
      "\n",
      "Epoch 24 Batch 0 Loss 1.3792 Accuracy 0.6902\n",
      "Epoch 24 Batch 50 Loss 1.3477 Accuracy 0.6966\n",
      "Epoch 24 Batch 100 Loss 1.3503 Accuracy 0.6952\n",
      "Epoch 24 Batch 150 Loss 1.3528 Accuracy 0.6952\n",
      "Epoch 24 Batch 200 Loss 1.3623 Accuracy 0.6939\n",
      "Epoch 24 Batch 250 Loss 1.3739 Accuracy 0.6921\n",
      "Epoch 24 Batch 300 Loss 1.3738 Accuracy 0.6924\n",
      "Epoch 24 Batch 350 Loss 1.3787 Accuracy 0.6913\n",
      "Epoch 24 Batch 400 Loss 1.3827 Accuracy 0.6906\n",
      "Epoch 24 Batch 450 Loss 1.3859 Accuracy 0.6901\n",
      "Epoch 24 Batch 500 Loss 1.3894 Accuracy 0.6896\n",
      "Epoch 24 Batch 550 Loss 1.3916 Accuracy 0.6889\n",
      "Epoch 24 Batch 600 Loss 1.3970 Accuracy 0.6882\n",
      "Epoch 24 Batch 650 Loss 1.3998 Accuracy 0.6879\n",
      "computing validation metrics...\n",
      "Epoch 24\n",
      "\ttrain_loss 1.4021 train_accuracy 0.6875\n",
      "\tval_loss 7.9116 val_accuracy 0.2171\n",
      "Time taken for 1 epoch: 61.51 secs\n",
      "\n",
      "Epoch 25 Batch 0 Loss 1.3176 Accuracy 0.7015\n",
      "Epoch 25 Batch 50 Loss 1.3238 Accuracy 0.7022\n",
      "Epoch 25 Batch 100 Loss 1.3260 Accuracy 0.7008\n",
      "Epoch 25 Batch 150 Loss 1.3313 Accuracy 0.7001\n",
      "Epoch 25 Batch 200 Loss 1.3385 Accuracy 0.6983\n",
      "Epoch 25 Batch 250 Loss 1.3465 Accuracy 0.6967\n",
      "Epoch 25 Batch 300 Loss 1.3492 Accuracy 0.6966\n",
      "Epoch 25 Batch 350 Loss 1.3509 Accuracy 0.6965\n",
      "Epoch 25 Batch 400 Loss 1.3555 Accuracy 0.6957\n",
      "Epoch 25 Batch 450 Loss 1.3586 Accuracy 0.6949\n",
      "Epoch 25 Batch 500 Loss 1.3633 Accuracy 0.6942\n",
      "Epoch 25 Batch 550 Loss 1.3675 Accuracy 0.6934\n",
      "Epoch 25 Batch 600 Loss 1.3705 Accuracy 0.6930\n",
      "Epoch 25 Batch 650 Loss 1.3735 Accuracy 0.6925\n",
      "computing validation metrics...\n",
      "Epoch 25\n",
      "\ttrain_loss 1.3764 train_accuracy 0.6921\n",
      "\tval_loss 7.8967 val_accuracy 0.2280\n",
      "Time taken for 1 epoch: 60.70 secs\n",
      "\n",
      "Epoch 26 Batch 0 Loss 1.3575 Accuracy 0.6870\n",
      "Epoch 26 Batch 50 Loss 1.3137 Accuracy 0.7014\n",
      "Epoch 26 Batch 100 Loss 1.3188 Accuracy 0.7002\n",
      "Epoch 26 Batch 150 Loss 1.3164 Accuracy 0.7008\n",
      "Epoch 26 Batch 200 Loss 1.3199 Accuracy 0.7005\n",
      "Epoch 26 Batch 250 Loss 1.3220 Accuracy 0.7006\n",
      "Epoch 26 Batch 300 Loss 1.3272 Accuracy 0.6998\n",
      "Epoch 26 Batch 350 Loss 1.3303 Accuracy 0.6993\n",
      "Epoch 26 Batch 400 Loss 1.3350 Accuracy 0.6985\n",
      "Epoch 26 Batch 450 Loss 1.3369 Accuracy 0.6981\n",
      "Epoch 26 Batch 500 Loss 1.3385 Accuracy 0.6978\n",
      "Epoch 26 Batch 550 Loss 1.3407 Accuracy 0.6975\n",
      "Epoch 26 Batch 600 Loss 1.3431 Accuracy 0.6972\n",
      "Epoch 26 Batch 650 Loss 1.3470 Accuracy 0.6966\n",
      "computing validation metrics...\n",
      "Epoch 26\n",
      "\ttrain_loss 1.3501 train_accuracy 0.6961\n",
      "\tval_loss 7.9812 val_accuracy 0.2259\n",
      "Time taken for 1 epoch: 60.19 secs\n",
      "\n",
      "Epoch 27 Batch 0 Loss 1.2865 Accuracy 0.6995\n",
      "Epoch 27 Batch 50 Loss 1.2740 Accuracy 0.7104\n",
      "Epoch 27 Batch 100 Loss 1.2748 Accuracy 0.7098\n",
      "Epoch 27 Batch 150 Loss 1.2773 Accuracy 0.7093\n",
      "Epoch 27 Batch 200 Loss 1.2861 Accuracy 0.7072\n",
      "Epoch 27 Batch 250 Loss 1.2899 Accuracy 0.7064\n",
      "Epoch 27 Batch 300 Loss 1.2956 Accuracy 0.7051\n",
      "Epoch 27 Batch 350 Loss 1.3015 Accuracy 0.7039\n",
      "Epoch 27 Batch 400 Loss 1.3070 Accuracy 0.7030\n",
      "Epoch 27 Batch 450 Loss 1.3087 Accuracy 0.7026\n",
      "Epoch 27 Batch 500 Loss 1.3109 Accuracy 0.7021\n",
      "Epoch 27 Batch 550 Loss 1.3142 Accuracy 0.7018\n",
      "Epoch 27 Batch 600 Loss 1.3183 Accuracy 0.7010\n",
      "Epoch 27 Batch 650 Loss 1.3227 Accuracy 0.7003\n",
      "Epoch 27 Batch 700 Loss 1.3254 Accuracy 0.6999\n",
      "computing validation metrics...\n",
      "Epoch 27\n",
      "\ttrain_loss 1.3257 train_accuracy 0.6999\n",
      "\tval_loss 8.1955 val_accuracy 0.2109\n",
      "Time taken for 1 epoch: 57.49 secs\n",
      "\n",
      "Epoch 28 Batch 0 Loss 1.1078 Accuracy 0.7557\n",
      "Epoch 28 Batch 50 Loss 1.2603 Accuracy 0.7116\n",
      "Epoch 28 Batch 100 Loss 1.2652 Accuracy 0.7104\n",
      "Epoch 28 Batch 150 Loss 1.2639 Accuracy 0.7105\n",
      "Epoch 28 Batch 200 Loss 1.2674 Accuracy 0.7097\n",
      "Epoch 28 Batch 250 Loss 1.2720 Accuracy 0.7091\n",
      "Epoch 28 Batch 300 Loss 1.2756 Accuracy 0.7084\n",
      "Epoch 28 Batch 350 Loss 1.2772 Accuracy 0.7080\n",
      "Epoch 28 Batch 400 Loss 1.2802 Accuracy 0.7073\n",
      "Epoch 28 Batch 450 Loss 1.2826 Accuracy 0.7070\n",
      "Epoch 28 Batch 500 Loss 1.2854 Accuracy 0.7067\n",
      "Epoch 28 Batch 550 Loss 1.2882 Accuracy 0.7062\n",
      "Epoch 28 Batch 600 Loss 1.2934 Accuracy 0.7052\n",
      "Epoch 28 Batch 650 Loss 1.2975 Accuracy 0.7045\n",
      "Epoch 28 Batch 700 Loss 1.3027 Accuracy 0.7036\n",
      "computing validation metrics...\n",
      "Epoch 28\n",
      "\ttrain_loss 1.3027 train_accuracy 0.7036\n",
      "\tval_loss 8.0620 val_accuracy 0.2254\n",
      "Time taken for 1 epoch: 56.66 secs\n",
      "\n",
      "Epoch 29 Batch 0 Loss 1.3108 Accuracy 0.7025\n",
      "Epoch 29 Batch 50 Loss 1.2644 Accuracy 0.7101\n",
      "Epoch 29 Batch 100 Loss 1.2534 Accuracy 0.7121\n",
      "Epoch 29 Batch 150 Loss 1.2530 Accuracy 0.7127\n",
      "Epoch 29 Batch 200 Loss 1.2540 Accuracy 0.7124\n",
      "Epoch 29 Batch 250 Loss 1.2578 Accuracy 0.7120\n",
      "Epoch 29 Batch 300 Loss 1.2618 Accuracy 0.7112\n",
      "Epoch 29 Batch 350 Loss 1.2657 Accuracy 0.7104\n",
      "Epoch 29 Batch 400 Loss 1.2682 Accuracy 0.7102\n",
      "Epoch 29 Batch 450 Loss 1.2721 Accuracy 0.7093\n",
      "Epoch 29 Batch 500 Loss 1.2737 Accuracy 0.7090\n",
      "Epoch 29 Batch 550 Loss 1.2763 Accuracy 0.7084\n",
      "Epoch 29 Batch 600 Loss 1.2813 Accuracy 0.7075\n",
      "Epoch 29 Batch 650 Loss 1.2821 Accuracy 0.7074\n",
      "Epoch 29 Batch 700 Loss 1.2844 Accuracy 0.7070\n",
      "computing validation metrics...\n",
      "Epoch 29\n",
      "\ttrain_loss 1.2844 train_accuracy 0.7070\n",
      "\tval_loss 8.0250 val_accuracy 0.2258\n",
      "Time taken for 1 epoch: 56.26 secs\n",
      "\n",
      "Epoch 30 Batch 0 Loss 1.2784 Accuracy 0.7155\n",
      "Epoch 30 Batch 50 Loss 1.2021 Accuracy 0.7225\n",
      "Epoch 30 Batch 100 Loss 1.2139 Accuracy 0.7203\n",
      "Epoch 30 Batch 150 Loss 1.2155 Accuracy 0.7195\n",
      "Epoch 30 Batch 200 Loss 1.2203 Accuracy 0.7184\n",
      "Epoch 30 Batch 250 Loss 1.2257 Accuracy 0.7172\n",
      "Epoch 30 Batch 300 Loss 1.2291 Accuracy 0.7162\n",
      "Epoch 30 Batch 350 Loss 1.2339 Accuracy 0.7155\n",
      "Epoch 30 Batch 400 Loss 1.2404 Accuracy 0.7144\n",
      "Epoch 30 Batch 450 Loss 1.2442 Accuracy 0.7137\n",
      "Epoch 30 Batch 500 Loss 1.2472 Accuracy 0.7133\n",
      "Epoch 30 Batch 550 Loss 1.2516 Accuracy 0.7126\n",
      "Epoch 30 Batch 600 Loss 1.2553 Accuracy 0.7119\n",
      "Epoch 30 Batch 650 Loss 1.2584 Accuracy 0.7113\n",
      "Epoch 30 Batch 700 Loss 1.2611 Accuracy 0.7108\n",
      "computing validation metrics...\n",
      "Epoch 30\n",
      "\ttrain_loss 1.2611 train_accuracy 0.7107\n",
      "\tval_loss 8.2957 val_accuracy 0.2172\n",
      "Time taken for 1 epoch: 61.23 secs\n",
      "\n",
      "Epoch 31 Batch 0 Loss 1.1625 Accuracy 0.7114\n",
      "Epoch 31 Batch 50 Loss 1.1800 Accuracy 0.7270\n",
      "Epoch 31 Batch 100 Loss 1.1934 Accuracy 0.7229\n",
      "Epoch 31 Batch 150 Loss 1.2018 Accuracy 0.7215\n",
      "Epoch 31 Batch 200 Loss 1.2052 Accuracy 0.7208\n",
      "Epoch 31 Batch 250 Loss 1.2088 Accuracy 0.7200\n",
      "Epoch 31 Batch 300 Loss 1.2149 Accuracy 0.7189\n",
      "Epoch 31 Batch 350 Loss 1.2207 Accuracy 0.7177\n",
      "Epoch 31 Batch 400 Loss 1.2238 Accuracy 0.7172\n",
      "Epoch 31 Batch 450 Loss 1.2254 Accuracy 0.7170\n",
      "Epoch 31 Batch 500 Loss 1.2283 Accuracy 0.7164\n",
      "Epoch 31 Batch 550 Loss 1.2322 Accuracy 0.7158\n",
      "Epoch 31 Batch 600 Loss 1.2365 Accuracy 0.7150\n",
      "Epoch 31 Batch 650 Loss 1.2399 Accuracy 0.7143\n",
      "computing validation metrics...\n",
      "Epoch 31\n",
      "\ttrain_loss 1.2439 train_accuracy 0.7138\n",
      "\tval_loss 8.4127 val_accuracy 0.2148\n",
      "Time taken for 1 epoch: 58.49 secs\n",
      "\n",
      "Epoch 32 Batch 0 Loss 1.2510 Accuracy 0.7278\n",
      "Epoch 32 Batch 50 Loss 1.1753 Accuracy 0.7257\n",
      "Epoch 32 Batch 100 Loss 1.1780 Accuracy 0.7250\n",
      "Epoch 32 Batch 150 Loss 1.1829 Accuracy 0.7244\n",
      "Epoch 32 Batch 200 Loss 1.1880 Accuracy 0.7235\n",
      "Epoch 32 Batch 250 Loss 1.1907 Accuracy 0.7230\n",
      "Epoch 32 Batch 300 Loss 1.1951 Accuracy 0.7220\n",
      "Epoch 32 Batch 350 Loss 1.1989 Accuracy 0.7213\n",
      "Epoch 32 Batch 400 Loss 1.2040 Accuracy 0.7205\n",
      "Epoch 32 Batch 450 Loss 1.2111 Accuracy 0.7194\n",
      "Epoch 32 Batch 500 Loss 1.2132 Accuracy 0.7190\n",
      "Epoch 32 Batch 550 Loss 1.2168 Accuracy 0.7183\n",
      "Epoch 32 Batch 600 Loss 1.2211 Accuracy 0.7176\n",
      "Epoch 32 Batch 650 Loss 1.2250 Accuracy 0.7168\n",
      "Epoch 32 Batch 700 Loss 1.2272 Accuracy 0.7166\n",
      "computing validation metrics...\n",
      "Epoch 32\n",
      "\ttrain_loss 1.2271 train_accuracy 0.7166\n",
      "\tval_loss 8.2916 val_accuracy 0.2233\n",
      "Time taken for 1 epoch: 58.24 secs\n",
      "\n",
      "Epoch 33 Batch 0 Loss 1.2568 Accuracy 0.6997\n",
      "Epoch 33 Batch 50 Loss 1.1711 Accuracy 0.7259\n",
      "Epoch 33 Batch 100 Loss 1.1600 Accuracy 0.7283\n",
      "Epoch 33 Batch 150 Loss 1.1692 Accuracy 0.7264\n",
      "Epoch 33 Batch 200 Loss 1.1773 Accuracy 0.7247\n",
      "Epoch 33 Batch 250 Loss 1.1818 Accuracy 0.7240\n",
      "Epoch 33 Batch 300 Loss 1.1844 Accuracy 0.7233\n",
      "Epoch 33 Batch 350 Loss 1.1876 Accuracy 0.7227\n",
      "Epoch 33 Batch 400 Loss 1.1907 Accuracy 0.7220\n",
      "Epoch 33 Batch 450 Loss 1.1932 Accuracy 0.7219\n",
      "Epoch 33 Batch 500 Loss 1.1971 Accuracy 0.7214\n",
      "Epoch 33 Batch 550 Loss 1.2005 Accuracy 0.7208\n",
      "Epoch 33 Batch 600 Loss 1.2049 Accuracy 0.7201\n",
      "Epoch 33 Batch 650 Loss 1.2086 Accuracy 0.7194\n",
      "Epoch 33 Batch 700 Loss 1.2116 Accuracy 0.7189\n",
      "computing validation metrics...\n",
      "Epoch 33\n",
      "\ttrain_loss 1.2123 train_accuracy 0.7188\n",
      "\tval_loss 8.4627 val_accuracy 0.2089\n",
      "Time taken for 1 epoch: 56.12 secs\n",
      "\n",
      "Epoch 34 Batch 0 Loss 1.1042 Accuracy 0.7420\n",
      "Epoch 34 Batch 50 Loss 1.1527 Accuracy 0.7278\n",
      "Epoch 34 Batch 100 Loss 1.1486 Accuracy 0.7310\n",
      "Epoch 34 Batch 150 Loss 1.1490 Accuracy 0.7307\n",
      "Epoch 34 Batch 200 Loss 1.1560 Accuracy 0.7293\n",
      "Epoch 34 Batch 250 Loss 1.1609 Accuracy 0.7283\n",
      "Epoch 34 Batch 300 Loss 1.1658 Accuracy 0.7274\n",
      "Epoch 34 Batch 350 Loss 1.1692 Accuracy 0.7266\n",
      "Epoch 34 Batch 400 Loss 1.1721 Accuracy 0.7260\n",
      "Epoch 34 Batch 450 Loss 1.1761 Accuracy 0.7251\n",
      "Epoch 34 Batch 500 Loss 1.1790 Accuracy 0.7246\n",
      "Epoch 34 Batch 550 Loss 1.1828 Accuracy 0.7239\n",
      "Epoch 34 Batch 600 Loss 1.1865 Accuracy 0.7234\n",
      "Epoch 34 Batch 650 Loss 1.1914 Accuracy 0.7224\n",
      "Epoch 34 Batch 700 Loss 1.1937 Accuracy 0.7220\n",
      "computing validation metrics...\n",
      "Epoch 34\n",
      "\ttrain_loss 1.1938 train_accuracy 0.7220\n",
      "\tval_loss 8.0934 val_accuracy 0.2418\n",
      "Time taken for 1 epoch: 60.08 secs\n",
      "\n",
      "Epoch 35 Batch 0 Loss 1.0420 Accuracy 0.7526\n",
      "Epoch 35 Batch 50 Loss 1.1222 Accuracy 0.7357\n",
      "Epoch 35 Batch 100 Loss 1.1333 Accuracy 0.7331\n",
      "Epoch 35 Batch 150 Loss 1.1397 Accuracy 0.7322\n",
      "Epoch 35 Batch 200 Loss 1.1437 Accuracy 0.7307\n",
      "Epoch 35 Batch 250 Loss 1.1470 Accuracy 0.7303\n",
      "Epoch 35 Batch 300 Loss 1.1527 Accuracy 0.7292\n",
      "Epoch 35 Batch 350 Loss 1.1573 Accuracy 0.7285\n",
      "Epoch 35 Batch 400 Loss 1.1601 Accuracy 0.7279\n",
      "Epoch 35 Batch 450 Loss 1.1604 Accuracy 0.7279\n",
      "Epoch 35 Batch 500 Loss 1.1626 Accuracy 0.7274\n",
      "Epoch 35 Batch 550 Loss 1.1656 Accuracy 0.7269\n",
      "Epoch 35 Batch 600 Loss 1.1700 Accuracy 0.7261\n",
      "Epoch 35 Batch 650 Loss 1.1720 Accuracy 0.7257\n",
      "Epoch 35 Batch 700 Loss 1.1787 Accuracy 0.7245\n",
      "computing validation metrics...\n",
      "Epoch 35\n",
      "\ttrain_loss 1.1787 train_accuracy 0.7245\n",
      "\tval_loss 8.1534 val_accuracy 0.2499\n",
      "Time taken for 1 epoch: 55.14 secs\n",
      "\n",
      "Epoch 36 Batch 0 Loss 1.0392 Accuracy 0.7488\n",
      "Epoch 36 Batch 50 Loss 1.1192 Accuracy 0.7381\n",
      "Epoch 36 Batch 100 Loss 1.1140 Accuracy 0.7372\n",
      "Epoch 36 Batch 150 Loss 1.1211 Accuracy 0.7352\n",
      "Epoch 36 Batch 200 Loss 1.1248 Accuracy 0.7343\n",
      "Epoch 36 Batch 250 Loss 1.1288 Accuracy 0.7335\n",
      "Epoch 36 Batch 300 Loss 1.1359 Accuracy 0.7322\n",
      "Epoch 36 Batch 350 Loss 1.1384 Accuracy 0.7317\n",
      "Epoch 36 Batch 400 Loss 1.1456 Accuracy 0.7303\n",
      "Epoch 36 Batch 450 Loss 1.1495 Accuracy 0.7295\n",
      "Epoch 36 Batch 500 Loss 1.1526 Accuracy 0.7290\n",
      "Epoch 36 Batch 550 Loss 1.1557 Accuracy 0.7285\n",
      "Epoch 36 Batch 600 Loss 1.1591 Accuracy 0.7280\n",
      "Epoch 36 Batch 650 Loss 1.1611 Accuracy 0.7277\n",
      "computing validation metrics...\n",
      "Epoch 36\n",
      "\ttrain_loss 1.1646 train_accuracy 0.7271\n",
      "\tval_loss 8.2361 val_accuracy 0.2290\n",
      "Time taken for 1 epoch: 59.83 secs\n",
      "\n",
      "Epoch 37 Batch 0 Loss 1.0966 Accuracy 0.7422\n",
      "Epoch 37 Batch 50 Loss 1.1021 Accuracy 0.7381\n",
      "Epoch 37 Batch 100 Loss 1.1021 Accuracy 0.7384\n",
      "Epoch 37 Batch 150 Loss 1.1096 Accuracy 0.7376\n",
      "Epoch 37 Batch 200 Loss 1.1178 Accuracy 0.7360\n",
      "Epoch 37 Batch 250 Loss 1.1185 Accuracy 0.7357\n",
      "Epoch 37 Batch 300 Loss 1.1220 Accuracy 0.7347\n",
      "Epoch 37 Batch 350 Loss 1.1278 Accuracy 0.7336\n",
      "Epoch 37 Batch 400 Loss 1.1322 Accuracy 0.7328\n",
      "Epoch 37 Batch 450 Loss 1.1349 Accuracy 0.7324\n",
      "Epoch 37 Batch 500 Loss 1.1374 Accuracy 0.7319\n",
      "Epoch 37 Batch 550 Loss 1.1427 Accuracy 0.7308\n",
      "Epoch 37 Batch 600 Loss 1.1452 Accuracy 0.7303\n",
      "Epoch 37 Batch 650 Loss 1.1479 Accuracy 0.7298\n",
      "Epoch 37 Batch 700 Loss 1.1510 Accuracy 0.7291\n",
      "computing validation metrics...\n",
      "Epoch 37\n",
      "\ttrain_loss 1.1517 train_accuracy 0.7290\n",
      "\tval_loss 8.5087 val_accuracy 0.2188\n",
      "Time taken for 1 epoch: 60.29 secs\n",
      "\n",
      "Epoch 38 Batch 0 Loss 1.0926 Accuracy 0.7340\n",
      "Epoch 38 Batch 50 Loss 1.0696 Accuracy 0.7454\n",
      "Epoch 38 Batch 100 Loss 1.0822 Accuracy 0.7435\n",
      "Epoch 38 Batch 150 Loss 1.0933 Accuracy 0.7405\n",
      "Epoch 38 Batch 200 Loss 1.1008 Accuracy 0.7390\n",
      "Epoch 38 Batch 250 Loss 1.1061 Accuracy 0.7379\n",
      "Epoch 38 Batch 300 Loss 1.1109 Accuracy 0.7369\n",
      "Epoch 38 Batch 350 Loss 1.1152 Accuracy 0.7359\n",
      "Epoch 38 Batch 400 Loss 1.1155 Accuracy 0.7358\n",
      "Epoch 38 Batch 450 Loss 1.1178 Accuracy 0.7355\n",
      "Epoch 38 Batch 500 Loss 1.1211 Accuracy 0.7351\n",
      "Epoch 38 Batch 550 Loss 1.1247 Accuracy 0.7344\n",
      "Epoch 38 Batch 600 Loss 1.1279 Accuracy 0.7337\n",
      "Epoch 38 Batch 650 Loss 1.1334 Accuracy 0.7327\n",
      "Epoch 38 Batch 700 Loss 1.1367 Accuracy 0.7321\n",
      "computing validation metrics...\n",
      "Epoch 38\n",
      "\ttrain_loss 1.1367 train_accuracy 0.7321\n",
      "\tval_loss 8.5814 val_accuracy 0.2149\n",
      "Time taken for 1 epoch: 58.89 secs\n",
      "\n",
      "Epoch 39 Batch 0 Loss 1.0574 Accuracy 0.7361\n",
      "Epoch 39 Batch 50 Loss 1.0736 Accuracy 0.7425\n",
      "Epoch 39 Batch 100 Loss 1.0838 Accuracy 0.7420\n",
      "Epoch 39 Batch 150 Loss 1.0827 Accuracy 0.7417\n",
      "Epoch 39 Batch 200 Loss 1.0855 Accuracy 0.7411\n",
      "Epoch 39 Batch 250 Loss 1.0894 Accuracy 0.7406\n",
      "Epoch 39 Batch 300 Loss 1.0949 Accuracy 0.7396\n",
      "Epoch 39 Batch 350 Loss 1.0981 Accuracy 0.7389\n",
      "Epoch 39 Batch 400 Loss 1.1004 Accuracy 0.7384\n",
      "Epoch 39 Batch 450 Loss 1.1051 Accuracy 0.7376\n",
      "Epoch 39 Batch 500 Loss 1.1072 Accuracy 0.7372\n",
      "Epoch 39 Batch 550 Loss 1.1106 Accuracy 0.7365\n",
      "Epoch 39 Batch 600 Loss 1.1148 Accuracy 0.7356\n",
      "Epoch 39 Batch 650 Loss 1.1190 Accuracy 0.7348\n",
      "Epoch 39 Batch 700 Loss 1.1210 Accuracy 0.7345\n",
      "computing validation metrics...\n",
      "Epoch 39\n",
      "\ttrain_loss 1.1210 train_accuracy 0.7345\n",
      "\tval_loss 8.5285 val_accuracy 0.2104\n",
      "Time taken for 1 epoch: 55.56 secs\n",
      "\n",
      "Epoch 40 Batch 0 Loss 1.0328 Accuracy 0.7496\n",
      "Epoch 40 Batch 50 Loss 1.0601 Accuracy 0.7444\n",
      "Epoch 40 Batch 100 Loss 1.0631 Accuracy 0.7446\n",
      "Epoch 40 Batch 150 Loss 1.0657 Accuracy 0.7440\n",
      "Epoch 40 Batch 200 Loss 1.0760 Accuracy 0.7420\n",
      "Epoch 40 Batch 250 Loss 1.0796 Accuracy 0.7413\n",
      "Epoch 40 Batch 300 Loss 1.0858 Accuracy 0.7402\n",
      "Epoch 40 Batch 350 Loss 1.0899 Accuracy 0.7395\n",
      "Epoch 40 Batch 400 Loss 1.0926 Accuracy 0.7392\n",
      "Epoch 40 Batch 450 Loss 1.0945 Accuracy 0.7390\n",
      "Epoch 40 Batch 500 Loss 1.1003 Accuracy 0.7377\n",
      "Epoch 40 Batch 550 Loss 1.1042 Accuracy 0.7371\n",
      "Epoch 40 Batch 600 Loss 1.1084 Accuracy 0.7363\n",
      "Epoch 40 Batch 650 Loss 1.1106 Accuracy 0.7361\n",
      "computing validation metrics...\n",
      "Epoch 40\n",
      "\ttrain_loss 1.1131 train_accuracy 0.7358\n",
      "\tval_loss 8.9624 val_accuracy 0.1911\n",
      "Time taken for 1 epoch: 58.22 secs\n",
      "\n"
     ]
    }
   ],
   "source": [
    "for epoch in range(EPOCHS):\n",
    "  start = time.time()\n",
    "\n",
    "  train_loss.reset_states()\n",
    "  train_accuracy.reset_states()\n",
    "\n",
    "  # inp -> portuguese, tar -> english\n",
    "  for (batch, (inp, tar)) in enumerate(train_batches):\n",
    "    train_step(inp, tar)\n",
    "\n",
    "    if batch % 50 == 0:\n",
    "      print(f'Epoch {epoch + 1} Batch {batch} Loss {train_loss.result():.4f} Accuracy {train_accuracy.result():.4f}')\n",
    "\n",
    "  # if (epoch + 1) % 5 == 0:\n",
    "  #   ckpt_save_path = ckpt_manager.save()\n",
    "  #   print(f'Saving checkpoint for epoch {epoch+1} at {ckpt_save_path}')\n",
    "\n",
    "  val_loss.reset_states()\n",
    "  val_accuracy.reset_states()\n",
    "\n",
    "  print(\"computing validation metrics\", end=\"\")\n",
    "  for inp, tar in val_batches.take(3):\n",
    "    pred, outputs, _ = validation_translator(inp)\n",
    "    tar_real = tar[:, 1:]\n",
    "    if tar_real.shape[1] < pred.shape[1]:\n",
    "        pred = pred[:, :tar_real.shape[1], :]\n",
    "    else:\n",
    "        pred = tf.pad(pred, [[0, 0], [0, tar_real.shape[1] - pred.shape[1]], [0, 0]])\n",
    "    val_loss(loss_function(tar_real, pred))\n",
    "    val_accuracy(accuracy_function(tar_real, pred))\n",
    "    print(\".\", end=\"\")\n",
    "  print(\"\")\n",
    "    \n",
    "  print(f'Epoch {epoch + 1}\\n\\ttrain_loss {train_loss.result():.4f} train_accuracy {train_accuracy.result():.4f}\\n'\n",
    "        f'\\tval_loss {val_loss.result():.4f} val_accuracy {val_accuracy.result():.4f}'\n",
    "       )\n",
    "\n",
    "  print(f'Time taken for 1 epoch: {time.time() - start:.2f} secs\\n')"
   ]
  },
  {
   "cell_type": "code",
   "execution_count": 67,
   "id": "b25aebb8-4885-4834-89d6-e9fd9bb6951e",
   "metadata": {
    "execution": {
     "iopub.execute_input": "2022-08-15T12:32:42.319907Z",
     "iopub.status.busy": "2022-08-15T12:32:42.319614Z",
     "iopub.status.idle": "2022-08-15T12:32:42.326786Z",
     "shell.execute_reply": "2022-08-15T12:32:42.326106Z",
     "shell.execute_reply.started": "2022-08-15T12:32:42.319890Z"
    },
    "tags": []
   },
   "outputs": [],
   "source": [
    "class Translator(tf.Module):\n",
    "  def __init__(self, tokenizers, transformer):\n",
    "    self.tokenizers = tokenizers\n",
    "    self.transformer = transformer\n",
    "\n",
    "  def __call__(self, sentence, max_length=MAX_TOKENS):\n",
    "    # input sentence is portuguese, hence adding the start and end token\n",
    "    assert isinstance(sentence, tf.Tensor)\n",
    "    if len(sentence.shape) == 0:\n",
    "      sentence = sentence[tf.newaxis]\n",
    "\n",
    "    sentence = self.tokenizers.pt.tokenize(sentence).to_tensor()\n",
    "\n",
    "    encoder_input = sentence\n",
    "\n",
    "    # As the output language is english, initialize the output with the\n",
    "    # english start token.\n",
    "    start_end = self.tokenizers.en.tokenize([''])[0]\n",
    "    start = start_end[0][tf.newaxis]\n",
    "    end = start_end[1][tf.newaxis]\n",
    "\n",
    "    # `tf.TensorArray` is required here (instead of a python list) so that the\n",
    "    # dynamic-loop can be traced by `tf.function`.\n",
    "    output_array = tf.TensorArray(dtype=tf.int64, size=0, dynamic_size=True)\n",
    "    output_array = output_array.write(0, start)\n",
    "\n",
    "    for i in tf.range(max_length):\n",
    "      output = tf.transpose(output_array.stack())\n",
    "      predictions, _ = self.transformer([encoder_input, output], training=False)\n",
    "\n",
    "      # select the last token from the seq_len dimension\n",
    "      predictions = predictions[:, -1:, :]  # (batch_size, 1, vocab_size)\n",
    "\n",
    "      predicted_id = tf.argmax(predictions, axis=-1)\n",
    "\n",
    "      # concatentate the predicted_id to the output which is given to the decoder\n",
    "      # as its input.\n",
    "      output_array = output_array.write(i+1, predicted_id[0])\n",
    "\n",
    "      if predicted_id == end:\n",
    "        break\n",
    "\n",
    "    output = tf.transpose(output_array.stack())\n",
    "    # output.shape (1, tokens)\n",
    "    text = tokenizers.en.detokenize(output)[0]  # shape: ()\n",
    "\n",
    "    tokens = tokenizers.en.lookup(output)[0]\n",
    "\n",
    "    # `tf.function` prevents us from using the attention_weights that were\n",
    "    # calculated on the last iteration of the loop. So recalculate them outside\n",
    "    # the loop.\n",
    "    _, attention_weights = self.transformer([encoder_input, output[:,:-1]], training=False)\n",
    "\n",
    "    return text, tokens, attention_weights"
   ]
  },
  {
   "cell_type": "code",
   "execution_count": 68,
   "id": "1cb63ad0-721c-4ff9-b7e0-53a23dec3fd4",
   "metadata": {
    "execution": {
     "iopub.execute_input": "2022-08-15T12:32:42.327504Z",
     "iopub.status.busy": "2022-08-15T12:32:42.327366Z",
     "iopub.status.idle": "2022-08-15T12:32:42.361560Z",
     "shell.execute_reply": "2022-08-15T12:32:42.360518Z",
     "shell.execute_reply.started": "2022-08-15T12:32:42.327491Z"
    },
    "tags": []
   },
   "outputs": [],
   "source": [
    "translator = Translator(tokenizers, transformer)"
   ]
  },
  {
   "cell_type": "code",
   "execution_count": 69,
   "id": "650a17bf-8fa2-42dd-a895-06235d8e657f",
   "metadata": {
    "execution": {
     "iopub.execute_input": "2022-08-15T12:32:42.363431Z",
     "iopub.status.busy": "2022-08-15T12:32:42.362999Z",
     "iopub.status.idle": "2022-08-15T12:32:42.376224Z",
     "shell.execute_reply": "2022-08-15T12:32:42.375182Z",
     "shell.execute_reply.started": "2022-08-15T12:32:42.363391Z"
    },
    "tags": []
   },
   "outputs": [],
   "source": [
    "def print_translation(sentence, tokens, ground_truth):\n",
    "  print(f'{\"Input:\":15s}: {sentence}')\n",
    "  print(f'{\"Prediction\":15s}: {tokens.numpy().decode(\"utf-8\")}')\n",
    "  print(f'{\"Ground truth\":15s}: {ground_truth}')"
   ]
  },
  {
   "cell_type": "code",
   "execution_count": 70,
   "id": "aa94f67d-6145-4473-8c06-03b39b6edba9",
   "metadata": {
    "execution": {
     "iopub.execute_input": "2022-08-15T12:32:42.378183Z",
     "iopub.status.busy": "2022-08-15T12:32:42.377622Z",
     "iopub.status.idle": "2022-08-15T12:32:43.581343Z",
     "shell.execute_reply": "2022-08-15T12:32:43.580576Z",
     "shell.execute_reply.started": "2022-08-15T12:32:42.378141Z"
    },
    "tags": []
   },
   "outputs": [
    {
     "name": "stdout",
     "output_type": "stream",
     "text": [
      "Input:         : este é um problema que temos que resolver.\n",
      "Prediction     : this is a problem we have to fix it .\n",
      "Ground truth   : this is a problem we have to solve .\n"
     ]
    }
   ],
   "source": [
    "sentence = 'este é um problema que temos que resolver.'\n",
    "ground_truth = 'this is a problem we have to solve .'\n",
    "\n",
    "translated_text, translated_tokens, attention_weights = translator(\n",
    "    tf.constant(sentence))\n",
    "print_translation(sentence, translated_text, ground_truth)"
   ]
  },
  {
   "cell_type": "code",
   "execution_count": 71,
   "id": "5b28afae-1485-49dc-9843-8fbb6d573a7c",
   "metadata": {
    "execution": {
     "iopub.execute_input": "2022-08-15T12:32:43.583601Z",
     "iopub.status.busy": "2022-08-15T12:32:43.582753Z",
     "iopub.status.idle": "2022-08-15T12:32:44.339411Z",
     "shell.execute_reply": "2022-08-15T12:32:44.338532Z",
     "shell.execute_reply.started": "2022-08-15T12:32:43.583558Z"
    },
    "tags": []
   },
   "outputs": [
    {
     "name": "stdout",
     "output_type": "stream",
     "text": [
      "Input:         : os meus vizinhos ouviram sobre esta ideia.\n",
      "Prediction     : my neighbors heard about this idea .\n",
      "Ground truth   : and my neighboring homes heard about this idea .\n"
     ]
    }
   ],
   "source": [
    "sentence = 'os meus vizinhos ouviram sobre esta ideia.'\n",
    "ground_truth = 'and my neighboring homes heard about this idea .'\n",
    "\n",
    "translated_text, translated_tokens, attention_weights = translator(\n",
    "    tf.constant(sentence))\n",
    "print_translation(sentence, translated_text, ground_truth)"
   ]
  },
  {
   "cell_type": "code",
   "execution_count": 72,
   "id": "25675e95-1f29-4ea3-b752-26f65f841423",
   "metadata": {
    "execution": {
     "iopub.execute_input": "2022-08-15T12:32:44.340740Z",
     "iopub.status.busy": "2022-08-15T12:32:44.340381Z",
     "iopub.status.idle": "2022-08-15T12:32:45.740181Z",
     "shell.execute_reply": "2022-08-15T12:32:45.739451Z",
     "shell.execute_reply.started": "2022-08-15T12:32:44.340718Z"
    },
    "tags": []
   },
   "outputs": [
    {
     "name": "stdout",
     "output_type": "stream",
     "text": [
      "Input:         : vou então muito rapidamente partilhar convosco algumas histórias de algumas coisas mágicas que aconteceram.\n",
      "Prediction     : so i ' m going to share very quickly with you some magic stories that happened .\n",
      "Ground truth   : so i'll just share with you some stories very quickly of some magical things that have happened.\n"
     ]
    }
   ],
   "source": [
    "sentence = 'vou então muito rapidamente partilhar convosco algumas histórias de algumas coisas mágicas que aconteceram.'\n",
    "ground_truth = \"so i'll just share with you some stories very quickly of some magical things that have happened.\"\n",
    "\n",
    "translated_text, translated_tokens, attention_weights = translator(\n",
    "    tf.constant(sentence))\n",
    "print_translation(sentence, translated_text, ground_truth)"
   ]
  },
  {
   "cell_type": "code",
   "execution_count": 73,
   "id": "dbcc445a-4d70-4989-91ac-588a9708c0b3",
   "metadata": {
    "execution": {
     "iopub.execute_input": "2022-08-15T12:32:45.741219Z",
     "iopub.status.busy": "2022-08-15T12:32:45.740932Z",
     "iopub.status.idle": "2022-08-15T12:32:46.520504Z",
     "shell.execute_reply": "2022-08-15T12:32:46.519790Z",
     "shell.execute_reply.started": "2022-08-15T12:32:45.741203Z"
    },
    "tags": []
   },
   "outputs": [
    {
     "name": "stdout",
     "output_type": "stream",
     "text": [
      "Input:         : este é o primeiro livro que eu fiz.\n",
      "Prediction     : this is the first book i did .\n",
      "Ground truth   : this is the first book i've ever done.\n"
     ]
    }
   ],
   "source": [
    "sentence = 'este é o primeiro livro que eu fiz.'\n",
    "ground_truth = \"this is the first book i've ever done.\"\n",
    "\n",
    "translated_text, translated_tokens, attention_weights = translator(\n",
    "    tf.constant(sentence))\n",
    "print_translation(sentence, translated_text, ground_truth)"
   ]
  },
  {
   "cell_type": "code",
   "execution_count": 74,
   "id": "510fd532-ce64-439f-8460-0840c604e084",
   "metadata": {
    "execution": {
     "iopub.execute_input": "2022-08-15T12:32:46.521512Z",
     "iopub.status.busy": "2022-08-15T12:32:46.521235Z",
     "iopub.status.idle": "2022-08-15T12:32:46.526041Z",
     "shell.execute_reply": "2022-08-15T12:32:46.525351Z",
     "shell.execute_reply.started": "2022-08-15T12:32:46.521497Z"
    },
    "tags": []
   },
   "outputs": [],
   "source": [
    "def plot_attention_head(in_tokens, translated_tokens, attention):\n",
    "  # The plot is of the attention when a token was generated.\n",
    "  # The model didn't generate `<START>` in the output. Skip it.\n",
    "  translated_tokens = translated_tokens[1:]\n",
    "\n",
    "  ax = plt.gca()\n",
    "  ax.matshow(attention)\n",
    "  ax.set_xticks(range(len(in_tokens)))\n",
    "  ax.set_yticks(range(len(translated_tokens)))\n",
    "\n",
    "  labels = [label.decode('utf-8') for label in in_tokens.numpy()]\n",
    "  ax.set_xticklabels(\n",
    "      labels, rotation=90)\n",
    "\n",
    "  labels = [label.decode('utf-8') for label in translated_tokens.numpy()]\n",
    "  ax.set_yticklabels(labels)"
   ]
  },
  {
   "cell_type": "code",
   "execution_count": 75,
   "id": "fe604c9e-b32f-43cd-bc67-377aa4ed075b",
   "metadata": {
    "execution": {
     "iopub.execute_input": "2022-08-15T12:32:46.526972Z",
     "iopub.status.busy": "2022-08-15T12:32:46.526713Z",
     "iopub.status.idle": "2022-08-15T12:32:46.556715Z",
     "shell.execute_reply": "2022-08-15T12:32:46.555727Z",
     "shell.execute_reply.started": "2022-08-15T12:32:46.526958Z"
    },
    "tags": []
   },
   "outputs": [
    {
     "data": {
      "text/plain": [
       "TensorShape([9, 11])"
      ]
     },
     "execution_count": 75,
     "metadata": {},
     "output_type": "execute_result"
    }
   ],
   "source": [
    "head = 0\n",
    "# shape: (batch=1, num_heads, seq_len_q, seq_len_k)\n",
    "attention_heads = tf.squeeze(\n",
    "  attention_weights[f'decoder_layer{num_layers}_block2'], 0)\n",
    "attention = attention_heads[head]\n",
    "attention.shape"
   ]
  },
  {
   "cell_type": "code",
   "execution_count": 76,
   "id": "ec51e586-e7d6-4cc0-9f92-50bed9cc34c9",
   "metadata": {
    "execution": {
     "iopub.execute_input": "2022-08-15T12:32:46.558625Z",
     "iopub.status.busy": "2022-08-15T12:32:46.558174Z",
     "iopub.status.idle": "2022-08-15T12:32:46.595625Z",
     "shell.execute_reply": "2022-08-15T12:32:46.594793Z",
     "shell.execute_reply.started": "2022-08-15T12:32:46.558585Z"
    },
    "tags": []
   },
   "outputs": [
    {
     "data": {
      "text/plain": [
       "<tf.Tensor: shape=(11,), dtype=string, numpy=\n",
       "array([b'[START]', b'este', b'e', b'o', b'primeiro', b'livro', b'que',\n",
       "       b'eu', b'fiz', b'.', b'[END]'], dtype=object)>"
      ]
     },
     "execution_count": 76,
     "metadata": {},
     "output_type": "execute_result"
    }
   ],
   "source": [
    "in_tokens = tf.convert_to_tensor([sentence])\n",
    "in_tokens = tokenizers.pt.tokenize(in_tokens).to_tensor()\n",
    "in_tokens = tokenizers.pt.lookup(in_tokens)[0]\n",
    "in_tokens"
   ]
  },
  {
   "cell_type": "code",
   "execution_count": 77,
   "id": "022ce13a-9f6d-422f-b80d-2ff94c52c0d3",
   "metadata": {
    "execution": {
     "iopub.execute_input": "2022-08-15T12:32:46.597042Z",
     "iopub.status.busy": "2022-08-15T12:32:46.596635Z",
     "iopub.status.idle": "2022-08-15T12:32:46.604260Z",
     "shell.execute_reply": "2022-08-15T12:32:46.603055Z",
     "shell.execute_reply.started": "2022-08-15T12:32:46.597015Z"
    },
    "tags": []
   },
   "outputs": [
    {
     "data": {
      "text/plain": [
       "<tf.Tensor: shape=(10,), dtype=string, numpy=\n",
       "array([b'[START]', b'this', b'is', b'the', b'first', b'book', b'i',\n",
       "       b'did', b'.', b'[END]'], dtype=object)>"
      ]
     },
     "execution_count": 77,
     "metadata": {},
     "output_type": "execute_result"
    }
   ],
   "source": [
    "translated_tokens"
   ]
  },
  {
   "cell_type": "code",
   "execution_count": 78,
   "id": "3876d3fb-4bac-428d-918a-8e0cbf718caa",
   "metadata": {
    "execution": {
     "iopub.execute_input": "2022-08-15T12:32:46.606208Z",
     "iopub.status.busy": "2022-08-15T12:32:46.605656Z",
     "iopub.status.idle": "2022-08-15T12:32:46.747307Z",
     "shell.execute_reply": "2022-08-15T12:32:46.746636Z",
     "shell.execute_reply.started": "2022-08-15T12:32:46.606168Z"
    },
    "tags": []
   },
   "outputs": [
    {
     "data": {
      "image/png": "[encoded data removed]",
      "text/plain": [
       "<Figure size 432x288 with 1 Axes>"
      ]
     },
     "metadata": {
      "needs_background": "light"
     },
     "output_type": "display_data"
    }
   ],
   "source": [
    "plot_attention_head(in_tokens, translated_tokens, attention)"
   ]
  },
  {
   "cell_type": "code",
   "execution_count": 79,
   "id": "84dd60e3-eccb-4697-8008-c3532d4110d5",
   "metadata": {
    "execution": {
     "iopub.execute_input": "2022-08-15T12:32:46.748250Z",
     "iopub.status.busy": "2022-08-15T12:32:46.747982Z",
     "iopub.status.idle": "2022-08-15T12:32:46.752493Z",
     "shell.execute_reply": "2022-08-15T12:32:46.751841Z",
     "shell.execute_reply.started": "2022-08-15T12:32:46.748236Z"
    },
    "tags": []
   },
   "outputs": [],
   "source": [
    "def plot_attention_weights(sentence, translated_tokens, attention_heads):\n",
    "  in_tokens = tf.convert_to_tensor([sentence])\n",
    "  in_tokens = tokenizers.pt.tokenize(in_tokens).to_tensor()\n",
    "  in_tokens = tokenizers.pt.lookup(in_tokens)[0]\n",
    "  in_tokens\n",
    "\n",
    "  fig = plt.figure(figsize=(16, 8))\n",
    "\n",
    "  for h, head in enumerate(attention_heads):\n",
    "    ax = fig.add_subplot(2, 4, h+1)\n",
    "\n",
    "    plot_attention_head(in_tokens, translated_tokens, head)\n",
    "\n",
    "    ax.set_xlabel(f'Head {h+1}')\n",
    "\n",
    "  plt.tight_layout()\n",
    "  plt.show()"
   ]
  },
  {
   "cell_type": "code",
   "execution_count": 80,
   "id": "f345a372-9965-46ad-85de-8e3f657bb701",
   "metadata": {
    "execution": {
     "iopub.execute_input": "2022-08-15T12:32:46.753191Z",
     "iopub.status.busy": "2022-08-15T12:32:46.753051Z",
     "iopub.status.idle": "2022-08-15T12:32:47.475487Z",
     "shell.execute_reply": "2022-08-15T12:32:47.474169Z",
     "shell.execute_reply.started": "2022-08-15T12:32:46.753178Z"
    },
    "tags": []
   },
   "outputs": [
    {
     "data": {
      "image/png": "[encoded data removed]",
      "text/plain": [
       "<Figure size 1152x576 with 8 Axes>"
      ]
     },
     "metadata": {
      "needs_background": "light"
     },
     "output_type": "display_data"
    }
   ],
   "source": [
    "plot_attention_weights(sentence, translated_tokens,\n",
    "                       attention_weights[f'decoder_layer{num_layers}_block2'][0])"
   ]
  },
  {
   "cell_type": "code",
   "execution_count": 81,
   "id": "7de9e474-b54c-4c6d-aae1-0adcb7468a20",
   "metadata": {
    "execution": {
     "iopub.execute_input": "2022-08-15T12:32:47.477601Z",
     "iopub.status.busy": "2022-08-15T12:32:47.477035Z",
     "iopub.status.idle": "2022-08-15T12:32:53.210725Z",
     "shell.execute_reply": "2022-08-15T12:32:53.209877Z",
     "shell.execute_reply.started": "2022-08-15T12:32:47.477557Z"
    },
    "tags": []
   },
   "outputs": [
    {
     "name": "stdout",
     "output_type": "stream",
     "text": [
      "Eu li sobre triceratops na enciclopédia.\n",
      "Input:         : Eu li sobre triceratops na enciclopédia.\n",
      "Prediction     : i read about trijopters in encyclopedias .\n",
      "Ground truth   : I read about triceratops in the encyclopedia.\n",
      "layer 1\n"
     ]
    },
    {
     "data": {
      "image/png": "[encoded data removed]",
      "text/plain": [
       "<Figure size 1152x576 with 8 Axes>"
      ]
     },
     "metadata": {
      "needs_background": "light"
     },
     "output_type": "display_data"
    },
    {
     "name": "stdout",
     "output_type": "stream",
     "text": [
      "layer 2\n"
     ]
    },
    {
     "data": {
      "image/png": "[encoded data removed]",
      "text/plain": [
       "<Figure size 1152x576 with 8 Axes>"
      ]
     },
     "metadata": {
      "needs_background": "light"
     },
     "output_type": "display_data"
    },
    {
     "name": "stdout",
     "output_type": "stream",
     "text": [
      "layer 3\n"
     ]
    },
    {
     "data": {
      "image/png": "[encoded data removed]",
      "text/plain": [
       "<Figure size 1152x576 with 8 Axes>"
      ]
     },
     "metadata": {
      "needs_background": "light"
     },
     "output_type": "display_data"
    },
    {
     "name": "stdout",
     "output_type": "stream",
     "text": [
      "layer 4\n"
     ]
    },
    {
     "data": {
      "image/png": "[encoded data removed]",
      "text/plain": [
       "<Figure size 1152x576 with 8 Axes>"
      ]
     },
     "metadata": {
      "needs_background": "light"
     },
     "output_type": "display_data"
    }
   ],
   "source": [
    "sentence = 'Eu li sobre triceratops na enciclopédia.'\n",
    "ground_truth = 'I read about triceratops in the encyclopedia.'\n",
    "\n",
    "print(sentence)\n",
    "translated_text, translated_tokens, attention_weights = translator(\n",
    "    tf.constant(sentence))\n",
    "print_translation(sentence, translated_text, ground_truth)\n",
    "\n",
    "for i in range(1, num_layers+1):\n",
    "    print(f\"layer {i}\")\n",
    "    plot_attention_weights(sentence, translated_tokens,\n",
    "                           attention_weights[f'decoder_layer{i}_block2'][0])"
   ]
  },
  {
   "cell_type": "code",
   "execution_count": 82,
   "id": "aa08cf90-0da9-477f-b7b9-f031c403adcb",
   "metadata": {
    "execution": {
     "iopub.execute_input": "2022-08-15T12:32:53.212973Z",
     "iopub.status.busy": "2022-08-15T12:32:53.212097Z",
     "iopub.status.idle": "2022-08-15T12:32:53.216933Z",
     "shell.execute_reply": "2022-08-15T12:32:53.216173Z",
     "shell.execute_reply.started": "2022-08-15T12:32:53.212929Z"
    },
    "tags": []
   },
   "outputs": [],
   "source": [
    "# class ExportTranslator(tf.Module):\n",
    "#   def __init__(self, translator):\n",
    "#     self.translator = translator\n",
    "# \n",
    "#   @tf.function(input_signature=[tf.TensorSpec(shape=[], dtype=tf.string)])\n",
    "#   def __call__(self, sentence):\n",
    "#     (result,\n",
    "#      tokens,\n",
    "#      attention_weights) = self.translator(sentence, max_length=MAX_TOKENS)\n",
    "# \n",
    "#     return result"
   ]
  },
  {
   "cell_type": "code",
   "execution_count": 83,
   "id": "972a656f-0a35-4804-a3c2-c9dd6157b98d",
   "metadata": {
    "execution": {
     "iopub.execute_input": "2022-08-15T12:32:53.218708Z",
     "iopub.status.busy": "2022-08-15T12:32:53.218168Z",
     "iopub.status.idle": "2022-08-15T12:32:53.246492Z",
     "shell.execute_reply": "2022-08-15T12:32:53.245444Z",
     "shell.execute_reply.started": "2022-08-15T12:32:53.218668Z"
    },
    "tags": []
   },
   "outputs": [],
   "source": [
    "# translator = ExportTranslator(translator)"
   ]
  },
  {
   "cell_type": "code",
   "execution_count": 84,
   "id": "2d89bf10-910d-41c7-91a0-ee2fd1687284",
   "metadata": {
    "execution": {
     "iopub.execute_input": "2022-08-15T12:32:53.247674Z",
     "iopub.status.busy": "2022-08-15T12:32:53.247375Z",
     "iopub.status.idle": "2022-08-15T12:32:53.259787Z",
     "shell.execute_reply": "2022-08-15T12:32:53.258938Z",
     "shell.execute_reply.started": "2022-08-15T12:32:53.247652Z"
    },
    "tags": []
   },
   "outputs": [],
   "source": [
    "# translator('este é o primeiro livro que eu fiz.').numpy()"
   ]
  },
  {
   "cell_type": "code",
   "execution_count": 85,
   "id": "6a93d68e-814e-4ffe-9363-4144d2ea03af",
   "metadata": {
    "execution": {
     "iopub.execute_input": "2022-08-15T12:32:53.261270Z",
     "iopub.status.busy": "2022-08-15T12:32:53.260803Z",
     "iopub.status.idle": "2022-08-15T12:32:53.278347Z",
     "shell.execute_reply": "2022-08-15T12:32:53.277262Z",
     "shell.execute_reply.started": "2022-08-15T12:32:53.261232Z"
    },
    "tags": []
   },
   "outputs": [],
   "source": [
    "# tf.saved_model.save(translator, export_dir='translator')"
   ]
  },
  {
   "cell_type": "code",
   "execution_count": 86,
   "id": "dfcaa574-87c7-4ccf-88c0-32c15aae54bf",
   "metadata": {
    "execution": {
     "iopub.execute_input": "2022-08-15T12:32:53.280165Z",
     "iopub.status.busy": "2022-08-15T12:32:53.279737Z",
     "iopub.status.idle": "2022-08-15T12:32:53.287981Z",
     "shell.execute_reply": "2022-08-15T12:32:53.286778Z",
     "shell.execute_reply.started": "2022-08-15T12:32:53.280126Z"
    },
    "tags": []
   },
   "outputs": [],
   "source": [
    "# reloaded = tf.saved_model.load('translator')"
   ]
  },
  {
   "cell_type": "code",
   "execution_count": 87,
   "id": "c7322882-0f97-4103-bb93-30cb366ba00d",
   "metadata": {
    "execution": {
     "iopub.execute_input": "2022-08-15T12:32:53.289814Z",
     "iopub.status.busy": "2022-08-15T12:32:53.289367Z",
     "iopub.status.idle": "2022-08-15T12:32:53.300963Z",
     "shell.execute_reply": "2022-08-15T12:32:53.299936Z",
     "shell.execute_reply.started": "2022-08-15T12:32:53.289773Z"
    },
    "tags": []
   },
   "outputs": [],
   "source": [
    "# reloaded('este é o primeiro livro que eu fiz.').numpy()"
   ]
  }
 ],
 "metadata": {
  "kernelspec": {
   "display_name": "Python 3 (ipykernel)",
   "language": "python",
   "name": "python3"
  },
  "language_info": {
   "codemirror_mode": {
    "name": "ipython",
    "version": 3
   },
   "file_extension": ".py",
   "mimetype": "text/x-python",
   "name": "python",
   "nbconvert_exporter": "python",
   "pygments_lexer": "ipython3",
   "version": "3.10.4"
  }
 },
 "nbformat": 4,
 "nbformat_minor": 5
}
