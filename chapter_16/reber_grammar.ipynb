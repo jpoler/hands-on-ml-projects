{
 "cells": [
  {
   "cell_type": "code",
   "execution_count": 1,
   "id": "30581f70-72b5-46fc-bc5f-62c3d388c3ca",
   "metadata": {
    "execution": {
     "iopub.execute_input": "2022-08-06T18:04:17.598259Z",
     "iopub.status.busy": "2022-08-06T18:04:17.597287Z",
     "iopub.status.idle": "2022-08-06T18:04:19.369926Z",
     "shell.execute_reply": "2022-08-06T18:04:19.369095Z",
     "shell.execute_reply.started": "2022-08-06T18:04:17.598147Z"
    },
    "tags": []
   },
   "outputs": [
    {
     "name": "stderr",
     "output_type": "stream",
     "text": [
      "2022-08-06 14:04:18.191586: I tensorflow/core/util/util.cc:169] oneDNN custom operations are on. You may see slightly different numerical results due to floating-point round-off errors from different computation orders. To turn them off, set the environment variable `TF_ENABLE_ONEDNN_OPTS=0`.\n"
     ]
    }
   ],
   "source": [
    "from collections import defaultdict\n",
    "import itertools\n",
    "import os\n",
    "from pathlib import Path\n",
    "import random\n",
    "import time\n",
    "\n",
    "import IPython.display\n",
    "\n",
    "%matplotlib inline\n",
    "import matplotlib as mpl\n",
    "import matplotlib.pyplot as plt\n",
    "mpl.rc('axes', labelsize=14)\n",
    "mpl.rc('xtick', labelsize=12)\n",
    "mpl.rc('ytick', labelsize=12)\n",
    "\n",
    "import numpy as np\n",
    "import tensorflow as tf\n",
    "import tensorflow.keras as keras\n",
    "import tensorflow_addons as tfa\n",
    "import math"
   ]
  },
  {
   "cell_type": "code",
   "execution_count": 2,
   "id": "f626ad21-3e14-4477-a192-c131d77e7c68",
   "metadata": {
    "execution": {
     "iopub.execute_input": "2022-08-06T18:04:19.371484Z",
     "iopub.status.busy": "2022-08-06T18:04:19.371095Z",
     "iopub.status.idle": "2022-08-06T18:04:19.373844Z",
     "shell.execute_reply": "2022-08-06T18:04:19.373486Z",
     "shell.execute_reply.started": "2022-08-06T18:04:19.371466Z"
    },
    "tags": []
   },
   "outputs": [],
   "source": [
    "random.seed(42)"
   ]
  },
  {
   "cell_type": "code",
   "execution_count": 3,
   "id": "c9aa60e8-6dd6-45b6-85d2-8987487ff21a",
   "metadata": {
    "execution": {
     "iopub.execute_input": "2022-08-06T18:04:19.374627Z",
     "iopub.status.busy": "2022-08-06T18:04:19.374329Z",
     "iopub.status.idle": "2022-08-06T18:04:19.399612Z",
     "shell.execute_reply": "2022-08-06T18:04:19.398832Z",
     "shell.execute_reply.started": "2022-08-06T18:04:19.374614Z"
    },
    "tags": []
   },
   "outputs": [],
   "source": [
    "reber_grammar = {\n",
    "        0: [(1, \"B\")],\n",
    "        1: [(2, \"T\"), (3, \"P\")],\n",
    "        2: [(2, \"S\"), (4, \"X\")],\n",
    "        3: [(3, \"T\"), (5, \"V\")],\n",
    "        4: [(3, \"X\"), (6, \"S\")],\n",
    "        5: [(4, \"P\"), (6, \"V\")],\n",
    "        6: [(7, \"E\")],\n",
    "        7: [],\n",
    "}\n",
    "\n",
    "grammar_set = set(c for _, edges in reber_grammar.items() for _, c in edges)\n",
    "grammar_size = len(grammar_set)\n",
    "\n",
    "node_set = set(n for n, _ in reber_grammar.items()) - set([7])\n",
    "\n",
    "# Ideally this would be the expected value of a reber string \n",
    "# but a lazy solution is to sample the average lengths of \n",
    "# strings empirically.\n",
    "average_reber_string_length = 7.85\n",
    "corruption_probability = 1 / average_reber_string_length\n",
    "\n",
    "def gen_reber_sequence(grammar, valid=True):\n",
    "    node = 0\n",
    "    history = []\n",
    "    corruptions = 0\n",
    "    while grammar[node]:\n",
    "        choice = random.choice(grammar[node])\n",
    "        if not valid and corruptions == 0 and random.random() < corruption_probability:\n",
    "            other_node = random.choice(list(node_set - set([node])))\n",
    "            choice = random.choice(grammar[other_node])\n",
    "            corruptions += 1\n",
    "        history.append(choice)\n",
    "        node = choice[0]\n",
    "        \n",
    "    return history, corruptions\n",
    "\n",
    "def to_string(history):\n",
    "    return \"\".join([c for _, c in history])\n",
    "\n",
    "def gen_valid_reber_string(grammar):\n",
    "    history, _ = gen_reber_sequence(grammar)\n",
    "    return to_string(history)\n",
    "\n",
    "def gen_invalid_reber_string(grammar):\n",
    "    corruptions = 0\n",
    "    while corruptions == 0:\n",
    "        history, corruptions = gen_reber_sequence(grammar, valid=False)\n",
    "    \n",
    "    return to_string(history)"
   ]
  },
  {
   "cell_type": "code",
   "execution_count": 4,
   "id": "c087c94c-c2b7-4d6d-8fa1-519bd423e9fc",
   "metadata": {
    "execution": {
     "iopub.execute_input": "2022-08-06T18:04:19.401382Z",
     "iopub.status.busy": "2022-08-06T18:04:19.400867Z",
     "iopub.status.idle": "2022-08-06T18:04:19.415137Z",
     "shell.execute_reply": "2022-08-06T18:04:19.414093Z",
     "shell.execute_reply.started": "2022-08-06T18:04:19.401341Z"
    },
    "tags": []
   },
   "outputs": [],
   "source": [
    "def reber_dataset(n_valid=1024, n_invalid=1024, batch_size=32):\n",
    "    valid_sequences = [gen_valid_reber_string(reber_grammar) for _ in range(n_valid)]\n",
    "    invalid_sequences = [gen_invalid_reber_string(reber_grammar) for _ in range(n_invalid)]\n",
    "    sequences = valid_sequences + invalid_sequences\n",
    "    labels = [1.]*len(valid_sequences) + [0.]*len(invalid_sequences)\n",
    "    sequence_set = tf.data.Dataset.from_tensor_slices(sequences)\n",
    "    label_set = tf.data.Dataset.from_tensor_slices(labels)\n",
    "    \n",
    "    return tf.data.Dataset.zip((sequence_set, label_set)) \\\n",
    "        .shuffle(n_valid + n_invalid) \\\n",
    "        .batch(batch_size) \\\n",
    "        .prefetch(1)"
   ]
  },
  {
   "cell_type": "code",
   "execution_count": 5,
   "id": "cb247def-2387-46ce-ad93-71d35689c040",
   "metadata": {
    "execution": {
     "iopub.execute_input": "2022-08-06T18:04:19.416944Z",
     "iopub.status.busy": "2022-08-06T18:04:19.416517Z",
     "iopub.status.idle": "2022-08-06T18:04:20.287309Z",
     "shell.execute_reply": "2022-08-06T18:04:20.286197Z",
     "shell.execute_reply.started": "2022-08-06T18:04:19.416904Z"
    },
    "tags": []
   },
   "outputs": [
    {
     "name": "stderr",
     "output_type": "stream",
     "text": [
      "2022-08-06 14:04:19.560158: I tensorflow/core/platform/cpu_feature_guard.cc:193] This TensorFlow binary is optimized with oneAPI Deep Neural Network Library (oneDNN) to use the following CPU instructions in performance-critical operations:  AVX2 AVX512F AVX512_VNNI FMA\n",
      "To enable them in other operations, rebuild TensorFlow with the appropriate compiler flags.\n",
      "2022-08-06 14:04:20.022473: I tensorflow/core/common_runtime/gpu/gpu_device.cc:1532] Created device /job:localhost/replica:0/task:0/device:GPU:0 with 22307 MB memory:  -> device: 0, name: NVIDIA GeForce RTX 3090, pci bus id: 0000:68:00.0, compute capability: 8.6\n"
     ]
    }
   ],
   "source": [
    "train_set = reber_dataset(n_valid=5000, n_invalid=5000)\n",
    "val_set = reber_dataset(n_valid=1000, n_invalid=1000)\n",
    "test_set = reber_dataset(n_valid=1000, n_invalid=1000)"
   ]
  },
  {
   "cell_type": "code",
   "execution_count": 6,
   "id": "e77d872c-4383-44f8-9cbc-6c01feab35c8",
   "metadata": {
    "execution": {
     "iopub.execute_input": "2022-08-06T18:04:20.288205Z",
     "iopub.status.busy": "2022-08-06T18:04:20.288044Z",
     "iopub.status.idle": "2022-08-06T18:04:20.292680Z",
     "shell.execute_reply": "2022-08-06T18:04:20.292004Z",
     "shell.execute_reply.started": "2022-08-06T18:04:20.288191Z"
    }
   },
   "outputs": [],
   "source": [
    "def base_log_dir():\n",
    "    return os.path.join(os.curdir, \".tflogs\", \"reber_grammar\")\n",
    "\n",
    "def get_tensorboard_cb(callback=keras.callbacks.TensorBoard):\n",
    "    base_dir = base_log_dir()\n",
    "    run_id = time.strftime(\"run_%Y_%m_%d_%H_%M_%S\")\n",
    "    run_dir = os.path.join(base_dir, run_id)\n",
    "    return callback(run_dir)"
   ]
  },
  {
   "cell_type": "code",
   "execution_count": 7,
   "id": "d44551b4-f903-4ca2-9900-ac829d1dae55",
   "metadata": {
    "execution": {
     "iopub.execute_input": "2022-08-06T18:04:20.294370Z",
     "iopub.status.busy": "2022-08-06T18:04:20.294156Z",
     "iopub.status.idle": "2022-08-06T18:04:20.313371Z",
     "shell.execute_reply": "2022-08-06T18:04:20.312098Z",
     "shell.execute_reply.started": "2022-08-06T18:04:20.294356Z"
    },
    "tags": []
   },
   "outputs": [],
   "source": [
    "def build_model(train_set, optimizer=keras.optimizers.Adam, embedding_size=5, n_neurons=32, n_layers=2, learning_rate=1e-3, clipnorm=1.0):\n",
    "    max_len = max(len(s) for s, _ in train_set.unbatch().as_numpy_iterator())\n",
    "    text_layer = keras.layers.TextVectorization(split=\"character\", max_tokens=grammar_size, output_mode=\"int\")\n",
    "    text_layer.adapt(train_set.map(lambda X, Y: X))\n",
    "    \n",
    "    model = keras.models.Sequential([\n",
    "        text_layer,\n",
    "        # keras.layers.Lambda(lambda X: tf.one_hot(X, grammar_size)),\n",
    "        keras.layers.Embedding(input_dim=grammar_size, output_dim=embedding_size, mask_zero=True)\n",
    "    ])\n",
    "    for _ in range(n_layers - 1):\n",
    "        model.add(keras.layers.LSTM(n_neurons, return_sequences=True))\n",
    "    \n",
    "    model.add(keras.layers.LSTM(n_neurons))\n",
    "    model.add(keras.layers.Dense(1, activation=\"sigmoid\"))\n",
    "    \n",
    "    model.compile(\n",
    "        loss=\"binary_crossentropy\",\n",
    "        optimizer=optimizer(learning_rate=learning_rate, clipnorm=clipnorm),\n",
    "        metrics=[\"accuracy\"],\n",
    "    )\n",
    "    \n",
    "    return model"
   ]
  },
  {
   "cell_type": "code",
   "execution_count": 8,
   "id": "e0a77dbf-4e7d-4e57-a0d7-c845a87e28b0",
   "metadata": {
    "execution": {
     "iopub.execute_input": "2022-08-06T18:04:20.315229Z",
     "iopub.status.busy": "2022-08-06T18:04:20.314801Z",
     "iopub.status.idle": "2022-08-06T18:04:20.332449Z",
     "shell.execute_reply": "2022-08-06T18:04:20.331396Z",
     "shell.execute_reply.started": "2022-08-06T18:04:20.315189Z"
    },
    "tags": []
   },
   "outputs": [],
   "source": [
    "class LearningRateCallback(keras.callbacks.Callback):\n",
    "    def __init__(self, initial_learning_rate, final_learning_rate, steps):\n",
    "        self.factor = math.exp(math.log(final_learning_rate/float(initial_learning_rate))/steps)\n",
    "        self.losses = []\n",
    "        self.learning_rates = []\n",
    "    \n",
    "    def on_batch_end(self, batch, logs):\n",
    "        self.losses.append(logs.get(\"loss\"))\n",
    "        learning_rate = keras.backend.get_value(self.model.optimizer.learning_rate)\n",
    "        self.learning_rates.append(learning_rate)\n",
    "        keras.backend.set_value(self.model.optimizer.learning_rate, learning_rate*self.factor)\n",
    "\n",
    "def find_best_learning_rate(\n",
    "    train_set,\n",
    "    val_set,\n",
    "    compiled_model, \n",
    "    n_steps=500,\n",
    "    learning_rate_min=1e-5, \n",
    "    learning_rate_max=1e-1,\n",
    "    ):\n",
    "    keras.backend.clear_session()\n",
    "    np.random.seed(42)\n",
    "    tf.random.set_seed(42)  \n",
    "    \n",
    "    learning_rate_callback = LearningRateCallback(learning_rate_min, learning_rate_max, n_steps)\n",
    "    \n",
    "    history = compiled_model.fit(\n",
    "      train_set,\n",
    "      epochs=1,\n",
    "      steps_per_epoch=n_steps,\n",
    "      validation_data=val_set,\n",
    "      callbacks=[learning_rate_callback],\n",
    "    )\n",
    "    \n",
    "    \n",
    "    learning_rates = np.array(learning_rate_callback.learning_rates)\n",
    "    losses = np.array(learning_rate_callback.losses)\n",
    "    idx = losses < 10000\n",
    "    learning_rates_clean = learning_rates[idx]\n",
    "    losses_clean = losses[idx]\n",
    "    \n",
    "    plt.plot(learning_rates_clean, losses_clean)\n",
    "    best_idx = np.argmin(losses_clean)\n",
    "    best_learning_rate = learning_rates[best_idx] / 10.\n",
    "    return best_learning_rate"
   ]
  },
  {
   "cell_type": "code",
   "execution_count": 9,
   "id": "26830f48-d03b-4cb0-bccf-13a7a053c9fe",
   "metadata": {
    "execution": {
     "iopub.execute_input": "2022-08-06T18:04:20.334403Z",
     "iopub.status.busy": "2022-08-06T18:04:20.333871Z",
     "iopub.status.idle": "2022-08-06T18:04:20.346933Z",
     "shell.execute_reply": "2022-08-06T18:04:20.345913Z",
     "shell.execute_reply.started": "2022-08-06T18:04:20.334363Z"
    },
    "tags": []
   },
   "outputs": [],
   "source": [
    "def train_model(\n",
    "    train_set, \n",
    "    val_set, \n",
    "    compiled_model, \n",
    "    callbacks=None,\n",
    "    n_epochs=500,\n",
    "    steps_per_epoch=None,\n",
    "    tensorboard_callback=keras.callbacks.TensorBoard,\n",
    "    ):\n",
    "    callbacks = callbacks or []\n",
    "    keras.backend.clear_session()\n",
    "    np.random.seed(42)\n",
    "    tf.random.set_seed(42)\n",
    "    \n",
    "    builtin_callbacks = [\n",
    "        keras.callbacks.EarlyStopping(patience=10, restore_best_weights=True),\n",
    "        get_tensorboard_cb(callback=tensorboard_callback),\n",
    "    ]\n",
    "    \n",
    "    history = compiled_model.fit(\n",
    "        train_set,\n",
    "        epochs=n_epochs,\n",
    "        steps_per_epoch=steps_per_epoch,\n",
    "        validation_data=val_set,\n",
    "        callbacks=callbacks + builtin_callbacks,\n",
    "    )"
   ]
  },
  {
   "cell_type": "code",
   "execution_count": 10,
   "id": "87a65ecb-4e02-4703-9735-a6377ac8eeaf",
   "metadata": {
    "execution": {
     "iopub.execute_input": "2022-08-06T18:04:20.348627Z",
     "iopub.status.busy": "2022-08-06T18:04:20.348235Z",
     "iopub.status.idle": "2022-08-06T18:04:37.386364Z",
     "shell.execute_reply": "2022-08-06T18:04:37.385178Z",
     "shell.execute_reply.started": "2022-08-06T18:04:20.348590Z"
    },
    "tags": []
   },
   "outputs": [
    {
     "name": "stderr",
     "output_type": "stream",
     "text": [
      "2022-08-06 14:04:27.298617: W tensorflow/core/common_runtime/forward_type_inference.cc:231] Type inference failed. This indicates an invalid graph that escaped type checking. Error message: INVALID_ARGUMENT: expected compatible input types, but input 1:\n",
      "type_id: TFT_OPTIONAL\n",
      "args {\n",
      "  type_id: TFT_PRODUCT\n",
      "  args {\n",
      "    type_id: TFT_TENSOR\n",
      "    args {\n",
      "      type_id: TFT_LEGACY_VARIANT\n",
      "    }\n",
      "  }\n",
      "}\n",
      " is neither a subtype nor a supertype of the combined inputs preceding it:\n",
      "type_id: TFT_OPTIONAL\n",
      "args {\n",
      "  type_id: TFT_PRODUCT\n",
      "  args {\n",
      "    type_id: TFT_TENSOR\n",
      "    args {\n",
      "      type_id: TFT_FLOAT\n",
      "    }\n",
      "  }\n",
      "}\n",
      "\n",
      "\twhile inferring type of node 'cond_40/output/_19'\n",
      "2022-08-06 14:04:28.027964: I tensorflow/stream_executor/cuda/cuda_dnn.cc:384] Loaded cuDNN version 8100\n",
      "2022-08-06 14:04:28.818269: I tensorflow/stream_executor/cuda/cuda_blas.cc:1786] TensorFloat-32 will be used for the matrix multiplication. This will only be logged once.\n"
     ]
    },
    {
     "name": "stdout",
     "output_type": "stream",
     "text": [
      "300/300 [==============================] - 14s 27ms/step - loss: 0.6870 - accuracy: 0.5149 - val_loss: 0.7065 - val_accuracy: 0.5000\n"
     ]
    },
    {
     "data": {
      "text/plain": [
       "0.008254045248031616"
      ]
     },
     "execution_count": 10,
     "metadata": {},
     "output_type": "execute_result"
    },
    {
     "data": {
      "image/png": "[encoded data removed]",
      "text/plain": [
       "<Figure size 432x288 with 1 Axes>"
      ]
     },
     "metadata": {
      "needs_background": "light"
     },
     "output_type": "display_data"
    }
   ],
   "source": [
    "model = build_model(train_set, learning_rate=1e-6)\n",
    "best_learning_rate = find_best_learning_rate(train_set, val_set, model, learning_rate_min=1e-6, learning_rate_max=1e-1, n_steps=300)\n",
    "best_learning_rate"
   ]
  },
  {
   "cell_type": "code",
   "execution_count": 11,
   "id": "40044b67-8b00-47d2-9071-493c5099ae04",
   "metadata": {
    "execution": {
     "iopub.execute_input": "2022-08-06T18:04:37.388683Z",
     "iopub.status.busy": "2022-08-06T18:04:37.387933Z",
     "iopub.status.idle": "2022-08-06T18:04:37.395678Z",
     "shell.execute_reply": "2022-08-06T18:04:37.394614Z",
     "shell.execute_reply.started": "2022-08-06T18:04:37.388640Z"
    },
    "tags": []
   },
   "outputs": [
    {
     "data": {
      "text/plain": [
       "4.5e-05"
      ]
     },
     "execution_count": 11,
     "metadata": {},
     "output_type": "execute_result"
    }
   ],
   "source": [
    "5e-5 * .9"
   ]
  },
  {
   "cell_type": "code",
   "execution_count": 12,
   "id": "a65c96a6-e8ca-4f85-87b8-406929dc0991",
   "metadata": {
    "execution": {
     "iopub.execute_input": "2022-08-06T18:04:37.397842Z",
     "iopub.status.busy": "2022-08-06T18:04:37.397097Z",
     "iopub.status.idle": "2022-08-06T18:09:28.082737Z",
     "shell.execute_reply": "2022-08-06T18:09:28.081528Z",
     "shell.execute_reply.started": "2022-08-06T18:04:37.397799Z"
    },
    "tags": []
   },
   "outputs": [
    {
     "name": "stdout",
     "output_type": "stream",
     "text": [
      "Epoch 1/500\n",
      "313/313 [==============================] - 13s 25ms/step - loss: 0.6804 - accuracy: 0.5498 - val_loss: 0.6589 - val_accuracy: 0.6195\n",
      "Epoch 2/500\n",
      "313/313 [==============================] - 6s 20ms/step - loss: 0.5841 - accuracy: 0.6777 - val_loss: 0.5078 - val_accuracy: 0.7395\n",
      "Epoch 3/500\n",
      "313/313 [==============================] - 6s 20ms/step - loss: 0.3891 - accuracy: 0.8040 - val_loss: 0.3111 - val_accuracy: 0.8350\n",
      "Epoch 4/500\n",
      "313/313 [==============================] - 6s 20ms/step - loss: 0.2686 - accuracy: 0.8678 - val_loss: 0.2119 - val_accuracy: 0.8950\n",
      "Epoch 5/500\n",
      "313/313 [==============================] - 6s 20ms/step - loss: 0.1852 - accuracy: 0.9180 - val_loss: 0.1822 - val_accuracy: 0.9175\n",
      "Epoch 6/500\n",
      "313/313 [==============================] - 6s 20ms/step - loss: 0.1534 - accuracy: 0.9294 - val_loss: 0.1612 - val_accuracy: 0.9285\n",
      "Epoch 7/500\n",
      "313/313 [==============================] - 6s 20ms/step - loss: 0.1063 - accuracy: 0.9572 - val_loss: 0.0891 - val_accuracy: 0.9740\n",
      "Epoch 8/500\n",
      "313/313 [==============================] - 6s 20ms/step - loss: 0.0542 - accuracy: 0.9843 - val_loss: 0.0436 - val_accuracy: 0.9870\n",
      "Epoch 9/500\n",
      "313/313 [==============================] - 6s 20ms/step - loss: 0.0424 - accuracy: 0.9875 - val_loss: 0.0345 - val_accuracy: 0.9885\n",
      "Epoch 10/500\n",
      "313/313 [==============================] - 6s 20ms/step - loss: 0.0319 - accuracy: 0.9905 - val_loss: 0.0235 - val_accuracy: 0.9935\n",
      "Epoch 11/500\n",
      "313/313 [==============================] - 6s 20ms/step - loss: 0.0215 - accuracy: 0.9939 - val_loss: 0.0239 - val_accuracy: 0.9920\n",
      "Epoch 12/500\n",
      "313/313 [==============================] - 6s 20ms/step - loss: 0.0173 - accuracy: 0.9954 - val_loss: 0.0242 - val_accuracy: 0.9935\n",
      "Epoch 13/500\n",
      "313/313 [==============================] - 6s 20ms/step - loss: 0.0139 - accuracy: 0.9962 - val_loss: 0.0113 - val_accuracy: 0.9990\n",
      "Epoch 14/500\n",
      "313/313 [==============================] - 6s 20ms/step - loss: 0.0114 - accuracy: 0.9967 - val_loss: 0.0093 - val_accuracy: 0.9985\n",
      "Epoch 15/500\n",
      "313/313 [==============================] - 6s 20ms/step - loss: 0.0134 - accuracy: 0.9964 - val_loss: 0.0200 - val_accuracy: 0.9955\n",
      "Epoch 16/500\n",
      "313/313 [==============================] - 6s 20ms/step - loss: 0.0041 - accuracy: 0.9996 - val_loss: 0.0055 - val_accuracy: 0.9985\n",
      "Epoch 17/500\n",
      "313/313 [==============================] - 6s 20ms/step - loss: 0.0058 - accuracy: 0.9990 - val_loss: 0.0234 - val_accuracy: 0.9960\n",
      "Epoch 18/500\n",
      "313/313 [==============================] - 6s 20ms/step - loss: 0.0110 - accuracy: 0.9969 - val_loss: 0.0064 - val_accuracy: 0.9985\n",
      "Epoch 19/500\n",
      "313/313 [==============================] - 6s 20ms/step - loss: 0.0037 - accuracy: 0.9992 - val_loss: 0.0031 - val_accuracy: 0.9985\n",
      "Epoch 20/500\n",
      "313/313 [==============================] - 6s 20ms/step - loss: 0.0019 - accuracy: 0.9996 - val_loss: 0.0041 - val_accuracy: 0.9990\n",
      "Epoch 21/500\n",
      "313/313 [==============================] - 6s 20ms/step - loss: 0.0013 - accuracy: 0.9999 - val_loss: 0.0072 - val_accuracy: 0.9985\n",
      "Epoch 22/500\n",
      "313/313 [==============================] - 6s 20ms/step - loss: 0.0107 - accuracy: 0.9970 - val_loss: 0.0090 - val_accuracy: 0.9975\n",
      "Epoch 23/500\n",
      "313/313 [==============================] - 6s 20ms/step - loss: 0.0024 - accuracy: 0.9994 - val_loss: 0.0102 - val_accuracy: 0.9985\n",
      "Epoch 24/500\n",
      "313/313 [==============================] - 6s 20ms/step - loss: 0.0061 - accuracy: 0.9988 - val_loss: 0.0368 - val_accuracy: 0.9830\n",
      "Epoch 25/500\n",
      "313/313 [==============================] - 6s 20ms/step - loss: 0.0069 - accuracy: 0.9986 - val_loss: 0.0076 - val_accuracy: 0.9975\n",
      "Epoch 26/500\n",
      "313/313 [==============================] - 6s 20ms/step - loss: 0.0044 - accuracy: 0.9989 - val_loss: 0.0012 - val_accuracy: 1.0000\n",
      "Epoch 27/500\n",
      "313/313 [==============================] - 6s 20ms/step - loss: 0.0075 - accuracy: 0.9980 - val_loss: 0.0054 - val_accuracy: 0.9995\n",
      "Epoch 28/500\n",
      "313/313 [==============================] - 6s 20ms/step - loss: 4.5054e-04 - accuracy: 1.0000 - val_loss: 0.0061 - val_accuracy: 0.9990\n",
      "Epoch 29/500\n",
      "313/313 [==============================] - 6s 20ms/step - loss: 2.5877e-04 - accuracy: 1.0000 - val_loss: 0.0057 - val_accuracy: 0.9990\n",
      "Epoch 30/500\n",
      "313/313 [==============================] - 6s 20ms/step - loss: 2.0825e-04 - accuracy: 1.0000 - val_loss: 0.0040 - val_accuracy: 0.9990\n",
      "Epoch 31/500\n",
      "313/313 [==============================] - 6s 20ms/step - loss: 1.7954e-04 - accuracy: 1.0000 - val_loss: 0.0049 - val_accuracy: 0.9990\n",
      "Epoch 32/500\n",
      "313/313 [==============================] - 6s 20ms/step - loss: 1.5189e-04 - accuracy: 1.0000 - val_loss: 0.0044 - val_accuracy: 0.9990\n",
      "Epoch 33/500\n",
      "313/313 [==============================] - 6s 20ms/step - loss: 1.3404e-04 - accuracy: 1.0000 - val_loss: 0.0013 - val_accuracy: 0.9995\n",
      "Epoch 34/500\n",
      "313/313 [==============================] - 6s 20ms/step - loss: 1.1396e-04 - accuracy: 1.0000 - val_loss: 0.0015 - val_accuracy: 0.9990\n",
      "Epoch 35/500\n",
      "313/313 [==============================] - 6s 20ms/step - loss: 1.0072e-04 - accuracy: 1.0000 - val_loss: 0.0011 - val_accuracy: 0.9995\n",
      "Epoch 36/500\n",
      "313/313 [==============================] - 6s 20ms/step - loss: 8.8102e-05 - accuracy: 1.0000 - val_loss: 0.0011 - val_accuracy: 0.9995\n",
      "Epoch 37/500\n",
      "313/313 [==============================] - 6s 20ms/step - loss: 7.7987e-05 - accuracy: 1.0000 - val_loss: 0.0015 - val_accuracy: 0.9995\n",
      "Epoch 38/500\n",
      "313/313 [==============================] - 6s 20ms/step - loss: 6.7510e-05 - accuracy: 1.0000 - val_loss: 0.0012 - val_accuracy: 0.9995\n",
      "Epoch 39/500\n",
      "313/313 [==============================] - 6s 20ms/step - loss: 5.9250e-05 - accuracy: 1.0000 - val_loss: 0.0013 - val_accuracy: 0.9995\n",
      "Epoch 40/500\n",
      "313/313 [==============================] - 6s 20ms/step - loss: 5.2328e-05 - accuracy: 1.0000 - val_loss: 0.0013 - val_accuracy: 0.9995\n",
      "Epoch 41/500\n",
      "313/313 [==============================] - 6s 20ms/step - loss: 4.5541e-05 - accuracy: 1.0000 - val_loss: 0.0017 - val_accuracy: 0.9995\n",
      "Epoch 42/500\n",
      "313/313 [==============================] - 6s 20ms/step - loss: 4.0212e-05 - accuracy: 1.0000 - val_loss: 0.0013 - val_accuracy: 0.9995\n",
      "Epoch 43/500\n",
      "313/313 [==============================] - 6s 20ms/step - loss: 3.4636e-05 - accuracy: 1.0000 - val_loss: 0.0014 - val_accuracy: 0.9995\n",
      "Epoch 44/500\n",
      "313/313 [==============================] - 6s 20ms/step - loss: 2.9738e-05 - accuracy: 1.0000 - val_loss: 0.0018 - val_accuracy: 0.9995\n",
      "Epoch 45/500\n",
      "313/313 [==============================] - 6s 20ms/step - loss: 2.7203e-05 - accuracy: 1.0000 - val_loss: 0.0014 - val_accuracy: 0.9995\n",
      "tf.Tensor(\n",
      "[[1.80715531e-07]\n",
      " [2.64168125e-06]\n",
      " [1.36622290e-07]\n",
      " [9.99939203e-01]\n",
      " [5.50946368e-07]\n",
      " [9.99946237e-01]\n",
      " [9.99916077e-01]\n",
      " [9.99908209e-01]\n",
      " [1.60747379e-06]\n",
      " [2.24187374e-07]\n",
      " [9.99928832e-01]\n",
      " [9.99746263e-01]\n",
      " [1.18482296e-06]\n",
      " [9.99980569e-01]\n",
      " [6.05096773e-07]\n",
      " [9.99964952e-01]\n",
      " [9.87227668e-06]\n",
      " [2.63275024e-06]\n",
      " [9.99944925e-01]\n",
      " [2.22442935e-07]\n",
      " [8.34807724e-06]\n",
      " [9.99921560e-01]\n",
      " [9.87227668e-06]\n",
      " [8.97963588e-08]\n",
      " [6.40596625e-07]\n",
      " [6.12938584e-06]\n",
      " [8.50778292e-08]\n",
      " [4.26444167e-05]\n",
      " [9.99964952e-01]\n",
      " [9.99990225e-01]\n",
      " [1.14825106e-07]\n",
      " [9.99980927e-01]], shape=(32, 1), dtype=float32)\n",
      "tf.Tensor(\n",
      "[0. 0. 0. 1. 0. 1. 1. 1. 0. 0. 1. 1. 0. 1. 0. 1. 0. 0. 1. 0. 0. 1. 0. 0.\n",
      " 0. 0. 0. 0. 1. 1. 0. 1.], shape=(32,), dtype=float32)\n"
     ]
    }
   ],
   "source": [
    "# lr_schedule = keras.optimizers.schedules.ExponentialDecay(\n",
    "#     initial_learning_rate=5e-5,\n",
    "#     decay_steps=500,\n",
    "#     decay_rate=0.9)\n",
    "model = build_model(train_set, learning_rate=1e-3, n_neurons=32, n_layers=2)\n",
    "\n",
    "train_model(train_set, val_set, model)\n",
    "\n",
    "for X, Y in train_set.take(1):\n",
    "    print(model(X))\n",
    "    print(Y)"
   ]
  },
  {
   "cell_type": "code",
   "execution_count": 15,
   "id": "0e1c79d0-69f9-4de0-9590-d071c154d452",
   "metadata": {
    "execution": {
     "iopub.execute_input": "2022-08-06T18:09:29.451018Z",
     "iopub.status.busy": "2022-08-06T18:09:29.450460Z",
     "iopub.status.idle": "2022-08-06T18:09:30.039405Z",
     "shell.execute_reply": "2022-08-06T18:09:30.037879Z",
     "shell.execute_reply.started": "2022-08-06T18:09:29.450975Z"
    },
    "tags": []
   },
   "outputs": [
    {
     "name": "stdout",
     "output_type": "stream",
     "text": [
      "63/63 [==============================] - 1s 9ms/step - loss: 0.0039 - accuracy: 0.9995\n"
     ]
    },
    {
     "data": {
      "text/plain": [
       "[0.0038858396001160145, 0.9994999766349792]"
      ]
     },
     "execution_count": 15,
     "metadata": {},
     "output_type": "execute_result"
    }
   ],
   "source": [
    "model.evaluate(test_set)"
   ]
  },
  {
   "cell_type": "code",
   "execution_count": 16,
   "id": "9f3a157d-7aca-4437-9414-38df3f73d017",
   "metadata": {
    "execution": {
     "iopub.execute_input": "2022-08-06T18:09:30.041691Z",
     "iopub.status.busy": "2022-08-06T18:09:30.041189Z",
     "iopub.status.idle": "2022-08-06T18:10:22.782587Z",
     "shell.execute_reply": "2022-08-06T18:10:22.781128Z",
     "shell.execute_reply.started": "2022-08-06T18:09:30.041645Z"
    },
    "tags": []
   },
   "outputs": [
    {
     "name": "stdout",
     "output_type": "stream",
     "text": [
      "train\n",
      "val\n",
      "===========================\n",
      "tf.Tensor(b'BTSXXTTTVTTTTVVE', shape=(), dtype=string)\n",
      "tf.Tensor(0.86173546, shape=(), dtype=float32)\n",
      "tf.Tensor(0.0, shape=(), dtype=float32)\n"
     ]
    }
   ],
   "source": [
    "wrong_train_set = train_set.unbatch().batch(1).filter(lambda x, y: tf.math.abs(model(x)[0][0] - y[0]) > 0.5)\n",
    "wrong_val_set = val_set.unbatch().batch(1).filter(lambda x, y: tf.math.abs(model(x)[0][0] - y[0]) > 0.5)\n",
    "\n",
    "print(\"train\")\n",
    "for x, y in wrong_train_set:\n",
    "    print(\"===========================\")\n",
    "    print(x[0])\n",
    "    print(model(x)[0][0])\n",
    "    print(y[0])\n",
    "    \n",
    "print(\"val\")\n",
    "for x, y in wrong_val_set:\n",
    "    print(\"===========================\")\n",
    "    print(x[0])\n",
    "    print(model(x)[0][0])\n",
    "    print(y[0])"
   ]
  },
  {
   "cell_type": "code",
   "execution_count": 27,
   "id": "fc667a1e-dde6-4eb0-8bf4-28292eaacb3d",
   "metadata": {
    "execution": {
     "iopub.execute_input": "2022-08-07T15:50:36.177302Z",
     "iopub.status.busy": "2022-08-07T15:50:36.176671Z",
     "iopub.status.idle": "2022-08-07T15:50:36.296495Z",
     "shell.execute_reply": "2022-08-07T15:50:36.295295Z",
     "shell.execute_reply.started": "2022-08-07T15:50:36.177251Z"
    },
    "tags": []
   },
   "outputs": [
    {
     "name": "stdout",
     "output_type": "stream",
     "text": [
      "tf.Tensor([b'BTSXXTTTVTTTTVVE'], shape=(1,), dtype=string)\n",
      "tf.Tensor([0.], shape=(1,), dtype=float32)\n"
     ]
    }
   ],
   "source": [
    "for x, y in val_set.unbatch().batch(1).filter(lambda x, y: tf.strings.regex_full_match(x, \".*TTTVTTTTVVE\")[0]):\n",
    "    print(x)\n",
    "    print(y)"
   ]
  }
 ],
 "metadata": {
  "kernelspec": {
   "display_name": "Python 3 (ipykernel)",
   "language": "python",
   "name": "python3"
  },
  "language_info": {
   "codemirror_mode": {
    "name": "ipython",
    "version": 3
   },
   "file_extension": ".py",
   "mimetype": "text/x-python",
   "name": "python",
   "nbconvert_exporter": "python",
   "pygments_lexer": "ipython3",
   "version": "3.10.4"
  }
 },
 "nbformat": 4,
 "nbformat_minor": 5
}
