{
 "cells": [
  {
   "cell_type": "markdown",
   "id": "fd3f9703-118b-43d4-a650-dbbea88c7c99",
   "metadata": {},
   "source": [
    "based on https://www.tensorflow.org/text/tutorials/nmt_with_attention"
   ]
  },
  {
   "cell_type": "code",
   "execution_count": 1,
   "id": "a5e025d4-4d47-458b-a97a-60cecfb2fd98",
   "metadata": {
    "execution": {
     "iopub.execute_input": "2022-08-11T00:32:08.307751Z",
     "iopub.status.busy": "2022-08-11T00:32:08.307056Z",
     "iopub.status.idle": "2022-08-11T00:32:37.118802Z",
     "shell.execute_reply": "2022-08-11T00:32:37.117266Z",
     "shell.execute_reply.started": "2022-08-11T00:32:08.307605Z"
    },
    "tags": []
   },
   "outputs": [
    {
     "name": "stdout",
     "output_type": "stream",
     "text": [
      "/usr/bin/zsh: /home/jon/anaconda3/envs/hands-on/lib/libtinfo.so.6: no version information available (required by /usr/bin/zsh)\n",
      "Collecting tensorflow-text==2.8.*\n",
      "  Downloading tensorflow_text-2.8.2-cp310-cp310-manylinux_2_12_x86_64.manylinux2010_x86_64.whl (4.9 MB)\n",
      "\u001b[2K     \u001b[90m━━━━━━━━━━━━━━━━━━━━━━━━━━━━━━━━━━━━━━━━\u001b[0m \u001b[32m4.9/4.9 MB\u001b[0m \u001b[31m21.7 MB/s\u001b[0m eta \u001b[36m0:00:00\u001b[0m00:01\u001b[0m00:01\u001b[0m\n",
      "\u001b[?25hCollecting tensorflow<2.9,>=2.8.0\n",
      "  Downloading tensorflow-2.8.2-cp310-cp310-manylinux2010_x86_64.whl (498.0 MB)\n",
      "\u001b[2K     \u001b[90m━━━━━━━━━━━━━━━━━━━━━━━━━━━━━━━━━━━━━━━\u001b[0m \u001b[32m498.0/498.0 MB\u001b[0m \u001b[31m7.1 MB/s\u001b[0m eta \u001b[36m0:00:00\u001b[0m00:01\u001b[0m00:01\u001b[0m\n",
      "\u001b[?25hRequirement already satisfied: tensorflow-hub>=0.8.0 in /home/jon/anaconda3/envs/hands-on/lib/python3.10/site-packages (from tensorflow-text==2.8.*) (0.12.0)\n",
      "Requirement already satisfied: absl-py>=0.4.0 in /home/jon/anaconda3/envs/hands-on/lib/python3.10/site-packages (from tensorflow<2.9,>=2.8.0->tensorflow-text==2.8.*) (1.1.0)\n",
      "Requirement already satisfied: libclang>=9.0.1 in /home/jon/anaconda3/envs/hands-on/lib/python3.10/site-packages (from tensorflow<2.9,>=2.8.0->tensorflow-text==2.8.*) (14.0.1)\n",
      "Collecting keras<2.9,>=2.8.0rc0\n",
      "  Downloading keras-2.8.0-py2.py3-none-any.whl (1.4 MB)\n",
      "\u001b[2K     \u001b[90m━━━━━━━━━━━━━━━━━━━━━━━━━━━━━━━━━━━━━━━━\u001b[0m \u001b[32m1.4/1.4 MB\u001b[0m \u001b[31m25.5 MB/s\u001b[0m eta \u001b[36m0:00:00\u001b[0ma \u001b[36m0:00:01\u001b[0m\n",
      "\u001b[?25hRequirement already satisfied: tensorflow-io-gcs-filesystem>=0.23.1 in /home/jon/anaconda3/envs/hands-on/lib/python3.10/site-packages (from tensorflow<2.9,>=2.8.0->tensorflow-text==2.8.*) (0.26.0)\n",
      "Requirement already satisfied: termcolor>=1.1.0 in /home/jon/anaconda3/envs/hands-on/lib/python3.10/site-packages (from tensorflow<2.9,>=2.8.0->tensorflow-text==2.8.*) (1.1.0)\n",
      "Requirement already satisfied: setuptools in /home/jon/anaconda3/envs/hands-on/lib/python3.10/site-packages (from tensorflow<2.9,>=2.8.0->tensorflow-text==2.8.*) (61.2.0)\n",
      "Requirement already satisfied: protobuf<3.20,>=3.9.2 in /home/jon/anaconda3/envs/hands-on/lib/python3.10/site-packages (from tensorflow<2.9,>=2.8.0->tensorflow-text==2.8.*) (3.19.4)\n",
      "Requirement already satisfied: typing-extensions>=3.6.6 in /home/jon/anaconda3/envs/hands-on/lib/python3.10/site-packages (from tensorflow<2.9,>=2.8.0->tensorflow-text==2.8.*) (4.2.0)\n",
      "Requirement already satisfied: h5py>=2.9.0 in /home/jon/anaconda3/envs/hands-on/lib/python3.10/site-packages (from tensorflow<2.9,>=2.8.0->tensorflow-text==2.8.*) (3.7.0)\n",
      "Requirement already satisfied: gast>=0.2.1 in /home/jon/anaconda3/envs/hands-on/lib/python3.10/site-packages (from tensorflow<2.9,>=2.8.0->tensorflow-text==2.8.*) (0.4.0)\n",
      "Requirement already satisfied: astunparse>=1.6.0 in /home/jon/anaconda3/envs/hands-on/lib/python3.10/site-packages (from tensorflow<2.9,>=2.8.0->tensorflow-text==2.8.*) (1.6.3)\n",
      "Requirement already satisfied: keras-preprocessing>=1.1.1 in /home/jon/anaconda3/envs/hands-on/lib/python3.10/site-packages (from tensorflow<2.9,>=2.8.0->tensorflow-text==2.8.*) (1.1.2)\n",
      "Requirement already satisfied: six>=1.12.0 in /home/jon/anaconda3/envs/hands-on/lib/python3.10/site-packages (from tensorflow<2.9,>=2.8.0->tensorflow-text==2.8.*) (1.16.0)\n",
      "Requirement already satisfied: flatbuffers>=1.12 in /home/jon/anaconda3/envs/hands-on/lib/python3.10/site-packages (from tensorflow<2.9,>=2.8.0->tensorflow-text==2.8.*) (1.12)\n",
      "Requirement already satisfied: google-pasta>=0.1.1 in /home/jon/anaconda3/envs/hands-on/lib/python3.10/site-packages (from tensorflow<2.9,>=2.8.0->tensorflow-text==2.8.*) (0.2.0)\n",
      "Collecting tensorboard<2.9,>=2.8\n",
      "  Downloading tensorboard-2.8.0-py3-none-any.whl (5.8 MB)\n",
      "\u001b[2K     \u001b[90m━━━━━━━━━━━━━━━━━━━━━━━━━━━━━━━━━━━━━━━━\u001b[0m \u001b[32m5.8/5.8 MB\u001b[0m \u001b[31m25.8 MB/s\u001b[0m eta \u001b[36m0:00:00\u001b[0m00:01\u001b[0m00:01\u001b[0m\n",
      "\u001b[?25hRequirement already satisfied: grpcio<2.0,>=1.24.3 in /home/jon/anaconda3/envs/hands-on/lib/python3.10/site-packages (from tensorflow<2.9,>=2.8.0->tensorflow-text==2.8.*) (1.47.0)\n",
      "Collecting tensorflow-estimator<2.9,>=2.8\n",
      "  Downloading tensorflow_estimator-2.8.0-py2.py3-none-any.whl (462 kB)\n",
      "\u001b[2K     \u001b[90m━━━━━━━━━━━━━━━━━━━━━━━━━━━━━━━━━━━━━━\u001b[0m \u001b[32m462.3/462.3 kB\u001b[0m \u001b[31m20.4 MB/s\u001b[0m eta \u001b[36m0:00:00\u001b[0m\n",
      "\u001b[?25hRequirement already satisfied: wrapt>=1.11.0 in /home/jon/anaconda3/envs/hands-on/lib/python3.10/site-packages (from tensorflow<2.9,>=2.8.0->tensorflow-text==2.8.*) (1.14.1)\n",
      "Requirement already satisfied: numpy>=1.20 in /home/jon/anaconda3/envs/hands-on/lib/python3.10/site-packages (from tensorflow<2.9,>=2.8.0->tensorflow-text==2.8.*) (1.22.4)\n",
      "Requirement already satisfied: opt-einsum>=2.3.2 in /home/jon/anaconda3/envs/hands-on/lib/python3.10/site-packages (from tensorflow<2.9,>=2.8.0->tensorflow-text==2.8.*) (3.3.0)\n",
      "Requirement already satisfied: wheel<1.0,>=0.23.0 in /home/jon/anaconda3/envs/hands-on/lib/python3.10/site-packages (from astunparse>=1.6.0->tensorflow<2.9,>=2.8.0->tensorflow-text==2.8.*) (0.37.1)\n",
      "Requirement already satisfied: requests<3,>=2.21.0 in /home/jon/anaconda3/envs/hands-on/lib/python3.10/site-packages (from tensorboard<2.9,>=2.8->tensorflow<2.9,>=2.8.0->tensorflow-text==2.8.*) (2.28.0)\n",
      "Requirement already satisfied: tensorboard-data-server<0.7.0,>=0.6.0 in /home/jon/anaconda3/envs/hands-on/lib/python3.10/site-packages (from tensorboard<2.9,>=2.8->tensorflow<2.9,>=2.8.0->tensorflow-text==2.8.*) (0.6.1)\n",
      "Requirement already satisfied: werkzeug>=0.11.15 in /home/jon/anaconda3/envs/hands-on/lib/python3.10/site-packages (from tensorboard<2.9,>=2.8->tensorflow<2.9,>=2.8.0->tensorflow-text==2.8.*) (2.1.2)\n",
      "Requirement already satisfied: google-auth<3,>=1.6.3 in /home/jon/anaconda3/envs/hands-on/lib/python3.10/site-packages (from tensorboard<2.9,>=2.8->tensorflow<2.9,>=2.8.0->tensorflow-text==2.8.*) (2.8.0)\n",
      "Requirement already satisfied: markdown>=2.6.8 in /home/jon/anaconda3/envs/hands-on/lib/python3.10/site-packages (from tensorboard<2.9,>=2.8->tensorflow<2.9,>=2.8.0->tensorflow-text==2.8.*) (3.3.7)\n",
      "Requirement already satisfied: tensorboard-plugin-wit>=1.6.0 in /home/jon/anaconda3/envs/hands-on/lib/python3.10/site-packages (from tensorboard<2.9,>=2.8->tensorflow<2.9,>=2.8.0->tensorflow-text==2.8.*) (1.8.1)\n",
      "Requirement already satisfied: google-auth-oauthlib<0.5,>=0.4.1 in /home/jon/anaconda3/envs/hands-on/lib/python3.10/site-packages (from tensorboard<2.9,>=2.8->tensorflow<2.9,>=2.8.0->tensorflow-text==2.8.*) (0.4.6)\n",
      "Requirement already satisfied: pyasn1-modules>=0.2.1 in /home/jon/anaconda3/envs/hands-on/lib/python3.10/site-packages (from google-auth<3,>=1.6.3->tensorboard<2.9,>=2.8->tensorflow<2.9,>=2.8.0->tensorflow-text==2.8.*) (0.2.8)\n",
      "Requirement already satisfied: cachetools<6.0,>=2.0.0 in /home/jon/anaconda3/envs/hands-on/lib/python3.10/site-packages (from google-auth<3,>=1.6.3->tensorboard<2.9,>=2.8->tensorflow<2.9,>=2.8.0->tensorflow-text==2.8.*) (5.2.0)\n",
      "Requirement already satisfied: rsa<5,>=3.1.4 in /home/jon/anaconda3/envs/hands-on/lib/python3.10/site-packages (from google-auth<3,>=1.6.3->tensorboard<2.9,>=2.8->tensorflow<2.9,>=2.8.0->tensorflow-text==2.8.*) (4.8)\n",
      "Requirement already satisfied: requests-oauthlib>=0.7.0 in /home/jon/anaconda3/envs/hands-on/lib/python3.10/site-packages (from google-auth-oauthlib<0.5,>=0.4.1->tensorboard<2.9,>=2.8->tensorflow<2.9,>=2.8.0->tensorflow-text==2.8.*) (1.3.1)\n",
      "Requirement already satisfied: certifi>=2017.4.17 in /home/jon/anaconda3/envs/hands-on/lib/python3.10/site-packages (from requests<3,>=2.21.0->tensorboard<2.9,>=2.8->tensorflow<2.9,>=2.8.0->tensorflow-text==2.8.*) (2022.6.15)\n",
      "Requirement already satisfied: charset-normalizer~=2.0.0 in /home/jon/anaconda3/envs/hands-on/lib/python3.10/site-packages (from requests<3,>=2.21.0->tensorboard<2.9,>=2.8->tensorflow<2.9,>=2.8.0->tensorflow-text==2.8.*) (2.0.12)\n",
      "Requirement already satisfied: urllib3<1.27,>=1.21.1 in /home/jon/anaconda3/envs/hands-on/lib/python3.10/site-packages (from requests<3,>=2.21.0->tensorboard<2.9,>=2.8->tensorflow<2.9,>=2.8.0->tensorflow-text==2.8.*) (1.26.9)\n",
      "Requirement already satisfied: idna<4,>=2.5 in /home/jon/anaconda3/envs/hands-on/lib/python3.10/site-packages (from requests<3,>=2.21.0->tensorboard<2.9,>=2.8->tensorflow<2.9,>=2.8.0->tensorflow-text==2.8.*) (3.3)\n",
      "Requirement already satisfied: pyasn1<0.5.0,>=0.4.6 in /home/jon/anaconda3/envs/hands-on/lib/python3.10/site-packages (from pyasn1-modules>=0.2.1->google-auth<3,>=1.6.3->tensorboard<2.9,>=2.8->tensorflow<2.9,>=2.8.0->tensorflow-text==2.8.*) (0.4.8)\n",
      "Requirement already satisfied: oauthlib>=3.0.0 in /home/jon/anaconda3/envs/hands-on/lib/python3.10/site-packages (from requests-oauthlib>=0.7.0->google-auth-oauthlib<0.5,>=0.4.1->tensorboard<2.9,>=2.8->tensorflow<2.9,>=2.8.0->tensorflow-text==2.8.*) (3.2.0)\n",
      "Installing collected packages: tensorflow-estimator, keras, tensorboard, tensorflow, tensorflow-text\n",
      "  Attempting uninstall: tensorflow-estimator\n",
      "    Found existing installation: tensorflow-estimator 2.9.0\n",
      "    Uninstalling tensorflow-estimator-2.9.0:\n",
      "      Successfully uninstalled tensorflow-estimator-2.9.0\n",
      "  Attempting uninstall: keras\n",
      "    Found existing installation: keras 2.9.0\n",
      "    Uninstalling keras-2.9.0:\n",
      "      Successfully uninstalled keras-2.9.0\n",
      "  Attempting uninstall: tensorboard\n",
      "    Found existing installation: tensorboard 2.9.1\n",
      "    Uninstalling tensorboard-2.9.1:\n",
      "      Successfully uninstalled tensorboard-2.9.1\n",
      "  Attempting uninstall: tensorflow\n",
      "    Found existing installation: tensorflow 2.9.1\n",
      "    Uninstalling tensorflow-2.9.1:\n",
      "      Successfully uninstalled tensorflow-2.9.1\n",
      "Successfully installed keras-2.8.0 tensorboard-2.8.0 tensorflow-2.8.2 tensorflow-estimator-2.8.0 tensorflow-text-2.8.2\n",
      "\n",
      "\u001b[1m[\u001b[0m\u001b[34;49mnotice\u001b[0m\u001b[1;39;49m]\u001b[0m\u001b[39;49m A new release of pip available: \u001b[0m\u001b[31;49m22.1.2\u001b[0m\u001b[39;49m -> \u001b[0m\u001b[32;49m22.2.2\u001b[0m\n",
      "\u001b[1m[\u001b[0m\u001b[34;49mnotice\u001b[0m\u001b[1;39;49m]\u001b[0m\u001b[39;49m To update, run: \u001b[0m\u001b[32;49mpip install --upgrade pip\u001b[0m\n",
      "Note: you may need to restart the kernel to use updated packages.\n"
     ]
    }
   ],
   "source": [
    "pip install \"tensorflow-text==2.8.*\""
   ]
  },
  {
   "cell_type": "code",
   "execution_count": 2,
   "id": "c4108999-277f-44d7-8776-4fb90bd8d110",
   "metadata": {
    "execution": {
     "iopub.execute_input": "2022-08-11T00:32:37.121686Z",
     "iopub.status.busy": "2022-08-11T00:32:37.121208Z",
     "iopub.status.idle": "2022-08-11T00:32:38.812943Z",
     "shell.execute_reply": "2022-08-11T00:32:38.812262Z",
     "shell.execute_reply.started": "2022-08-11T00:32:37.121640Z"
    },
    "tags": []
   },
   "outputs": [],
   "source": [
    "import numpy as np\n",
    "\n",
    "import typing\n",
    "from typing import Any, Tuple\n",
    "\n",
    "import tensorflow as tf\n",
    "\n",
    "import tensorflow_text as tf_text\n",
    "\n",
    "import matplotlib.pyplot as plt\n",
    "import matplotlib.ticker as ticker"
   ]
  },
  {
   "cell_type": "code",
   "execution_count": 3,
   "id": "5e3cbb82-8108-4189-a0d5-b5c32098370c",
   "metadata": {
    "execution": {
     "iopub.execute_input": "2022-08-11T00:38:23.197601Z",
     "iopub.status.busy": "2022-08-11T00:38:23.196610Z",
     "iopub.status.idle": "2022-08-11T00:38:23.211308Z",
     "shell.execute_reply": "2022-08-11T00:38:23.209866Z",
     "shell.execute_reply.started": "2022-08-11T00:38:23.197547Z"
    },
    "tags": []
   },
   "outputs": [],
   "source": [
    "class ShapeChecker():\n",
    "  def __init__(self):\n",
    "    # Keep a cache of every axis-name seen\n",
    "    self.shapes = {}\n",
    "\n",
    "  def __call__(self, tensor, names, broadcast=False):\n",
    "    if not tf.executing_eagerly():\n",
    "      return\n",
    "\n",
    "    if isinstance(names, str):\n",
    "      names = (names,)\n",
    "\n",
    "    shape = tf.shape(tensor)\n",
    "    rank = tf.rank(tensor)\n",
    "\n",
    "    if rank != len(names):\n",
    "      raise ValueError(f'Rank mismatch:\\n'\n",
    "                       f'    found {rank}: {shape.numpy()}\\n'\n",
    "                       f'    expected {len(names)}: {names}\\n')\n",
    "\n",
    "    for i, name in enumerate(names):\n",
    "      if isinstance(name, int):\n",
    "        old_dim = name\n",
    "      else:\n",
    "        old_dim = self.shapes.get(name, None)\n",
    "      new_dim = shape[i]\n",
    "\n",
    "      if (broadcast and new_dim == 1):\n",
    "        continue\n",
    "\n",
    "      if old_dim is None:\n",
    "        # If the axis name is new, add its length to the cache.\n",
    "        self.shapes[name] = new_dim\n",
    "        continue\n",
    "\n",
    "      if new_dim != old_dim:\n",
    "        raise ValueError(f\"Shape mismatch for dimension: '{name}'\\n\"\n",
    "                         f\"    found: {new_dim}\\n\"\n",
    "                         f\"    expected: {old_dim}\\n\")"
   ]
  },
  {
   "cell_type": "code",
   "execution_count": 4,
   "id": "c12909fd-a87c-4cc6-a93e-00f30da547c4",
   "metadata": {
    "execution": {
     "iopub.execute_input": "2022-08-11T00:39:08.972024Z",
     "iopub.status.busy": "2022-08-11T00:39:08.971408Z",
     "iopub.status.idle": "2022-08-11T00:39:09.228807Z",
     "shell.execute_reply": "2022-08-11T00:39:09.227448Z",
     "shell.execute_reply.started": "2022-08-11T00:39:08.971978Z"
    },
    "tags": []
   },
   "outputs": [
    {
     "name": "stdout",
     "output_type": "stream",
     "text": [
      "Downloading data from http://storage.googleapis.com/download.tensorflow.org/data/spa-eng.zip\n",
      "2646016/2638744 [==============================] - 0s 0us/step\n",
      "2654208/2638744 [==============================] - 0s 0us/step\n"
     ]
    }
   ],
   "source": [
    "# Download the file\n",
    "import pathlib\n",
    "\n",
    "path_to_zip = tf.keras.utils.get_file(\n",
    "    'spa-eng.zip', origin='http://storage.googleapis.com/download.tensorflow.org/data/spa-eng.zip',\n",
    "    extract=True)\n",
    "\n",
    "path_to_file = pathlib.Path(path_to_zip).parent/'spa-eng/spa.txt'"
   ]
  },
  {
   "cell_type": "code",
   "execution_count": 5,
   "id": "4c78607c-a26a-42e4-9cb4-1beaf42154fb",
   "metadata": {
    "execution": {
     "iopub.execute_input": "2022-08-11T00:39:20.337178Z",
     "iopub.status.busy": "2022-08-11T00:39:20.336559Z",
     "iopub.status.idle": "2022-08-11T00:39:20.349043Z",
     "shell.execute_reply": "2022-08-11T00:39:20.347567Z",
     "shell.execute_reply.started": "2022-08-11T00:39:20.337127Z"
    },
    "tags": []
   },
   "outputs": [],
   "source": [
    "def load_data(path):\n",
    "  text = path.read_text(encoding='utf-8')\n",
    "\n",
    "  lines = text.splitlines()\n",
    "  pairs = [line.split('\\t') for line in lines]\n",
    "\n",
    "  inp = [inp for targ, inp in pairs]\n",
    "  targ = [targ for targ, inp in pairs]\n",
    "\n",
    "  return targ, inp"
   ]
  },
  {
   "cell_type": "code",
   "execution_count": 7,
   "id": "e5c89e17-ca76-4a40-a172-775231cbfe8b",
   "metadata": {
    "execution": {
     "iopub.execute_input": "2022-08-11T00:40:27.511558Z",
     "iopub.status.busy": "2022-08-11T00:40:27.510939Z",
     "iopub.status.idle": "2022-08-11T00:40:27.795632Z",
     "shell.execute_reply": "2022-08-11T00:40:27.794878Z",
     "shell.execute_reply.started": "2022-08-11T00:40:27.511508Z"
    },
    "tags": []
   },
   "outputs": [
    {
     "name": "stdout",
     "output_type": "stream",
     "text": [
      "Si quieres sonar como un hablante nativo, debes estar dispuesto a practicar diciendo la misma frase una y otra vez de la misma manera en que un músico de banjo practica el mismo fraseo una y otra vez hasta que lo puedan tocar correctamente y en el tiempo esperado.\n",
      "If you want to sound like a native speaker, you must be willing to practice saying the same sentence over and over in the same way that banjo players practice the same phrase over and over until they can play it correctly and at the desired tempo.\n"
     ]
    }
   ],
   "source": [
    "targ, inp = load_data(path_to_file)\n",
    "print(inp[-1])\n",
    "print(targ[-1])"
   ]
  },
  {
   "cell_type": "code",
   "execution_count": 8,
   "id": "34c72d7b-690f-498f-9811-ad3caaecb93b",
   "metadata": {
    "execution": {
     "iopub.execute_input": "2022-08-11T00:40:50.654415Z",
     "iopub.status.busy": "2022-08-11T00:40:50.653564Z",
     "iopub.status.idle": "2022-08-11T00:40:51.677791Z",
     "shell.execute_reply": "2022-08-11T00:40:51.676831Z",
     "shell.execute_reply.started": "2022-08-11T00:40:50.654360Z"
    },
    "tags": []
   },
   "outputs": [
    {
     "name": "stderr",
     "output_type": "stream",
     "text": [
      "2022-08-10 20:40:50.901210: I tensorflow/core/platform/cpu_feature_guard.cc:151] This TensorFlow binary is optimized with oneAPI Deep Neural Network Library (oneDNN) to use the following CPU instructions in performance-critical operations:  AVX2 AVX512F FMA\n",
      "To enable them in other operations, rebuild TensorFlow with the appropriate compiler flags.\n",
      "2022-08-10 20:40:51.335323: I tensorflow/core/common_runtime/gpu/gpu_device.cc:1525] Created device /job:localhost/replica:0/task:0/device:GPU:0 with 22309 MB memory:  -> device: 0, name: NVIDIA GeForce RTX 3090, pci bus id: 0000:68:00.0, compute capability: 8.6\n"
     ]
    }
   ],
   "source": [
    "BUFFER_SIZE = len(inp)\n",
    "BATCH_SIZE = 64\n",
    "\n",
    "dataset = tf.data.Dataset.from_tensor_slices((inp, targ)).shuffle(BUFFER_SIZE)\n",
    "dataset = dataset.batch(BATCH_SIZE)"
   ]
  },
  {
   "cell_type": "code",
   "execution_count": 9,
   "id": "0b1b3707-6825-4535-8ecb-f2f1e8fe3393",
   "metadata": {
    "execution": {
     "iopub.execute_input": "2022-08-11T00:41:00.490102Z",
     "iopub.status.busy": "2022-08-11T00:41:00.489253Z",
     "iopub.status.idle": "2022-08-11T00:41:00.620239Z",
     "shell.execute_reply": "2022-08-11T00:41:00.618867Z",
     "shell.execute_reply.started": "2022-08-11T00:41:00.490039Z"
    },
    "tags": []
   },
   "outputs": [
    {
     "name": "stdout",
     "output_type": "stream",
     "text": [
      "tf.Tensor(\n",
      "[b'Esa es mi escuela.'\n",
      " b'No creo que quieran venir m\\xc3\\xa1s estudiantes.'\n",
      " b'Su hermano es casado, pero no tiene hijos.'\n",
      " b'No suenas muy sorprendido.' b'\\xc3\\x89l fue humillado.'], shape=(5,), dtype=string)\n",
      "\n",
      "tf.Tensor(\n",
      "[b'That is my school.' b\"I don't think any more students want to come.\"\n",
      " b\"His brother is married, but he doesn't have children.\"\n",
      " b\"You don't sound very surprised.\" b'He lost face.'], shape=(5,), dtype=string)\n"
     ]
    }
   ],
   "source": [
    "for example_input_batch, example_target_batch in dataset.take(1):\n",
    "  print(example_input_batch[:5])\n",
    "  print()\n",
    "  print(example_target_batch[:5])\n",
    "  break"
   ]
  },
  {
   "cell_type": "code",
   "execution_count": 10,
   "id": "a8298e83-28f7-4a5a-9f5b-abda3ec75f42",
   "metadata": {
    "execution": {
     "iopub.execute_input": "2022-08-11T00:43:27.780985Z",
     "iopub.status.busy": "2022-08-11T00:43:27.780371Z",
     "iopub.status.idle": "2022-08-11T00:43:27.790641Z",
     "shell.execute_reply": "2022-08-11T00:43:27.789070Z",
     "shell.execute_reply.started": "2022-08-11T00:43:27.780937Z"
    },
    "tags": []
   },
   "outputs": [
    {
     "name": "stdout",
     "output_type": "stream",
     "text": [
      "b'\\xc2\\xbfTodav\\xc3\\xada est\\xc3\\xa1 en casa?'\n",
      "b'\\xc2\\xbfTodavi\\xcc\\x81a esta\\xcc\\x81 en casa?'\n"
     ]
    }
   ],
   "source": [
    "example_text = tf.constant('¿Todavía está en casa?')\n",
    "\n",
    "print(example_text.numpy())\n",
    "print(tf_text.normalize_utf8(example_text, 'NFKD').numpy())"
   ]
  },
  {
   "cell_type": "code",
   "execution_count": 11,
   "id": "53d7eb21-c886-4f26-a7b2-c65ad0446f01",
   "metadata": {
    "execution": {
     "iopub.execute_input": "2022-08-11T00:45:55.095799Z",
     "iopub.status.busy": "2022-08-11T00:45:55.095179Z",
     "iopub.status.idle": "2022-08-11T00:45:55.104965Z",
     "shell.execute_reply": "2022-08-11T00:45:55.103618Z",
     "shell.execute_reply.started": "2022-08-11T00:45:55.095747Z"
    },
    "tags": []
   },
   "outputs": [],
   "source": [
    "def tf_lower_and_split_punct(text):\n",
    "  # Split accented characters.\n",
    "  text = tf_text.normalize_utf8(text, 'NFKD')\n",
    "  text = tf.strings.lower(text)\n",
    "  # Keep space, a to z, and select punctuation.\n",
    "  text = tf.strings.regex_replace(text, '[^ a-z.?!,¿]', '')\n",
    "  # Add spaces around punctuation.\n",
    "  text = tf.strings.regex_replace(text, '[.?!,¿]', r' \\0 ')\n",
    "  # Strip whitespace.\n",
    "  text = tf.strings.strip(text)\n",
    "\n",
    "  text = tf.strings.join(['[START]', text, '[END]'], separator=' ')\n",
    "  return text"
   ]
  },
  {
   "cell_type": "code",
   "execution_count": 12,
   "id": "7a19e865-21f1-4ecd-87f4-8a19b74954ab",
   "metadata": {
    "execution": {
     "iopub.execute_input": "2022-08-11T00:46:02.774329Z",
     "iopub.status.busy": "2022-08-11T00:46:02.773509Z",
     "iopub.status.idle": "2022-08-11T00:46:02.785647Z",
     "shell.execute_reply": "2022-08-11T00:46:02.784137Z",
     "shell.execute_reply.started": "2022-08-11T00:46:02.774274Z"
    },
    "tags": []
   },
   "outputs": [
    {
     "name": "stdout",
     "output_type": "stream",
     "text": [
      "¿Todavía está en casa?\n",
      "[START] ¿ todavia esta en casa ? [END]\n"
     ]
    }
   ],
   "source": [
    "print(example_text.numpy().decode())\n",
    "print(tf_lower_and_split_punct(example_text).numpy().decode())"
   ]
  },
  {
   "cell_type": "code",
   "execution_count": 13,
   "id": "4222fc3b-c631-4c3a-a934-50b8138d7f29",
   "metadata": {
    "execution": {
     "iopub.execute_input": "2022-08-11T00:48:49.073809Z",
     "iopub.status.busy": "2022-08-11T00:48:49.073177Z",
     "iopub.status.idle": "2022-08-11T00:48:49.098517Z",
     "shell.execute_reply": "2022-08-11T00:48:49.097113Z",
     "shell.execute_reply.started": "2022-08-11T00:48:49.073761Z"
    },
    "tags": []
   },
   "outputs": [],
   "source": [
    "max_vocab_size = 5000\n",
    "\n",
    "input_text_processor = tf.keras.layers.TextVectorization(\n",
    "    standardize=tf_lower_and_split_punct,\n",
    "    max_tokens=max_vocab_size)"
   ]
  },
  {
   "cell_type": "code",
   "execution_count": 14,
   "id": "628a3c39-8382-4cfc-877f-dd5c5519c14a",
   "metadata": {
    "execution": {
     "iopub.execute_input": "2022-08-11T00:49:32.591809Z",
     "iopub.status.busy": "2022-08-11T00:49:32.591181Z",
     "iopub.status.idle": "2022-08-11T00:49:38.664698Z",
     "shell.execute_reply": "2022-08-11T00:49:38.663540Z",
     "shell.execute_reply.started": "2022-08-11T00:49:32.591758Z"
    },
    "tags": []
   },
   "outputs": [
    {
     "data": {
      "text/plain": [
       "['', '[UNK]', '[START]', '[END]', '.', 'que', 'de', 'el', 'a', 'no']"
      ]
     },
     "execution_count": 14,
     "metadata": {},
     "output_type": "execute_result"
    }
   ],
   "source": [
    "input_text_processor.adapt(inp)\n",
    "\n",
    "# Here are the first 10 words from the vocabulary:\n",
    "input_text_processor.get_vocabulary()[:10]"
   ]
  },
  {
   "cell_type": "code",
   "execution_count": 15,
   "id": "63b45c51-2224-4813-8fb3-3dcce1fdd201",
   "metadata": {
    "execution": {
     "iopub.execute_input": "2022-08-11T00:49:59.318288Z",
     "iopub.status.busy": "2022-08-11T00:49:59.317639Z",
     "iopub.status.idle": "2022-08-11T00:50:08.243817Z",
     "shell.execute_reply": "2022-08-11T00:50:08.242574Z",
     "shell.execute_reply.started": "2022-08-11T00:49:59.318236Z"
    },
    "tags": []
   },
   "outputs": [
    {
     "data": {
      "text/plain": [
       "['', '[UNK]', '[START]', '[END]', '.', 'the', 'i', 'to', 'you', 'tom']"
      ]
     },
     "execution_count": 15,
     "metadata": {},
     "output_type": "execute_result"
    }
   ],
   "source": [
    "output_text_processor = tf.keras.layers.TextVectorization(\n",
    "    standardize=tf_lower_and_split_punct,\n",
    "    max_tokens=max_vocab_size)\n",
    "\n",
    "output_text_processor.adapt(targ)\n",
    "output_text_processor.get_vocabulary()[:10]"
   ]
  },
  {
   "cell_type": "code",
   "execution_count": 16,
   "id": "ce390e5f-91d2-47c9-896e-b3e1f3c19555",
   "metadata": {
    "execution": {
     "iopub.execute_input": "2022-08-11T00:50:37.651005Z",
     "iopub.status.busy": "2022-08-11T00:50:37.650382Z",
     "iopub.status.idle": "2022-08-11T00:50:37.761023Z",
     "shell.execute_reply": "2022-08-11T00:50:37.760274Z",
     "shell.execute_reply.started": "2022-08-11T00:50:37.650954Z"
    },
    "tags": []
   },
   "outputs": [
    {
     "data": {
      "text/plain": [
       "<tf.Tensor: shape=(3, 10), dtype=int64, numpy=\n",
       "array([[  2, 108,  15,  24, 181,   4,   3,   0,   0,   0],\n",
       "       [  2,   9,  88,   5,   1, 311,  35, 390,   4,   3],\n",
       "       [  2,  25, 238,  15, 822,  19,  95,   9,  44, 380]])>"
      ]
     },
     "execution_count": 16,
     "metadata": {},
     "output_type": "execute_result"
    }
   ],
   "source": [
    "example_tokens = input_text_processor(example_input_batch)\n",
    "example_tokens[:3, :10]"
   ]
  },
  {
   "cell_type": "code",
   "execution_count": 17,
   "id": "4df41f36-e0b4-402f-9ded-001a7d2832a1",
   "metadata": {
    "execution": {
     "iopub.execute_input": "2022-08-11T00:51:52.165139Z",
     "iopub.status.busy": "2022-08-11T00:51:52.164523Z",
     "iopub.status.idle": "2022-08-11T00:51:52.208340Z",
     "shell.execute_reply": "2022-08-11T00:51:52.207547Z",
     "shell.execute_reply.started": "2022-08-11T00:51:52.165093Z"
    },
    "tags": []
   },
   "outputs": [
    {
     "data": {
      "text/plain": [
       "'[START] esa es mi escuela . [END]             '"
      ]
     },
     "execution_count": 17,
     "metadata": {},
     "output_type": "execute_result"
    }
   ],
   "source": [
    "input_vocab = np.array(input_text_processor.get_vocabulary())\n",
    "tokens = input_vocab[example_tokens[0].numpy()]\n",
    "' '.join(tokens)"
   ]
  },
  {
   "cell_type": "code",
   "execution_count": 18,
   "id": "18f7b99a-51e8-4b5e-b5cf-9f500956ac83",
   "metadata": {
    "execution": {
     "iopub.execute_input": "2022-08-11T00:53:09.821061Z",
     "iopub.status.busy": "2022-08-11T00:53:09.820430Z",
     "iopub.status.idle": "2022-08-11T00:53:10.030766Z",
     "shell.execute_reply": "2022-08-11T00:53:10.030089Z",
     "shell.execute_reply.started": "2022-08-11T00:53:09.821012Z"
    },
    "tags": []
   },
   "outputs": [
    {
     "data": {
      "text/plain": [
       "Text(0.5, 1.0, 'Mask')"
      ]
     },
     "execution_count": 18,
     "metadata": {},
     "output_type": "execute_result"
    },
    {
     "data": {
      "image/png": "[encoded data removed]",
      "text/plain": [
       "<Figure size 432x288 with 2 Axes>"
      ]
     },
     "metadata": {
      "needs_background": "light"
     },
     "output_type": "display_data"
    }
   ],
   "source": [
    "plt.subplot(1, 2, 1)\n",
    "plt.pcolormesh(example_tokens)\n",
    "plt.title('Token IDs')\n",
    "\n",
    "plt.subplot(1, 2, 2)\n",
    "plt.pcolormesh(example_tokens != 0)\n",
    "plt.title('Mask')"
   ]
  },
  {
   "cell_type": "code",
   "execution_count": 19,
   "id": "c0ac5fe5-3ff7-4baf-b2ef-bb977d5d9a90",
   "metadata": {
    "execution": {
     "iopub.execute_input": "2022-08-11T01:11:28.035379Z",
     "iopub.status.busy": "2022-08-11T01:11:28.034756Z",
     "iopub.status.idle": "2022-08-11T01:11:28.042344Z",
     "shell.execute_reply": "2022-08-11T01:11:28.040779Z",
     "shell.execute_reply.started": "2022-08-11T01:11:28.035329Z"
    },
    "tags": []
   },
   "outputs": [],
   "source": [
    "embedding_dim = 256\n",
    "units = 1024"
   ]
  },
  {
   "cell_type": "code",
   "execution_count": 20,
   "id": "e0cff1ed-5e43-4b31-93a3-d4238cfc7a96",
   "metadata": {
    "execution": {
     "iopub.execute_input": "2022-08-11T01:12:05.010106Z",
     "iopub.status.busy": "2022-08-11T01:12:05.009445Z",
     "iopub.status.idle": "2022-08-11T01:12:05.023555Z",
     "shell.execute_reply": "2022-08-11T01:12:05.022183Z",
     "shell.execute_reply.started": "2022-08-11T01:12:05.010052Z"
    },
    "tags": []
   },
   "outputs": [],
   "source": [
    "class Encoder(tf.keras.layers.Layer):\n",
    "  def __init__(self, input_vocab_size, embedding_dim, enc_units):\n",
    "    super(Encoder, self).__init__()\n",
    "    self.enc_units = enc_units\n",
    "    self.input_vocab_size = input_vocab_size\n",
    "\n",
    "    # The embedding layer converts tokens to vectors\n",
    "    self.embedding = tf.keras.layers.Embedding(self.input_vocab_size,\n",
    "                                               embedding_dim)\n",
    "\n",
    "    # The GRU RNN layer processes those vectors sequentially.\n",
    "    self.gru = tf.keras.layers.GRU(self.enc_units,\n",
    "                                   # Return the sequence and state\n",
    "                                   return_sequences=True,\n",
    "                                   return_state=True,\n",
    "                                   recurrent_initializer='glorot_uniform')\n",
    "\n",
    "  def call(self, tokens, state=None):\n",
    "    shape_checker = ShapeChecker()\n",
    "    shape_checker(tokens, ('batch', 's'))\n",
    "\n",
    "    # 2. The embedding layer looks up the embedding for each token.\n",
    "    vectors = self.embedding(tokens)\n",
    "    shape_checker(vectors, ('batch', 's', 'embed_dim'))\n",
    "\n",
    "    # 3. The GRU processes the embedding sequence.\n",
    "    #    output shape: (batch, s, enc_units)\n",
    "    #    state shape: (batch, enc_units)\n",
    "    output, state = self.gru(vectors, initial_state=state)\n",
    "    shape_checker(output, ('batch', 's', 'enc_units'))\n",
    "    shape_checker(state, ('batch', 'enc_units'))\n",
    "\n",
    "    # 4. Returns the new sequence and its state.\n",
    "    return output, state"
   ]
  },
  {
   "cell_type": "code",
   "execution_count": 25,
   "id": "c78030e5-c4e0-4142-b0d7-7c2ea497c7c0",
   "metadata": {
    "execution": {
     "iopub.execute_input": "2022-08-11T01:22:34.560063Z",
     "iopub.status.busy": "2022-08-11T01:22:34.559500Z",
     "iopub.status.idle": "2022-08-11T01:22:34.600700Z",
     "shell.execute_reply": "2022-08-11T01:22:34.599869Z",
     "shell.execute_reply.started": "2022-08-11T01:22:34.560015Z"
    },
    "tags": []
   },
   "outputs": [
    {
     "name": "stdout",
     "output_type": "stream",
     "text": [
      "Input batch, shape (batch): (64,)\n",
      "Input batch tokens, shape (batch, s): (64, 20)\n",
      "Encoder output, shape (batch, s, units): (64, 20, 1024)\n",
      "Encoder state, shape (batch, units): (64, 1024)\n"
     ]
    },
    {
     "data": {
      "text/plain": [
       "True"
      ]
     },
     "execution_count": 25,
     "metadata": {},
     "output_type": "execute_result"
    }
   ],
   "source": [
    "# Convert the input text to tokens.\n",
    "example_tokens = input_text_processor(example_input_batch)\n",
    "\n",
    "# Encode the input sequence.\n",
    "encoder = Encoder(input_text_processor.vocabulary_size(),\n",
    "                  embedding_dim, units)\n",
    "example_enc_output, example_enc_state = encoder(example_tokens)\n",
    "\n",
    "print(f'Input batch, shape (batch): {example_input_batch.shape}')\n",
    "print(f'Input batch tokens, shape (batch, s): {example_tokens.shape}')\n",
    "print(f'Encoder output, shape (batch, s, units): {example_enc_output.shape}')\n",
    "print(f'Encoder state, shape (batch, units): {example_enc_state.shape}')\n",
    "\n",
    "all(example_enc_output[0][-1].numpy() ==  example_enc_state[0].numpy())"
   ]
  },
  {
   "cell_type": "code",
   "execution_count": 26,
   "id": "d3ae6082-3e38-4af1-a2b7-0f95e8c9cbb4",
   "metadata": {
    "execution": {
     "iopub.execute_input": "2022-08-11T01:46:04.111232Z",
     "iopub.status.busy": "2022-08-11T01:46:04.110606Z",
     "iopub.status.idle": "2022-08-11T01:46:04.125951Z",
     "shell.execute_reply": "2022-08-11T01:46:04.124712Z",
     "shell.execute_reply.started": "2022-08-11T01:46:04.111179Z"
    },
    "tags": []
   },
   "outputs": [],
   "source": [
    "class BahdanauAttention(tf.keras.layers.Layer):\n",
    "  def __init__(self, units):\n",
    "    super().__init__()\n",
    "    # For Eqn. (4), the  Bahdanau attention\n",
    "    self.W1 = tf.keras.layers.Dense(units, use_bias=False)\n",
    "    self.W2 = tf.keras.layers.Dense(units, use_bias=False)\n",
    "\n",
    "    self.attention = tf.keras.layers.AdditiveAttention()\n",
    "\n",
    "  def call(self, query, value, mask):\n",
    "    shape_checker = ShapeChecker()\n",
    "    shape_checker(query, ('batch', 't', 'query_units'))\n",
    "    shape_checker(value, ('batch', 's', 'value_units'))\n",
    "    shape_checker(mask, ('batch', 's'))\n",
    "\n",
    "    # From Eqn. (4), `W1@ht`.\n",
    "    w1_query = self.W1(query)\n",
    "    shape_checker(w1_query, ('batch', 't', 'attn_units'))\n",
    "\n",
    "    # From Eqn. (4), `W2@hs`.\n",
    "    w2_key = self.W2(value)\n",
    "    shape_checker(w2_key, ('batch', 's', 'attn_units'))\n",
    "\n",
    "    query_mask = tf.ones(tf.shape(query)[:-1], dtype=bool)\n",
    "    value_mask = mask\n",
    "\n",
    "    context_vector, attention_weights = self.attention(\n",
    "        inputs = [w1_query, value, w2_key],\n",
    "        mask=[query_mask, value_mask],\n",
    "        return_attention_scores = True,\n",
    "    )\n",
    "    shape_checker(context_vector, ('batch', 't', 'value_units'))\n",
    "    shape_checker(attention_weights, ('batch', 't', 's'))\n",
    "\n",
    "    return context_vector, attention_weights"
   ]
  },
  {
   "cell_type": "code",
   "execution_count": 27,
   "id": "d88be218-cf4a-4071-a4f2-239eee9f4f25",
   "metadata": {
    "execution": {
     "iopub.execute_input": "2022-08-11T01:49:58.506973Z",
     "iopub.status.busy": "2022-08-11T01:49:58.506350Z",
     "iopub.status.idle": "2022-08-11T01:49:58.522480Z",
     "shell.execute_reply": "2022-08-11T01:49:58.520901Z",
     "shell.execute_reply.started": "2022-08-11T01:49:58.506923Z"
    },
    "tags": []
   },
   "outputs": [],
   "source": [
    "attention_layer = BahdanauAttention(units)"
   ]
  },
  {
   "cell_type": "code",
   "execution_count": 28,
   "id": "88c08324-2a07-43a0-9f52-145d3d934ddb",
   "metadata": {
    "execution": {
     "iopub.execute_input": "2022-08-11T01:50:18.697355Z",
     "iopub.status.busy": "2022-08-11T01:50:18.696745Z",
     "iopub.status.idle": "2022-08-11T01:50:18.729984Z",
     "shell.execute_reply": "2022-08-11T01:50:18.729153Z",
     "shell.execute_reply.started": "2022-08-11T01:50:18.697308Z"
    },
    "tags": []
   },
   "outputs": [
    {
     "data": {
      "text/plain": [
       "TensorShape([64, 20])"
      ]
     },
     "execution_count": 28,
     "metadata": {},
     "output_type": "execute_result"
    }
   ],
   "source": [
    "(example_tokens != 0).shape"
   ]
  },
  {
   "cell_type": "code",
   "execution_count": 32,
   "id": "b822e102-c643-4a6d-8d5d-5a06d740a808",
   "metadata": {
    "execution": {
     "iopub.execute_input": "2022-08-11T02:04:36.391052Z",
     "iopub.status.busy": "2022-08-11T02:04:36.390435Z",
     "iopub.status.idle": "2022-08-11T02:04:36.429189Z",
     "shell.execute_reply": "2022-08-11T02:04:36.428096Z",
     "shell.execute_reply.started": "2022-08-11T02:04:36.391000Z"
    },
    "tags": []
   },
   "outputs": [
    {
     "name": "stdout",
     "output_type": "stream",
     "text": [
      "Attention result shape: (batch_size, query_seq_length, units):           (64, 2, 1024)\n",
      "Attention weights shape: (batch_size, query_seq_length, value_seq_length): (64, 2, 20)\n",
      "tf.Tensor(\n",
      "[[ 0.85869634  0.22351526  0.06901558  1.0813454  -0.36261263  1.6343416\n",
      "   0.08222594  0.10567301  1.0867304   0.18696204]\n",
      " [-0.53488874 -0.710538   -0.2808436   0.5856045  -0.58954006  0.80816007\n",
      "   1.4651988  -0.70073193 -1.2324141   0.52051073]], shape=(2, 10), dtype=float32)\n",
      "tf.Tensor(\n",
      "[[0.143441   0.14211097 0.14181207 0.14283521 0.14262615 0.1441406\n",
      "  0.14303394 0.         0.         0.         0.         0.\n",
      "  0.         0.         0.         0.         0.         0.\n",
      "  0.         0.        ]\n",
      " [0.14347605 0.14214963 0.14182054 0.14282234 0.14261402 0.1440979\n",
      "  0.1430195  0.         0.         0.         0.         0.\n",
      "  0.         0.         0.         0.         0.         0.\n",
      "  0.         0.        ]], shape=(2, 20), dtype=float32)\n"
     ]
    }
   ],
   "source": [
    "# Later, the decoder will generate this attention query\n",
    "example_attention_query = tf.random.normal(shape=[len(example_tokens), 2, 10])\n",
    "\n",
    "# Attend to the encoded tokens\n",
    "context_vector, attention_weights = attention_layer(\n",
    "    query=example_attention_query,\n",
    "    value=example_enc_output,\n",
    "    mask=(example_tokens != 0))\n",
    "\n",
    "print(f'Attention result shape: (batch_size, query_seq_length, units):           {context_vector.shape}')\n",
    "print(f'Attention weights shape: (batch_size, query_seq_length, value_seq_length): {attention_weights.shape}')\n",
    "print(example_attention_query[0])\n",
    "print(attention_weights[0])"
   ]
  },
  {
   "cell_type": "code",
   "execution_count": 33,
   "id": "6e5d0344-669a-43a8-b5ed-50ac201a4477",
   "metadata": {
    "execution": {
     "iopub.execute_input": "2022-08-11T02:06:18.893505Z",
     "iopub.status.busy": "2022-08-11T02:06:18.892889Z",
     "iopub.status.idle": "2022-08-11T02:06:19.057582Z",
     "shell.execute_reply": "2022-08-11T02:06:19.056888Z",
     "shell.execute_reply.started": "2022-08-11T02:06:18.893458Z"
    },
    "tags": []
   },
   "outputs": [
    {
     "data": {
      "text/plain": [
       "Text(0.5, 1.0, 'Mask')"
      ]
     },
     "execution_count": 33,
     "metadata": {},
     "output_type": "execute_result"
    },
    {
     "data": {
      "image/png": "[encoded data removed]",
      "text/plain": [
       "<Figure size 432x288 with 2 Axes>"
      ]
     },
     "metadata": {
      "needs_background": "light"
     },
     "output_type": "display_data"
    }
   ],
   "source": [
    "plt.subplot(1, 2, 1)\n",
    "plt.pcolormesh(attention_weights[:, 0, :])\n",
    "plt.title('Attention weights')\n",
    "\n",
    "plt.subplot(1, 2, 2)\n",
    "plt.pcolormesh(example_tokens != 0)\n",
    "plt.title('Mask')"
   ]
  },
  {
   "cell_type": "code",
   "execution_count": 35,
   "id": "b42e8595-6a65-42db-844c-dc45cdc791d5",
   "metadata": {
    "execution": {
     "iopub.execute_input": "2022-08-11T02:07:55.559344Z",
     "iopub.status.busy": "2022-08-11T02:07:55.558771Z",
     "iopub.status.idle": "2022-08-11T02:07:55.595429Z",
     "shell.execute_reply": "2022-08-11T02:07:55.594588Z",
     "shell.execute_reply.started": "2022-08-11T02:07:55.559295Z"
    },
    "tags": []
   },
   "outputs": [
    {
     "data": {
      "text/plain": [
       "<tf.Tensor: shape=(64, 20), dtype=bool, numpy=\n",
       "array([[ True,  True,  True, ..., False, False, False],\n",
       "       [ True,  True,  True, ..., False, False, False],\n",
       "       [ True,  True,  True, ..., False, False, False],\n",
       "       ...,\n",
       "       [ True,  True,  True, ..., False, False, False],\n",
       "       [ True,  True,  True, ..., False, False, False],\n",
       "       [ True,  True,  True, ..., False, False, False]])>"
      ]
     },
     "execution_count": 35,
     "metadata": {},
     "output_type": "execute_result"
    }
   ],
   "source": [
    "example_tokens != 0"
   ]
  },
  {
   "cell_type": "code",
   "execution_count": 36,
   "id": "b4239ea7-5ea8-4824-95c0-d1b30654eddc",
   "metadata": {
    "execution": {
     "iopub.execute_input": "2022-08-11T02:12:40.646905Z",
     "iopub.status.busy": "2022-08-11T02:12:40.646229Z",
     "iopub.status.idle": "2022-08-11T02:12:40.656165Z",
     "shell.execute_reply": "2022-08-11T02:12:40.654712Z",
     "shell.execute_reply.started": "2022-08-11T02:12:40.646846Z"
    },
    "tags": []
   },
   "outputs": [
    {
     "data": {
      "text/plain": [
       "TensorShape([64, 2, 20])"
      ]
     },
     "execution_count": 36,
     "metadata": {},
     "output_type": "execute_result"
    }
   ],
   "source": [
    "attention_weights.shape"
   ]
  },
  {
   "cell_type": "code",
   "execution_count": 37,
   "id": "4cfd5afe-ec92-44cc-b400-461750bf45ab",
   "metadata": {
    "execution": {
     "iopub.execute_input": "2022-08-11T02:12:53.855730Z",
     "iopub.status.busy": "2022-08-11T02:12:53.855092Z",
     "iopub.status.idle": "2022-08-11T02:12:53.884106Z",
     "shell.execute_reply": "2022-08-11T02:12:53.882689Z",
     "shell.execute_reply.started": "2022-08-11T02:12:53.855677Z"
    },
    "tags": []
   },
   "outputs": [],
   "source": [
    "attention_slice = attention_weights[0, 0].numpy()\n",
    "attention_slice = attention_slice[attention_slice != 0]"
   ]
  },
  {
   "cell_type": "code",
   "execution_count": 38,
   "id": "e11a2743-f959-4ac1-8e67-710b2bbcdfd0",
   "metadata": {
    "execution": {
     "iopub.execute_input": "2022-08-11T02:13:10.717824Z",
     "iopub.status.busy": "2022-08-11T02:13:10.717186Z",
     "iopub.status.idle": "2022-08-11T02:13:10.896720Z",
     "shell.execute_reply": "2022-08-11T02:13:10.896032Z",
     "shell.execute_reply.started": "2022-08-11T02:13:10.717773Z"
    },
    "tags": []
   },
   "outputs": [
    {
     "data": {
      "text/plain": [
       "[<matplotlib.lines.Line2D at 0x7f866a645780>]"
      ]
     },
     "execution_count": 38,
     "metadata": {},
     "output_type": "execute_result"
    },
    {
     "data": {
      "text/plain": [
       "<Figure size 432x288 with 0 Axes>"
      ]
     },
     "metadata": {},
     "output_type": "display_data"
    },
    {
     "data": {
      "image/png": "[encoded data removed]",
      "text/plain": [
       "<Figure size 864x432 with 2 Axes>"
      ]
     },
     "metadata": {
      "needs_background": "light"
     },
     "output_type": "display_data"
    }
   ],
   "source": [
    "plt.suptitle('Attention weights for one sequence')\n",
    "\n",
    "plt.figure(figsize=(12, 6))\n",
    "a1 = plt.subplot(1, 2, 1)\n",
    "plt.bar(range(len(attention_slice)), attention_slice)\n",
    "# freeze the xlim\n",
    "plt.xlim(plt.xlim())\n",
    "plt.xlabel('Attention weights')\n",
    "\n",
    "a2 = plt.subplot(1, 2, 2)\n",
    "plt.bar(range(len(attention_slice)), attention_slice)\n",
    "plt.xlabel('Attention weights, zoomed')\n",
    "\n",
    "# zoom in\n",
    "top = max(a1.get_ylim())\n",
    "zoom = 0.85*top\n",
    "a2.set_ylim([0.90*top, top])\n",
    "a1.plot(a1.get_xlim(), [zoom, zoom], color='k')"
   ]
  },
  {
   "cell_type": "code",
   "execution_count": 41,
   "id": "ec53fb95-54ec-4533-90b2-931de1d71f13",
   "metadata": {
    "execution": {
     "iopub.execute_input": "2022-08-11T02:18:36.820654Z",
     "iopub.status.busy": "2022-08-11T02:18:36.820032Z",
     "iopub.status.idle": "2022-08-11T02:18:36.842560Z",
     "shell.execute_reply": "2022-08-11T02:18:36.841392Z",
     "shell.execute_reply.started": "2022-08-11T02:18:36.820601Z"
    },
    "tags": []
   },
   "outputs": [],
   "source": [
    "class DecoderInput(typing.NamedTuple):\n",
    "  new_tokens: Any\n",
    "  enc_output: Any\n",
    "  mask: Any\n",
    "\n",
    "class DecoderOutput(typing.NamedTuple):\n",
    "  logits: Any\n",
    "  attention_weights: Any\n",
    "\n",
    "class Decoder(tf.keras.layers.Layer):\n",
    "  def __init__(self, output_vocab_size, embedding_dim, dec_units):\n",
    "    super(Decoder, self).__init__()\n",
    "    self.dec_units = dec_units\n",
    "    self.output_vocab_size = output_vocab_size\n",
    "    self.embedding_dim = embedding_dim\n",
    "\n",
    "    # For Step 1. The embedding layer converts token IDs to vectors\n",
    "    self.embedding = tf.keras.layers.Embedding(self.output_vocab_size,\n",
    "                                               embedding_dim)\n",
    "\n",
    "    # For Step 2. The RNN keeps track of what's been generated so far.\n",
    "    self.gru = tf.keras.layers.GRU(self.dec_units,\n",
    "                                   return_sequences=True,\n",
    "                                   return_state=True,\n",
    "                                   recurrent_initializer='glorot_uniform')\n",
    "\n",
    "    # For step 3. The RNN output will be the query for the attention layer.\n",
    "    self.attention = BahdanauAttention(self.dec_units)\n",
    "\n",
    "    # For step 4. Eqn. (3): converting `ct` to `at`\n",
    "    self.Wc = tf.keras.layers.Dense(dec_units, activation=tf.math.tanh,\n",
    "                                    use_bias=False)\n",
    "\n",
    "    # For step 5. This fully connected layer produces the logits for each\n",
    "    # output token.\n",
    "    self.fc = tf.keras.layers.Dense(self.output_vocab_size)\n",
    "\n",
    "  def call(self,\n",
    "            inputs: DecoderInput,\n",
    "            state=None) -> Tuple[DecoderOutput, tf.Tensor]:\n",
    "    shape_checker = ShapeChecker()\n",
    "    shape_checker(inputs.new_tokens, ('batch', 't'))\n",
    "    shape_checker(inputs.enc_output, ('batch', 's', 'enc_units'))\n",
    "    shape_checker(inputs.mask, ('batch', 's'))\n",
    "  \n",
    "    if state is not None:\n",
    "      shape_checker(state, ('batch', 'dec_units'))\n",
    "  \n",
    "    # Step 1. Lookup the embeddings\n",
    "    vectors = self.embedding(inputs.new_tokens)\n",
    "    shape_checker(vectors, ('batch', 't', 'embedding_dim'))\n",
    "  \n",
    "    # Step 2. Process one step with the RNN\n",
    "    rnn_output, state = self.gru(vectors, initial_state=state)\n",
    "  \n",
    "    shape_checker(rnn_output, ('batch', 't', 'dec_units'))\n",
    "    shape_checker(state, ('batch', 'dec_units'))\n",
    "  \n",
    "    # Step 3. Use the RNN output as the query for the attention over the\n",
    "    # encoder output.\n",
    "    context_vector, attention_weights = self.attention(\n",
    "        query=rnn_output, value=inputs.enc_output, mask=inputs.mask)\n",
    "    shape_checker(context_vector, ('batch', 't', 'dec_units'))\n",
    "    shape_checker(attention_weights, ('batch', 't', 's'))\n",
    "  \n",
    "    # Step 4. Eqn. (3): Join the context_vector and rnn_output\n",
    "    #     [ct; ht] shape: (batch t, value_units + query_units)\n",
    "    context_and_rnn_output = tf.concat([context_vector, rnn_output], axis=-1)\n",
    "  \n",
    "    # Step 4. Eqn. (3): `at = tanh(Wc@[ct; ht])`\n",
    "    attention_vector = self.Wc(context_and_rnn_output)\n",
    "    shape_checker(attention_vector, ('batch', 't', 'dec_units'))\n",
    "  \n",
    "    # Step 5. Generate logit predictions:\n",
    "    logits = self.fc(attention_vector)\n",
    "    shape_checker(logits, ('batch', 't', 'output_vocab_size'))\n",
    "  \n",
    "    return DecoderOutput(logits, attention_weights), state"
   ]
  },
  {
   "cell_type": "code",
   "execution_count": 42,
   "id": "5959dce9-2aca-412c-bc75-9764304ff0dd",
   "metadata": {
    "execution": {
     "iopub.execute_input": "2022-08-11T02:28:54.848203Z",
     "iopub.status.busy": "2022-08-11T02:28:54.847572Z",
     "iopub.status.idle": "2022-08-11T02:28:54.870874Z",
     "shell.execute_reply": "2022-08-11T02:28:54.869391Z",
     "shell.execute_reply.started": "2022-08-11T02:28:54.848153Z"
    },
    "tags": []
   },
   "outputs": [],
   "source": [
    "decoder = Decoder(output_text_processor.vocabulary_size(),\n",
    "                  embedding_dim, units)"
   ]
  },
  {
   "cell_type": "code",
   "execution_count": 43,
   "id": "60d294e5-81ff-41f3-9a51-84a113d762c0",
   "metadata": {
    "execution": {
     "iopub.execute_input": "2022-08-11T02:29:45.882447Z",
     "iopub.status.busy": "2022-08-11T02:29:45.881570Z",
     "iopub.status.idle": "2022-08-11T02:29:45.933234Z",
     "shell.execute_reply": "2022-08-11T02:29:45.931922Z",
     "shell.execute_reply.started": "2022-08-11T02:29:45.882388Z"
    },
    "tags": []
   },
   "outputs": [],
   "source": [
    "# Convert the target sequence, and collect the \"[START]\" tokens\n",
    "example_output_tokens = output_text_processor(example_target_batch)\n",
    "\n",
    "start_index = output_text_processor.get_vocabulary().index('[START]')\n",
    "first_token = tf.constant([[start_index]] * example_output_tokens.shape[0])"
   ]
  },
  {
   "cell_type": "code",
   "execution_count": 44,
   "id": "6cbcde0a-04d0-4e3a-b4fd-8771e4e4e250",
   "metadata": {
    "execution": {
     "iopub.execute_input": "2022-08-11T02:30:49.686750Z",
     "iopub.status.busy": "2022-08-11T02:30:49.686128Z",
     "iopub.status.idle": "2022-08-11T02:30:49.791860Z",
     "shell.execute_reply": "2022-08-11T02:30:49.791010Z",
     "shell.execute_reply.started": "2022-08-11T02:30:49.686700Z"
    },
    "tags": []
   },
   "outputs": [
    {
     "name": "stdout",
     "output_type": "stream",
     "text": [
      "logits shape: (batch_size, t, output_vocab_size) (64, 1, 5000)\n",
      "state shape: (batch_size, dec_units) (64, 1024)\n"
     ]
    }
   ],
   "source": [
    "# Run the decoder\n",
    "dec_result, dec_state = decoder(\n",
    "    inputs = DecoderInput(new_tokens=first_token,\n",
    "                          enc_output=example_enc_output,\n",
    "                          mask=(example_tokens != 0)),\n",
    "    state = example_enc_state\n",
    ")\n",
    "\n",
    "print(f'logits shape: (batch_size, t, output_vocab_size) {dec_result.logits.shape}')\n",
    "print(f'state shape: (batch_size, dec_units) {dec_state.shape}')"
   ]
  },
  {
   "cell_type": "code",
   "execution_count": 45,
   "id": "750bf270-9aa6-40c7-a52f-c306c0dad763",
   "metadata": {
    "execution": {
     "iopub.execute_input": "2022-08-11T02:31:27.157186Z",
     "iopub.status.busy": "2022-08-11T02:31:27.156552Z",
     "iopub.status.idle": "2022-08-11T02:31:27.193256Z",
     "shell.execute_reply": "2022-08-11T02:31:27.191862Z",
     "shell.execute_reply.started": "2022-08-11T02:31:27.157138Z"
    },
    "tags": []
   },
   "outputs": [],
   "source": [
    "sampled_token = tf.random.categorical(dec_result.logits[:, 0, :], num_samples=1)"
   ]
  },
  {
   "cell_type": "code",
   "execution_count": 46,
   "id": "8637c192-7fc4-44cc-bee9-004455061c79",
   "metadata": {
    "execution": {
     "iopub.execute_input": "2022-08-11T02:32:08.015801Z",
     "iopub.status.busy": "2022-08-11T02:32:08.015181Z",
     "iopub.status.idle": "2022-08-11T02:32:08.054232Z",
     "shell.execute_reply": "2022-08-11T02:32:08.053278Z",
     "shell.execute_reply.started": "2022-08-11T02:32:08.015751Z"
    },
    "tags": []
   },
   "outputs": [
    {
     "data": {
      "text/plain": [
       "array([['attentive'],\n",
       "       ['hadnt'],\n",
       "       ['compete'],\n",
       "       ['faint'],\n",
       "       ['canal']], dtype='<U16')"
      ]
     },
     "execution_count": 46,
     "metadata": {},
     "output_type": "execute_result"
    }
   ],
   "source": [
    "vocab = np.array(output_text_processor.get_vocabulary())\n",
    "first_word = vocab[sampled_token.numpy()]\n",
    "first_word[:5]"
   ]
  },
  {
   "cell_type": "code",
   "execution_count": 47,
   "id": "5c48d3ef-0fce-4b13-8c66-6ea419f46a20",
   "metadata": {
    "execution": {
     "iopub.execute_input": "2022-08-11T02:33:22.187876Z",
     "iopub.status.busy": "2022-08-11T02:33:22.187248Z",
     "iopub.status.idle": "2022-08-11T02:33:22.237710Z",
     "shell.execute_reply": "2022-08-11T02:33:22.236505Z",
     "shell.execute_reply.started": "2022-08-11T02:33:22.187823Z"
    },
    "tags": []
   },
   "outputs": [],
   "source": [
    "dec_result, dec_state = decoder(\n",
    "    DecoderInput(sampled_token,\n",
    "                 example_enc_output,\n",
    "                 mask=(example_tokens != 0)),\n",
    "    state=dec_state)"
   ]
  },
  {
   "cell_type": "code",
   "execution_count": 48,
   "id": "1927595c-46d6-45a8-a46a-8ff86bcd0d74",
   "metadata": {
    "execution": {
     "iopub.execute_input": "2022-08-11T02:33:37.005490Z",
     "iopub.status.busy": "2022-08-11T02:33:37.004881Z",
     "iopub.status.idle": "2022-08-11T02:33:37.017579Z",
     "shell.execute_reply": "2022-08-11T02:33:37.016370Z",
     "shell.execute_reply.started": "2022-08-11T02:33:37.005441Z"
    },
    "tags": []
   },
   "outputs": [
    {
     "data": {
      "text/plain": [
       "array([['stretch'],\n",
       "       ['sweets'],\n",
       "       ['whens'],\n",
       "       ['ringing'],\n",
       "       ['conditioner']], dtype='<U16')"
      ]
     },
     "execution_count": 48,
     "metadata": {},
     "output_type": "execute_result"
    }
   ],
   "source": [
    "sampled_token = tf.random.categorical(dec_result.logits[:, 0, :], num_samples=1)\n",
    "first_word = vocab[sampled_token.numpy()]\n",
    "first_word[:5]"
   ]
  },
  {
   "cell_type": "code",
   "execution_count": 49,
   "id": "a226a314-3a06-46aa-b2a6-ed96ea81207f",
   "metadata": {
    "execution": {
     "iopub.execute_input": "2022-08-11T02:35:08.907501Z",
     "iopub.status.busy": "2022-08-11T02:35:08.906852Z",
     "iopub.status.idle": "2022-08-11T02:35:08.918967Z",
     "shell.execute_reply": "2022-08-11T02:35:08.917576Z",
     "shell.execute_reply.started": "2022-08-11T02:35:08.907445Z"
    },
    "tags": []
   },
   "outputs": [],
   "source": [
    "class MaskedLoss(tf.keras.losses.Loss):\n",
    "  def __init__(self):\n",
    "    self.name = 'masked_loss'\n",
    "    self.loss = tf.keras.losses.SparseCategoricalCrossentropy(\n",
    "        from_logits=True, reduction='none')\n",
    "\n",
    "  def __call__(self, y_true, y_pred):\n",
    "    shape_checker = ShapeChecker()\n",
    "    shape_checker(y_true, ('batch', 't'))\n",
    "    shape_checker(y_pred, ('batch', 't', 'logits'))\n",
    "\n",
    "    # Calculate the loss for each item in the batch.\n",
    "    loss = self.loss(y_true, y_pred)\n",
    "    shape_checker(loss, ('batch', 't'))\n",
    "\n",
    "    # Mask off the losses on padding.\n",
    "    mask = tf.cast(y_true != 0, tf.float32)\n",
    "    shape_checker(mask, ('batch', 't'))\n",
    "    loss *= mask\n",
    "\n",
    "    # Return the total.\n",
    "    return tf.reduce_sum(loss)"
   ]
  },
  {
   "cell_type": "code",
   "execution_count": 50,
   "id": "07812823-7f5d-45bb-89b0-43be3d07427a",
   "metadata": {
    "execution": {
     "iopub.execute_input": "2022-08-12T00:20:47.834129Z",
     "iopub.status.busy": "2022-08-12T00:20:47.833462Z",
     "iopub.status.idle": "2022-08-12T00:20:47.845830Z",
     "shell.execute_reply": "2022-08-12T00:20:47.844284Z",
     "shell.execute_reply.started": "2022-08-12T00:20:47.834076Z"
    },
    "tags": []
   },
   "outputs": [],
   "source": [
    "class TrainTranslator(tf.keras.Model):\n",
    "  def __init__(self, embedding_dim, units,\n",
    "               input_text_processor,\n",
    "               output_text_processor,\n",
    "               use_tf_function=True):\n",
    "    super().__init__()\n",
    "    # Build the encoder and decoder\n",
    "    encoder = Encoder(input_text_processor.vocabulary_size(),\n",
    "                      embedding_dim, units)\n",
    "    decoder = Decoder(output_text_processor.vocabulary_size(),\n",
    "                      embedding_dim, units)\n",
    "\n",
    "    self.encoder = encoder\n",
    "    self.decoder = decoder\n",
    "    self.input_text_processor = input_text_processor\n",
    "    self.output_text_processor = output_text_processor\n",
    "    self.use_tf_function = use_tf_function\n",
    "    self.shape_checker = ShapeChecker()\n",
    "\n",
    "  def train_step(self, inputs):\n",
    "    self.shape_checker = ShapeChecker()\n",
    "    if self.use_tf_function:\n",
    "      return self._tf_train_step(inputs)\n",
    "    else:\n",
    "      return self._train_step(inputs)"
   ]
  },
  {
   "cell_type": "code",
   "execution_count": 51,
   "id": "adc5ae6c-520c-419f-9d5a-2088716a17a1",
   "metadata": {
    "execution": {
     "iopub.execute_input": "2022-08-12T00:20:56.743922Z",
     "iopub.status.busy": "2022-08-12T00:20:56.743352Z",
     "iopub.status.idle": "2022-08-12T00:20:56.754571Z",
     "shell.execute_reply": "2022-08-12T00:20:56.752990Z",
     "shell.execute_reply.started": "2022-08-12T00:20:56.743872Z"
    },
    "tags": []
   },
   "outputs": [],
   "source": [
    "def _preprocess(self, input_text, target_text):\n",
    "  self.shape_checker(input_text, ('batch',))\n",
    "  self.shape_checker(target_text, ('batch',))\n",
    "\n",
    "  # Convert the text to token IDs\n",
    "  input_tokens = self.input_text_processor(input_text)\n",
    "  target_tokens = self.output_text_processor(target_text)\n",
    "  self.shape_checker(input_tokens, ('batch', 's'))\n",
    "  self.shape_checker(target_tokens, ('batch', 't'))\n",
    "\n",
    "  # Convert IDs to masks.\n",
    "  input_mask = input_tokens != 0\n",
    "  self.shape_checker(input_mask, ('batch', 's'))\n",
    "\n",
    "  target_mask = target_tokens != 0\n",
    "  self.shape_checker(target_mask, ('batch', 't'))\n",
    "\n",
    "  return input_tokens, input_mask, target_tokens, target_mask"
   ]
  },
  {
   "cell_type": "code",
   "execution_count": 52,
   "id": "74f1146b-b72d-4b4c-809a-ef3d42582ad2",
   "metadata": {
    "execution": {
     "iopub.execute_input": "2022-08-12T00:21:06.572977Z",
     "iopub.status.busy": "2022-08-12T00:21:06.572364Z",
     "iopub.status.idle": "2022-08-12T00:21:06.579795Z",
     "shell.execute_reply": "2022-08-12T00:21:06.578251Z",
     "shell.execute_reply.started": "2022-08-12T00:21:06.572926Z"
    },
    "tags": []
   },
   "outputs": [],
   "source": [
    "TrainTranslator._preprocess = _preprocess"
   ]
  },
  {
   "cell_type": "code",
   "execution_count": 53,
   "id": "5e1d3c8a-5e47-4fcf-93dc-6eac6db455d4",
   "metadata": {
    "execution": {
     "iopub.execute_input": "2022-08-12T00:21:16.096421Z",
     "iopub.status.busy": "2022-08-12T00:21:16.095811Z",
     "iopub.status.idle": "2022-08-12T00:21:16.110625Z",
     "shell.execute_reply": "2022-08-12T00:21:16.108963Z",
     "shell.execute_reply.started": "2022-08-12T00:21:16.096369Z"
    },
    "tags": []
   },
   "outputs": [],
   "source": [
    "def _train_step(self, inputs):\n",
    "  input_text, target_text = inputs\n",
    "\n",
    "  (input_tokens, input_mask,\n",
    "   target_tokens, target_mask) = self._preprocess(input_text, target_text)\n",
    "\n",
    "  max_target_length = tf.shape(target_tokens)[1]\n",
    "\n",
    "  with tf.GradientTape() as tape:\n",
    "    # Encode the input\n",
    "    enc_output, enc_state = self.encoder(input_tokens)\n",
    "    self.shape_checker(enc_output, ('batch', 's', 'enc_units'))\n",
    "    self.shape_checker(enc_state, ('batch', 'enc_units'))\n",
    "\n",
    "    # Initialize the decoder's state to the encoder's final state.\n",
    "    # This only works if the encoder and decoder have the same number of\n",
    "    # units.\n",
    "    dec_state = enc_state\n",
    "    loss = tf.constant(0.0)\n",
    "\n",
    "    for t in tf.range(max_target_length-1):\n",
    "      # Pass in two tokens from the target sequence:\n",
    "      # 1. The current input to the decoder.\n",
    "      # 2. The target for the decoder's next prediction.\n",
    "      new_tokens = target_tokens[:, t:t+2]\n",
    "      step_loss, dec_state = self._loop_step(new_tokens, input_mask,\n",
    "                                             enc_output, dec_state)\n",
    "      loss = loss + step_loss\n",
    "\n",
    "    # Average the loss over all non padding tokens.\n",
    "    average_loss = loss / tf.reduce_sum(tf.cast(target_mask, tf.float32))\n",
    "\n",
    "  # Apply an optimization step\n",
    "  variables = self.trainable_variables\n",
    "  gradients = tape.gradient(average_loss, variables)\n",
    "  self.optimizer.apply_gradients(zip(gradients, variables))\n",
    "\n",
    "  # Return a dict mapping metric names to current value\n",
    "  return {'batch_loss': average_loss}"
   ]
  },
  {
   "cell_type": "code",
   "execution_count": 54,
   "id": "41ea2ab5-b25f-4c16-8876-5d69261c3faa",
   "metadata": {
    "execution": {
     "iopub.execute_input": "2022-08-12T00:26:11.319009Z",
     "iopub.status.busy": "2022-08-12T00:26:11.318387Z",
     "iopub.status.idle": "2022-08-12T00:26:11.326054Z",
     "shell.execute_reply": "2022-08-12T00:26:11.324471Z",
     "shell.execute_reply.started": "2022-08-12T00:26:11.318957Z"
    },
    "tags": []
   },
   "outputs": [],
   "source": [
    "TrainTranslator._train_step = _train_step"
   ]
  },
  {
   "cell_type": "code",
   "execution_count": 55,
   "id": "50af8c60-08a0-4833-a01e-7f1f9aa0a599",
   "metadata": {
    "execution": {
     "iopub.execute_input": "2022-08-12T00:26:18.075896Z",
     "iopub.status.busy": "2022-08-12T00:26:18.075308Z",
     "iopub.status.idle": "2022-08-12T00:26:18.087088Z",
     "shell.execute_reply": "2022-08-12T00:26:18.085775Z",
     "shell.execute_reply.started": "2022-08-12T00:26:18.075844Z"
    },
    "tags": []
   },
   "outputs": [],
   "source": [
    "def _loop_step(self, new_tokens, input_mask, enc_output, dec_state):\n",
    "  input_token, target_token = new_tokens[:, 0:1], new_tokens[:, 1:2]\n",
    "\n",
    "  # Run the decoder one step.\n",
    "  decoder_input = DecoderInput(new_tokens=input_token,\n",
    "                               enc_output=enc_output,\n",
    "                               mask=input_mask)\n",
    "\n",
    "  dec_result, dec_state = self.decoder(decoder_input, state=dec_state)\n",
    "  self.shape_checker(dec_result.logits, ('batch', 't1', 'logits'))\n",
    "  self.shape_checker(dec_result.attention_weights, ('batch', 't1', 's'))\n",
    "  self.shape_checker(dec_state, ('batch', 'dec_units'))\n",
    "\n",
    "  # `self.loss` returns the total for non-padded tokens\n",
    "  y = target_token\n",
    "  y_pred = dec_result.logits\n",
    "  step_loss = self.loss(y, y_pred)\n",
    "\n",
    "  return step_loss, dec_state"
   ]
  },
  {
   "cell_type": "code",
   "execution_count": 56,
   "id": "d5536e85-309b-4ff9-920c-45d7711bce6d",
   "metadata": {
    "execution": {
     "iopub.execute_input": "2022-08-12T00:28:00.987941Z",
     "iopub.status.busy": "2022-08-12T00:28:00.987327Z",
     "iopub.status.idle": "2022-08-12T00:28:00.994369Z",
     "shell.execute_reply": "2022-08-12T00:28:00.993040Z",
     "shell.execute_reply.started": "2022-08-12T00:28:00.987896Z"
    },
    "tags": []
   },
   "outputs": [],
   "source": [
    "TrainTranslator._loop_step = _loop_step"
   ]
  },
  {
   "cell_type": "code",
   "execution_count": 57,
   "id": "70699956-8b59-4770-aa07-03144ca0307c",
   "metadata": {
    "execution": {
     "iopub.execute_input": "2022-08-12T00:28:47.683279Z",
     "iopub.status.busy": "2022-08-12T00:28:47.682651Z",
     "iopub.status.idle": "2022-08-12T00:28:47.744362Z",
     "shell.execute_reply": "2022-08-12T00:28:47.742966Z",
     "shell.execute_reply.started": "2022-08-12T00:28:47.683228Z"
    },
    "tags": []
   },
   "outputs": [],
   "source": [
    "translator = TrainTranslator(\n",
    "    embedding_dim, units,\n",
    "    input_text_processor=input_text_processor,\n",
    "    output_text_processor=output_text_processor,\n",
    "    use_tf_function=False)\n",
    "\n",
    "# Configure the loss and optimizer\n",
    "translator.compile(\n",
    "    optimizer=tf.optimizers.Adam(),\n",
    "    loss=MaskedLoss(),\n",
    ")"
   ]
  },
  {
   "cell_type": "code",
   "execution_count": 58,
   "id": "71140966-92a1-470e-95d8-6e9842bd821a",
   "metadata": {
    "execution": {
     "iopub.execute_input": "2022-08-12T00:29:12.566806Z",
     "iopub.status.busy": "2022-08-12T00:29:12.566169Z",
     "iopub.status.idle": "2022-08-12T00:29:12.577225Z",
     "shell.execute_reply": "2022-08-12T00:29:12.575749Z",
     "shell.execute_reply.started": "2022-08-12T00:29:12.566754Z"
    },
    "tags": []
   },
   "outputs": [
    {
     "data": {
      "text/plain": [
       "8.517193191416236"
      ]
     },
     "execution_count": 58,
     "metadata": {},
     "output_type": "execute_result"
    }
   ],
   "source": [
    "np.log(output_text_processor.vocabulary_size())"
   ]
  },
  {
   "cell_type": "code",
   "execution_count": 59,
   "id": "10b5ec2b-856b-42b6-be23-c65e2b165177",
   "metadata": {
    "execution": {
     "iopub.execute_input": "2022-08-12T00:29:42.062489Z",
     "iopub.status.busy": "2022-08-12T00:29:42.061657Z",
     "iopub.status.idle": "2022-08-12T00:29:46.623494Z",
     "shell.execute_reply": "2022-08-12T00:29:46.622639Z",
     "shell.execute_reply.started": "2022-08-12T00:29:42.062434Z"
    },
    "tags": []
   },
   "outputs": [
    {
     "name": "stdout",
     "output_type": "stream",
     "text": [
      "{'batch_loss': <tf.Tensor: shape=(), dtype=float32, numpy=7.6177444>}\n",
      "{'batch_loss': <tf.Tensor: shape=(), dtype=float32, numpy=7.5884876>}\n",
      "{'batch_loss': <tf.Tensor: shape=(), dtype=float32, numpy=7.534641>}\n",
      "{'batch_loss': <tf.Tensor: shape=(), dtype=float32, numpy=7.3826175>}\n",
      "{'batch_loss': <tf.Tensor: shape=(), dtype=float32, numpy=6.8239264>}\n",
      "{'batch_loss': <tf.Tensor: shape=(), dtype=float32, numpy=5.1659164>}\n",
      "{'batch_loss': <tf.Tensor: shape=(), dtype=float32, numpy=4.77129>}\n",
      "{'batch_loss': <tf.Tensor: shape=(), dtype=float32, numpy=4.654341>}\n",
      "{'batch_loss': <tf.Tensor: shape=(), dtype=float32, numpy=4.3431096>}\n",
      "{'batch_loss': <tf.Tensor: shape=(), dtype=float32, numpy=4.146038>}\n",
      "\n",
      "CPU times: user 4.58 s, sys: 0 ns, total: 4.58 s\n",
      "Wall time: 4.55 s\n"
     ]
    }
   ],
   "source": [
    "%%time\n",
    "for n in range(10):\n",
    "  print(translator.train_step([example_input_batch, example_target_batch]))\n",
    "print()"
   ]
  },
  {
   "cell_type": "code",
   "execution_count": 60,
   "id": "0a9c93f1-62fd-4692-a8db-985ae6b17eb1",
   "metadata": {
    "execution": {
     "iopub.execute_input": "2022-08-12T00:30:28.138695Z",
     "iopub.status.busy": "2022-08-12T00:30:28.138066Z",
     "iopub.status.idle": "2022-08-12T00:30:28.147439Z",
     "shell.execute_reply": "2022-08-12T00:30:28.146143Z",
     "shell.execute_reply.started": "2022-08-12T00:30:28.138644Z"
    },
    "tags": []
   },
   "outputs": [],
   "source": [
    "@tf.function(input_signature=[[tf.TensorSpec(dtype=tf.string, shape=[None]),\n",
    "                               tf.TensorSpec(dtype=tf.string, shape=[None])]])\n",
    "def _tf_train_step(self, inputs):\n",
    "  return self._train_step(inputs)"
   ]
  },
  {
   "cell_type": "code",
   "execution_count": 61,
   "id": "6fd101da-1fce-45e1-b5b9-d9ba3c75ac9a",
   "metadata": {
    "execution": {
     "iopub.execute_input": "2022-08-12T00:30:43.503980Z",
     "iopub.status.busy": "2022-08-12T00:30:43.503364Z",
     "iopub.status.idle": "2022-08-12T00:30:43.510683Z",
     "shell.execute_reply": "2022-08-12T00:30:43.509306Z",
     "shell.execute_reply.started": "2022-08-12T00:30:43.503933Z"
    },
    "tags": []
   },
   "outputs": [],
   "source": [
    "TrainTranslator._tf_train_step = _tf_train_step"
   ]
  },
  {
   "cell_type": "code",
   "execution_count": 62,
   "id": "ad71654b-c1f7-450e-8cbf-41fd68aafc7f",
   "metadata": {
    "execution": {
     "iopub.execute_input": "2022-08-12T00:30:51.794304Z",
     "iopub.status.busy": "2022-08-12T00:30:51.793520Z",
     "iopub.status.idle": "2022-08-12T00:30:51.801380Z",
     "shell.execute_reply": "2022-08-12T00:30:51.799905Z",
     "shell.execute_reply.started": "2022-08-12T00:30:51.794247Z"
    },
    "tags": []
   },
   "outputs": [],
   "source": [
    "translator.use_tf_function = True"
   ]
  },
  {
   "cell_type": "code",
   "execution_count": 63,
   "id": "3612bc5e-f74a-4be9-a107-ea8da16d57bc",
   "metadata": {
    "execution": {
     "iopub.execute_input": "2022-08-12T00:31:02.034659Z",
     "iopub.status.busy": "2022-08-12T00:31:02.034048Z",
     "iopub.status.idle": "2022-08-12T00:31:05.153548Z",
     "shell.execute_reply": "2022-08-12T00:31:05.152678Z",
     "shell.execute_reply.started": "2022-08-12T00:31:02.034608Z"
    },
    "tags": []
   },
   "outputs": [
    {
     "name": "stderr",
     "output_type": "stream",
     "text": [
      "2022-08-11 20:31:04.016926: E tensorflow/core/grappler/optimizers/meta_optimizer.cc:828] function_optimizer failed: INVALID_ARGUMENT: Input 6 of node gradient_tape/while/while_grad/body/_531/gradient_tape/while/gradients/while/decoder_1/gru_7/PartitionedCall_grad/PartitionedCall was passed variant from gradient_tape/while/while_grad/body/_531/gradient_tape/while/gradients/while/decoder_1/gru_7/PartitionedCall_grad/TensorListPopBack_2:1 incompatible with expected float.\n",
      "2022-08-11 20:31:04.092982: E tensorflow/core/grappler/optimizers/meta_optimizer.cc:828] layout failed: OUT_OF_RANGE: src_output = 25, but num_outputs is only 25\n",
      "2022-08-11 20:31:04.169166: E tensorflow/core/grappler/optimizers/meta_optimizer.cc:828] tfg_optimizer{} failed: INVALID_ARGUMENT: Input 6 of node gradient_tape/while/while_grad/body/_531/gradient_tape/while/gradients/while/decoder_1/gru_7/PartitionedCall_grad/PartitionedCall was passed variant from gradient_tape/while/while_grad/body/_531/gradient_tape/while/gradients/while/decoder_1/gru_7/PartitionedCall_grad/TensorListPopBack_2:1 incompatible with expected float.\n",
      "\twhen importing GraphDef to MLIR module in GrapplerHook\n",
      "2022-08-11 20:31:04.186184: E tensorflow/core/grappler/optimizers/meta_optimizer.cc:828] function_optimizer failed: INVALID_ARGUMENT: Input 6 of node gradient_tape/while/while_grad/body/_531/gradient_tape/while/gradients/while/decoder_1/gru_7/PartitionedCall_grad/PartitionedCall was passed variant from gradient_tape/while/while_grad/body/_531/gradient_tape/while/gradients/while/decoder_1/gru_7/PartitionedCall_grad/TensorListPopBack_2:1 incompatible with expected float.\n",
      "2022-08-11 20:31:04.275673: W tensorflow/core/common_runtime/process_function_library_runtime.cc:932] Ignoring multi-device function optimization failure: INVALID_ARGUMENT: Input 1 of node while/body/_1/while/TensorListPushBack_56 was passed float from while/body/_1/while/decoder_1/gru_7/PartitionedCall:6 incompatible with expected variant.\n"
     ]
    },
    {
     "data": {
      "text/plain": [
       "{'batch_loss': <tf.Tensor: shape=(), dtype=float32, numpy=4.029465>}"
      ]
     },
     "execution_count": 63,
     "metadata": {},
     "output_type": "execute_result"
    }
   ],
   "source": [
    "translator.train_step([example_input_batch, example_target_batch])"
   ]
  },
  {
   "cell_type": "code",
   "execution_count": 64,
   "id": "33cadc83-619b-4349-882f-1ba83c85ddfd",
   "metadata": {
    "execution": {
     "iopub.execute_input": "2022-08-12T00:31:18.041897Z",
     "iopub.status.busy": "2022-08-12T00:31:18.041243Z",
     "iopub.status.idle": "2022-08-12T00:31:19.251814Z",
     "shell.execute_reply": "2022-08-12T00:31:19.250763Z",
     "shell.execute_reply.started": "2022-08-12T00:31:18.041841Z"
    },
    "tags": []
   },
   "outputs": [
    {
     "name": "stdout",
     "output_type": "stream",
     "text": [
      "{'batch_loss': <tf.Tensor: shape=(), dtype=float32, numpy=4.048355>}\n",
      "{'batch_loss': <tf.Tensor: shape=(), dtype=float32, numpy=4.031425>}\n",
      "{'batch_loss': <tf.Tensor: shape=(), dtype=float32, numpy=3.9073527>}\n",
      "{'batch_loss': <tf.Tensor: shape=(), dtype=float32, numpy=3.8564057>}\n",
      "{'batch_loss': <tf.Tensor: shape=(), dtype=float32, numpy=3.7906086>}\n",
      "{'batch_loss': <tf.Tensor: shape=(), dtype=float32, numpy=3.7195325>}\n",
      "{'batch_loss': <tf.Tensor: shape=(), dtype=float32, numpy=3.7308934>}\n",
      "{'batch_loss': <tf.Tensor: shape=(), dtype=float32, numpy=3.702656>}\n",
      "{'batch_loss': <tf.Tensor: shape=(), dtype=float32, numpy=3.6279256>}\n",
      "{'batch_loss': <tf.Tensor: shape=(), dtype=float32, numpy=3.61535>}\n",
      "\n",
      "CPU times: user 3.13 s, sys: 55.3 ms, total: 3.19 s\n",
      "Wall time: 1.2 s\n"
     ]
    }
   ],
   "source": [
    "%%time\n",
    "for n in range(10):\n",
    "  print(translator.train_step([example_input_batch, example_target_batch]))\n",
    "print()"
   ]
  },
  {
   "cell_type": "code",
   "execution_count": 65,
   "id": "d718f96d-c335-4c51-ba77-98165cac2f17",
   "metadata": {
    "execution": {
     "iopub.execute_input": "2022-08-12T00:32:22.419333Z",
     "iopub.status.busy": "2022-08-12T00:32:22.418686Z",
     "iopub.status.idle": "2022-08-12T00:32:34.247686Z",
     "shell.execute_reply": "2022-08-12T00:32:34.246320Z",
     "shell.execute_reply.started": "2022-08-12T00:32:22.419276Z"
    },
    "tags": []
   },
   "outputs": [
    {
     "name": "stdout",
     "output_type": "stream",
     "text": [
      "....................................................................................................\n"
     ]
    },
    {
     "data": {
      "text/plain": [
       "[<matplotlib.lines.Line2D at 0x7f866bb54610>]"
      ]
     },
     "execution_count": 65,
     "metadata": {},
     "output_type": "execute_result"
    },
    {
     "data": {
      "image/png": "[encoded data removed]",
      "text/plain": [
       "<Figure size 432x288 with 1 Axes>"
      ]
     },
     "metadata": {
      "needs_background": "light"
     },
     "output_type": "display_data"
    }
   ],
   "source": [
    "losses = []\n",
    "for n in range(100):\n",
    "  print('.', end='')\n",
    "  logs = translator.train_step([example_input_batch, example_target_batch])\n",
    "  losses.append(logs['batch_loss'].numpy())\n",
    "\n",
    "print()\n",
    "plt.plot(losses)"
   ]
  },
  {
   "cell_type": "code",
   "execution_count": 66,
   "id": "e03342fb-d36b-4e94-866f-cd16e3e7a618",
   "metadata": {
    "execution": {
     "iopub.execute_input": "2022-08-12T00:33:09.488868Z",
     "iopub.status.busy": "2022-08-12T00:33:09.488246Z",
     "iopub.status.idle": "2022-08-12T00:33:09.551958Z",
     "shell.execute_reply": "2022-08-12T00:33:09.550995Z",
     "shell.execute_reply.started": "2022-08-12T00:33:09.488816Z"
    },
    "tags": []
   },
   "outputs": [],
   "source": [
    "train_translator = TrainTranslator(\n",
    "    embedding_dim, units,\n",
    "    input_text_processor=input_text_processor,\n",
    "    output_text_processor=output_text_processor)\n",
    "\n",
    "# Configure the loss and optimizer\n",
    "train_translator.compile(\n",
    "    optimizer=tf.optimizers.Adam(),\n",
    "    loss=MaskedLoss(),\n",
    ")"
   ]
  },
  {
   "cell_type": "code",
   "execution_count": 67,
   "id": "79a98275-4c31-42cd-8a5a-b976d2c53232",
   "metadata": {
    "execution": {
     "iopub.execute_input": "2022-08-12T00:33:25.396929Z",
     "iopub.status.busy": "2022-08-12T00:33:25.396311Z",
     "iopub.status.idle": "2022-08-12T00:33:25.405753Z",
     "shell.execute_reply": "2022-08-12T00:33:25.404407Z",
     "shell.execute_reply.started": "2022-08-12T00:33:25.396878Z"
    },
    "tags": []
   },
   "outputs": [],
   "source": [
    "class BatchLogs(tf.keras.callbacks.Callback):\n",
    "  def __init__(self, key):\n",
    "    self.key = key\n",
    "    self.logs = []\n",
    "\n",
    "  def on_train_batch_end(self, n, logs):\n",
    "    self.logs.append(logs[self.key])\n",
    "\n",
    "batch_loss = BatchLogs('batch_loss')"
   ]
  },
  {
   "cell_type": "code",
   "execution_count": 68,
   "id": "23944f0d-040e-4462-ae6d-aa5bde044760",
   "metadata": {
    "execution": {
     "iopub.execute_input": "2022-08-12T00:34:12.501391Z",
     "iopub.status.busy": "2022-08-12T00:34:12.500284Z",
     "iopub.status.idle": "2022-08-12T00:45:02.306548Z",
     "shell.execute_reply": "2022-08-12T00:45:02.305584Z",
     "shell.execute_reply.started": "2022-08-12T00:34:12.501309Z"
    },
    "tags": []
   },
   "outputs": [
    {
     "name": "stdout",
     "output_type": "stream",
     "text": [
      "Epoch 1/3\n"
     ]
    },
    {
     "name": "stderr",
     "output_type": "stream",
     "text": [
      "2022-08-11 20:34:15.214025: E tensorflow/core/grappler/optimizers/meta_optimizer.cc:828] function_optimizer failed: INVALID_ARGUMENT: Input 6 of node StatefulPartitionedCall/gradient_tape/while/while_grad/body/_589/gradient_tape/while/gradients/while/decoder_2/gru_9/PartitionedCall_grad/PartitionedCall was passed variant from StatefulPartitionedCall/gradient_tape/while/while_grad/body/_589/gradient_tape/while/gradients/while/decoder_2/gru_9/PartitionedCall_grad/TensorListPopBack_2:1 incompatible with expected float.\n",
      "2022-08-11 20:34:15.293357: E tensorflow/core/grappler/optimizers/meta_optimizer.cc:828] layout failed: OUT_OF_RANGE: src_output = 25, but num_outputs is only 25\n",
      "2022-08-11 20:34:15.373359: E tensorflow/core/grappler/optimizers/meta_optimizer.cc:828] tfg_optimizer{} failed: INVALID_ARGUMENT: Input 6 of node StatefulPartitionedCall/gradient_tape/while/while_grad/body/_589/gradient_tape/while/gradients/while/decoder_2/gru_9/PartitionedCall_grad/PartitionedCall was passed variant from StatefulPartitionedCall/gradient_tape/while/while_grad/body/_589/gradient_tape/while/gradients/while/decoder_2/gru_9/PartitionedCall_grad/TensorListPopBack_2:1 incompatible with expected float.\n",
      "\twhen importing GraphDef to MLIR module in GrapplerHook\n",
      "2022-08-11 20:34:15.391683: E tensorflow/core/grappler/optimizers/meta_optimizer.cc:828] function_optimizer failed: INVALID_ARGUMENT: Input 6 of node StatefulPartitionedCall/gradient_tape/while/while_grad/body/_589/gradient_tape/while/gradients/while/decoder_2/gru_9/PartitionedCall_grad/PartitionedCall was passed variant from StatefulPartitionedCall/gradient_tape/while/while_grad/body/_589/gradient_tape/while/gradients/while/decoder_2/gru_9/PartitionedCall_grad/TensorListPopBack_2:1 incompatible with expected float.\n",
      "2022-08-11 20:34:15.485963: W tensorflow/core/common_runtime/process_function_library_runtime.cc:932] Ignoring multi-device function optimization failure: INVALID_ARGUMENT: Input 1 of node StatefulPartitionedCall/while/body/_59/while/TensorListPushBack_56 was passed float from StatefulPartitionedCall/while/body/_59/while/decoder_2/gru_9/PartitionedCall:6 incompatible with expected variant.\n"
     ]
    },
    {
     "name": "stdout",
     "output_type": "stream",
     "text": [
      "1859/1859 [==============================] - 218s 115ms/step - batch_loss: 2.0504\n",
      "Epoch 2/3\n",
      "1859/1859 [==============================] - 215s 116ms/step - batch_loss: 1.0409\n",
      "Epoch 3/3\n",
      "1859/1859 [==============================] - 216s 116ms/step - batch_loss: 0.8125\n"
     ]
    },
    {
     "data": {
      "text/plain": [
       "<keras.callbacks.History at 0x7f8669eb3d90>"
      ]
     },
     "execution_count": 68,
     "metadata": {},
     "output_type": "execute_result"
    }
   ],
   "source": [
    "train_translator.fit(dataset, epochs=3,\n",
    "                     callbacks=[batch_loss])"
   ]
  },
  {
   "cell_type": "code",
   "execution_count": 69,
   "id": "7d95babd-a02e-4c4a-8fc0-5cadc1ba5bd0",
   "metadata": {
    "execution": {
     "iopub.execute_input": "2022-08-12T00:47:30.550094Z",
     "iopub.status.busy": "2022-08-12T00:47:30.549407Z",
     "iopub.status.idle": "2022-08-12T00:47:30.655082Z",
     "shell.execute_reply": "2022-08-12T00:47:30.654130Z",
     "shell.execute_reply.started": "2022-08-12T00:47:30.550037Z"
    },
    "tags": []
   },
   "outputs": [
    {
     "data": {
      "text/plain": [
       "Text(0, 0.5, 'CE/token')"
      ]
     },
     "execution_count": 69,
     "metadata": {},
     "output_type": "execute_result"
    },
    {
     "data": {
      "image/png": "[encoded data removed]",
      "text/plain": [
       "<Figure size 432x288 with 1 Axes>"
      ]
     },
     "metadata": {
      "needs_background": "light"
     },
     "output_type": "display_data"
    }
   ],
   "source": [
    "plt.plot(batch_loss.logs)\n",
    "plt.ylim([0, 3])\n",
    "plt.xlabel('Batch #')\n",
    "plt.ylabel('CE/token')"
   ]
  },
  {
   "cell_type": "code",
   "execution_count": 70,
   "id": "4815979a-fdbc-4725-a7fe-e7acb8ed4ba9",
   "metadata": {
    "execution": {
     "iopub.execute_input": "2022-08-12T00:47:55.393996Z",
     "iopub.status.busy": "2022-08-12T00:47:55.393353Z",
     "iopub.status.idle": "2022-08-12T00:47:55.406810Z",
     "shell.execute_reply": "2022-08-12T00:47:55.405430Z",
     "shell.execute_reply.started": "2022-08-12T00:47:55.393946Z"
    },
    "tags": []
   },
   "outputs": [],
   "source": [
    "class Translator(tf.Module):\n",
    "\n",
    "  def __init__(self, encoder, decoder, input_text_processor,\n",
    "               output_text_processor):\n",
    "    self.encoder = encoder\n",
    "    self.decoder = decoder\n",
    "    self.input_text_processor = input_text_processor\n",
    "    self.output_text_processor = output_text_processor\n",
    "\n",
    "    self.output_token_string_from_index = (\n",
    "        tf.keras.layers.StringLookup(\n",
    "            vocabulary=output_text_processor.get_vocabulary(),\n",
    "            mask_token='',\n",
    "            invert=True))\n",
    "\n",
    "    # The output should never generate padding, unknown, or start.\n",
    "    index_from_string = tf.keras.layers.StringLookup(\n",
    "        vocabulary=output_text_processor.get_vocabulary(), mask_token='')\n",
    "    token_mask_ids = index_from_string(['', '[UNK]', '[START]']).numpy()\n",
    "\n",
    "    token_mask = np.zeros([index_from_string.vocabulary_size()], dtype=np.bool)\n",
    "    token_mask[np.array(token_mask_ids)] = True\n",
    "    self.token_mask = token_mask\n",
    "\n",
    "    self.start_token = index_from_string(tf.constant('[START]'))\n",
    "    self.end_token = index_from_string(tf.constant('[END]'))"
   ]
  },
  {
   "cell_type": "code",
   "execution_count": 71,
   "id": "d2042215-8b93-4988-bf36-ad62478ca5b1",
   "metadata": {
    "execution": {
     "iopub.execute_input": "2022-08-12T00:48:04.098181Z",
     "iopub.status.busy": "2022-08-12T00:48:04.097548Z",
     "iopub.status.idle": "2022-08-12T00:48:04.281589Z",
     "shell.execute_reply": "2022-08-12T00:48:04.280327Z",
     "shell.execute_reply.started": "2022-08-12T00:48:04.098127Z"
    },
    "tags": []
   },
   "outputs": [
    {
     "name": "stderr",
     "output_type": "stream",
     "text": [
      "/tmp/ipykernel_2666540/100404259.py:21: DeprecationWarning: `np.bool` is a deprecated alias for the builtin `bool`. To silence this warning, use `bool` by itself. Doing this will not modify any behavior and is safe. If you specifically wanted the numpy scalar type, use `np.bool_` here.\n",
      "Deprecated in NumPy 1.20; for more details and guidance: https://numpy.org/devdocs/release/1.20.0-notes.html#deprecations\n",
      "  token_mask = np.zeros([index_from_string.vocabulary_size()], dtype=np.bool)\n"
     ]
    }
   ],
   "source": [
    "translator = Translator(\n",
    "    encoder=train_translator.encoder,\n",
    "    decoder=train_translator.decoder,\n",
    "    input_text_processor=input_text_processor,\n",
    "    output_text_processor=output_text_processor,\n",
    ")"
   ]
  },
  {
   "cell_type": "code",
   "execution_count": 72,
   "id": "0c650b3a-7da6-4207-9be2-2c05c74bcbaa",
   "metadata": {
    "execution": {
     "iopub.execute_input": "2022-08-12T00:48:14.236332Z",
     "iopub.status.busy": "2022-08-12T00:48:14.235676Z",
     "iopub.status.idle": "2022-08-12T00:48:14.247045Z",
     "shell.execute_reply": "2022-08-12T00:48:14.245532Z",
     "shell.execute_reply.started": "2022-08-12T00:48:14.236280Z"
    },
    "tags": []
   },
   "outputs": [],
   "source": [
    "def tokens_to_text(self, result_tokens):\n",
    "  shape_checker = ShapeChecker()\n",
    "  shape_checker(result_tokens, ('batch', 't'))\n",
    "  result_text_tokens = self.output_token_string_from_index(result_tokens)\n",
    "  shape_checker(result_text_tokens, ('batch', 't'))\n",
    "\n",
    "  result_text = tf.strings.reduce_join(result_text_tokens,\n",
    "                                       axis=1, separator=' ')\n",
    "  shape_checker(result_text, ('batch'))\n",
    "\n",
    "  result_text = tf.strings.strip(result_text)\n",
    "  shape_checker(result_text, ('batch',))\n",
    "  return result_text"
   ]
  },
  {
   "cell_type": "code",
   "execution_count": 73,
   "id": "bec7293b-f140-4bd2-896d-b4aeeec3828b",
   "metadata": {
    "execution": {
     "iopub.execute_input": "2022-08-12T00:48:21.913381Z",
     "iopub.status.busy": "2022-08-12T00:48:21.912827Z",
     "iopub.status.idle": "2022-08-12T00:48:21.920887Z",
     "shell.execute_reply": "2022-08-12T00:48:21.919370Z",
     "shell.execute_reply.started": "2022-08-12T00:48:21.913333Z"
    },
    "tags": []
   },
   "outputs": [],
   "source": [
    "Translator.tokens_to_text = tokens_to_text"
   ]
  },
  {
   "cell_type": "code",
   "execution_count": 74,
   "id": "4b8290e4-0f84-4ee6-8ef7-db69fd5a820d",
   "metadata": {
    "execution": {
     "iopub.execute_input": "2022-08-12T00:48:30.413613Z",
     "iopub.status.busy": "2022-08-12T00:48:30.413017Z",
     "iopub.status.idle": "2022-08-12T00:48:30.491452Z",
     "shell.execute_reply": "2022-08-12T00:48:30.490041Z",
     "shell.execute_reply.started": "2022-08-12T00:48:30.413562Z"
    },
    "tags": []
   },
   "outputs": [
    {
     "data": {
      "text/plain": [
       "array([b'cup thailand', b'prepare herself', b'records lung',\n",
       "       b'blown successful', b'keen nails'], dtype=object)"
      ]
     },
     "execution_count": 74,
     "metadata": {},
     "output_type": "execute_result"
    }
   ],
   "source": [
    "example_output_tokens = tf.random.uniform(\n",
    "    shape=[5, 2], minval=0, dtype=tf.int64,\n",
    "    maxval=output_text_processor.vocabulary_size())\n",
    "translator.tokens_to_text(example_output_tokens).numpy()"
   ]
  },
  {
   "cell_type": "code",
   "execution_count": 75,
   "id": "8f399e8e-d2b4-487b-b6fa-eb61e16d0f93",
   "metadata": {
    "execution": {
     "iopub.execute_input": "2022-08-12T00:48:48.755277Z",
     "iopub.status.busy": "2022-08-12T00:48:48.754659Z",
     "iopub.status.idle": "2022-08-12T00:48:48.767556Z",
     "shell.execute_reply": "2022-08-12T00:48:48.765963Z",
     "shell.execute_reply.started": "2022-08-12T00:48:48.755224Z"
    },
    "tags": []
   },
   "outputs": [],
   "source": [
    "def sample(self, logits, temperature):\n",
    "  shape_checker = ShapeChecker()\n",
    "  # 't' is usually 1 here.\n",
    "  shape_checker(logits, ('batch', 't', 'vocab'))\n",
    "  shape_checker(self.token_mask, ('vocab',))\n",
    "\n",
    "  token_mask = self.token_mask[tf.newaxis, tf.newaxis, :]\n",
    "  shape_checker(token_mask, ('batch', 't', 'vocab'), broadcast=True)\n",
    "\n",
    "  # Set the logits for all masked tokens to -inf, so they are never chosen.\n",
    "  logits = tf.where(self.token_mask, -np.inf, logits)\n",
    "\n",
    "  if temperature == 0.0:\n",
    "    new_tokens = tf.argmax(logits, axis=-1)\n",
    "  else:\n",
    "    logits = tf.squeeze(logits, axis=1)\n",
    "    new_tokens = tf.random.categorical(logits/temperature,\n",
    "                                        num_samples=1)\n",
    "\n",
    "  shape_checker(new_tokens, ('batch', 't'))\n",
    "\n",
    "  return new_tokens"
   ]
  },
  {
   "cell_type": "code",
   "execution_count": 76,
   "id": "691dc8a1-d6de-4118-a9af-557abf115ded",
   "metadata": {
    "execution": {
     "iopub.execute_input": "2022-08-12T00:48:57.345275Z",
     "iopub.status.busy": "2022-08-12T00:48:57.344669Z",
     "iopub.status.idle": "2022-08-12T00:48:57.352181Z",
     "shell.execute_reply": "2022-08-12T00:48:57.350572Z",
     "shell.execute_reply.started": "2022-08-12T00:48:57.345224Z"
    },
    "tags": []
   },
   "outputs": [],
   "source": [
    "Translator.sample = sample"
   ]
  },
  {
   "cell_type": "code",
   "execution_count": 77,
   "id": "0e03b2e1-3fe8-4e05-b466-289bda0bb343",
   "metadata": {
    "execution": {
     "iopub.execute_input": "2022-08-12T00:49:09.430534Z",
     "iopub.status.busy": "2022-08-12T00:49:09.429945Z",
     "iopub.status.idle": "2022-08-12T00:49:09.519158Z",
     "shell.execute_reply": "2022-08-12T00:49:09.518388Z",
     "shell.execute_reply.started": "2022-08-12T00:49:09.430484Z"
    },
    "tags": []
   },
   "outputs": [
    {
     "data": {
      "text/plain": [
       "<tf.Tensor: shape=(5, 1), dtype=int64, numpy=\n",
       "array([[1430],\n",
       "       [3229],\n",
       "       [1034],\n",
       "       [4660],\n",
       "       [2329]])>"
      ]
     },
     "execution_count": 77,
     "metadata": {},
     "output_type": "execute_result"
    }
   ],
   "source": [
    "example_logits = tf.random.normal([5, 1, output_text_processor.vocabulary_size()])\n",
    "example_output_tokens = translator.sample(example_logits, temperature=1.0)\n",
    "example_output_tokens"
   ]
  },
  {
   "cell_type": "code",
   "execution_count": 78,
   "id": "0b496e80-824d-438b-89ed-4d80d7282785",
   "metadata": {
    "execution": {
     "iopub.execute_input": "2022-08-12T00:51:08.623576Z",
     "iopub.status.busy": "2022-08-12T00:51:08.622955Z",
     "iopub.status.idle": "2022-08-12T00:51:08.638714Z",
     "shell.execute_reply": "2022-08-12T00:51:08.637521Z",
     "shell.execute_reply.started": "2022-08-12T00:51:08.623524Z"
    },
    "tags": []
   },
   "outputs": [],
   "source": [
    "def translate_unrolled(self,\n",
    "                       input_text, *,\n",
    "                       max_length=50,\n",
    "                       return_attention=True,\n",
    "                       temperature=1.0):\n",
    "  batch_size = tf.shape(input_text)[0]\n",
    "  input_tokens = self.input_text_processor(input_text)\n",
    "  enc_output, enc_state = self.encoder(input_tokens)\n",
    "\n",
    "  dec_state = enc_state\n",
    "  new_tokens = tf.fill([batch_size, 1], self.start_token)\n",
    "\n",
    "  result_tokens = []\n",
    "  attention = []\n",
    "  done = tf.zeros([batch_size, 1], dtype=tf.bool)\n",
    "\n",
    "  for _ in range(max_length):\n",
    "    dec_input = DecoderInput(new_tokens=new_tokens,\n",
    "                             enc_output=enc_output,\n",
    "                             mask=(input_tokens!=0))\n",
    "\n",
    "    dec_result, dec_state = self.decoder(dec_input, state=dec_state)\n",
    "\n",
    "    attention.append(dec_result.attention_weights)\n",
    "\n",
    "    new_tokens = self.sample(dec_result.logits, temperature)\n",
    "\n",
    "    # If a sequence produces an `end_token`, set it `done`\n",
    "    done = done | (new_tokens == self.end_token)\n",
    "    # Once a sequence is done it only produces 0-padding.\n",
    "    new_tokens = tf.where(done, tf.constant(0, dtype=tf.int64), new_tokens)\n",
    "\n",
    "    # Collect the generated tokens\n",
    "    result_tokens.append(new_tokens)\n",
    "\n",
    "    if tf.executing_eagerly() and tf.reduce_all(done):\n",
    "      break\n",
    "\n",
    "  # Convert the list of generates token ids to a list of strings.\n",
    "  result_tokens = tf.concat(result_tokens, axis=-1)\n",
    "  result_text = self.tokens_to_text(result_tokens)\n",
    "\n",
    "  if return_attention:\n",
    "    attention_stack = tf.concat(attention, axis=1)\n",
    "    return {'text': result_text, 'attention': attention_stack}\n",
    "  else:\n",
    "    return {'text': result_text}"
   ]
  },
  {
   "cell_type": "code",
   "execution_count": 79,
   "id": "61e0f7ea-498d-453f-a565-a3c6d21ef8e4",
   "metadata": {
    "execution": {
     "iopub.execute_input": "2022-08-12T00:51:17.839033Z",
     "iopub.status.busy": "2022-08-12T00:51:17.838417Z",
     "iopub.status.idle": "2022-08-12T00:51:17.846000Z",
     "shell.execute_reply": "2022-08-12T00:51:17.844493Z",
     "shell.execute_reply.started": "2022-08-12T00:51:17.838979Z"
    },
    "tags": []
   },
   "outputs": [],
   "source": [
    "Translator.translate = translate_unrolled"
   ]
  },
  {
   "cell_type": "code",
   "execution_count": 80,
   "id": "43915ade-3b34-4fa3-b9f7-4cefcc765bfb",
   "metadata": {
    "execution": {
     "iopub.execute_input": "2022-08-12T00:51:24.598510Z",
     "iopub.status.busy": "2022-08-12T00:51:24.597662Z",
     "iopub.status.idle": "2022-08-12T00:51:24.763716Z",
     "shell.execute_reply": "2022-08-12T00:51:24.763014Z",
     "shell.execute_reply.started": "2022-08-12T00:51:24.598442Z"
    },
    "tags": []
   },
   "outputs": [
    {
     "name": "stdout",
     "output_type": "stream",
     "text": [
      "its very cold here .\n",
      "this is my life .\n",
      "\n",
      "CPU times: user 131 ms, sys: 36.9 ms, total: 168 ms\n",
      "Wall time: 158 ms\n"
     ]
    }
   ],
   "source": [
    "%%time\n",
    "input_text = tf.constant([\n",
    "    'hace mucho frio aqui.', # \"It's really cold here.\"\n",
    "    'Esta es mi vida.', # \"This is my life.\"\"\n",
    "])\n",
    "\n",
    "result = translator.translate(\n",
    "    input_text = input_text)\n",
    "\n",
    "print(result['text'][0].numpy().decode())\n",
    "print(result['text'][1].numpy().decode())\n",
    "print()"
   ]
  },
  {
   "cell_type": "code",
   "execution_count": 81,
   "id": "e263ae46-9b42-4a87-8092-93e5e1993db8",
   "metadata": {
    "execution": {
     "iopub.execute_input": "2022-08-12T00:52:25.015776Z",
     "iopub.status.busy": "2022-08-12T00:52:25.015165Z",
     "iopub.status.idle": "2022-08-12T00:52:25.024293Z",
     "shell.execute_reply": "2022-08-12T00:52:25.022974Z",
     "shell.execute_reply.started": "2022-08-12T00:52:25.015724Z"
    },
    "tags": []
   },
   "outputs": [],
   "source": [
    "@tf.function(input_signature=[tf.TensorSpec(dtype=tf.string, shape=[None])])\n",
    "def tf_translate(self, input_text):\n",
    "  return self.translate(input_text)\n",
    "\n",
    "Translator.tf_translate = tf_translate"
   ]
  },
  {
   "cell_type": "code",
   "execution_count": 82,
   "id": "e30cb3ec-4623-4e3a-94eb-b41554d6c58d",
   "metadata": {
    "execution": {
     "iopub.execute_input": "2022-08-12T00:52:41.707574Z",
     "iopub.status.busy": "2022-08-12T00:52:41.706951Z",
     "iopub.status.idle": "2022-08-12T00:52:55.495967Z",
     "shell.execute_reply": "2022-08-12T00:52:55.495190Z",
     "shell.execute_reply.started": "2022-08-12T00:52:41.707522Z"
    },
    "tags": []
   },
   "outputs": [
    {
     "name": "stdout",
     "output_type": "stream",
     "text": [
      "CPU times: user 13.8 s, sys: 94.8 ms, total: 13.9 s\n",
      "Wall time: 13.8 s\n"
     ]
    }
   ],
   "source": [
    "%%time\n",
    "result = translator.tf_translate(\n",
    "    input_text = input_text)"
   ]
  },
  {
   "cell_type": "code",
   "execution_count": 83,
   "id": "2204e728-c59a-4558-a816-f80fd7d1587e",
   "metadata": {
    "execution": {
     "iopub.execute_input": "2022-08-12T00:53:25.020810Z",
     "iopub.status.busy": "2022-08-12T00:53:25.020187Z",
     "iopub.status.idle": "2022-08-12T00:53:25.155744Z",
     "shell.execute_reply": "2022-08-12T00:53:25.154447Z",
     "shell.execute_reply.started": "2022-08-12T00:53:25.020763Z"
    },
    "tags": []
   },
   "outputs": [
    {
     "name": "stdout",
     "output_type": "stream",
     "text": [
      "its very cold here .\n",
      "learning my life .\n",
      "\n",
      "CPU times: user 191 ms, sys: 37.4 ms, total: 228 ms\n",
      "Wall time: 128 ms\n"
     ]
    }
   ],
   "source": [
    "%%time\n",
    "result = translator.tf_translate(\n",
    "    input_text = input_text)\n",
    "\n",
    "print(result['text'][0].numpy().decode())\n",
    "print(result['text'][1].numpy().decode())\n",
    "print()"
   ]
  },
  {
   "cell_type": "code",
   "execution_count": 84,
   "id": "205c3be1-5ed9-476e-a852-b1bc82aa492c",
   "metadata": {
    "execution": {
     "iopub.execute_input": "2022-08-12T01:02:45.851947Z",
     "iopub.status.busy": "2022-08-12T01:02:45.851305Z",
     "iopub.status.idle": "2022-08-12T01:02:45.878186Z",
     "shell.execute_reply": "2022-08-12T01:02:45.876592Z",
     "shell.execute_reply.started": "2022-08-12T01:02:45.851892Z"
    },
    "tags": []
   },
   "outputs": [],
   "source": [
    "def translate_symbolic(self,\n",
    "                       input_text,\n",
    "                       *,\n",
    "                       max_length=50,\n",
    "                       return_attention=True,\n",
    "                       temperature=1.0):\n",
    "  shape_checker = ShapeChecker()\n",
    "  shape_checker(input_text, ('batch',))\n",
    "\n",
    "  batch_size = tf.shape(input_text)[0]\n",
    "\n",
    "  # Encode the input\n",
    "  input_tokens = self.input_text_processor(input_text)\n",
    "  shape_checker(input_tokens, ('batch', 's'))\n",
    "\n",
    "  enc_output, enc_state = self.encoder(input_tokens)\n",
    "  shape_checker(enc_output, ('batch', 's', 'enc_units'))\n",
    "  shape_checker(enc_state, ('batch', 'enc_units'))\n",
    "\n",
    "  # Initialize the decoder\n",
    "  dec_state = enc_state\n",
    "  new_tokens = tf.fill([batch_size, 1], self.start_token)\n",
    "  shape_checker(new_tokens, ('batch', 't1'))\n",
    "\n",
    "  # Initialize the accumulators\n",
    "  result_tokens = tf.TensorArray(tf.int64, size=1, dynamic_size=True)\n",
    "  attention = tf.TensorArray(tf.float32, size=1, dynamic_size=True)\n",
    "  done = tf.zeros([batch_size, 1], dtype=tf.bool)\n",
    "  shape_checker(done, ('batch', 't1'))\n",
    "\n",
    "  for t in tf.range(max_length):\n",
    "    dec_input = DecoderInput(\n",
    "        new_tokens=new_tokens, enc_output=enc_output, mask=(input_tokens != 0))\n",
    "\n",
    "    dec_result, dec_state = self.decoder(dec_input, state=dec_state)\n",
    "\n",
    "    shape_checker(dec_result.attention_weights, ('batch', 't1', 's'))\n",
    "    attention = attention.write(t, dec_result.attention_weights)\n",
    "\n",
    "    new_tokens = self.sample(dec_result.logits, temperature)\n",
    "    shape_checker(dec_result.logits, ('batch', 't1', 'vocab'))\n",
    "    shape_checker(new_tokens, ('batch', 't1'))\n",
    "\n",
    "    # If a sequence produces an `end_token`, set it `done`\n",
    "    done = done | (new_tokens == self.end_token)\n",
    "    # Once a sequence is done it only produces 0-padding.\n",
    "    new_tokens = tf.where(done, tf.constant(0, dtype=tf.int64), new_tokens)\n",
    "\n",
    "    # Collect the generated tokens\n",
    "    result_tokens = result_tokens.write(t, new_tokens)\n",
    "\n",
    "    if tf.reduce_all(done):\n",
    "      break\n",
    "\n",
    "  # Convert the list of generated token ids to a list of strings.\n",
    "  result_tokens = result_tokens.stack()\n",
    "  shape_checker(result_tokens, ('t', 'batch', 't0'))\n",
    "  result_tokens = tf.squeeze(result_tokens, -1)\n",
    "  result_tokens = tf.transpose(result_tokens, [1, 0])\n",
    "  shape_checker(result_tokens, ('batch', 't'))\n",
    "\n",
    "  result_text = self.tokens_to_text(result_tokens)\n",
    "  shape_checker(result_text, ('batch',))\n",
    "\n",
    "  if return_attention:\n",
    "    attention_stack = attention.stack()\n",
    "    shape_checker(attention_stack, ('t', 'batch', 't1', 's'))\n",
    "\n",
    "    attention_stack = tf.squeeze(attention_stack, 2)\n",
    "    shape_checker(attention_stack, ('t', 'batch', 's'))\n",
    "\n",
    "    attention_stack = tf.transpose(attention_stack, [1, 0, 2])\n",
    "    shape_checker(attention_stack, ('batch', 't', 's'))\n",
    "\n",
    "    return {'text': result_text, 'attention': attention_stack}\n",
    "  else:\n",
    "    return {'text': result_text}"
   ]
  },
  {
   "cell_type": "code",
   "execution_count": 85,
   "id": "9481cd09-0941-4cb4-95c6-305e0e61bfce",
   "metadata": {
    "execution": {
     "iopub.execute_input": "2022-08-12T01:06:59.005772Z",
     "iopub.status.busy": "2022-08-12T01:06:59.004982Z",
     "iopub.status.idle": "2022-08-12T01:06:59.012694Z",
     "shell.execute_reply": "2022-08-12T01:06:59.011185Z",
     "shell.execute_reply.started": "2022-08-12T01:06:59.005690Z"
    },
    "tags": []
   },
   "outputs": [],
   "source": [
    "Translator.translate = translate_symbolic"
   ]
  },
  {
   "cell_type": "code",
   "execution_count": 86,
   "id": "ca80c39a-a332-45ea-a128-35201e61cc8a",
   "metadata": {
    "execution": {
     "iopub.execute_input": "2022-08-12T01:07:12.625113Z",
     "iopub.status.busy": "2022-08-12T01:07:12.624345Z",
     "iopub.status.idle": "2022-08-12T01:07:12.806369Z",
     "shell.execute_reply": "2022-08-12T01:07:12.805612Z",
     "shell.execute_reply.started": "2022-08-12T01:07:12.625053Z"
    },
    "tags": []
   },
   "outputs": [
    {
     "name": "stdout",
     "output_type": "stream",
     "text": [
      "its very cold here .\n",
      "this is my life .\n",
      "\n",
      "CPU times: user 162 ms, sys: 20 ms, total: 182 ms\n",
      "Wall time: 175 ms\n"
     ]
    }
   ],
   "source": [
    "%%time\n",
    "result = translator.translate(\n",
    "    input_text = input_text)\n",
    "\n",
    "print(result['text'][0].numpy().decode())\n",
    "print(result['text'][1].numpy().decode())\n",
    "print()"
   ]
  },
  {
   "cell_type": "code",
   "execution_count": 87,
   "id": "f52da731-5e3a-47c8-b0f9-d175183de6b4",
   "metadata": {
    "execution": {
     "iopub.execute_input": "2022-08-12T01:07:43.652483Z",
     "iopub.status.busy": "2022-08-12T01:07:43.651858Z",
     "iopub.status.idle": "2022-08-12T01:07:43.661128Z",
     "shell.execute_reply": "2022-08-12T01:07:43.659789Z",
     "shell.execute_reply.started": "2022-08-12T01:07:43.652435Z"
    },
    "tags": []
   },
   "outputs": [],
   "source": [
    "@tf.function(input_signature=[tf.TensorSpec(dtype=tf.string, shape=[None])])\n",
    "def tf_translate(self, input_text):\n",
    "  return self.translate(input_text)\n",
    "\n",
    "Translator.tf_translate = tf_translate"
   ]
  },
  {
   "cell_type": "code",
   "execution_count": 88,
   "id": "8568e6a3-8ceb-42cc-b08c-d73136744809",
   "metadata": {
    "execution": {
     "iopub.execute_input": "2022-08-12T01:07:50.718083Z",
     "iopub.status.busy": "2022-08-12T01:07:50.717472Z",
     "iopub.status.idle": "2022-08-12T01:07:52.269818Z",
     "shell.execute_reply": "2022-08-12T01:07:52.268481Z",
     "shell.execute_reply.started": "2022-08-12T01:07:50.718028Z"
    },
    "tags": []
   },
   "outputs": [
    {
     "name": "stdout",
     "output_type": "stream",
     "text": [
      "CPU times: user 1.55 s, sys: 19.3 ms, total: 1.57 s\n",
      "Wall time: 1.55 s\n"
     ]
    }
   ],
   "source": [
    "%%time\n",
    "result = translator.tf_translate(\n",
    "    input_text = input_text)"
   ]
  },
  {
   "cell_type": "code",
   "execution_count": 89,
   "id": "98dc6356-2110-470b-8b3a-1f6589210c33",
   "metadata": {
    "execution": {
     "iopub.execute_input": "2022-08-12T01:07:58.398429Z",
     "iopub.status.busy": "2022-08-12T01:07:58.397547Z",
     "iopub.status.idle": "2022-08-12T01:07:58.433136Z",
     "shell.execute_reply": "2022-08-12T01:07:58.431593Z",
     "shell.execute_reply.started": "2022-08-12T01:07:58.398367Z"
    },
    "tags": []
   },
   "outputs": [
    {
     "name": "stdout",
     "output_type": "stream",
     "text": [
      "its very cold here .\n",
      "this is my life .\n",
      "\n",
      "CPU times: user 57 ms, sys: 4.5 ms, total: 61.5 ms\n",
      "Wall time: 26.7 ms\n"
     ]
    }
   ],
   "source": [
    "%%time\n",
    "result = translator.tf_translate(\n",
    "    input_text = input_text)\n",
    "\n",
    "print(result['text'][0].numpy().decode())\n",
    "print(result['text'][1].numpy().decode())\n",
    "print()"
   ]
  },
  {
   "cell_type": "code",
   "execution_count": 90,
   "id": "4d3ae0c9-e01e-45ac-bc51-c8fc4b7dd9dd",
   "metadata": {
    "execution": {
     "iopub.execute_input": "2022-08-12T01:09:11.206705Z",
     "iopub.status.busy": "2022-08-12T01:09:11.206069Z",
     "iopub.status.idle": "2022-08-12T01:09:11.240131Z",
     "shell.execute_reply": "2022-08-12T01:09:11.239120Z",
     "shell.execute_reply.started": "2022-08-12T01:09:11.206652Z"
    },
    "tags": []
   },
   "outputs": [
    {
     "name": "stdout",
     "output_type": "stream",
     "text": [
      "[1.        1.        1.0000001 1.        1.        1.       ]\n"
     ]
    }
   ],
   "source": [
    "a = result['attention'][0]\n",
    "\n",
    "print(np.sum(a, axis=-1))"
   ]
  },
  {
   "cell_type": "code",
   "execution_count": 91,
   "id": "d7d14e40-7d3c-46e0-b50c-e4ed0d1c4b5f",
   "metadata": {
    "execution": {
     "iopub.execute_input": "2022-08-12T01:09:40.390155Z",
     "iopub.status.busy": "2022-08-12T01:09:40.389496Z",
     "iopub.status.idle": "2022-08-12T01:09:40.505622Z",
     "shell.execute_reply": "2022-08-12T01:09:40.504603Z",
     "shell.execute_reply.started": "2022-08-12T01:09:40.390105Z"
    },
    "tags": []
   },
   "outputs": [
    {
     "data": {
      "image/png": "[encoded data removed]",
      "text/plain": [
       "<Figure size 432x288 with 1 Axes>"
      ]
     },
     "metadata": {
      "needs_background": "light"
     },
     "output_type": "display_data"
    }
   ],
   "source": [
    "_ = plt.bar(range(len(a[0, :])), a[0, :])"
   ]
  },
  {
   "cell_type": "code",
   "execution_count": 92,
   "id": "ae63329a-7d0f-4da5-96ad-345db8f68a18",
   "metadata": {
    "execution": {
     "iopub.execute_input": "2022-08-12T01:09:57.799158Z",
     "iopub.status.busy": "2022-08-12T01:09:57.798387Z",
     "iopub.status.idle": "2022-08-12T01:09:57.900221Z",
     "shell.execute_reply": "2022-08-12T01:09:57.898970Z",
     "shell.execute_reply.started": "2022-08-12T01:09:57.799096Z"
    },
    "tags": []
   },
   "outputs": [
    {
     "data": {
      "text/plain": [
       "<matplotlib.image.AxesImage at 0x7f85d42f6d40>"
      ]
     },
     "execution_count": 92,
     "metadata": {},
     "output_type": "execute_result"
    },
    {
     "data": {
      "image/png": "[encoded data removed]",
      "text/plain": [
       "<Figure size 432x288 with 1 Axes>"
      ]
     },
     "metadata": {
      "needs_background": "light"
     },
     "output_type": "display_data"
    }
   ],
   "source": [
    "plt.imshow(np.array(a), vmin=0.0)"
   ]
  },
  {
   "cell_type": "code",
   "execution_count": 93,
   "id": "d5138867-151c-42f1-887b-3ac56d4de8b2",
   "metadata": {
    "execution": {
     "iopub.execute_input": "2022-08-12T01:10:08.959409Z",
     "iopub.status.busy": "2022-08-12T01:10:08.958807Z",
     "iopub.status.idle": "2022-08-12T01:10:08.972234Z",
     "shell.execute_reply": "2022-08-12T01:10:08.970739Z",
     "shell.execute_reply.started": "2022-08-12T01:10:08.959358Z"
    },
    "tags": []
   },
   "outputs": [],
   "source": [
    "def plot_attention(attention, sentence, predicted_sentence):\n",
    "  sentence = tf_lower_and_split_punct(sentence).numpy().decode().split()\n",
    "  predicted_sentence = predicted_sentence.numpy().decode().split() + ['[END]']\n",
    "  fig = plt.figure(figsize=(10, 10))\n",
    "  ax = fig.add_subplot(1, 1, 1)\n",
    "\n",
    "  attention = attention[:len(predicted_sentence), :len(sentence)]\n",
    "\n",
    "  ax.matshow(attention, cmap='viridis', vmin=0.0)\n",
    "\n",
    "  fontdict = {'fontsize': 14}\n",
    "\n",
    "  ax.set_xticklabels([''] + sentence, fontdict=fontdict, rotation=90)\n",
    "  ax.set_yticklabels([''] + predicted_sentence, fontdict=fontdict)\n",
    "\n",
    "  ax.xaxis.set_major_locator(ticker.MultipleLocator(1))\n",
    "  ax.yaxis.set_major_locator(ticker.MultipleLocator(1))\n",
    "\n",
    "  ax.set_xlabel('Input text')\n",
    "  ax.set_ylabel('Output text')\n",
    "  plt.suptitle('Attention weights')"
   ]
  },
  {
   "cell_type": "code",
   "execution_count": 94,
   "id": "63ec2221-b8fb-442b-be07-df0c0416e8de",
   "metadata": {
    "execution": {
     "iopub.execute_input": "2022-08-12T01:10:17.579090Z",
     "iopub.status.busy": "2022-08-12T01:10:17.578471Z",
     "iopub.status.idle": "2022-08-12T01:10:17.735655Z",
     "shell.execute_reply": "2022-08-12T01:10:17.734785Z",
     "shell.execute_reply.started": "2022-08-12T01:10:17.579039Z"
    },
    "tags": []
   },
   "outputs": [
    {
     "name": "stderr",
     "output_type": "stream",
     "text": [
      "/tmp/ipykernel_2666540/3262901620.py:13: UserWarning: FixedFormatter should only be used together with FixedLocator\n",
      "  ax.set_xticklabels([''] + sentence, fontdict=fontdict, rotation=90)\n",
      "/tmp/ipykernel_2666540/3262901620.py:14: UserWarning: FixedFormatter should only be used together with FixedLocator\n",
      "  ax.set_yticklabels([''] + predicted_sentence, fontdict=fontdict)\n"
     ]
    },
    {
     "data": {
      "image/png": "[encoded data removed]",
      "text/plain": [
       "<Figure size 720x720 with 1 Axes>"
      ]
     },
     "metadata": {
      "needs_background": "light"
     },
     "output_type": "display_data"
    }
   ],
   "source": [
    "i=0\n",
    "plot_attention(result['attention'][i], input_text[i], result['text'][i])"
   ]
  },
  {
   "cell_type": "code",
   "execution_count": 95,
   "id": "00583d78-1e50-4224-a63d-47c57695850f",
   "metadata": {
    "execution": {
     "iopub.execute_input": "2022-08-12T01:11:19.001274Z",
     "iopub.status.busy": "2022-08-12T01:11:19.000657Z",
     "iopub.status.idle": "2022-08-12T01:11:19.071986Z",
     "shell.execute_reply": "2022-08-12T01:11:19.070518Z",
     "shell.execute_reply.started": "2022-08-12T01:11:19.001225Z"
    },
    "tags": []
   },
   "outputs": [
    {
     "name": "stdout",
     "output_type": "stream",
     "text": [
      "this is my life .\n",
      "are i still at home ?\n",
      "try to find out .\n",
      "\n",
      "CPU times: user 56.5 ms, sys: 39 ms, total: 95.5 ms\n",
      "Wall time: 62.8 ms\n"
     ]
    }
   ],
   "source": [
    "%%time\n",
    "three_input_text = tf.constant([\n",
    "    # This is my life.\n",
    "    'Esta es mi vida.',\n",
    "    # Are they still home?\n",
    "    '¿Todavía están en casa?',\n",
    "    # Try to find out.'\n",
    "    'Tratar de descubrir.',\n",
    "])\n",
    "\n",
    "result = translator.tf_translate(three_input_text)\n",
    "\n",
    "for tr in result['text']:\n",
    "  print(tr.numpy().decode())\n",
    "\n",
    "print()"
   ]
  },
  {
   "cell_type": "code",
   "execution_count": 96,
   "id": "de4e267d-637a-4bc4-804a-406213cd66b9",
   "metadata": {
    "execution": {
     "iopub.execute_input": "2022-08-12T01:11:38.360848Z",
     "iopub.status.busy": "2022-08-12T01:11:38.360237Z",
     "iopub.status.idle": "2022-08-12T01:11:38.370478Z",
     "shell.execute_reply": "2022-08-12T01:11:38.368925Z",
     "shell.execute_reply.started": "2022-08-12T01:11:38.360797Z"
    },
    "tags": []
   },
   "outputs": [
    {
     "data": {
      "text/plain": [
       "<tf.Tensor: shape=(3,), dtype=string, numpy=\n",
       "array([b'this is my life .', b'are i still at home ?',\n",
       "       b'try to find out .'], dtype=object)>"
      ]
     },
     "execution_count": 96,
     "metadata": {},
     "output_type": "execute_result"
    }
   ],
   "source": [
    "result['text']"
   ]
  },
  {
   "cell_type": "code",
   "execution_count": 97,
   "id": "c592a320-cc2a-428d-962b-33ea02806f56",
   "metadata": {
    "execution": {
     "iopub.execute_input": "2022-08-12T01:12:04.466913Z",
     "iopub.status.busy": "2022-08-12T01:12:04.466404Z",
     "iopub.status.idle": "2022-08-12T01:12:04.638644Z",
     "shell.execute_reply": "2022-08-12T01:12:04.637330Z",
     "shell.execute_reply.started": "2022-08-12T01:12:04.466864Z"
    },
    "tags": []
   },
   "outputs": [
    {
     "name": "stderr",
     "output_type": "stream",
     "text": [
      "/tmp/ipykernel_2666540/3262901620.py:13: UserWarning: FixedFormatter should only be used together with FixedLocator\n",
      "  ax.set_xticklabels([''] + sentence, fontdict=fontdict, rotation=90)\n",
      "/tmp/ipykernel_2666540/3262901620.py:14: UserWarning: FixedFormatter should only be used together with FixedLocator\n",
      "  ax.set_yticklabels([''] + predicted_sentence, fontdict=fontdict)\n"
     ]
    },
    {
     "data": {
      "image/png": "[encoded data removed]",
      "text/plain": [
       "<Figure size 720x720 with 1 Axes>"
      ]
     },
     "metadata": {
      "needs_background": "light"
     },
     "output_type": "display_data"
    }
   ],
   "source": [
    "i = 0\n",
    "plot_attention(result['attention'][i], three_input_text[i], result['text'][i])"
   ]
  },
  {
   "cell_type": "code",
   "execution_count": 98,
   "id": "519c9749-2564-43b9-aa38-4031f24d5f5b",
   "metadata": {
    "execution": {
     "iopub.execute_input": "2022-08-12T01:12:59.764009Z",
     "iopub.status.busy": "2022-08-12T01:12:59.763397Z",
     "iopub.status.idle": "2022-08-12T01:12:59.939417Z",
     "shell.execute_reply": "2022-08-12T01:12:59.938262Z",
     "shell.execute_reply.started": "2022-08-12T01:12:59.763959Z"
    },
    "tags": []
   },
   "outputs": [
    {
     "name": "stderr",
     "output_type": "stream",
     "text": [
      "/tmp/ipykernel_2666540/3262901620.py:13: UserWarning: FixedFormatter should only be used together with FixedLocator\n",
      "  ax.set_xticklabels([''] + sentence, fontdict=fontdict, rotation=90)\n",
      "/tmp/ipykernel_2666540/3262901620.py:14: UserWarning: FixedFormatter should only be used together with FixedLocator\n",
      "  ax.set_yticklabels([''] + predicted_sentence, fontdict=fontdict)\n"
     ]
    },
    {
     "data": {
      "image/png": "[encoded data removed]",
      "text/plain": [
       "<Figure size 720x720 with 1 Axes>"
      ]
     },
     "metadata": {
      "needs_background": "light"
     },
     "output_type": "display_data"
    }
   ],
   "source": [
    "i = 1\n",
    "plot_attention(result['attention'][i], three_input_text[i], result['text'][i])"
   ]
  },
  {
   "cell_type": "code",
   "execution_count": 99,
   "id": "60a5ff44-5b7e-490c-b50c-64d59654bb3c",
   "metadata": {
    "execution": {
     "iopub.execute_input": "2022-08-12T01:13:25.917992Z",
     "iopub.status.busy": "2022-08-12T01:13:25.917330Z",
     "iopub.status.idle": "2022-08-12T01:13:26.081333Z",
     "shell.execute_reply": "2022-08-12T01:13:26.080603Z",
     "shell.execute_reply.started": "2022-08-12T01:13:25.917932Z"
    },
    "tags": []
   },
   "outputs": [
    {
     "name": "stderr",
     "output_type": "stream",
     "text": [
      "/tmp/ipykernel_2666540/3262901620.py:13: UserWarning: FixedFormatter should only be used together with FixedLocator\n",
      "  ax.set_xticklabels([''] + sentence, fontdict=fontdict, rotation=90)\n",
      "/tmp/ipykernel_2666540/3262901620.py:14: UserWarning: FixedFormatter should only be used together with FixedLocator\n",
      "  ax.set_yticklabels([''] + predicted_sentence, fontdict=fontdict)\n"
     ]
    },
    {
     "data": {
      "image/png": "[encoded data removed]",
      "text/plain": [
       "<Figure size 720x720 with 1 Axes>"
      ]
     },
     "metadata": {
      "needs_background": "light"
     },
     "output_type": "display_data"
    }
   ],
   "source": [
    "i = 2\n",
    "plot_attention(result['attention'][i], three_input_text[i], result['text'][i])"
   ]
  },
  {
   "cell_type": "code",
   "execution_count": 100,
   "id": "8b25ddfa-d9f9-4364-a72b-4ba398f082c8",
   "metadata": {
    "execution": {
     "iopub.execute_input": "2022-08-12T01:14:19.944988Z",
     "iopub.status.busy": "2022-08-12T01:14:19.944360Z",
     "iopub.status.idle": "2022-08-12T01:14:19.954279Z",
     "shell.execute_reply": "2022-08-12T01:14:19.952900Z",
     "shell.execute_reply.started": "2022-08-12T01:14:19.944938Z"
    },
    "tags": []
   },
   "outputs": [
    {
     "name": "stdout",
     "output_type": "stream",
     "text": [
      "Expected output:\n",
      " If you want to sound like a native speaker, you must be willing to\n",
      "practice saying the same sentence over and over in the same way that\n",
      "banjo players practice the same phrase over and over until they can\n",
      "play it correctly and at the desired tempo.\n"
     ]
    }
   ],
   "source": [
    "long_input_text = tf.constant([inp[-1]])\n",
    "\n",
    "import textwrap\n",
    "print('Expected output:\\n', '\\n'.join(textwrap.wrap(targ[-1])))"
   ]
  },
  {
   "cell_type": "code",
   "execution_count": 101,
   "id": "356b8dbf-a8e7-4af0-b764-ab805c39275d",
   "metadata": {
    "execution": {
     "iopub.execute_input": "2022-08-12T01:14:42.065492Z",
     "iopub.status.busy": "2022-08-12T01:14:42.064865Z",
     "iopub.status.idle": "2022-08-12T01:14:42.942953Z",
     "shell.execute_reply": "2022-08-12T01:14:42.942105Z",
     "shell.execute_reply.started": "2022-08-12T01:14:42.065441Z"
    },
    "tags": []
   },
   "outputs": [
    {
     "name": "stderr",
     "output_type": "stream",
     "text": [
      "/tmp/ipykernel_2666540/3262901620.py:13: UserWarning: FixedFormatter should only be used together with FixedLocator\n",
      "  ax.set_xticklabels([''] + sentence, fontdict=fontdict, rotation=90)\n",
      "/tmp/ipykernel_2666540/3262901620.py:14: UserWarning: FixedFormatter should only be used together with FixedLocator\n",
      "  ax.set_yticklabels([''] + predicted_sentence, fontdict=fontdict)\n"
     ]
    },
    {
     "data": {
      "image/png": "[encoded data removed]",
      "text/plain": [
       "<Figure size 720x720 with 1 Axes>"
      ]
     },
     "metadata": {
      "needs_background": "light"
     },
     "output_type": "display_data"
    }
   ],
   "source": [
    "result = translator.tf_translate(long_input_text)\n",
    "\n",
    "i = 0\n",
    "plot_attention(result['attention'][i], long_input_text[i], result['text'][i])\n",
    "_ = plt.suptitle('This never works')"
   ]
  }
 ],
 "metadata": {
  "kernelspec": {
   "display_name": "Python 3 (ipykernel)",
   "language": "python",
   "name": "python3"
  },
  "language_info": {
   "codemirror_mode": {
    "name": "ipython",
    "version": 3
   },
   "file_extension": ".py",
   "mimetype": "text/x-python",
   "name": "python",
   "nbconvert_exporter": "python",
   "pygments_lexer": "ipython3",
   "version": "3.10.4"
  }
 },
 "nbformat": 4,
 "nbformat_minor": 5
}
