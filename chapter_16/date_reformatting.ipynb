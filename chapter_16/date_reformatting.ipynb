{
 "cells": [
  {
   "cell_type": "code",
   "execution_count": 1,
   "id": "61ff63c0-232d-4ed8-b5a0-6bfdb9023810",
   "metadata": {
    "execution": {
     "iopub.execute_input": "2022-08-10T02:11:14.409919Z",
     "iopub.status.busy": "2022-08-10T02:11:14.408904Z",
     "iopub.status.idle": "2022-08-10T02:11:16.195968Z",
     "shell.execute_reply": "2022-08-10T02:11:16.195155Z",
     "shell.execute_reply.started": "2022-08-10T02:11:14.409794Z"
    },
    "tags": []
   },
   "outputs": [
    {
     "name": "stderr",
     "output_type": "stream",
     "text": [
      "2022-08-09 22:11:15.016157: I tensorflow/core/util/util.cc:169] oneDNN custom operations are on. You may see slightly different numerical results due to floating-point round-off errors from different computation orders. To turn them off, set the environment variable `TF_ENABLE_ONEDNN_OPTS=0`.\n"
     ]
    }
   ],
   "source": [
    "from collections import defaultdict\n",
    "from datetime import date\n",
    "import itertools\n",
    "import os\n",
    "from pathlib import Path\n",
    "import random\n",
    "import time\n",
    "\n",
    "import IPython.display\n",
    "\n",
    "%matplotlib inline\n",
    "import matplotlib as mpl\n",
    "import matplotlib.pyplot as plt\n",
    "mpl.rc('axes', labelsize=14)\n",
    "mpl.rc('xtick', labelsize=12)\n",
    "mpl.rc('ytick', labelsize=12)\n",
    "\n",
    "import numpy as np\n",
    "import tensorflow as tf\n",
    "import tensorflow.keras as keras\n",
    "import tensorflow_addons as tfa\n",
    "import math"
   ]
  },
  {
   "cell_type": "code",
   "execution_count": 2,
   "id": "3f5a5acf-03e8-47f5-9c78-9e89afb599d0",
   "metadata": {
    "execution": {
     "iopub.execute_input": "2022-08-10T02:11:16.197510Z",
     "iopub.status.busy": "2022-08-10T02:11:16.197123Z",
     "iopub.status.idle": "2022-08-10T02:11:16.199826Z",
     "shell.execute_reply": "2022-08-10T02:11:16.199453Z",
     "shell.execute_reply.started": "2022-08-10T02:11:16.197492Z"
    },
    "tags": []
   },
   "outputs": [],
   "source": [
    "random.seed(42)"
   ]
  },
  {
   "cell_type": "code",
   "execution_count": 3,
   "id": "927f1684-3367-4c41-af67-ecea70e58927",
   "metadata": {
    "execution": {
     "iopub.execute_input": "2022-08-10T02:11:16.200503Z",
     "iopub.status.busy": "2022-08-10T02:11:16.200329Z",
     "iopub.status.idle": "2022-08-10T02:11:16.227210Z",
     "shell.execute_reply": "2022-08-10T02:11:16.226605Z",
     "shell.execute_reply.started": "2022-08-10T02:11:16.200489Z"
    },
    "tags": []
   },
   "outputs": [
    {
     "data": {
      "text/plain": [
       "(('December 07, 7343',), ('^7343-12-07$',))"
      ]
     },
     "execution_count": 3,
     "metadata": {},
     "output_type": "execute_result"
    }
   ],
   "source": [
    "SOURCE_DATE_FORMAT = \"%B %d, %Y\"\n",
    "TARGET_DATE_FORMAT = \"%Y-%m-%d\"\n",
    "\n",
    "def add_start_stop(s):\n",
    "    return \"^\" + s + \"$\"\n",
    "\n",
    "def gen_date_pair():\n",
    "    o = random.randrange(date.min.toordinal(), date.max.toordinal())\n",
    "    d = date.fromordinal(o)\n",
    "    x = d.strftime(SOURCE_DATE_FORMAT)\n",
    "    y = d.strftime(TARGET_DATE_FORMAT)\n",
    "    return (x,), (add_start_stop(y),)\n",
    "\n",
    "gen_date_pair()"
   ]
  },
  {
   "cell_type": "code",
   "execution_count": 4,
   "id": "6959869d-030d-4657-8f1f-5b6cd93a9622",
   "metadata": {
    "execution": {
     "iopub.execute_input": "2022-08-10T02:11:16.228331Z",
     "iopub.status.busy": "2022-08-10T02:11:16.227977Z",
     "iopub.status.idle": "2022-08-10T02:11:17.066406Z",
     "shell.execute_reply": "2022-08-10T02:11:17.065601Z",
     "shell.execute_reply.started": "2022-08-10T02:11:16.228310Z"
    },
    "tags": []
   },
   "outputs": [
    {
     "name": "stdout",
     "output_type": "stream",
     "text": [
      "tf.Tensor(\n",
      "[[b'November 09, 3950']\n",
      " [b'September 30, 8054']\n",
      " [b'August 09, 4818']\n",
      " [b'October 01, 9269']\n",
      " [b'March 22, 3324']\n",
      " [b'February 03, 6631']\n",
      " [b'October 15, 2672']\n",
      " [b'May 27, 1603']\n",
      " [b'February 05, 2618']\n",
      " [b'December 12, 4347']\n",
      " [b'November 11, 1160']\n",
      " [b'August 05, 4190']\n",
      " [b'September 11, 7594']\n",
      " [b'November 09, 1868']\n",
      " [b'May 14, 9951']\n",
      " [b'September 03, 8768']\n",
      " [b'September 30, 799']\n",
      " [b'October 16, 5207']\n",
      " [b'April 20, 917']\n",
      " [b'June 20, 1834']\n",
      " [b'July 18, 8506']\n",
      " [b'March 23, 4366']\n",
      " [b'October 04, 2511']\n",
      " [b'December 16, 7771']\n",
      " [b'February 21, 9823']\n",
      " [b'September 29, 1174']\n",
      " [b'August 18, 75']\n",
      " [b'April 22, 5804']\n",
      " [b'September 19, 9254']\n",
      " [b'August 28, 1111']\n",
      " [b'July 31, 2473']\n",
      " [b'December 16, 8380']], shape=(32, 1), dtype=string)\n",
      "tf.Tensor(\n",
      "[[b'^3950-11-09$']\n",
      " [b'^8054-09-30$']\n",
      " [b'^4818-08-09$']\n",
      " [b'^9269-10-01$']\n",
      " [b'^3324-03-22$']\n",
      " [b'^6631-02-03$']\n",
      " [b'^2672-10-15$']\n",
      " [b'^1603-05-27$']\n",
      " [b'^2618-02-05$']\n",
      " [b'^4347-12-12$']\n",
      " [b'^1160-11-11$']\n",
      " [b'^4190-08-05$']\n",
      " [b'^7594-09-11$']\n",
      " [b'^1868-11-09$']\n",
      " [b'^9951-05-14$']\n",
      " [b'^8768-09-03$']\n",
      " [b'^799-09-30$']\n",
      " [b'^5207-10-16$']\n",
      " [b'^917-04-20$']\n",
      " [b'^1834-06-20$']\n",
      " [b'^8506-07-18$']\n",
      " [b'^4366-03-23$']\n",
      " [b'^2511-10-04$']\n",
      " [b'^7771-12-16$']\n",
      " [b'^9823-02-21$']\n",
      " [b'^1174-09-29$']\n",
      " [b'^75-08-18$']\n",
      " [b'^5804-04-22$']\n",
      " [b'^9254-09-19$']\n",
      " [b'^1111-08-28$']\n",
      " [b'^2473-07-31$']\n",
      " [b'^8380-12-16$']], shape=(32, 1), dtype=string)\n"
     ]
    },
    {
     "name": "stderr",
     "output_type": "stream",
     "text": [
      "2022-08-09 22:11:16.297071: I tensorflow/core/platform/cpu_feature_guard.cc:193] This TensorFlow binary is optimized with oneAPI Deep Neural Network Library (oneDNN) to use the following CPU instructions in performance-critical operations:  AVX2 AVX512F AVX512_VNNI FMA\n",
      "To enable them in other operations, rebuild TensorFlow with the appropriate compiler flags.\n",
      "2022-08-09 22:11:16.762633: I tensorflow/core/common_runtime/gpu/gpu_device.cc:1532] Created device /job:localhost/replica:0/task:0/device:GPU:0 with 22307 MB memory:  -> device: 0, name: NVIDIA GeForce RTX 3090, pci bus id: 0000:68:00.0, compute capability: 8.6\n"
     ]
    }
   ],
   "source": [
    "def date_dataset(n_samples, batch_size=32):\n",
    "    dates = [gen_date_pair() for _ in range(n_samples)]\n",
    "    return tf.data.Dataset.from_tensor_slices(dates) \\\n",
    "        .shuffle(n_samples) \\\n",
    "        .batch(batch_size, drop_remainder=True) \\\n",
    "        .map(lambda pair: (pair[:, 0], pair[:, 1])) \\\n",
    "        .prefetch(1)\n",
    "\n",
    "for x, y in date_dataset(100).take(1):\n",
    "    print(x)\n",
    "    print(y)"
   ]
  },
  {
   "cell_type": "code",
   "execution_count": 5,
   "id": "f5ae8253-bf9e-4aba-bf31-7603463eff07",
   "metadata": {
    "execution": {
     "iopub.execute_input": "2022-08-10T02:11:17.067392Z",
     "iopub.status.busy": "2022-08-10T02:11:17.067209Z",
     "iopub.status.idle": "2022-08-10T02:11:18.401591Z",
     "shell.execute_reply": "2022-08-10T02:11:18.400416Z",
     "shell.execute_reply.started": "2022-08-10T02:11:17.067376Z"
    },
    "tags": []
   },
   "outputs": [
    {
     "name": "stdout",
     "output_type": "stream",
     "text": [
      "11\n"
     ]
    }
   ],
   "source": [
    "class BatchPreprocessor:\n",
    "    def __init__(self, training):\n",
    "        self.training = training\n",
    "        \n",
    "    @tf.function\n",
    "    def __call__(self, X, Y):\n",
    "        X = source_preprocessor(X)\n",
    "        Y_full = target_preprocessor(Y)\n",
    "        Y = Y_full[:, 1:]\n",
    "        \n",
    "        if not self.training:\n",
    "            return X, Y\n",
    "       \n",
    "        X_decoder = Y_full[:, :-1]\n",
    "        X_decoder_length = tf.cast(tf.math.count_nonzero(X_decoder, axis=1), tf.int32)\n",
    "        \n",
    "        return (X, X_decoder, X_decoder_length), Y\n",
    "        \n",
    "def preprocess(ds, source_preprocessor, target_preprocessor, training=False):\n",
    "    return ds.map(BatchPreprocessor(training))\n",
    "\n",
    "train_set = date_dataset(5000)\n",
    "val_set = date_dataset(1000)\n",
    "test_set = date_dataset(1000)\n",
    "\n",
    "source_preprocessor = keras.layers.TextVectorization(standardize=None, split=\"character\", output_mode=\"int\")\n",
    "target_preprocessor = keras.layers.TextVectorization(standardize=None, split=\"character\", output_mode=\"int\")\n",
    "\n",
    "source_preprocessor.adapt(train_set.map(lambda X, Y: X))\n",
    "target_preprocessor.adapt(train_set.map(lambda X, Y: Y))\n",
    "\n",
    "preprocessed_train_set = preprocess(train_set, source_preprocessor, target_preprocessor, training=True)\n",
    "preprocessed_val_set = preprocess(val_set, source_preprocessor, target_preprocessor)\n",
    "preprocessed_test_set = preprocess(test_set, source_preprocessor, target_preprocessor)\n",
    "\n",
    "\n",
    "max_target_length = 0\n",
    "for _, y in preprocessed_val_set:\n",
    "    max_target_length = max(max_target_length, y.shape[1])\n",
    "    \n",
    "print(max_target_length)"
   ]
  },
  {
   "cell_type": "code",
   "execution_count": 6,
   "id": "6c10dd3e-65b8-4721-a9f5-c823a1499b80",
   "metadata": {
    "execution": {
     "iopub.execute_input": "2022-08-10T02:11:18.403675Z",
     "iopub.status.busy": "2022-08-10T02:11:18.403205Z",
     "iopub.status.idle": "2022-08-10T02:11:18.412331Z",
     "shell.execute_reply": "2022-08-10T02:11:18.411295Z",
     "shell.execute_reply.started": "2022-08-10T02:11:18.403633Z"
    },
    "tags": []
   },
   "outputs": [],
   "source": [
    "source_vocab = set(c for c in source_preprocessor.get_vocabulary())\n",
    "target_vocab = set(c for c in target_preprocessor.get_vocabulary())\n",
    "source_vocab_size = len(source_vocab)\n",
    "target_vocab_size = len(target_vocab)"
   ]
  },
  {
   "cell_type": "code",
   "execution_count": 7,
   "id": "5493a23d-90c5-407c-85e7-5c3172dd7166",
   "metadata": {
    "execution": {
     "iopub.execute_input": "2022-08-10T02:11:18.416032Z",
     "iopub.status.busy": "2022-08-10T02:11:18.415644Z",
     "iopub.status.idle": "2022-08-10T02:11:18.442373Z",
     "shell.execute_reply": "2022-08-10T02:11:18.441290Z",
     "shell.execute_reply.started": "2022-08-10T02:11:18.415996Z"
    },
    "tags": []
   },
   "outputs": [
    {
     "name": "stdout",
     "output_type": "stream",
     "text": [
      "5 6\n"
     ]
    }
   ],
   "source": [
    "target_vocab_start = target_preprocessor(\"^\").numpy()[0]\n",
    "target_vocab_end = target_preprocessor(\"$\").numpy()[0]\n",
    "\n",
    "print(target_vocab_start, target_vocab_end)"
   ]
  },
  {
   "cell_type": "code",
   "execution_count": 8,
   "id": "43f678b2-be8f-419b-8421-44e6dbb64a50",
   "metadata": {
    "execution": {
     "iopub.execute_input": "2022-08-10T02:11:18.444022Z",
     "iopub.status.busy": "2022-08-10T02:11:18.443630Z",
     "iopub.status.idle": "2022-08-10T02:11:18.450511Z",
     "shell.execute_reply": "2022-08-10T02:11:18.449527Z",
     "shell.execute_reply.started": "2022-08-10T02:11:18.443987Z"
    },
    "tags": []
   },
   "outputs": [],
   "source": [
    "def base_log_dir():\n",
    "    return os.path.join(os.curdir, \".tflogs\", \"date_reformatting\")\n",
    "\n",
    "def get_tensorboard_cb(callback=keras.callbacks.TensorBoard):\n",
    "    base_dir = base_log_dir()\n",
    "    run_id = time.strftime(\"run_%Y_%m_%d_%H_%M_%S\")\n",
    "    run_dir = os.path.join(base_dir, run_id)\n",
    "    return callback(run_dir)"
   ]
  },
  {
   "cell_type": "code",
   "execution_count": 9,
   "id": "65fd721f-38f2-4f7c-bff9-52a74795b574",
   "metadata": {
    "execution": {
     "iopub.execute_input": "2022-08-10T02:11:18.452286Z",
     "iopub.status.busy": "2022-08-10T02:11:18.451910Z",
     "iopub.status.idle": "2022-08-10T02:11:18.471055Z",
     "shell.execute_reply": "2022-08-10T02:11:18.470012Z",
     "shell.execute_reply.started": "2022-08-10T02:11:18.452252Z"
    },
    "tags": []
   },
   "outputs": [],
   "source": [
    "class EncoderDecoder(keras.Model):\n",
    "    def __init__(\n",
    "        self, \n",
    "        source_vocab_size, \n",
    "        target_vocab_size, \n",
    "        target_vocab_start, \n",
    "        target_vocab_end, \n",
    "        max_target_length, \n",
    "        embedding_size=5, \n",
    "        n_neurons=32, \n",
    "        **kwargs,\n",
    "    ):\n",
    "        super().__init__(**kwargs)\n",
    "        \n",
    "        self.target_vocab_start = target_vocab_start\n",
    "        self.target_vocab_end = target_vocab_end\n",
    "        self.max_target_length = max_target_length\n",
    "        \n",
    "        self.source_embeddings = keras.layers.Embedding(source_vocab_size, embedding_size)\n",
    "        self.target_embeddings = keras.layers.Embedding(target_vocab_size, embedding_size)\n",
    "        self.encoder = keras.layers.LSTM(n_neurons, return_state=True)\n",
    "        \n",
    "        decoder_cell = keras.layers.LSTMCell(n_neurons)\n",
    "        output_layer = keras.layers.Dense(target_vocab_size)\n",
    "        \n",
    "        training_sampler = tfa.seq2seq.sampler.TrainingSampler()\n",
    "        self._training_decoder = tfa.seq2seq.basic_decoder.BasicDecoder(decoder_cell, training_sampler, output_layer=output_layer)\n",
    "       \n",
    "        inference_sampler = tfa.seq2seq.sampler.GreedyEmbeddingSampler(self.target_embeddings)\n",
    "        self._inference_decoder = tfa.seq2seq.basic_decoder.BasicDecoder(\n",
    "            decoder_cell, \n",
    "            inference_sampler,\n",
    "            output_layer=output_layer,\n",
    "            maximum_iterations=self.max_target_length,\n",
    "            impute_finished=True,\n",
    "        )\n",
    "        \n",
    "    def call(self, inputs, training=None):\n",
    "        if training is None:\n",
    "            training = keras.backend.learning_phase()\n",
    "            \n",
    "        \n",
    "        if training:\n",
    "            encoder_inputs, decoder_inputs, decoder_input_lengths = inputs\n",
    "            \n",
    "            encoder_embeddings = self.source_embeddings(encoder_inputs)\n",
    "            decoder_embeddings = self.target_embeddings(decoder_inputs)\n",
    "            encoder_outputs, state_h, state_c = self.encoder(encoder_embeddings)\n",
    "            encoder_state = [state_h, state_c]\n",
    "            \n",
    "            final_outputs, final_state, final_sequence_lengths = self._training_decoder(\n",
    "                decoder_embeddings,\n",
    "                initial_state=encoder_state,\n",
    "                sequence_length=decoder_input_lengths,\n",
    "            )\n",
    "        else:\n",
    "            encoder_embeddings = self.source_embeddings(inputs)\n",
    "            encoder_outputs, state_h, state_c = self.encoder(encoder_embeddings)\n",
    "            encoder_state = [state_h, state_c]\n",
    "            \n",
    "            decoder_embedding_matrix = self.target_embeddings.variables[0]\n",
    "            start_tokens = tf.cast(tf.fill([inputs.shape[0]], self.target_vocab_start), tf.int32)\n",
    "            end_token = self.target_vocab_end\n",
    "            final_outputs, final_state, final_sequence_lengths = self._inference_decoder(\n",
    "                decoder_embedding_matrix,\n",
    "                initial_state=encoder_state,\n",
    "                start_tokens=start_tokens,\n",
    "                end_token=end_token,\n",
    "            )\n",
    "        \n",
    "        pad_len = tf.math.maximum(0, self.max_target_length - tf.reduce_max(final_sequence_lengths))\n",
    "        padded_output = tf.pad(final_outputs.rnn_output, [[0, 0], [0, pad_len], [0, 0]])\n",
    "        Y_proba = tf.nn.softmax(padded_output)\n",
    "        return Y_proba\n",
    "    \n",
    "\n",
    "def build_model(\n",
    "    source_vocab_size, \n",
    "    target_vocab_size, \n",
    "    target_vocab_start, \n",
    "    target_vocab_end, \n",
    "    max_target_length, \n",
    "    optimizer=keras.optimizers.Adam,\n",
    "    embedding_size=5, \n",
    "    n_neurons=32, \n",
    "    n_layers=2, \n",
    "    learning_rate=1e-3, \n",
    "    clipnorm=1.0,\n",
    "):\n",
    "    model = EncoderDecoder(\n",
    "        source_vocab_size, \n",
    "        target_vocab_size, \n",
    "        target_vocab_start,\n",
    "        target_vocab_end,\n",
    "        max_target_length, \n",
    "        embedding_size=embedding_size, \n",
    "        n_neurons=n_neurons,\n",
    "    )\n",
    "    \n",
    "    model.compile(\n",
    "        loss=\"sparse_categorical_crossentropy\",\n",
    "        optimizer=optimizer(learning_rate=learning_rate, clipnorm=clipnorm),\n",
    "        metrics=[\"sparse_categorical_accuracy\"],\n",
    "    )\n",
    "    \n",
    "    return model"
   ]
  },
  {
   "cell_type": "code",
   "execution_count": 10,
   "id": "20e022a9-5adc-4de1-a145-74b4a563645f",
   "metadata": {
    "execution": {
     "iopub.execute_input": "2022-08-10T02:11:18.472166Z",
     "iopub.status.busy": "2022-08-10T02:11:18.471921Z",
     "iopub.status.idle": "2022-08-10T02:11:18.486362Z",
     "shell.execute_reply": "2022-08-10T02:11:18.485114Z",
     "shell.execute_reply.started": "2022-08-10T02:11:18.472143Z"
    },
    "tags": []
   },
   "outputs": [],
   "source": [
    "class LearningRateCallback(keras.callbacks.Callback):\n",
    "    def __init__(self, initial_learning_rate, final_learning_rate, steps):\n",
    "        self.factor = math.exp(math.log(final_learning_rate/float(initial_learning_rate))/steps)\n",
    "        self.losses = []\n",
    "        self.learning_rates = []\n",
    "    \n",
    "    def on_batch_end(self, batch, logs):\n",
    "        self.losses.append(logs.get(\"loss\"))\n",
    "        learning_rate = keras.backend.get_value(self.model.optimizer.learning_rate)\n",
    "        self.learning_rates.append(learning_rate)\n",
    "        keras.backend.set_value(self.model.optimizer.learning_rate, learning_rate*self.factor)\n",
    "\n",
    "def find_best_learning_rate(\n",
    "    train_set,\n",
    "    val_set,\n",
    "    compiled_model, \n",
    "    n_steps=500,\n",
    "    learning_rate_min=1e-5, \n",
    "    learning_rate_max=1e-1,\n",
    "    ):\n",
    "    keras.backend.clear_session()\n",
    "    np.random.seed(42)\n",
    "    tf.random.set_seed(42)  \n",
    "    \n",
    "    learning_rate_callback = LearningRateCallback(learning_rate_min, learning_rate_max, n_steps)\n",
    "    \n",
    "    history = compiled_model.fit(\n",
    "      train_set,\n",
    "      epochs=1,\n",
    "      steps_per_epoch=n_steps,\n",
    "      validation_data=val_set,\n",
    "      callbacks=[learning_rate_callback],\n",
    "    )\n",
    "    \n",
    "    \n",
    "    learning_rates = np.array(learning_rate_callback.learning_rates)\n",
    "    losses = np.array(learning_rate_callback.losses)\n",
    "    idx = losses < 10000\n",
    "    learning_rates_clean = learning_rates[idx]\n",
    "    losses_clean = losses[idx]\n",
    "    \n",
    "    plt.plot(learning_rates_clean, losses_clean)\n",
    "    best_idx = np.argmin(losses_clean)\n",
    "    best_learning_rate = learning_rates[best_idx] / 10.\n",
    "    return best_learning_rate"
   ]
  },
  {
   "cell_type": "code",
   "execution_count": 11,
   "id": "c5f35f6e-3ac8-4010-be94-f4c874223063",
   "metadata": {
    "execution": {
     "iopub.execute_input": "2022-08-10T02:11:18.488306Z",
     "iopub.status.busy": "2022-08-10T02:11:18.487777Z",
     "iopub.status.idle": "2022-08-10T02:11:18.502038Z",
     "shell.execute_reply": "2022-08-10T02:11:18.500764Z",
     "shell.execute_reply.started": "2022-08-10T02:11:18.488267Z"
    },
    "tags": []
   },
   "outputs": [],
   "source": [
    "def train_model(\n",
    "    train_set, \n",
    "    val_set, \n",
    "    compiled_model, \n",
    "    callbacks=None,\n",
    "    n_epochs=20,\n",
    "    steps_per_epoch=None,\n",
    "    tensorboard_callback=keras.callbacks.TensorBoard,\n",
    "    ):\n",
    "    callbacks = callbacks or []\n",
    "    keras.backend.clear_session()\n",
    "    np.random.seed(42)\n",
    "    tf.random.set_seed(42)\n",
    "    \n",
    "    builtin_callbacks = [\n",
    "        keras.callbacks.EarlyStopping(patience=10, restore_best_weights=True),\n",
    "        get_tensorboard_cb(callback=tensorboard_callback),\n",
    "    ]\n",
    "    \n",
    "    history = compiled_model.fit(\n",
    "        train_set,\n",
    "        epochs=n_epochs,\n",
    "        steps_per_epoch=steps_per_epoch,\n",
    "        validation_data=val_set,\n",
    "        callbacks=callbacks + builtin_callbacks,\n",
    "    )"
   ]
  },
  {
   "cell_type": "code",
   "execution_count": 12,
   "id": "f489174e-a445-4c7c-ae90-e8dba55015d2",
   "metadata": {
    "execution": {
     "iopub.execute_input": "2022-08-10T02:11:18.503904Z",
     "iopub.status.busy": "2022-08-10T02:11:18.503468Z",
     "iopub.status.idle": "2022-08-10T02:11:28.598273Z",
     "shell.execute_reply": "2022-08-10T02:11:28.597320Z",
     "shell.execute_reply.started": "2022-08-10T02:11:18.503864Z"
    },
    "tags": []
   },
   "outputs": [
    {
     "name": "stderr",
     "output_type": "stream",
     "text": [
      "2022-08-09 22:11:23.310492: I tensorflow/stream_executor/cuda/cuda_blas.cc:1786] TensorFloat-32 will be used for the matrix multiplication. This will only be logged once.\n",
      "2022-08-09 22:11:23.786036: I tensorflow/stream_executor/cuda/cuda_dnn.cc:384] Loaded cuDNN version 8100\n"
     ]
    },
    {
     "name": "stdout",
     "output_type": "stream",
     "text": [
      "150/150 [==============================] - 10s 30ms/step - loss: 2.4084 - sparse_categorical_accuracy: 0.1983 - val_loss: 3.3647 - val_sparse_categorical_accuracy: 0.0674\n"
     ]
    },
    {
     "data": {
      "text/plain": [
       "0.08317638635635376"
      ]
     },
     "execution_count": 12,
     "metadata": {},
     "output_type": "execute_result"
    },
    {
     "data": {
      "image/png": "[encoded data removed]",
      "text/plain": [
       "<Figure size 432x288 with 1 Axes>"
      ]
     },
     "metadata": {
      "needs_background": "light"
     },
     "output_type": "display_data"
    }
   ],
   "source": [
    "model = build_model(source_vocab_size, target_vocab_size, target_vocab_start, target_vocab_end, max_target_length, n_neurons=16, learning_rate=1e-6)\n",
    "best_learning_rate = find_best_learning_rate(preprocessed_train_set, preprocessed_val_set, model, learning_rate_min=1e-5, learning_rate_max=1e1, n_steps=150)\n",
    "best_learning_rate"
   ]
  },
  {
   "cell_type": "code",
   "execution_count": 13,
   "id": "0004ae33-30ad-46c6-9ddd-a56b2481fbed",
   "metadata": {
    "execution": {
     "iopub.execute_input": "2022-08-10T02:11:28.600520Z",
     "iopub.status.busy": "2022-08-10T02:11:28.599923Z",
     "iopub.status.idle": "2022-08-10T02:13:24.905763Z",
     "shell.execute_reply": "2022-08-10T02:13:24.904135Z",
     "shell.execute_reply.started": "2022-08-10T02:11:28.600476Z"
    },
    "tags": []
   },
   "outputs": [
    {
     "name": "stdout",
     "output_type": "stream",
     "text": [
      "Epoch 1/100\n",
      "156/156 [==============================] - 5s 22ms/step - loss: 1.6610 - sparse_categorical_accuracy: 0.3927 - val_loss: 1.7464 - val_sparse_categorical_accuracy: 0.4128\n",
      "Epoch 2/100\n",
      "156/156 [==============================] - 3s 22ms/step - loss: 1.1864 - sparse_categorical_accuracy: 0.5360 - val_loss: 1.6786 - val_sparse_categorical_accuracy: 0.5191\n",
      "Epoch 3/100\n",
      "156/156 [==============================] - 3s 21ms/step - loss: 0.5597 - sparse_categorical_accuracy: 0.7963 - val_loss: 0.6098 - val_sparse_categorical_accuracy: 0.8320\n",
      "Epoch 4/100\n",
      "156/156 [==============================] - 3s 21ms/step - loss: 0.2001 - sparse_categorical_accuracy: 0.9391 - val_loss: 0.2378 - val_sparse_categorical_accuracy: 0.9545\n",
      "Epoch 5/100\n",
      "156/156 [==============================] - 3s 19ms/step - loss: 0.0884 - sparse_categorical_accuracy: 0.9786 - val_loss: 0.3751 - val_sparse_categorical_accuracy: 0.9441\n",
      "Epoch 6/100\n",
      "156/156 [==============================] - 3s 19ms/step - loss: 0.0410 - sparse_categorical_accuracy: 0.9934 - val_loss: 0.1005 - val_sparse_categorical_accuracy: 0.9896\n",
      "Epoch 7/100\n",
      "156/156 [==============================] - 3s 21ms/step - loss: 0.0300 - sparse_categorical_accuracy: 0.9946 - val_loss: 0.0733 - val_sparse_categorical_accuracy: 0.9931\n",
      "Epoch 8/100\n",
      "156/156 [==============================] - 3s 21ms/step - loss: 0.0111 - sparse_categorical_accuracy: 0.9993 - val_loss: 0.0440 - val_sparse_categorical_accuracy: 0.9984\n",
      "Epoch 9/100\n",
      "156/156 [==============================] - 3s 22ms/step - loss: 0.0055 - sparse_categorical_accuracy: 0.9998 - val_loss: 0.0345 - val_sparse_categorical_accuracy: 0.9993\n",
      "Epoch 10/100\n",
      "156/156 [==============================] - 3s 22ms/step - loss: 0.0170 - sparse_categorical_accuracy: 0.9960 - val_loss: 0.2023 - val_sparse_categorical_accuracy: 0.9743\n",
      "Epoch 11/100\n",
      "156/156 [==============================] - 3s 22ms/step - loss: 0.0111 - sparse_categorical_accuracy: 0.9983 - val_loss: 0.0305 - val_sparse_categorical_accuracy: 0.9998\n",
      "Epoch 12/100\n",
      "156/156 [==============================] - 3s 21ms/step - loss: 0.0025 - sparse_categorical_accuracy: 0.9999 - val_loss: 0.0270 - val_sparse_categorical_accuracy: 1.0000\n",
      "Epoch 13/100\n",
      "156/156 [==============================] - 3s 19ms/step - loss: 0.0014 - sparse_categorical_accuracy: 1.0000 - val_loss: 0.0269 - val_sparse_categorical_accuracy: 0.9999\n",
      "Epoch 14/100\n",
      "156/156 [==============================] - 3s 21ms/step - loss: 0.0011 - sparse_categorical_accuracy: 1.0000 - val_loss: 0.0265 - val_sparse_categorical_accuracy: 1.0000\n",
      "Epoch 15/100\n",
      "156/156 [==============================] - 3s 18ms/step - loss: 9.0538e-04 - sparse_categorical_accuracy: 1.0000 - val_loss: 0.0263 - val_sparse_categorical_accuracy: 1.0000\n",
      "Epoch 16/100\n",
      "156/156 [==============================] - 3s 18ms/step - loss: 7.7547e-04 - sparse_categorical_accuracy: 1.0000 - val_loss: 0.0263 - val_sparse_categorical_accuracy: 1.0000\n",
      "Epoch 17/100\n",
      "156/156 [==============================] - 3s 18ms/step - loss: 7.0560e-04 - sparse_categorical_accuracy: 1.0000 - val_loss: 0.0263 - val_sparse_categorical_accuracy: 0.9999\n",
      "Epoch 18/100\n",
      "156/156 [==============================] - 3s 19ms/step - loss: 6.2147e-04 - sparse_categorical_accuracy: 1.0000 - val_loss: 0.0259 - val_sparse_categorical_accuracy: 1.0000\n",
      "Epoch 19/100\n",
      "156/156 [==============================] - 3s 20ms/step - loss: 5.1471e-04 - sparse_categorical_accuracy: 1.0000 - val_loss: 0.0260 - val_sparse_categorical_accuracy: 1.0000\n",
      "Epoch 20/100\n",
      "156/156 [==============================] - 3s 21ms/step - loss: 4.4673e-04 - sparse_categorical_accuracy: 1.0000 - val_loss: 0.0258 - val_sparse_categorical_accuracy: 1.0000\n",
      "Epoch 21/100\n",
      "156/156 [==============================] - 3s 22ms/step - loss: 3.8446e-04 - sparse_categorical_accuracy: 1.0000 - val_loss: 0.0251 - val_sparse_categorical_accuracy: 1.0000\n",
      "Epoch 22/100\n",
      "156/156 [==============================] - 3s 21ms/step - loss: 3.5224e-04 - sparse_categorical_accuracy: 1.0000 - val_loss: 0.0257 - val_sparse_categorical_accuracy: 1.0000\n",
      "Epoch 23/100\n",
      "156/156 [==============================] - 3s 21ms/step - loss: 3.0307e-04 - sparse_categorical_accuracy: 1.0000 - val_loss: 0.0258 - val_sparse_categorical_accuracy: 1.0000\n",
      "Epoch 24/100\n",
      "156/156 [==============================] - 4s 22ms/step - loss: 2.7787e-04 - sparse_categorical_accuracy: 1.0000 - val_loss: 0.0258 - val_sparse_categorical_accuracy: 1.0000\n",
      "Epoch 25/100\n",
      "156/156 [==============================] - 3s 20ms/step - loss: 2.3853e-04 - sparse_categorical_accuracy: 1.0000 - val_loss: 0.0250 - val_sparse_categorical_accuracy: 1.0000\n",
      "Epoch 26/100\n",
      "156/156 [==============================] - 3s 20ms/step - loss: 2.3587e-04 - sparse_categorical_accuracy: 1.0000 - val_loss: 0.0257 - val_sparse_categorical_accuracy: 1.0000\n",
      "Epoch 27/100\n",
      "156/156 [==============================] - 3s 20ms/step - loss: 2.0307e-04 - sparse_categorical_accuracy: 1.0000 - val_loss: 0.0267 - val_sparse_categorical_accuracy: 0.9998\n",
      "Epoch 28/100\n",
      "156/156 [==============================] - 3s 18ms/step - loss: 1.7738e-04 - sparse_categorical_accuracy: 1.0000 - val_loss: 0.0252 - val_sparse_categorical_accuracy: 1.0000\n",
      "Epoch 29/100\n",
      "156/156 [==============================] - 3s 20ms/step - loss: 1.7164e-04 - sparse_categorical_accuracy: 1.0000 - val_loss: 0.0255 - val_sparse_categorical_accuracy: 1.0000\n",
      "Epoch 30/100\n",
      "156/156 [==============================] - 3s 21ms/step - loss: 1.6324e-04 - sparse_categorical_accuracy: 1.0000 - val_loss: 0.0251 - val_sparse_categorical_accuracy: 1.0000\n",
      "Epoch 31/100\n",
      "156/156 [==============================] - 3s 22ms/step - loss: 0.1514 - sparse_categorical_accuracy: 0.9585 - val_loss: 0.0998 - val_sparse_categorical_accuracy: 0.9871\n",
      "Epoch 32/100\n",
      "156/156 [==============================] - 3s 21ms/step - loss: 0.0104 - sparse_categorical_accuracy: 0.9989 - val_loss: 0.0317 - val_sparse_categorical_accuracy: 0.9997\n",
      "Epoch 33/100\n",
      "156/156 [==============================] - 3s 20ms/step - loss: 0.0030 - sparse_categorical_accuracy: 1.0000 - val_loss: 0.0307 - val_sparse_categorical_accuracy: 0.9996\n",
      "Epoch 34/100\n",
      "156/156 [==============================] - 3s 21ms/step - loss: 0.0016 - sparse_categorical_accuracy: 1.0000 - val_loss: 0.0286 - val_sparse_categorical_accuracy: 0.9998\n",
      "Epoch 35/100\n",
      "156/156 [==============================] - 3s 20ms/step - loss: 0.0011 - sparse_categorical_accuracy: 1.0000 - val_loss: 0.0286 - val_sparse_categorical_accuracy: 0.9998\n"
     ]
    }
   ],
   "source": [
    "model = build_model(source_vocab_size, target_vocab_size, target_vocab_start, target_vocab_end, max_target_length, n_neurons=64, learning_rate=1e-2)\n",
    "train_model(preprocessed_train_set, preprocessed_val_set, model, n_epochs=100)"
   ]
  },
  {
   "cell_type": "code",
   "execution_count": 14,
   "id": "3d577e4d-3564-4da4-884a-163f0c65c3b0",
   "metadata": {
    "execution": {
     "iopub.execute_input": "2022-08-10T02:13:24.908209Z",
     "iopub.status.busy": "2022-08-10T02:13:24.907680Z",
     "iopub.status.idle": "2022-08-10T02:13:25.274369Z",
     "shell.execute_reply": "2022-08-10T02:13:25.273600Z",
     "shell.execute_reply.started": "2022-08-10T02:13:24.908161Z"
    },
    "tags": []
   },
   "outputs": [
    {
     "name": "stdout",
     "output_type": "stream",
     "text": [
      "target 6130-10-03$ pred 6130-10-03$\n",
      "target 5796-01-07$ pred 5796-01-07$\n",
      "target 7162-04-03$ pred 7162-04-03$\n",
      "target 818-10-25$ pred 818-10-25$\n",
      "target 220-08-15$ pred 220-08-15$\n",
      "target 4633-05-25$ pred 4633-05-25$\n",
      "target 5331-11-28$ pred 5331-11-28$\n",
      "target 7239-04-03$ pred 7239-04-03$\n",
      "target 6618-10-07$ pred 6618-10-07$\n",
      "target 7772-07-07$ pred 7772-07-07$\n",
      "target 1871-10-08$ pred 1871-10-08$\n",
      "target 4703-08-17$ pred 4703-08-17$\n",
      "target 4700-01-01$ pred 4700-01-01$\n",
      "target 2903-05-09$ pred 2903-05-09$\n",
      "target 8328-10-07$ pred 8328-10-07$\n",
      "target 2553-04-10$ pred 2553-04-10$\n",
      "target 1928-12-15$ pred 1928-12-15$\n",
      "target 4349-12-28$ pred 4349-12-28$\n",
      "target 3550-01-18$ pred 3550-01-18$\n",
      "target 4755-06-10$ pred 4755-06-10$\n",
      "target 6141-09-03$ pred 6141-09-03$\n",
      "target 9186-09-25$ pred 9186-09-25$\n",
      "target 3527-06-14$ pred 3527-06-14$\n",
      "target 8946-01-23$ pred 8946-01-23$\n",
      "target 8310-04-10$ pred 8310-04-10$\n",
      "target 6563-09-20$ pred 6563-09-20$\n",
      "target 5875-11-05$ pred 5875-11-05$\n",
      "target 1214-01-26$ pred 1214-01-26$\n",
      "target 7767-04-27$ pred 7767-04-27$\n",
      "target 2360-10-29$ pred 2360-10-29$\n",
      "target 7875-10-11$ pred 7875-10-11$\n",
      "target 526-01-05$ pred 526-01-05$\n"
     ]
    }
   ],
   "source": [
    "def categorical_to_target_string(seq):\n",
    "    vocab = target_preprocessor.get_vocabulary()\n",
    "    return \"\".join([vocab[i] for i in seq])\n",
    "\n",
    "for X, Y in preprocessed_val_set.take(1):\n",
    "    Y_pred = model(X)\n",
    "    for b in range(Y_pred.shape[0]):\n",
    "        seq = tf.math.argmax(Y_pred[b], axis=1)\n",
    "        s_target = categorical_to_target_string(Y[b])\n",
    "        s_pred = categorical_to_target_string(seq)\n",
    "        print(\"target\", s_target, \"pred\", s_pred)"
   ]
  },
  {
   "cell_type": "code",
   "execution_count": 15,
   "id": "85466553-4be2-4e86-80bd-85d39f0de0fe",
   "metadata": {
    "execution": {
     "iopub.execute_input": "2022-08-10T02:13:25.275990Z",
     "iopub.status.busy": "2022-08-10T02:13:25.275683Z",
     "iopub.status.idle": "2022-08-10T02:13:25.969618Z",
     "shell.execute_reply": "2022-08-10T02:13:25.968359Z",
     "shell.execute_reply.started": "2022-08-10T02:13:25.275973Z"
    },
    "tags": []
   },
   "outputs": [
    {
     "name": "stdout",
     "output_type": "stream",
     "text": [
      "31/31 [==============================] - 1s 19ms/step - loss: 0.0260 - sparse_categorical_accuracy: 1.0000\n"
     ]
    },
    {
     "data": {
      "text/plain": [
       "[0.025971319526433945, 1.0]"
      ]
     },
     "execution_count": 15,
     "metadata": {},
     "output_type": "execute_result"
    }
   ],
   "source": [
    "model.evaluate(preprocessed_test_set)"
   ]
  }
 ],
 "metadata": {
  "kernelspec": {
   "display_name": "Python 3 (ipykernel)",
   "language": "python",
   "name": "python3"
  },
  "language_info": {
   "codemirror_mode": {
    "name": "ipython",
    "version": 3
   },
   "file_extension": ".py",
   "mimetype": "text/x-python",
   "name": "python",
   "nbconvert_exporter": "python",
   "pygments_lexer": "ipython3",
   "version": "3.10.4"
  }
 },
 "nbformat": 4,
 "nbformat_minor": 5
}
